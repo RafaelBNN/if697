{
  "nbformat": 4,
  "nbformat_minor": 0,
  "metadata": {
    "colab": {
      "name": "Projeto 2.2 - IF697.ipynb",
      "provenance": [],
      "collapsed_sections": [
        "ZSpx8whYv6Ki",
        "IeZZAKvpJQKg",
        "vCc8s_OlK5Y2",
        "6Smp1tzfK8Cn",
        "U8w-DDptTK-Y",
        "EDxsohxhpSb2",
        "6GlRIbU3hmsN",
        "mf9ftbycvWE5",
        "CAd6pdFGwHOE"
      ],
      "authorship_tag": "ABX9TyMD0CQgL+nDhrxKxN8up6jx",
      "include_colab_link": true
    },
    "kernelspec": {
      "name": "python3",
      "display_name": "Python 3"
    },
    "language_info": {
      "name": "python"
    }
  },
  "cells": [
    {
      "cell_type": "markdown",
      "metadata": {
        "id": "view-in-github",
        "colab_type": "text"
      },
      "source": [
        "<a href=\"https://colab.research.google.com/github/RafaelBNN/if697/blob/main/Projeto_2_Atrasado.ipynb\" target=\"_parent\"><img src=\"https://colab.research.google.com/assets/colab-badge.svg\" alt=\"Open In Colab\"/></a>"
      ]
    },
    {
      "cell_type": "markdown",
      "metadata": {
        "id": "ZSpx8whYv6Ki"
      },
      "source": [
        "### Importando as Bibliotecas"
      ]
    },
    {
      "cell_type": "code",
      "metadata": {
        "id": "sMcahxhiv6e2"
      },
      "source": [
        "import numpy as np\n",
        "import pandas as pd\n",
        "from matplotlib import pyplot as plt\n",
        "import seaborn as sns"
      ],
      "execution_count": 1,
      "outputs": []
    },
    {
      "cell_type": "code",
      "metadata": {
        "colab": {
          "base_uri": "https://localhost:8080/"
        },
        "id": "7JC0QekwYQMA",
        "outputId": "5999eb57-be64-4fac-b5c0-594fadb134a8"
      },
      "source": [
        "# Blbliotecas e funcoes relacionadas ao mlflow\n",
        "!pip install mlflow\n",
        "import mlflow\n",
        "from pprint import pprint\n",
        "!pip install utils\n",
        "\n",
        "def fetch_logged_data(run_id):\n",
        "    client = mlflow.tracking.MlflowClient()\n",
        "    data = client.get_run(run_id).data\n",
        "    tags = {k: v for k, v in data.tags.items() if not k.startswith(\"mlflow.\")}\n",
        "    artifacts = [f.path for f in client.list_artifacts(run_id, \"model\")]\n",
        "    return data.params, data.metrics, tags, artifacts"
      ],
      "execution_count": 2,
      "outputs": [
        {
          "output_type": "stream",
          "text": [
            "Requirement already satisfied: mlflow in /usr/local/lib/python3.7/dist-packages (1.19.0)\n",
            "Requirement already satisfied: pandas in /usr/local/lib/python3.7/dist-packages (from mlflow) (1.1.5)\n",
            "Requirement already satisfied: prometheus-flask-exporter in /usr/local/lib/python3.7/dist-packages (from mlflow) (0.18.2)\n",
            "Requirement already satisfied: gitpython>=2.1.0 in /usr/local/lib/python3.7/dist-packages (from mlflow) (3.1.18)\n",
            "Requirement already satisfied: click>=7.0 in /usr/local/lib/python3.7/dist-packages (from mlflow) (7.1.2)\n",
            "Requirement already satisfied: requests>=2.17.3 in /usr/local/lib/python3.7/dist-packages (from mlflow) (2.23.0)\n",
            "Requirement already satisfied: entrypoints in /usr/local/lib/python3.7/dist-packages (from mlflow) (0.3)\n",
            "Requirement already satisfied: protobuf>=3.7.0 in /usr/local/lib/python3.7/dist-packages (from mlflow) (3.17.3)\n",
            "Requirement already satisfied: sqlparse>=0.3.1 in /usr/local/lib/python3.7/dist-packages (from mlflow) (0.4.1)\n",
            "Requirement already satisfied: alembic<=1.4.1 in /usr/local/lib/python3.7/dist-packages (from mlflow) (1.4.1)\n",
            "Requirement already satisfied: packaging in /usr/local/lib/python3.7/dist-packages (from mlflow) (21.0)\n",
            "Requirement already satisfied: numpy in /usr/local/lib/python3.7/dist-packages (from mlflow) (1.19.5)\n",
            "Requirement already satisfied: docker>=4.0.0 in /usr/local/lib/python3.7/dist-packages (from mlflow) (5.0.0)\n",
            "Requirement already satisfied: cloudpickle in /usr/local/lib/python3.7/dist-packages (from mlflow) (1.3.0)\n",
            "Requirement already satisfied: pytz in /usr/local/lib/python3.7/dist-packages (from mlflow) (2018.9)\n",
            "Requirement already satisfied: Flask in /usr/local/lib/python3.7/dist-packages (from mlflow) (1.1.4)\n",
            "Requirement already satisfied: gunicorn in /usr/local/lib/python3.7/dist-packages (from mlflow) (20.1.0)\n",
            "Requirement already satisfied: sqlalchemy in /usr/local/lib/python3.7/dist-packages (from mlflow) (1.4.22)\n",
            "Requirement already satisfied: querystring-parser in /usr/local/lib/python3.7/dist-packages (from mlflow) (1.2.4)\n",
            "Requirement already satisfied: databricks-cli>=0.8.7 in /usr/local/lib/python3.7/dist-packages (from mlflow) (0.15.0)\n",
            "Requirement already satisfied: pyyaml>=5.1 in /usr/local/lib/python3.7/dist-packages (from mlflow) (5.4.1)\n",
            "Requirement already satisfied: python-editor>=0.3 in /usr/local/lib/python3.7/dist-packages (from alembic<=1.4.1->mlflow) (1.0.4)\n",
            "Requirement already satisfied: Mako in /usr/local/lib/python3.7/dist-packages (from alembic<=1.4.1->mlflow) (1.1.4)\n",
            "Requirement already satisfied: python-dateutil in /usr/local/lib/python3.7/dist-packages (from alembic<=1.4.1->mlflow) (2.8.2)\n",
            "Requirement already satisfied: six>=1.10.0 in /usr/local/lib/python3.7/dist-packages (from databricks-cli>=0.8.7->mlflow) (1.15.0)\n",
            "Requirement already satisfied: tabulate>=0.7.7 in /usr/local/lib/python3.7/dist-packages (from databricks-cli>=0.8.7->mlflow) (0.8.9)\n",
            "Requirement already satisfied: websocket-client>=0.32.0 in /usr/local/lib/python3.7/dist-packages (from docker>=4.0.0->mlflow) (1.2.1)\n",
            "Requirement already satisfied: typing-extensions>=3.7.4.0 in /usr/local/lib/python3.7/dist-packages (from gitpython>=2.1.0->mlflow) (3.7.4.3)\n",
            "Requirement already satisfied: gitdb<5,>=4.0.1 in /usr/local/lib/python3.7/dist-packages (from gitpython>=2.1.0->mlflow) (4.0.7)\n",
            "Requirement already satisfied: smmap<5,>=3.0.1 in /usr/local/lib/python3.7/dist-packages (from gitdb<5,>=4.0.1->gitpython>=2.1.0->mlflow) (4.0.0)\n",
            "Requirement already satisfied: certifi>=2017.4.17 in /usr/local/lib/python3.7/dist-packages (from requests>=2.17.3->mlflow) (2021.5.30)\n",
            "Requirement already satisfied: idna<3,>=2.5 in /usr/local/lib/python3.7/dist-packages (from requests>=2.17.3->mlflow) (2.10)\n",
            "Requirement already satisfied: chardet<4,>=3.0.2 in /usr/local/lib/python3.7/dist-packages (from requests>=2.17.3->mlflow) (3.0.4)\n",
            "Requirement already satisfied: urllib3!=1.25.0,!=1.25.1,<1.26,>=1.21.1 in /usr/local/lib/python3.7/dist-packages (from requests>=2.17.3->mlflow) (1.24.3)\n",
            "Requirement already satisfied: importlib-metadata in /usr/local/lib/python3.7/dist-packages (from sqlalchemy->mlflow) (4.6.3)\n",
            "Requirement already satisfied: greenlet!=0.4.17 in /usr/local/lib/python3.7/dist-packages (from sqlalchemy->mlflow) (1.1.1)\n",
            "Requirement already satisfied: Werkzeug<2.0,>=0.15 in /usr/local/lib/python3.7/dist-packages (from Flask->mlflow) (1.0.1)\n",
            "Requirement already satisfied: Jinja2<3.0,>=2.10.1 in /usr/local/lib/python3.7/dist-packages (from Flask->mlflow) (2.11.3)\n",
            "Requirement already satisfied: itsdangerous<2.0,>=0.24 in /usr/local/lib/python3.7/dist-packages (from Flask->mlflow) (1.1.0)\n",
            "Requirement already satisfied: MarkupSafe>=0.23 in /usr/local/lib/python3.7/dist-packages (from Jinja2<3.0,>=2.10.1->Flask->mlflow) (2.0.1)\n",
            "Requirement already satisfied: setuptools>=3.0 in /usr/local/lib/python3.7/dist-packages (from gunicorn->mlflow) (57.4.0)\n",
            "Requirement already satisfied: zipp>=0.5 in /usr/local/lib/python3.7/dist-packages (from importlib-metadata->sqlalchemy->mlflow) (3.5.0)\n",
            "Requirement already satisfied: pyparsing>=2.0.2 in /usr/local/lib/python3.7/dist-packages (from packaging->mlflow) (2.4.7)\n",
            "Requirement already satisfied: prometheus-client in /usr/local/lib/python3.7/dist-packages (from prometheus-flask-exporter->mlflow) (0.11.0)\n",
            "Requirement already satisfied: utils in /usr/local/lib/python3.7/dist-packages (1.0.1)\n"
          ],
          "name": "stdout"
        }
      ]
    },
    {
      "cell_type": "markdown",
      "metadata": {
        "id": "IeZZAKvpJQKg"
      },
      "source": [
        "# 1. Introdução"
      ]
    },
    {
      "cell_type": "markdown",
      "metadata": {
        "id": "u04EKsdnJWfN"
      },
      "source": [
        "Este Notebook busca dar continuidade à análise do dataset estudado no primeiro projeto. Lá, exploramos e tratamos um dataset relacionado a competições de powerlifting, sobre o qual foi realizado um pré-processeamento e uma análise descritiva de dados. \n",
        "\n",
        "Neste projeto, daremos prosseguimento a isso aplicando a ideia de *predição* dos dados. \n",
        "\n",
        "Os problemas de predição aparecem quando queremos descobrir um atributo desconhecido de um registro a partir de outros atributos desse registro. Esses problemas são, principalmente, divididos em duas categorias: problemas de *classificação* e problemas de *regressão*. Na *classificação*, o objetivo é predizer um atributo categórico de um registro, como o sexo de um indivíduo ou a espécie de um animal, por exemplo, enquanto que, na *regressão*, queremos prever um atributo contínuo, como a altura ou o peso de uma pessoa.\n",
        "\n",
        "A partir do dataset observado, portanto, vamos aplicar o conceito de regressão ao atributo `BodyweightKg` (o peso corporal do competidor). Vamos treinar alguns modelos a partir de variados algoritmos de *machine learning* para realizar a predição dessa coluna e avaliar a performance de cada um desses modelos.\n",
        "\n",
        "O dataframe que será utilizado na predição é uma amostra do dataset original. Para a previsão, serão utilizadas as colunas `Sex`, o sexo do competidor; `Age`, a idade do competidor; `Best3SquatKg`, a melhor tentativa dentre as 3 no agachamento; `Best3SBenchKg`, a melhor tentativa dentre as 3 no supino; e `Best3DeadliftKg`, a melhor tentativa dentre as 3 no levantamento terra."
      ]
    },
    {
      "cell_type": "markdown",
      "metadata": {
        "id": "vCc8s_OlK5Y2"
      },
      "source": [
        "#### Importação do Dataframe"
      ]
    },
    {
      "cell_type": "code",
      "metadata": {
        "colab": {
          "base_uri": "https://localhost:8080/",
          "height": 0
        },
        "id": "f0FkTASELFSB",
        "outputId": "39330c56-82ad-4b7a-850d-46f940218410"
      },
      "source": [
        "df=pd.read_csv('https://raw.githubusercontent.com/RafaelBNN/datasets/main/powerlifting_final.csv')\n",
        "\n",
        "df.head()"
      ],
      "execution_count": 3,
      "outputs": [
        {
          "output_type": "stream",
          "text": [
            "/usr/local/lib/python3.7/dist-packages/IPython/core/interactiveshell.py:2718: DtypeWarning: Columns (24) have mixed types.Specify dtype option on import or set low_memory=False.\n",
            "  interactivity=interactivity, compiler=compiler, result=result)\n"
          ],
          "name": "stderr"
        },
        {
          "output_type": "execute_result",
          "data": {
            "text/html": [
              "<div>\n",
              "<style scoped>\n",
              "    .dataframe tbody tr th:only-of-type {\n",
              "        vertical-align: middle;\n",
              "    }\n",
              "\n",
              "    .dataframe tbody tr th {\n",
              "        vertical-align: top;\n",
              "    }\n",
              "\n",
              "    .dataframe thead th {\n",
              "        text-align: right;\n",
              "    }\n",
              "</style>\n",
              "<table border=\"1\" class=\"dataframe\">\n",
              "  <thead>\n",
              "    <tr style=\"text-align: right;\">\n",
              "      <th></th>\n",
              "      <th>Unnamed: 0</th>\n",
              "      <th>Unnamed: 0.1</th>\n",
              "      <th>Name</th>\n",
              "      <th>Sex</th>\n",
              "      <th>Event</th>\n",
              "      <th>Equipment</th>\n",
              "      <th>Age</th>\n",
              "      <th>AgeClass</th>\n",
              "      <th>Division</th>\n",
              "      <th>BodyweightKg</th>\n",
              "      <th>WeightClassKg</th>\n",
              "      <th>Squat1Kg</th>\n",
              "      <th>Squat2Kg</th>\n",
              "      <th>Squat3Kg</th>\n",
              "      <th>Best3SquatKg</th>\n",
              "      <th>Bench1Kg</th>\n",
              "      <th>Bench2Kg</th>\n",
              "      <th>Bench3Kg</th>\n",
              "      <th>Best3BenchKg</th>\n",
              "      <th>Deadlift1Kg</th>\n",
              "      <th>Deadlift2Kg</th>\n",
              "      <th>Deadlift3Kg</th>\n",
              "      <th>Best3DeadliftKg</th>\n",
              "      <th>TotalKg</th>\n",
              "      <th>Place</th>\n",
              "      <th>Wilks</th>\n",
              "      <th>McCulloch</th>\n",
              "      <th>Glossbrenner</th>\n",
              "      <th>IPFPoints</th>\n",
              "      <th>Tested</th>\n",
              "      <th>Country</th>\n",
              "      <th>Federation</th>\n",
              "      <th>Date</th>\n",
              "      <th>MeetCountry</th>\n",
              "      <th>MeetState</th>\n",
              "      <th>MeetName</th>\n",
              "      <th>Best3SquatKg_norm</th>\n",
              "      <th>Best3BenchKg_norm</th>\n",
              "      <th>Best3DeadliftKg_norm</th>\n",
              "      <th>TotalKg_norm</th>\n",
              "      <th>BodyweightKg_norm</th>\n",
              "      <th>IPFPoints_norm</th>\n",
              "      <th>TotalKg_disc</th>\n",
              "      <th>lof_outlier</th>\n",
              "      <th>Age_disc</th>\n",
              "    </tr>\n",
              "  </thead>\n",
              "  <tbody>\n",
              "    <tr>\n",
              "      <th>0</th>\n",
              "      <td>0</td>\n",
              "      <td>692083</td>\n",
              "      <td>Hayden Fulwood</td>\n",
              "      <td>1</td>\n",
              "      <td>SBD</td>\n",
              "      <td>Raw</td>\n",
              "      <td>18.000000</td>\n",
              "      <td>18-19</td>\n",
              "      <td>MR-T3</td>\n",
              "      <td>88.0</td>\n",
              "      <td>90</td>\n",
              "      <td>NaN</td>\n",
              "      <td>NaN</td>\n",
              "      <td>NaN</td>\n",
              "      <td>167.50</td>\n",
              "      <td>NaN</td>\n",
              "      <td>NaN</td>\n",
              "      <td>NaN</td>\n",
              "      <td>122.50</td>\n",
              "      <td>NaN</td>\n",
              "      <td>NaN</td>\n",
              "      <td>NaN</td>\n",
              "      <td>227.50</td>\n",
              "      <td>517.50</td>\n",
              "      <td>1</td>\n",
              "      <td>334.25</td>\n",
              "      <td>354.31</td>\n",
              "      <td>322.27</td>\n",
              "      <td>482.79</td>\n",
              "      <td>Yes</td>\n",
              "      <td>USA</td>\n",
              "      <td>USAPL</td>\n",
              "      <td>2013-04-27</td>\n",
              "      <td>USA</td>\n",
              "      <td>AL</td>\n",
              "      <td>S.E HS State Wars</td>\n",
              "      <td>-0.385417</td>\n",
              "      <td>-0.528924</td>\n",
              "      <td>0.080000</td>\n",
              "      <td>-0.156780</td>\n",
              "      <td>-0.411065</td>\n",
              "      <td>-0.206464</td>\n",
              "      <td>(507.5, 576.06]</td>\n",
              "      <td>1</td>\n",
              "      <td>(15.9, 19.6]</td>\n",
              "    </tr>\n",
              "    <tr>\n",
              "      <th>1</th>\n",
              "      <td>1</td>\n",
              "      <td>621012</td>\n",
              "      <td>Jozef Slimák</td>\n",
              "      <td>1</td>\n",
              "      <td>B</td>\n",
              "      <td>Multi-ply</td>\n",
              "      <td>46.000000</td>\n",
              "      <td>45-49</td>\n",
              "      <td>M-M2</td>\n",
              "      <td>82.2</td>\n",
              "      <td>82.5</td>\n",
              "      <td>NaN</td>\n",
              "      <td>NaN</td>\n",
              "      <td>NaN</td>\n",
              "      <td>NaN</td>\n",
              "      <td>165.0</td>\n",
              "      <td>180.0</td>\n",
              "      <td>-190.0</td>\n",
              "      <td>180.00</td>\n",
              "      <td>NaN</td>\n",
              "      <td>NaN</td>\n",
              "      <td>NaN</td>\n",
              "      <td>NaN</td>\n",
              "      <td>180.00</td>\n",
              "      <td>1</td>\n",
              "      <td>120.85</td>\n",
              "      <td>129.06</td>\n",
              "      <td>116.68</td>\n",
              "      <td>571.78</td>\n",
              "      <td>NaN</td>\n",
              "      <td>Slovakia</td>\n",
              "      <td>WPC</td>\n",
              "      <td>2012-11-06</td>\n",
              "      <td>USA</td>\n",
              "      <td>NV</td>\n",
              "      <td>World Championships</td>\n",
              "      <td>NaN</td>\n",
              "      <td>-0.280420</td>\n",
              "      <td>NaN</td>\n",
              "      <td>-0.728814</td>\n",
              "      <td>-0.464106</td>\n",
              "      <td>-0.037484</td>\n",
              "      <td>(142.5, 202.5]</td>\n",
              "      <td>1</td>\n",
              "      <td>(45.5, 49.2]</td>\n",
              "    </tr>\n",
              "    <tr>\n",
              "      <th>2</th>\n",
              "      <td>2</td>\n",
              "      <td>164449</td>\n",
              "      <td>Chase Garrett</td>\n",
              "      <td>1</td>\n",
              "      <td>D</td>\n",
              "      <td>Raw</td>\n",
              "      <td>14.000000</td>\n",
              "      <td>13-15</td>\n",
              "      <td>Teenage 13-15</td>\n",
              "      <td>44.0</td>\n",
              "      <td>44</td>\n",
              "      <td>NaN</td>\n",
              "      <td>NaN</td>\n",
              "      <td>NaN</td>\n",
              "      <td>NaN</td>\n",
              "      <td>NaN</td>\n",
              "      <td>NaN</td>\n",
              "      <td>NaN</td>\n",
              "      <td>NaN</td>\n",
              "      <td>NaN</td>\n",
              "      <td>NaN</td>\n",
              "      <td>NaN</td>\n",
              "      <td>70.31</td>\n",
              "      <td>70.31</td>\n",
              "      <td>1</td>\n",
              "      <td>83.29</td>\n",
              "      <td>98.28</td>\n",
              "      <td>82.94</td>\n",
              "      <td>212.28</td>\n",
              "      <td>NaN</td>\n",
              "      <td>NaN</td>\n",
              "      <td>SPF</td>\n",
              "      <td>2008-12-06</td>\n",
              "      <td>USA</td>\n",
              "      <td>NaN</td>\n",
              "      <td>Body by George Classic</td>\n",
              "      <td>NaN</td>\n",
              "      <td>NaN</td>\n",
              "      <td>-0.758347</td>\n",
              "      <td>-0.914729</td>\n",
              "      <td>-0.813443</td>\n",
              "      <td>-0.720126</td>\n",
              "      <td>(19.999, 142.5]</td>\n",
              "      <td>1</td>\n",
              "      <td>(12.2, 15.9]</td>\n",
              "    </tr>\n",
              "    <tr>\n",
              "      <th>3</th>\n",
              "      <td>3</td>\n",
              "      <td>353419</td>\n",
              "      <td>Edgar Rodea</td>\n",
              "      <td>1</td>\n",
              "      <td>SBD</td>\n",
              "      <td>Single-ply</td>\n",
              "      <td>27.995064</td>\n",
              "      <td>NaN</td>\n",
              "      <td>Boys</td>\n",
              "      <td>92.9</td>\n",
              "      <td>99.7</td>\n",
              "      <td>NaN</td>\n",
              "      <td>NaN</td>\n",
              "      <td>NaN</td>\n",
              "      <td>204.12</td>\n",
              "      <td>NaN</td>\n",
              "      <td>NaN</td>\n",
              "      <td>NaN</td>\n",
              "      <td>129.27</td>\n",
              "      <td>NaN</td>\n",
              "      <td>NaN</td>\n",
              "      <td>NaN</td>\n",
              "      <td>185.97</td>\n",
              "      <td>519.36</td>\n",
              "      <td>1</td>\n",
              "      <td>326.42</td>\n",
              "      <td>326.42</td>\n",
              "      <td>314.34</td>\n",
              "      <td>420.04</td>\n",
              "      <td>Yes</td>\n",
              "      <td>NaN</td>\n",
              "      <td>THSPA</td>\n",
              "      <td>2017-01-28</td>\n",
              "      <td>USA</td>\n",
              "      <td>TX</td>\n",
              "      <td>Santo Meet</td>\n",
              "      <td>-0.232833</td>\n",
              "      <td>-0.499665</td>\n",
              "      <td>-0.141493</td>\n",
              "      <td>-0.153627</td>\n",
              "      <td>-0.366255</td>\n",
              "      <td>-0.325618</td>\n",
              "      <td>(507.5, 576.06]</td>\n",
              "      <td>1</td>\n",
              "      <td>(27.0, 30.7]</td>\n",
              "    </tr>\n",
              "    <tr>\n",
              "      <th>4</th>\n",
              "      <td>4</td>\n",
              "      <td>128144</td>\n",
              "      <td>K. Kaufman</td>\n",
              "      <td>1</td>\n",
              "      <td>B</td>\n",
              "      <td>Raw</td>\n",
              "      <td>46.228441</td>\n",
              "      <td>NaN</td>\n",
              "      <td>Open</td>\n",
              "      <td>90.0</td>\n",
              "      <td>90</td>\n",
              "      <td>NaN</td>\n",
              "      <td>NaN</td>\n",
              "      <td>NaN</td>\n",
              "      <td>NaN</td>\n",
              "      <td>NaN</td>\n",
              "      <td>NaN</td>\n",
              "      <td>NaN</td>\n",
              "      <td>145.15</td>\n",
              "      <td>NaN</td>\n",
              "      <td>NaN</td>\n",
              "      <td>NaN</td>\n",
              "      <td>NaN</td>\n",
              "      <td>145.15</td>\n",
              "      <td>6</td>\n",
              "      <td>92.66</td>\n",
              "      <td>92.66</td>\n",
              "      <td>89.30</td>\n",
              "      <td>558.46</td>\n",
              "      <td>NaN</td>\n",
              "      <td>NaN</td>\n",
              "      <td>USPF</td>\n",
              "      <td>1979-12-08</td>\n",
              "      <td>USA</td>\n",
              "      <td>ND</td>\n",
              "      <td>3rd Annual Midwestern Bench Press Championships</td>\n",
              "      <td>NaN</td>\n",
              "      <td>-0.431035</td>\n",
              "      <td>NaN</td>\n",
              "      <td>-0.787881</td>\n",
              "      <td>-0.392775</td>\n",
              "      <td>-0.062777</td>\n",
              "      <td>(142.5, 202.5]</td>\n",
              "      <td>1</td>\n",
              "      <td>(45.5, 49.2]</td>\n",
              "    </tr>\n",
              "  </tbody>\n",
              "</table>\n",
              "</div>"
            ],
            "text/plain": [
              "   Unnamed: 0  Unnamed: 0.1  ... lof_outlier      Age_disc\n",
              "0           0        692083  ...           1  (15.9, 19.6]\n",
              "1           1        621012  ...           1  (45.5, 49.2]\n",
              "2           2        164449  ...           1  (12.2, 15.9]\n",
              "3           3        353419  ...           1  (27.0, 30.7]\n",
              "4           4        128144  ...           1  (45.5, 49.2]\n",
              "\n",
              "[5 rows x 45 columns]"
            ]
          },
          "metadata": {
            "tags": []
          },
          "execution_count": 3
        }
      ]
    },
    {
      "cell_type": "code",
      "metadata": {
        "colab": {
          "base_uri": "https://localhost:8080/",
          "height": 0
        },
        "id": "dyaymTqWT0lT",
        "outputId": "c32a4973-2a1f-4871-b976-6cea81dbd3df"
      },
      "source": [
        "# As colunas que serao utilizadas\n",
        "df = df[['Sex','Age','Best3SquatKg','Best3BenchKg','Best3DeadliftKg','BodyweightKg']]\n",
        "\n",
        "df.head()"
      ],
      "execution_count": 4,
      "outputs": [
        {
          "output_type": "execute_result",
          "data": {
            "text/html": [
              "<div>\n",
              "<style scoped>\n",
              "    .dataframe tbody tr th:only-of-type {\n",
              "        vertical-align: middle;\n",
              "    }\n",
              "\n",
              "    .dataframe tbody tr th {\n",
              "        vertical-align: top;\n",
              "    }\n",
              "\n",
              "    .dataframe thead th {\n",
              "        text-align: right;\n",
              "    }\n",
              "</style>\n",
              "<table border=\"1\" class=\"dataframe\">\n",
              "  <thead>\n",
              "    <tr style=\"text-align: right;\">\n",
              "      <th></th>\n",
              "      <th>Sex</th>\n",
              "      <th>Age</th>\n",
              "      <th>Best3SquatKg</th>\n",
              "      <th>Best3BenchKg</th>\n",
              "      <th>Best3DeadliftKg</th>\n",
              "      <th>BodyweightKg</th>\n",
              "    </tr>\n",
              "  </thead>\n",
              "  <tbody>\n",
              "    <tr>\n",
              "      <th>0</th>\n",
              "      <td>1</td>\n",
              "      <td>18.000000</td>\n",
              "      <td>167.50</td>\n",
              "      <td>122.50</td>\n",
              "      <td>227.50</td>\n",
              "      <td>88.0</td>\n",
              "    </tr>\n",
              "    <tr>\n",
              "      <th>1</th>\n",
              "      <td>1</td>\n",
              "      <td>46.000000</td>\n",
              "      <td>NaN</td>\n",
              "      <td>180.00</td>\n",
              "      <td>NaN</td>\n",
              "      <td>82.2</td>\n",
              "    </tr>\n",
              "    <tr>\n",
              "      <th>2</th>\n",
              "      <td>1</td>\n",
              "      <td>14.000000</td>\n",
              "      <td>NaN</td>\n",
              "      <td>NaN</td>\n",
              "      <td>70.31</td>\n",
              "      <td>44.0</td>\n",
              "    </tr>\n",
              "    <tr>\n",
              "      <th>3</th>\n",
              "      <td>1</td>\n",
              "      <td>27.995064</td>\n",
              "      <td>204.12</td>\n",
              "      <td>129.27</td>\n",
              "      <td>185.97</td>\n",
              "      <td>92.9</td>\n",
              "    </tr>\n",
              "    <tr>\n",
              "      <th>4</th>\n",
              "      <td>1</td>\n",
              "      <td>46.228441</td>\n",
              "      <td>NaN</td>\n",
              "      <td>145.15</td>\n",
              "      <td>NaN</td>\n",
              "      <td>90.0</td>\n",
              "    </tr>\n",
              "  </tbody>\n",
              "</table>\n",
              "</div>"
            ],
            "text/plain": [
              "   Sex        Age  Best3SquatKg  Best3BenchKg  Best3DeadliftKg  BodyweightKg\n",
              "0    1  18.000000        167.50        122.50           227.50          88.0\n",
              "1    1  46.000000           NaN        180.00              NaN          82.2\n",
              "2    1  14.000000           NaN           NaN            70.31          44.0\n",
              "3    1  27.995064        204.12        129.27           185.97          92.9\n",
              "4    1  46.228441           NaN        145.15              NaN          90.0"
            ]
          },
          "metadata": {
            "tags": []
          },
          "execution_count": 4
        }
      ]
    },
    {
      "cell_type": "code",
      "metadata": {
        "colab": {
          "base_uri": "https://localhost:8080/"
        },
        "id": "62X1SWU3VBmy",
        "outputId": "f83650df-66aa-45a2-c18f-b3272270222e"
      },
      "source": [
        "len(df)"
      ],
      "execution_count": 5,
      "outputs": [
        {
          "output_type": "execute_result",
          "data": {
            "text/plain": [
              "16676"
            ]
          },
          "metadata": {
            "tags": []
          },
          "execution_count": 5
        }
      ]
    },
    {
      "cell_type": "code",
      "metadata": {
        "colab": {
          "base_uri": "https://localhost:8080/"
        },
        "id": "hiI6H2UxU_J-",
        "outputId": "b2aa2432-fe81-4028-a973-bf280c9de8f2"
      },
      "source": [
        "df.isnull().sum(axis = 0)/len(df)"
      ],
      "execution_count": 6,
      "outputs": [
        {
          "output_type": "execute_result",
          "data": {
            "text/plain": [
              "Sex                0.000000\n",
              "Age                0.000000\n",
              "Best3SquatKg       0.243404\n",
              "Best3BenchKg       0.042756\n",
              "Best3DeadliftKg    0.190094\n",
              "BodyweightKg       0.005937\n",
              "dtype: float64"
            ]
          },
          "metadata": {
            "tags": []
          },
          "execution_count": 6
        }
      ]
    },
    {
      "cell_type": "code",
      "metadata": {
        "id": "jcQ_lHLCUqv9",
        "colab": {
          "base_uri": "https://localhost:8080/"
        },
        "outputId": "527f3024-6129-4c02-8ad0-d1396380f4e0"
      },
      "source": [
        "# Para simplificar, vamos executar um dropna sobre o dataframe\n",
        "\n",
        "df = df.dropna(subset=['Sex','Age','Best3SquatKg','Best3BenchKg','Best3DeadliftKg','BodyweightKg'])\n",
        "\n",
        "len(df)"
      ],
      "execution_count": 7,
      "outputs": [
        {
          "output_type": "execute_result",
          "data": {
            "text/plain": [
              "12476"
            ]
          },
          "metadata": {
            "tags": []
          },
          "execution_count": 7
        }
      ]
    },
    {
      "cell_type": "code",
      "metadata": {
        "id": "9vA72jwD9nVQ"
      },
      "source": [
        "# Alem disso, vamos normalizar as colunas que serao usadas. Alguns algoritmos de previsao preferem assim\n",
        "\n",
        "df['Age'] = ((df['Age'] - df['Age'].min()) / (df['Age'].max() - df['Age'].min())*2) -1\n",
        "df['Best3SquatKg'] = ((df['Best3SquatKg'] - df['Best3SquatKg'].min()) / (df['Best3SquatKg'].max() - df['Best3SquatKg'].min())*2) -1\n",
        "df['Best3BenchKg'] = ((df['Best3BenchKg'] - df['Best3BenchKg'].min()) / (df['Best3BenchKg'].max() - df['Best3BenchKg'].min())*2) -1\n",
        "df['Best3DeadliftKg'] = ((df['Best3DeadliftKg'] - df['Best3DeadliftKg'].min()) / (df['Best3DeadliftKg'].max() - df['Best3DeadliftKg'].min())*2) -1"
      ],
      "execution_count": 8,
      "outputs": []
    },
    {
      "cell_type": "code",
      "metadata": {
        "colab": {
          "base_uri": "https://localhost:8080/"
        },
        "id": "wkAdtipd-z_8",
        "outputId": "e0e66c38-586b-4e4b-e775-b8997edd6d71"
      },
      "source": [
        "df.dtypes"
      ],
      "execution_count": 9,
      "outputs": [
        {
          "output_type": "execute_result",
          "data": {
            "text/plain": [
              "Sex                  int64\n",
              "Age                float64\n",
              "Best3SquatKg       float64\n",
              "Best3BenchKg       float64\n",
              "Best3DeadliftKg    float64\n",
              "BodyweightKg       float64\n",
              "dtype: object"
            ]
          },
          "metadata": {
            "tags": []
          },
          "execution_count": 9
        }
      ]
    },
    {
      "cell_type": "code",
      "metadata": {
        "id": "SSqpZYvp_BHP"
      },
      "source": [
        "df['Sex'] = df['Sex'].astype('float64') # isso evita alguns warnings do mlflow"
      ],
      "execution_count": 10,
      "outputs": []
    },
    {
      "cell_type": "markdown",
      "metadata": {
        "id": "6Smp1tzfK8Cn"
      },
      "source": [
        "# 2. Conjuntos de treinamento, validação e teste"
      ]
    },
    {
      "cell_type": "markdown",
      "metadata": {
        "id": "68WjpLH7LClo"
      },
      "source": [
        "Ao trabalhar com modelos de *machine learning*, é imprescindível que seja feita a divisão dos dados entre conjunto de treinamento, conjunto de validação e conjunto de teste (*training set*, *validation set* e *test set*). Essa divisão contribui para a avaliação de como o modelo está generalizando os dados a serem previstos e nos ajuda a identificar problemas como *overfitting*.\n",
        "\n",
        "Aqui, vamos dividir o dataset utilizando a função `train_test_split` da biblioteca `sklearn`."
      ]
    },
    {
      "cell_type": "code",
      "metadata": {
        "id": "M96VO52deW79"
      },
      "source": [
        "from sklearn.model_selection import train_test_split\n",
        "\n",
        "# Os dataframes 'x' contem as colunas que serao utilizadas para realizar a predicao,\n",
        "# e os dataframes 'y' contem a coluna sobre a qual sera realizada a predicao.\n",
        "x_df = df.drop('BodyweightKg', axis=1)\n",
        "y_df = df['BodyweightKg']\n",
        "\n",
        "# Por padrao, o test set sera formado por 25% dos dados fornecidos, e o training set, 75%.\n",
        "# Alem disso, o parametro random_state permite que a escolha dos conjuntos de treinamento e teste\n",
        "# seja a mesma sempre que executarmos esta linha. \n",
        "x_train, x_test, y_train, y_test = train_test_split(x_df,y_df,random_state=10) "
      ],
      "execution_count": 11,
      "outputs": []
    },
    {
      "cell_type": "code",
      "metadata": {
        "colab": {
          "base_uri": "https://localhost:8080/",
          "height": 0
        },
        "id": "Bp6lL-xcg_vJ",
        "outputId": "ea0670d4-6ca5-4827-86aa-dd00f868dea5"
      },
      "source": [
        "x_train.head()"
      ],
      "execution_count": 12,
      "outputs": [
        {
          "output_type": "execute_result",
          "data": {
            "text/html": [
              "<div>\n",
              "<style scoped>\n",
              "    .dataframe tbody tr th:only-of-type {\n",
              "        vertical-align: middle;\n",
              "    }\n",
              "\n",
              "    .dataframe tbody tr th {\n",
              "        vertical-align: top;\n",
              "    }\n",
              "\n",
              "    .dataframe thead th {\n",
              "        text-align: right;\n",
              "    }\n",
              "</style>\n",
              "<table border=\"1\" class=\"dataframe\">\n",
              "  <thead>\n",
              "    <tr style=\"text-align: right;\">\n",
              "      <th></th>\n",
              "      <th>Sex</th>\n",
              "      <th>Age</th>\n",
              "      <th>Best3SquatKg</th>\n",
              "      <th>Best3BenchKg</th>\n",
              "      <th>Best3DeadliftKg</th>\n",
              "    </tr>\n",
              "  </thead>\n",
              "  <tbody>\n",
              "    <tr>\n",
              "      <th>10825</th>\n",
              "      <td>0.0</td>\n",
              "      <td>-0.586207</td>\n",
              "      <td>-0.635417</td>\n",
              "      <td>-0.738462</td>\n",
              "      <td>-0.352941</td>\n",
              "    </tr>\n",
              "    <tr>\n",
              "      <th>5873</th>\n",
              "      <td>1.0</td>\n",
              "      <td>-0.710345</td>\n",
              "      <td>-0.041667</td>\n",
              "      <td>0.076923</td>\n",
              "      <td>0.279412</td>\n",
              "    </tr>\n",
              "    <tr>\n",
              "      <th>1923</th>\n",
              "      <td>1.0</td>\n",
              "      <td>-0.451811</td>\n",
              "      <td>-0.125000</td>\n",
              "      <td>-0.123077</td>\n",
              "      <td>-0.058824</td>\n",
              "    </tr>\n",
              "    <tr>\n",
              "      <th>12586</th>\n",
              "      <td>1.0</td>\n",
              "      <td>-0.650272</td>\n",
              "      <td>-0.166708</td>\n",
              "      <td>-0.534031</td>\n",
              "      <td>-0.057176</td>\n",
              "    </tr>\n",
              "    <tr>\n",
              "      <th>13777</th>\n",
              "      <td>1.0</td>\n",
              "      <td>0.006897</td>\n",
              "      <td>-0.034417</td>\n",
              "      <td>-0.296800</td>\n",
              "      <td>0.236294</td>\n",
              "    </tr>\n",
              "  </tbody>\n",
              "</table>\n",
              "</div>"
            ],
            "text/plain": [
              "       Sex       Age  Best3SquatKg  Best3BenchKg  Best3DeadliftKg\n",
              "10825  0.0 -0.586207     -0.635417     -0.738462        -0.352941\n",
              "5873   1.0 -0.710345     -0.041667      0.076923         0.279412\n",
              "1923   1.0 -0.451811     -0.125000     -0.123077        -0.058824\n",
              "12586  1.0 -0.650272     -0.166708     -0.534031        -0.057176\n",
              "13777  1.0  0.006897     -0.034417     -0.296800         0.236294"
            ]
          },
          "metadata": {
            "tags": []
          },
          "execution_count": 12
        }
      ]
    },
    {
      "cell_type": "code",
      "metadata": {
        "colab": {
          "base_uri": "https://localhost:8080/"
        },
        "id": "thqb5agPhCYB",
        "outputId": "649adbcd-65cc-45d6-ad17-f3797f9183d0"
      },
      "source": [
        "y_train.head()"
      ],
      "execution_count": 13,
      "outputs": [
        {
          "output_type": "execute_result",
          "data": {
            "text/plain": [
              "10825     77.00\n",
              "5873      89.95\n",
              "1923      89.30\n",
              "12586     53.80\n",
              "13777    108.64\n",
              "Name: BodyweightKg, dtype: float64"
            ]
          },
          "metadata": {
            "tags": []
          },
          "execution_count": 13
        }
      ]
    },
    {
      "cell_type": "code",
      "metadata": {
        "colab": {
          "base_uri": "https://localhost:8080/"
        },
        "id": "sA8psjNOg3y5",
        "outputId": "27cb54d2-9539-492d-a0a6-fd0e37a13ecd"
      },
      "source": [
        "len(x_train), len(y_train), len(x_test), len(y_test)"
      ],
      "execution_count": 14,
      "outputs": [
        {
          "output_type": "execute_result",
          "data": {
            "text/plain": [
              "(9357, 9357, 3119, 3119)"
            ]
          },
          "metadata": {
            "tags": []
          },
          "execution_count": 14
        }
      ]
    },
    {
      "cell_type": "markdown",
      "metadata": {
        "id": "vDiB0xnsLFnr"
      },
      "source": [
        "# 3. Modelos Iniciais"
      ]
    },
    {
      "cell_type": "markdown",
      "metadata": {
        "id": "2FTNjM6BLLPC"
      },
      "source": [
        "Após a divisão do dataset, agora empeçaremos a previsão da coluna `BodyweightKg`. Vamos aplicar alguns algoritmos de regressão aos conjuntos de treinamento e teste e avaliar a performance de cada um dos modelos treinados."
      ]
    },
    {
      "cell_type": "markdown",
      "metadata": {
        "id": "U8w-DDptTK-Y"
      },
      "source": [
        "## *Autologging*"
      ]
    },
    {
      "cell_type": "markdown",
      "metadata": {
        "id": "1GZrJNgKTNxH"
      },
      "source": [
        "Antes de aplicar os algoritmos, porém, vamos chamar a função `mlflow.sklearn.autolog()`. Ela permite que os modelos sejam registrados automaticamente logo após sua execução utilizando a ferramenta *MLFlow*. Isso permite o rastreamento de como nosso programa está se comportando e como as predições evoluem ao longo do tempo.\n",
        "\n",
        "Ao registrar os modelos automaticamente, são guardados os parâmetros e o score daquele modelo para serem avaliados no futuro."
      ]
    },
    {
      "cell_type": "code",
      "metadata": {
        "id": "xnPZIlbETNAB"
      },
      "source": [
        "mlflow.sklearn.autolog()"
      ],
      "execution_count": 15,
      "outputs": []
    },
    {
      "cell_type": "markdown",
      "metadata": {
        "id": "EDxsohxhpSb2"
      },
      "source": [
        "## Regressão Linear"
      ]
    },
    {
      "cell_type": "markdown",
      "metadata": {
        "id": "mVQlVK1Mh_Jt"
      },
      "source": [
        "O primeiro algoritmo e o mais simples que vamos aplicar vai ser a simples regressão linear. Esse algoritmo de regressão busca encontrar a melhor reta que se ajusta aos dados, ou seja, a reta que minimiza a soma dos resíduos."
      ]
    },
    {
      "cell_type": "code",
      "metadata": {
        "id": "5rdIolmcpapU",
        "colab": {
          "base_uri": "https://localhost:8080/"
        },
        "outputId": "b38680ad-6309-4e63-9910-d1dd345b5067"
      },
      "source": [
        "from sklearn.linear_model import LinearRegression\n",
        "\n",
        "modelo1 = LinearRegression()\n",
        "\n",
        "with mlflow.start_run() as run1:\n",
        "    modelo1.fit(x_train,y_train)\n",
        "    print(\"Logged data and model in run {}\".format(run1.info.run_id))\n",
        "\n",
        "y_pred1 = modelo1.predict(x_test)"
      ],
      "execution_count": 16,
      "outputs": [
        {
          "output_type": "stream",
          "text": [
            "Logged data and model in run 1f24a865a1364737a1f8349a19859fc8\n"
          ],
          "name": "stdout"
        }
      ]
    },
    {
      "cell_type": "code",
      "metadata": {
        "colab": {
          "base_uri": "https://localhost:8080/"
        },
        "id": "nWW1sodUpsLU",
        "outputId": "01a1403c-c567-4014-e146-269bf96eb1eb"
      },
      "source": [
        "from sklearn.metrics import mean_squared_error\n",
        "\n",
        "print('Mean squared error: %.2f' % mean_squared_error(y_test, y_pred1))"
      ],
      "execution_count": 17,
      "outputs": [
        {
          "output_type": "stream",
          "text": [
            "Mean squared error: 305.69\n"
          ],
          "name": "stdout"
        }
      ]
    },
    {
      "cell_type": "code",
      "metadata": {
        "colab": {
          "base_uri": "https://localhost:8080/"
        },
        "id": "IX4Kw_3SEhER",
        "outputId": "81ea4e4c-09e8-4d38-978d-a5e5a29fb1db"
      },
      "source": [
        "modelo1.score(x_test,y_test)"
      ],
      "execution_count": 18,
      "outputs": [
        {
          "output_type": "execute_result",
          "data": {
            "text/plain": [
              "0.42925550418604164"
            ]
          },
          "metadata": {
            "tags": []
          },
          "execution_count": 18
        }
      ]
    },
    {
      "cell_type": "markdown",
      "metadata": {
        "id": "iIfIXLh6hkos"
      },
      "source": [
        "## Decision Tree"
      ]
    },
    {
      "cell_type": "markdown",
      "metadata": {
        "id": "1P4h8egSKeux"
      },
      "source": [
        "Os algoritmos de árvore de decisão estão entre os algoritmos com melhor taxa de acurácia x explicabilidade. Ao passo que eles entregam uma acurácia considerável, esses algoritmos também têm uma boa taxa de interpretabilidade, o que significa que suas previsões são de fácil entendimento, diferente dos modelos que usam redes neurais, por exemplo.\n",
        "\n",
        "Vamos, então, aplicar o algoritmo `DecisionTreeRegressor` e avaliar sua performance."
      ]
    },
    {
      "cell_type": "code",
      "metadata": {
        "colab": {
          "base_uri": "https://localhost:8080/"
        },
        "id": "xZbEfoK5MOTJ",
        "outputId": "206e2c53-648c-4224-dfbb-24ea070994c0"
      },
      "source": [
        "from sklearn import tree\n",
        "\n",
        "modelo2 = tree.DecisionTreeRegressor(random_state=10)\n",
        "\n",
        "with mlflow.start_run() as run2:\n",
        "    modelo2.fit(x_train,y_train)\n",
        "    print(\"Logged data and model in run {}\".format(run2.info.run_id))\n",
        "\n",
        "y_pred2 = modelo2.predict(x_test)"
      ],
      "execution_count": 19,
      "outputs": [
        {
          "output_type": "stream",
          "text": [
            "Logged data and model in run 8d8891e8382a431283eb3ec66b3cff59\n"
          ],
          "name": "stdout"
        }
      ]
    },
    {
      "cell_type": "code",
      "metadata": {
        "colab": {
          "base_uri": "https://localhost:8080/"
        },
        "id": "jzipcNHUMkrN",
        "outputId": "851844f9-a2fa-4e47-907d-edd56b130e2e"
      },
      "source": [
        "modelo2.score(x_test,y_test) # overfitting"
      ],
      "execution_count": 20,
      "outputs": [
        {
          "output_type": "execute_result",
          "data": {
            "text/plain": [
              "-0.1190605397850142"
            ]
          },
          "metadata": {
            "tags": []
          },
          "execution_count": 20
        }
      ]
    },
    {
      "cell_type": "markdown",
      "metadata": {
        "id": "3MYcri16aQ3v"
      },
      "source": [
        "Perceba que o modelo treinado acima não obteve um bom desempenho. Isso ocorreu porque o atributo `max_depth` da classe `DecisionTreeRegressor` é, por padrão, a maior profundidade possível, o que, nesse caso, levou a um overfitting.\n",
        "\n",
        "Podemos, então, alterar o valor desse e de outros atributos para tentar obter uma performance mais próxima ao ideal. Isso será feito na seleção de hiper-parâmetros."
      ]
    },
    {
      "cell_type": "code",
      "metadata": {
        "id": "bZlqVx7jPNhD"
      },
      "source": [
        "# Aqui podemos alterar o atributo max_depth e o atributo min_split_samples (default=2), resultando num score diferente\n",
        "#modelo22 = tree.DecisionTreeRegressor(max_depth=5, random_state=10) \n",
        "\n",
        "#with mlflow.start_run() as run22:\n",
        "#    modelo22.fit(x_train,y_train)\n",
        "#    print(\"Logged data and model in run {}\".format(run22.info.run_id))\n",
        "\n",
        "#y_pred22 = modelo22.predict(x_test)"
      ],
      "execution_count": 23,
      "outputs": []
    },
    {
      "cell_type": "code",
      "metadata": {
        "id": "_MYebshM-hIy"
      },
      "source": [
        "#modelo22.score(x_test,y_test)"
      ],
      "execution_count": 24,
      "outputs": []
    },
    {
      "cell_type": "markdown",
      "metadata": {
        "id": "MKQK7-0WbolM"
      },
      "source": [
        "Abaixo aplicamos `cross_val_score` ao modelo treinados."
      ]
    },
    {
      "cell_type": "code",
      "metadata": {
        "colab": {
          "base_uri": "https://localhost:8080/"
        },
        "id": "e06U1X2Pgc0V",
        "outputId": "a946cf3f-ebf6-4287-ca7a-af1c821ab958"
      },
      "source": [
        "from sklearn.model_selection import cross_val_score\n",
        "\n",
        "cross_val_score(modelo2, x_train, y_train, cv=10) # modelo com overfit"
      ],
      "execution_count": 21,
      "outputs": [
        {
          "output_type": "stream",
          "text": [
            "2021/08/18 02:28:53 INFO mlflow.utils.autologging_utils: Created MLflow autologging run with ID 'be66804304274efd9c96caeb51ed3e8b', which will track hyperparameters, performance metrics, model artifacts, and lineage information for the current sklearn workflow\n",
            "2021/08/18 02:28:53 INFO mlflow.utils.autologging_utils: Created MLflow autologging run with ID '48d7895ce2134651acb7b7e34d62aa25', which will track hyperparameters, performance metrics, model artifacts, and lineage information for the current sklearn workflow\n",
            "2021/08/18 02:28:53 INFO mlflow.utils.autologging_utils: Created MLflow autologging run with ID 'af30f9b40c75406ea37781b267efea4e', which will track hyperparameters, performance metrics, model artifacts, and lineage information for the current sklearn workflow\n",
            "2021/08/18 02:28:54 INFO mlflow.utils.autologging_utils: Created MLflow autologging run with ID 'e1eabddd6d654eb3a38bb45ba59e5503', which will track hyperparameters, performance metrics, model artifacts, and lineage information for the current sklearn workflow\n",
            "2021/08/18 02:28:54 INFO mlflow.utils.autologging_utils: Created MLflow autologging run with ID '3d678729799542a7b3e99fc9233ec700', which will track hyperparameters, performance metrics, model artifacts, and lineage information for the current sklearn workflow\n",
            "2021/08/18 02:28:54 INFO mlflow.utils.autologging_utils: Created MLflow autologging run with ID '2836cc2f455b46c782926b6803af280a', which will track hyperparameters, performance metrics, model artifacts, and lineage information for the current sklearn workflow\n",
            "2021/08/18 02:28:54 INFO mlflow.utils.autologging_utils: Created MLflow autologging run with ID '434446866813448ab6bcf269e490c3e4', which will track hyperparameters, performance metrics, model artifacts, and lineage information for the current sklearn workflow\n",
            "2021/08/18 02:28:54 INFO mlflow.utils.autologging_utils: Created MLflow autologging run with ID 'd1b4e882f54d4a03b64f708a3f0b3675', which will track hyperparameters, performance metrics, model artifacts, and lineage information for the current sklearn workflow\n",
            "2021/08/18 02:28:54 INFO mlflow.utils.autologging_utils: Created MLflow autologging run with ID '30c95e62ac214e349568df10775ac015', which will track hyperparameters, performance metrics, model artifacts, and lineage information for the current sklearn workflow\n",
            "2021/08/18 02:28:54 INFO mlflow.utils.autologging_utils: Created MLflow autologging run with ID 'c79e6293ae3247c6bd10f9432647d620', which will track hyperparameters, performance metrics, model artifacts, and lineage information for the current sklearn workflow\n"
          ],
          "name": "stderr"
        },
        {
          "output_type": "execute_result",
          "data": {
            "text/plain": [
              "array([-0.1945758 , -0.23627933, -0.18019839, -0.38504958, -0.17041169,\n",
              "       -0.15881799, -0.21863753, -0.30225223, -0.11893977, -0.0908888 ])"
            ]
          },
          "metadata": {
            "tags": []
          },
          "execution_count": 21
        }
      ]
    },
    {
      "cell_type": "code",
      "metadata": {
        "id": "ww7lyKt7gqgn"
      },
      "source": [
        "#cross_val_score(modelo22, x_train, y_train, cv=10) # modelo com max_depth=5"
      ],
      "execution_count": 22,
      "outputs": []
    },
    {
      "cell_type": "markdown",
      "metadata": {
        "id": "6GlRIbU3hmsN"
      },
      "source": [
        "## Random Forest"
      ]
    },
    {
      "cell_type": "markdown",
      "metadata": {
        "id": "JDM_1BaZg3EB"
      },
      "source": [
        "O método *Random Forest* é um tipo de algoritmo um tanto parecido com as árvores de decisão. Nele, são geradas múltiplas ávores de decisão que são treinadas e usadas para convergir a uma previsão final. Para treinar cada uma dessas árvores, o algoritmo pode usar partes diferentes dos dados do conjunto de treinamento ou até mesmo diferentes conjuntos de features dentre as que serão utilizadas na previsão."
      ]
    },
    {
      "cell_type": "code",
      "metadata": {
        "colab": {
          "base_uri": "https://localhost:8080/"
        },
        "id": "s_uI8EkfOnen",
        "outputId": "871c7131-589d-4ad9-c7c0-63f929ab4b8e"
      },
      "source": [
        "from sklearn.ensemble import RandomForestRegressor\n",
        "\n",
        "# O algoritmo de random forest tambem oferece os algortimos de max_depth e min_split_sample, que podem ser alterados para obter-se resultados diferentes\n",
        "#modelo3 = RandomForestRegressor(max_depth=5, random_state=10)\n",
        "modelo3 = RandomForestRegressor(random_state=10)\n",
        "\n",
        "with mlflow.start_run() as run3:\n",
        "    modelo3.fit(x_train,y_train)\n",
        "    print(\"Logged data and model in run {}\".format(run3.info.run_id))\n",
        "\n",
        "y_pred3 = modelo3.predict(x_test)"
      ],
      "execution_count": 25,
      "outputs": [
        {
          "output_type": "stream",
          "text": [
            "Logged data and model in run 088a8fbf89da4acab46ef9e78d2f896d\n"
          ],
          "name": "stdout"
        }
      ]
    },
    {
      "cell_type": "code",
      "metadata": {
        "colab": {
          "base_uri": "https://localhost:8080/"
        },
        "id": "65WoNzvVSQZK",
        "outputId": "d2a928d8-6310-473c-e3e9-f10a3a207035"
      },
      "source": [
        "modelo3.score(x_test,y_test)"
      ],
      "execution_count": 26,
      "outputs": [
        {
          "output_type": "execute_result",
          "data": {
            "text/plain": [
              "0.41112497636101947"
            ]
          },
          "metadata": {
            "tags": []
          },
          "execution_count": 26
        }
      ]
    },
    {
      "cell_type": "markdown",
      "metadata": {
        "id": "mf9ftbycvWE5"
      },
      "source": [
        "## Rede Neural"
      ]
    },
    {
      "cell_type": "markdown",
      "metadata": {
        "id": "HBG6dQKKjpDz"
      },
      "source": [
        "As redes neurais estão entre os mais citados e também mais precisos algoritmos de predição já criados. Seu poder vem do fato de esse tipo de algoritmo ser capaz de encontrar relações das mais altas ordens entre os atributos (diferente, por exemplo, da regressão linear, que é capaz apenas de considerar relações *lineares*). Outra característica que possibilita que as redes neurais sejam tão precisas é a quantidade de hiper-parâmetros, que podem ser alterados dependendo da tarefa de previsão a ser realizada.\n",
        "\n",
        "Aqui, vamos aplicar o algoritmo `MLPRegressor` aos nossos conjuntos de treinamento e teste e avaliar sua performance com hiper-parâmetros *default*."
      ]
    },
    {
      "cell_type": "code",
      "metadata": {
        "colab": {
          "base_uri": "https://localhost:8080/"
        },
        "id": "4It7Deo2-5nG",
        "outputId": "5392edc9-6f18-4307-a069-4df22b191275"
      },
      "source": [
        "from sklearn.neural_network import MLPRegressor\n",
        "\n",
        "with mlflow.start_run() as run4:\n",
        "    modelo4 = MLPRegressor(random_state=10).fit(x_train, y_train)\n",
        "    print(\"Logged data and model in run {}\".format(run4.info.run_id))\n",
        "\n",
        "y_pred4 = modelo4.predict(x_test)"
      ],
      "execution_count": 27,
      "outputs": [
        {
          "output_type": "stream",
          "text": [
            "Logged data and model in run 4546a50ea7f84225b301496f7693bd10\n"
          ],
          "name": "stdout"
        },
        {
          "output_type": "stream",
          "text": [
            "/usr/local/lib/python3.7/dist-packages/sklearn/neural_network/_multilayer_perceptron.py:571: ConvergenceWarning: Stochastic Optimizer: Maximum iterations (200) reached and the optimization hasn't converged yet.\n",
            "  % self.max_iter, ConvergenceWarning)\n"
          ],
          "name": "stderr"
        }
      ]
    },
    {
      "cell_type": "code",
      "metadata": {
        "colab": {
          "base_uri": "https://localhost:8080/"
        },
        "id": "MYXAbZU2_QDY",
        "outputId": "c32bfbfc-f7ba-48da-d6e1-1fab3f0a8ea9"
      },
      "source": [
        "modelo4.score(x_test,y_test)"
      ],
      "execution_count": 28,
      "outputs": [
        {
          "output_type": "execute_result",
          "data": {
            "text/plain": [
              "0.4352326053108301"
            ]
          },
          "metadata": {
            "tags": []
          },
          "execution_count": 28
        }
      ]
    },
    {
      "cell_type": "markdown",
      "metadata": {
        "id": "CAd6pdFGwHOE"
      },
      "source": [
        "# 4. MLFlow"
      ]
    },
    {
      "cell_type": "markdown",
      "metadata": {
        "id": "QAqTRENAhwvU"
      },
      "source": [
        "Após treinar os modelos iniciais, vamos verificar os registros obtidos utilizando o MLFlow."
      ]
    },
    {
      "cell_type": "code",
      "metadata": {
        "colab": {
          "base_uri": "https://localhost:8080/"
        },
        "id": "VXlZ_qWBR6Ci",
        "outputId": "9591207e-03ac-4285-d58f-62c105a42b68"
      },
      "source": [
        "# fetch logged data\n",
        "params, metrics, tags, artifacts = fetch_logged_data(run1.info.run_id)\n",
        "\n",
        "print('Parametros utilizados:')\n",
        "pprint(params)\n",
        "print('\\nMetricas:')\n",
        "pprint(metrics)\n",
        "print('\\nAlgoritmo utilizado:')\n",
        "pprint(tags)\n",
        "print('\\nArtifacts:')\n",
        "pprint(artifacts)"
      ],
      "execution_count": 29,
      "outputs": [
        {
          "output_type": "stream",
          "text": [
            "Parametros utilizados:\n",
            "{'copy_X': 'True',\n",
            " 'fit_intercept': 'True',\n",
            " 'n_jobs': 'None',\n",
            " 'normalize': 'False'}\n",
            "\n",
            "Metricas:\n",
            "{'training_mae': 13.432513967102905,\n",
            " 'training_mse': 304.3910590175906,\n",
            " 'training_r2_score': 0.40325855635472385,\n",
            " 'training_rmse': 17.446806556432914,\n",
            " 'training_score': 0.40325855635472385}\n",
            "\n",
            "Algoritmo utilizado:\n",
            "{'estimator_class': 'sklearn.linear_model._base.LinearRegression',\n",
            " 'estimator_name': 'LinearRegression'}\n",
            "\n",
            "Artifacts:\n",
            "['model/MLmodel',\n",
            " 'model/conda.yaml',\n",
            " 'model/model.pkl',\n",
            " 'model/requirements.txt']\n"
          ],
          "name": "stdout"
        }
      ]
    },
    {
      "cell_type": "code",
      "metadata": {
        "colab": {
          "base_uri": "https://localhost:8080/"
        },
        "id": "ajER2xd-gYZt",
        "outputId": "b2b90084-2440-4fa7-f97c-e2bbbba6be18"
      },
      "source": [
        "# fetch logged data\n",
        "params, metrics, tags, artifacts = fetch_logged_data(run2.info.run_id)\n",
        "\n",
        "print('Parametros utilizados:')\n",
        "pprint(params)\n",
        "print('\\nMetricas:')\n",
        "pprint(metrics)\n",
        "print('\\nAlgoritmo utilizado:')\n",
        "pprint(tags)\n",
        "print('\\nArtifacts:')\n",
        "pprint(artifacts)"
      ],
      "execution_count": 30,
      "outputs": [
        {
          "output_type": "stream",
          "text": [
            "Parametros utilizados:\n",
            "{'ccp_alpha': '0.0',\n",
            " 'criterion': 'mse',\n",
            " 'max_depth': 'None',\n",
            " 'max_features': 'None',\n",
            " 'max_leaf_nodes': 'None',\n",
            " 'min_impurity_decrease': '0.0',\n",
            " 'min_impurity_split': 'None',\n",
            " 'min_samples_leaf': '1',\n",
            " 'min_samples_split': '2',\n",
            " 'min_weight_fraction_leaf': '0.0',\n",
            " 'presort': 'deprecated',\n",
            " 'random_state': '10',\n",
            " 'splitter': 'best'}\n",
            "\n",
            "Metricas:\n",
            "{'training_mae': 0.0065362829966869734,\n",
            " 'training_mse': 0.07224798546542698,\n",
            " 'training_r2_score': 0.9998583619134995,\n",
            " 'training_rmse': 0.2687898537248513,\n",
            " 'training_score': 0.9998583619134994}\n",
            "\n",
            "Algoritmo utilizado:\n",
            "{'estimator_class': 'sklearn.tree._classes.DecisionTreeRegressor',\n",
            " 'estimator_name': 'DecisionTreeRegressor'}\n",
            "\n",
            "Artifacts:\n",
            "['model/MLmodel',\n",
            " 'model/conda.yaml',\n",
            " 'model/model.pkl',\n",
            " 'model/requirements.txt']\n"
          ],
          "name": "stdout"
        }
      ]
    },
    {
      "cell_type": "code",
      "metadata": {
        "id": "WIFaFO_cgcRM"
      },
      "source": [
        "# fetch logged data\n",
        "#params, metrics, tags, artifacts = fetch_logged_data(run22.info.run_id)\n",
        "\n",
        "#print('Parametros utilizados:')\n",
        "#pprint(params)\n",
        "#print('\\nMetricas:')\n",
        "#pprint(metrics)\n",
        "#print('\\nAlgoritmo utilizado:')\n",
        "#pprint(tags)\n",
        "#print('\\nArtifacts:')\n",
        "#pprint(artifacts)"
      ],
      "execution_count": 32,
      "outputs": []
    },
    {
      "cell_type": "code",
      "metadata": {
        "colab": {
          "base_uri": "https://localhost:8080/"
        },
        "id": "bEYcVWHkgef4",
        "outputId": "8fd5739c-b4df-4bf3-a697-d0e8822b04ae"
      },
      "source": [
        "# fetch logged data\n",
        "params, metrics, tags, artifacts = fetch_logged_data(run3.info.run_id)\n",
        "\n",
        "print('Parametros utilizados:')\n",
        "pprint(params)\n",
        "print('\\nMetricas:')\n",
        "pprint(metrics)\n",
        "print('\\nAlgoritmo utilizado:')\n",
        "pprint(tags)\n",
        "print('\\nArtifacts:')\n",
        "pprint(artifacts)"
      ],
      "execution_count": 33,
      "outputs": [
        {
          "output_type": "stream",
          "text": [
            "Parametros utilizados:\n",
            "{'bootstrap': 'True',\n",
            " 'ccp_alpha': '0.0',\n",
            " 'criterion': 'mse',\n",
            " 'max_depth': 'None',\n",
            " 'max_features': 'auto',\n",
            " 'max_leaf_nodes': 'None',\n",
            " 'max_samples': 'None',\n",
            " 'min_impurity_decrease': '0.0',\n",
            " 'min_impurity_split': 'None',\n",
            " 'min_samples_leaf': '1',\n",
            " 'min_samples_split': '2',\n",
            " 'min_weight_fraction_leaf': '0.0',\n",
            " 'n_estimators': '100',\n",
            " 'n_jobs': 'None',\n",
            " 'oob_score': 'False',\n",
            " 'random_state': '10',\n",
            " 'verbose': '0',\n",
            " 'warm_start': 'False'}\n",
            "\n",
            "Metricas:\n",
            "{'training_mae': 5.06623128108826,\n",
            " 'training_mse': 43.77708357962582,\n",
            " 'training_r2_score': 0.914177505284818,\n",
            " 'training_rmse': 6.616425287088627,\n",
            " 'training_score': 0.914177505284818}\n",
            "\n",
            "Algoritmo utilizado:\n",
            "{'estimator_class': 'sklearn.ensemble._forest.RandomForestRegressor',\n",
            " 'estimator_name': 'RandomForestRegressor'}\n",
            "\n",
            "Artifacts:\n",
            "['model/MLmodel',\n",
            " 'model/conda.yaml',\n",
            " 'model/model.pkl',\n",
            " 'model/requirements.txt']\n"
          ],
          "name": "stdout"
        }
      ]
    },
    {
      "cell_type": "code",
      "metadata": {
        "colab": {
          "base_uri": "https://localhost:8080/"
        },
        "id": "LzMdNF2JggvI",
        "outputId": "16322d3b-d428-4d01-f1b7-f64164a48355"
      },
      "source": [
        "# fetch logged data\n",
        "params, metrics, tags, artifacts = fetch_logged_data(run4.info.run_id)\n",
        "\n",
        "print('Parametros utilizados:')\n",
        "pprint(params)\n",
        "print('\\nMetricas:')\n",
        "pprint(metrics)\n",
        "print('\\nAlgoritmo utilizado:')\n",
        "pprint(tags)\n",
        "print('\\nArtifacts:')\n",
        "pprint(artifacts)"
      ],
      "execution_count": 34,
      "outputs": [
        {
          "output_type": "stream",
          "text": [
            "Parametros utilizados:\n",
            "{'activation': 'relu',\n",
            " 'alpha': '0.0001',\n",
            " 'batch_size': 'auto',\n",
            " 'beta_1': '0.9',\n",
            " 'beta_2': '0.999',\n",
            " 'early_stopping': 'False',\n",
            " 'epsilon': '1e-08',\n",
            " 'hidden_layer_sizes': '(100,)',\n",
            " 'learning_rate': 'constant',\n",
            " 'learning_rate_init': '0.001',\n",
            " 'max_fun': '15000',\n",
            " 'max_iter': '200',\n",
            " 'momentum': '0.9',\n",
            " 'n_iter_no_change': '10',\n",
            " 'nesterovs_momentum': 'True',\n",
            " 'power_t': '0.5',\n",
            " 'random_state': '10',\n",
            " 'shuffle': 'True',\n",
            " 'solver': 'adam',\n",
            " 'tol': '0.0001',\n",
            " 'validation_fraction': '0.1',\n",
            " 'verbose': 'False',\n",
            " 'warm_start': 'False'}\n",
            "\n",
            "Metricas:\n",
            "{'training_mae': 13.394924733268539,\n",
            " 'training_mse': 302.5030589543456,\n",
            " 'training_r2_score': 0.406959873623961,\n",
            " 'training_rmse': 17.392615069458234,\n",
            " 'training_score': 0.406959873623961}\n",
            "\n",
            "Algoritmo utilizado:\n",
            "{'estimator_class': 'sklearn.neural_network._multilayer_perceptron.MLPRegressor',\n",
            " 'estimator_name': 'MLPRegressor'}\n",
            "\n",
            "Artifacts:\n",
            "['model/MLmodel',\n",
            " 'model/conda.yaml',\n",
            " 'model/model.pkl',\n",
            " 'model/requirements.txt']\n"
          ],
          "name": "stdout"
        }
      ]
    },
    {
      "cell_type": "markdown",
      "metadata": {
        "id": "HSzgDZMTwXVl"
      },
      "source": [
        "# 5. Seleção de Hiper-Parâmetros"
      ]
    },
    {
      "cell_type": "markdown",
      "metadata": {
        "id": "aYJy9KQ9gnQL"
      },
      "source": [
        "A avaliação e seleção de hiper-parâmetros é um passo bastante importante na escolha do modelo final pois é nessa etapa em que são definidas características que serão utilizadas no treinamento, como, por exemplo: número de vizinhos no kNN, número de camadas numa rede neural, profundidade numa árvore de decisão, entre outras. No fim das contas, são essas escolhas que vão determinar se o modelo vai performar excepcionalmente bem ou muito longe do ideal.\n",
        "\n",
        "Existem vários algoritmos de otimização de hiper-parâmetros, e diferentes algoritmos se adequam a diferentes tarefas. Como nosso dataset não é tão grande, vamos utilizar o *Random Search*, que é bastante conhecido e não é tão exigente computacionalmente. Faremos a otimização sobre os algoritmos de árvore de decisão, random forest e rede neural vistos anteriormente. "
      ]
    },
    {
      "cell_type": "code",
      "metadata": {
        "id": "MMTSMXslT0Jh"
      },
      "source": [
        "# Importando o Random Search com cross-validation\n",
        "from sklearn.model_selection import RandomizedSearchCV"
      ],
      "execution_count": 35,
      "outputs": []
    },
    {
      "cell_type": "markdown",
      "metadata": {
        "id": "-b1Exzr6LE8q"
      },
      "source": [
        "## Decision Tree"
      ]
    },
    {
      "cell_type": "markdown",
      "metadata": {
        "id": "e9GrDpwGG4mG"
      },
      "source": [
        "Para a árvore de decisão, vamos otimizar os hiper-parâmetros `max_depth`, a profundidade máxima da árvore; `min_samples_leaf`, o mínimo de amostras necessárias para estar em uma folha; e `min_samples_split`, o menor número de amostras para que um nó seja dividido."
      ]
    },
    {
      "cell_type": "code",
      "metadata": {
        "colab": {
          "base_uri": "https://localhost:8080/"
        },
        "id": "tiBWJYEXgnj8",
        "outputId": "4444bd99-24ec-4b18-a3c7-128f6a95454e"
      },
      "source": [
        "random_search_cv1 = RandomizedSearchCV( estimator = tree.DecisionTreeRegressor(random_state=10),\n",
        "                                        param_distributions = { 'max_depth': range(1,8),\n",
        "                                                                'min_samples_leaf': range(1,6),\n",
        "                                                                'min_samples_split': range(2,4)} ,   \n",
        "                                        n_iter = 20) # Aumentar o numero de iteracoes talvez resulte em hiper-parametros diferentes\n",
        "\n",
        "# Realizando a otimização\n",
        "random_search_cv1.fit(x_train,y_train)\n",
        "\n",
        "# Hiper-parametros obtidos\n",
        "print('Melhor max_depth: {}'.format(random_search_cv1.best_params_['max_depth']))\n",
        "print('Melhor min_samples_leaf: {}'.format(random_search_cv1.best_params_['min_samples_leaf']))\n",
        "print('Melhor min_samples_split: {}'.format(random_search_cv1.best_params_['min_samples_split']))"
      ],
      "execution_count": 36,
      "outputs": [
        {
          "output_type": "stream",
          "text": [
            "2021/08/18 02:41:18 INFO mlflow.utils.autologging_utils: Created MLflow autologging run with ID '7dd0e63d958a43a3b2c1b5c94ef4bc18', which will track hyperparameters, performance metrics, model artifacts, and lineage information for the current sklearn workflow\n",
            "2021/08/18 02:41:18 WARNING mlflow.utils: Truncated the value of the key `estimator`. Truncated value: `DecisionTreeRegressor(ccp_alpha=0.0, criterion='mse', max_depth=None,\n",
            "                      max_features=None, max_leaf_nodes=None,\n",
            "                      min_impurity_decrease=0.0, min_impurity_split=None,\n",
            "                      min_samples_leaf=1,...`\n",
            "2021/08/18 02:41:19 INFO mlflow.sklearn.utils: Logging the 5 best runs, 15 runs will be omitted.\n",
            "2021/08/18 02:41:20 INFO mlflow.utils.autologging_utils: Created MLflow autologging run with ID '8dbd112e60bb4550b8435caef9f5f024', which will track hyperparameters, performance metrics, model artifacts, and lineage information for the current sklearn workflow\n",
            "2021/08/18 02:41:20 WARNING mlflow.utils: Truncated the value of the key `estimator`. Truncated value: `DecisionTreeRegressor(ccp_alpha=0.0, criterion='mse', max_depth=None,\n",
            "                      max_features=None, max_leaf_nodes=None,\n",
            "                      min_impurity_decrease=0.0, min_impurity_split=None,\n",
            "                      min_samples_leaf=1,...`\n"
          ],
          "name": "stderr"
        },
        {
          "output_type": "stream",
          "text": [
            "Melhor max_depth: 4\n",
            "Melhor min_samples_leaf: 4\n",
            "Melhor min_samples_split: 2\n",
            "Tempo para realizar a otimização:\n"
          ],
          "name": "stdout"
        },
        {
          "output_type": "stream",
          "text": [
            "2021/08/18 02:41:21 INFO mlflow.sklearn.utils: Logging the 5 best runs, 15 runs will be omitted.\n"
          ],
          "name": "stderr"
        },
        {
          "output_type": "stream",
          "text": [
            "1 loop, best of 1: 1.82 s per loop\n"
          ],
          "name": "stdout"
        }
      ]
    },
    {
      "cell_type": "markdown",
      "metadata": {
        "id": "SPWxrEl_LHi4"
      },
      "source": [
        "## Random Forest"
      ]
    },
    {
      "cell_type": "markdown",
      "metadata": {
        "id": "-r0styXxJUe4"
      },
      "source": [
        "Pela similaridade do random forest às árvores de decisão, serão otimizados os mesmos hiper-parâmetros: `max_depth`, `min_samples_leaf` e `min_samples_split`."
      ]
    },
    {
      "cell_type": "code",
      "metadata": {
        "colab": {
          "base_uri": "https://localhost:8080/"
        },
        "id": "T4AgP-ELZmqn",
        "outputId": "1d7917e0-afbd-4777-db00-3707666c7866"
      },
      "source": [
        "random_search_cv2 = RandomizedSearchCV( estimator = RandomForestRegressor(random_state=10),\n",
        "                                        param_distributions = { 'max_depth': range(1,8),\n",
        "                                                                'min_samples_leaf': range(1,6),\n",
        "                                                                'min_samples_split': range(2,4)} ,\n",
        "                                        cv = 3,\n",
        "                                        n_iter = 20)\n",
        "\n",
        "# Realizando a otimização\n",
        "random_search_cv2.fit(x_train,y_train)\n",
        "\n",
        "# Hiper-parametros obtidos\n",
        "print('Melhor max_depth: {}'.format(random_search_cv2.best_params_['max_depth']))\n",
        "print('Melhor min_samples_leaf: {}'.format(random_search_cv2.best_params_['min_samples_leaf']))\n",
        "print('Melhor min_samples_split: {}'.format(random_search_cv2.best_params_['min_samples_split']))"
      ],
      "execution_count": 37,
      "outputs": [
        {
          "output_type": "stream",
          "text": [
            "2021/08/18 02:43:35 INFO mlflow.utils.autologging_utils: Created MLflow autologging run with ID '10a3c292fef7434483ca3ddab5c3f60d', which will track hyperparameters, performance metrics, model artifacts, and lineage information for the current sklearn workflow\n",
            "2021/08/18 02:43:35 WARNING mlflow.utils: Truncated the value of the key `estimator`. Truncated value: `RandomForestRegressor(bootstrap=True, ccp_alpha=0.0, criterion='mse',\n",
            "                      max_depth=None, max_features='auto', max_leaf_nodes=None,\n",
            "                      max_samples=None, min_impurity_decrease=0.0,\n",
            "                      min_impu...`\n",
            "2021/08/18 02:45:04 INFO mlflow.sklearn.utils: Logging the 5 best runs, 15 runs will be omitted.\n"
          ],
          "name": "stderr"
        },
        {
          "output_type": "stream",
          "text": [
            "Melhor comprimento máximo: 6\n",
            "Melhor minimo de amostras por folha: 2\n",
            "Melhor min_samples_split encontrado: 2\n"
          ],
          "name": "stdout"
        }
      ]
    },
    {
      "cell_type": "markdown",
      "metadata": {
        "id": "xdjFZWTOLLFu"
      },
      "source": [
        "## Neural Network"
      ]
    },
    {
      "cell_type": "markdown",
      "metadata": {
        "id": "FoVlikofJ0cg"
      },
      "source": [
        "Os algoritmos de rede neural são um pouco diferentes dos de árvore de decisão e random forest vistos anteriormente. Esse tipe de algoritmo tem uma precisão mais alta e, também, um maior número de hiper-parâmetros. Aqui, foram selecionados os hparâmetros `hidden_layer_sizes`, que diz a quantidade de camadas e o tamanho de cada uma delas; `activation`, a função de ativação da hidden layer; e `learning_rate`, que diz com que frequência os pesos serão alterados."
      ]
    },
    {
      "cell_type": "code",
      "metadata": {
        "colab": {
          "base_uri": "https://localhost:8080/"
        },
        "id": "NDLZ2LnUbleQ",
        "outputId": "390a8100-6a3e-44cc-f6c8-983fcb97804b"
      },
      "source": [
        "random_search_cv3 = RandomizedSearchCV( estimator = MLPRegressor(random_state=10),\n",
        "                                        param_distributions = { 'hidden_layer_sizes':[(10,10),(40,1)],\n",
        "                                                                'activation': ['logistic', 'tanh', 'relu'],\n",
        "                                                                'learning_rate': ['constant','adaptive'] }, \n",
        "                                        n_iter = 10)\n",
        "\n",
        "# Realizando a otimização\n",
        "random_search_cv3.fit(x_train,y_train)\n",
        "\n",
        "# Hiper-parametros obtidos\n",
        "print('Melhor hidden_layer_sizes: {}'.format(random_search_cv3.best_params_['hidden_layer_sizes']))\n",
        "print('Melhor activation: {}'.format(random_search_cv3.best_params_['activation']))\n",
        "print('Melhor learning_rate: {}'.format(random_search_cv3.best_params_['learning_rate']))"
      ],
      "execution_count": 39,
      "outputs": [
        {
          "output_type": "stream",
          "text": [
            "2021/08/18 03:02:22 INFO mlflow.utils.autologging_utils: Created MLflow autologging run with ID 'ae878632103f498db8b75073953d6670', which will track hyperparameters, performance metrics, model artifacts, and lineage information for the current sklearn workflow\n",
            "2021/08/18 03:02:22 WARNING mlflow.utils: Truncated the value of the key `estimator`. Truncated value: `MLPRegressor(activation='relu', alpha=0.0001, batch_size='auto', beta_1=0.9,\n",
            "             beta_2=0.999, early_stopping=False, epsilon=1e-08,\n",
            "             hidden_layer_sizes=(100,), learning_rate='constant',\n",
            "             learning_rate_init=0.001, m...`\n",
            "/usr/local/lib/python3.7/dist-packages/sklearn/neural_network/_multilayer_perceptron.py:571: ConvergenceWarning: Stochastic Optimizer: Maximum iterations (200) reached and the optimization hasn't converged yet.\n",
            "  % self.max_iter, ConvergenceWarning)\n",
            "/usr/local/lib/python3.7/dist-packages/sklearn/neural_network/_multilayer_perceptron.py:571: ConvergenceWarning: Stochastic Optimizer: Maximum iterations (200) reached and the optimization hasn't converged yet.\n",
            "  % self.max_iter, ConvergenceWarning)\n",
            "/usr/local/lib/python3.7/dist-packages/sklearn/neural_network/_multilayer_perceptron.py:571: ConvergenceWarning: Stochastic Optimizer: Maximum iterations (200) reached and the optimization hasn't converged yet.\n",
            "  % self.max_iter, ConvergenceWarning)\n",
            "/usr/local/lib/python3.7/dist-packages/sklearn/neural_network/_multilayer_perceptron.py:571: ConvergenceWarning: Stochastic Optimizer: Maximum iterations (200) reached and the optimization hasn't converged yet.\n",
            "  % self.max_iter, ConvergenceWarning)\n",
            "/usr/local/lib/python3.7/dist-packages/sklearn/neural_network/_multilayer_perceptron.py:571: ConvergenceWarning: Stochastic Optimizer: Maximum iterations (200) reached and the optimization hasn't converged yet.\n",
            "  % self.max_iter, ConvergenceWarning)\n",
            "/usr/local/lib/python3.7/dist-packages/sklearn/neural_network/_multilayer_perceptron.py:571: ConvergenceWarning: Stochastic Optimizer: Maximum iterations (200) reached and the optimization hasn't converged yet.\n",
            "  % self.max_iter, ConvergenceWarning)\n",
            "/usr/local/lib/python3.7/dist-packages/sklearn/neural_network/_multilayer_perceptron.py:571: ConvergenceWarning: Stochastic Optimizer: Maximum iterations (200) reached and the optimization hasn't converged yet.\n",
            "  % self.max_iter, ConvergenceWarning)\n",
            "/usr/local/lib/python3.7/dist-packages/sklearn/neural_network/_multilayer_perceptron.py:571: ConvergenceWarning: Stochastic Optimizer: Maximum iterations (200) reached and the optimization hasn't converged yet.\n",
            "  % self.max_iter, ConvergenceWarning)\n",
            "/usr/local/lib/python3.7/dist-packages/sklearn/neural_network/_multilayer_perceptron.py:571: ConvergenceWarning: Stochastic Optimizer: Maximum iterations (200) reached and the optimization hasn't converged yet.\n",
            "  % self.max_iter, ConvergenceWarning)\n",
            "/usr/local/lib/python3.7/dist-packages/sklearn/neural_network/_multilayer_perceptron.py:571: ConvergenceWarning: Stochastic Optimizer: Maximum iterations (200) reached and the optimization hasn't converged yet.\n",
            "  % self.max_iter, ConvergenceWarning)\n",
            "/usr/local/lib/python3.7/dist-packages/sklearn/neural_network/_multilayer_perceptron.py:571: ConvergenceWarning: Stochastic Optimizer: Maximum iterations (200) reached and the optimization hasn't converged yet.\n",
            "  % self.max_iter, ConvergenceWarning)\n",
            "/usr/local/lib/python3.7/dist-packages/sklearn/neural_network/_multilayer_perceptron.py:571: ConvergenceWarning: Stochastic Optimizer: Maximum iterations (200) reached and the optimization hasn't converged yet.\n",
            "  % self.max_iter, ConvergenceWarning)\n",
            "/usr/local/lib/python3.7/dist-packages/sklearn/neural_network/_multilayer_perceptron.py:571: ConvergenceWarning: Stochastic Optimizer: Maximum iterations (200) reached and the optimization hasn't converged yet.\n",
            "  % self.max_iter, ConvergenceWarning)\n",
            "/usr/local/lib/python3.7/dist-packages/sklearn/neural_network/_multilayer_perceptron.py:571: ConvergenceWarning: Stochastic Optimizer: Maximum iterations (200) reached and the optimization hasn't converged yet.\n",
            "  % self.max_iter, ConvergenceWarning)\n",
            "/usr/local/lib/python3.7/dist-packages/sklearn/neural_network/_multilayer_perceptron.py:571: ConvergenceWarning: Stochastic Optimizer: Maximum iterations (200) reached and the optimization hasn't converged yet.\n",
            "  % self.max_iter, ConvergenceWarning)\n",
            "/usr/local/lib/python3.7/dist-packages/sklearn/neural_network/_multilayer_perceptron.py:571: ConvergenceWarning: Stochastic Optimizer: Maximum iterations (200) reached and the optimization hasn't converged yet.\n",
            "  % self.max_iter, ConvergenceWarning)\n",
            "/usr/local/lib/python3.7/dist-packages/sklearn/neural_network/_multilayer_perceptron.py:571: ConvergenceWarning: Stochastic Optimizer: Maximum iterations (200) reached and the optimization hasn't converged yet.\n",
            "  % self.max_iter, ConvergenceWarning)\n",
            "/usr/local/lib/python3.7/dist-packages/sklearn/neural_network/_multilayer_perceptron.py:571: ConvergenceWarning: Stochastic Optimizer: Maximum iterations (200) reached and the optimization hasn't converged yet.\n",
            "  % self.max_iter, ConvergenceWarning)\n",
            "/usr/local/lib/python3.7/dist-packages/sklearn/neural_network/_multilayer_perceptron.py:571: ConvergenceWarning: Stochastic Optimizer: Maximum iterations (200) reached and the optimization hasn't converged yet.\n",
            "  % self.max_iter, ConvergenceWarning)\n",
            "/usr/local/lib/python3.7/dist-packages/sklearn/neural_network/_multilayer_perceptron.py:571: ConvergenceWarning: Stochastic Optimizer: Maximum iterations (200) reached and the optimization hasn't converged yet.\n",
            "  % self.max_iter, ConvergenceWarning)\n",
            "/usr/local/lib/python3.7/dist-packages/sklearn/neural_network/_multilayer_perceptron.py:571: ConvergenceWarning: Stochastic Optimizer: Maximum iterations (200) reached and the optimization hasn't converged yet.\n",
            "  % self.max_iter, ConvergenceWarning)\n",
            "/usr/local/lib/python3.7/dist-packages/sklearn/neural_network/_multilayer_perceptron.py:571: ConvergenceWarning: Stochastic Optimizer: Maximum iterations (200) reached and the optimization hasn't converged yet.\n",
            "  % self.max_iter, ConvergenceWarning)\n",
            "/usr/local/lib/python3.7/dist-packages/sklearn/neural_network/_multilayer_perceptron.py:571: ConvergenceWarning: Stochastic Optimizer: Maximum iterations (200) reached and the optimization hasn't converged yet.\n",
            "  % self.max_iter, ConvergenceWarning)\n",
            "/usr/local/lib/python3.7/dist-packages/sklearn/neural_network/_multilayer_perceptron.py:571: ConvergenceWarning: Stochastic Optimizer: Maximum iterations (200) reached and the optimization hasn't converged yet.\n",
            "  % self.max_iter, ConvergenceWarning)\n",
            "/usr/local/lib/python3.7/dist-packages/sklearn/neural_network/_multilayer_perceptron.py:571: ConvergenceWarning: Stochastic Optimizer: Maximum iterations (200) reached and the optimization hasn't converged yet.\n",
            "  % self.max_iter, ConvergenceWarning)\n",
            "/usr/local/lib/python3.7/dist-packages/sklearn/neural_network/_multilayer_perceptron.py:571: ConvergenceWarning: Stochastic Optimizer: Maximum iterations (200) reached and the optimization hasn't converged yet.\n",
            "  % self.max_iter, ConvergenceWarning)\n",
            "/usr/local/lib/python3.7/dist-packages/sklearn/neural_network/_multilayer_perceptron.py:571: ConvergenceWarning: Stochastic Optimizer: Maximum iterations (200) reached and the optimization hasn't converged yet.\n",
            "  % self.max_iter, ConvergenceWarning)\n",
            "/usr/local/lib/python3.7/dist-packages/sklearn/neural_network/_multilayer_perceptron.py:571: ConvergenceWarning: Stochastic Optimizer: Maximum iterations (200) reached and the optimization hasn't converged yet.\n",
            "  % self.max_iter, ConvergenceWarning)\n",
            "/usr/local/lib/python3.7/dist-packages/sklearn/neural_network/_multilayer_perceptron.py:571: ConvergenceWarning: Stochastic Optimizer: Maximum iterations (200) reached and the optimization hasn't converged yet.\n",
            "  % self.max_iter, ConvergenceWarning)\n",
            "/usr/local/lib/python3.7/dist-packages/sklearn/neural_network/_multilayer_perceptron.py:571: ConvergenceWarning: Stochastic Optimizer: Maximum iterations (200) reached and the optimization hasn't converged yet.\n",
            "  % self.max_iter, ConvergenceWarning)\n",
            "/usr/local/lib/python3.7/dist-packages/sklearn/neural_network/_multilayer_perceptron.py:571: ConvergenceWarning: Stochastic Optimizer: Maximum iterations (200) reached and the optimization hasn't converged yet.\n",
            "  % self.max_iter, ConvergenceWarning)\n",
            "/usr/local/lib/python3.7/dist-packages/sklearn/neural_network/_multilayer_perceptron.py:571: ConvergenceWarning: Stochastic Optimizer: Maximum iterations (200) reached and the optimization hasn't converged yet.\n",
            "  % self.max_iter, ConvergenceWarning)\n",
            "/usr/local/lib/python3.7/dist-packages/sklearn/neural_network/_multilayer_perceptron.py:571: ConvergenceWarning: Stochastic Optimizer: Maximum iterations (200) reached and the optimization hasn't converged yet.\n",
            "  % self.max_iter, ConvergenceWarning)\n",
            "/usr/local/lib/python3.7/dist-packages/sklearn/neural_network/_multilayer_perceptron.py:571: ConvergenceWarning: Stochastic Optimizer: Maximum iterations (200) reached and the optimization hasn't converged yet.\n",
            "  % self.max_iter, ConvergenceWarning)\n",
            "/usr/local/lib/python3.7/dist-packages/sklearn/neural_network/_multilayer_perceptron.py:571: ConvergenceWarning: Stochastic Optimizer: Maximum iterations (200) reached and the optimization hasn't converged yet.\n",
            "  % self.max_iter, ConvergenceWarning)\n",
            "/usr/local/lib/python3.7/dist-packages/sklearn/neural_network/_multilayer_perceptron.py:571: ConvergenceWarning: Stochastic Optimizer: Maximum iterations (200) reached and the optimization hasn't converged yet.\n",
            "  % self.max_iter, ConvergenceWarning)\n",
            "/usr/local/lib/python3.7/dist-packages/sklearn/neural_network/_multilayer_perceptron.py:571: ConvergenceWarning: Stochastic Optimizer: Maximum iterations (200) reached and the optimization hasn't converged yet.\n",
            "  % self.max_iter, ConvergenceWarning)\n",
            "/usr/local/lib/python3.7/dist-packages/sklearn/neural_network/_multilayer_perceptron.py:571: ConvergenceWarning: Stochastic Optimizer: Maximum iterations (200) reached and the optimization hasn't converged yet.\n",
            "  % self.max_iter, ConvergenceWarning)\n",
            "/usr/local/lib/python3.7/dist-packages/sklearn/neural_network/_multilayer_perceptron.py:571: ConvergenceWarning: Stochastic Optimizer: Maximum iterations (200) reached and the optimization hasn't converged yet.\n",
            "  % self.max_iter, ConvergenceWarning)\n",
            "/usr/local/lib/python3.7/dist-packages/sklearn/neural_network/_multilayer_perceptron.py:571: ConvergenceWarning: Stochastic Optimizer: Maximum iterations (200) reached and the optimization hasn't converged yet.\n",
            "  % self.max_iter, ConvergenceWarning)\n",
            "/usr/local/lib/python3.7/dist-packages/sklearn/neural_network/_multilayer_perceptron.py:571: ConvergenceWarning: Stochastic Optimizer: Maximum iterations (200) reached and the optimization hasn't converged yet.\n",
            "  % self.max_iter, ConvergenceWarning)\n",
            "/usr/local/lib/python3.7/dist-packages/sklearn/neural_network/_multilayer_perceptron.py:571: ConvergenceWarning: Stochastic Optimizer: Maximum iterations (200) reached and the optimization hasn't converged yet.\n",
            "  % self.max_iter, ConvergenceWarning)\n",
            "2021/08/18 03:06:05 INFO mlflow.sklearn.utils: Logging the 5 best runs, 5 runs will be omitted.\n"
          ],
          "name": "stderr"
        },
        {
          "output_type": "stream",
          "text": [
            "Melhor hidden_layer_sizes: (10, 10)\n",
            "Melhor activation: relu\n",
            "Melhor learning_rate: constant\n"
          ],
          "name": "stdout"
        }
      ]
    },
    {
      "cell_type": "markdown",
      "metadata": {
        "id": "qHnXMAlxwJGh"
      },
      "source": [
        "# 6. Diagnóstico e Aprimoramento"
      ]
    },
    {
      "cell_type": "markdown",
      "metadata": {
        "id": "SYIZWavyfEO3"
      },
      "source": [
        "A partir os resultados da seleção, podemos aplicar novamente os algoritmos vistos no tópico 3, agora com os hiper-parâmetros otimizados."
      ]
    },
    {
      "cell_type": "markdown",
      "metadata": {
        "id": "EkhppCWmL7rq"
      },
      "source": [
        "## Decision Tree"
      ]
    },
    {
      "cell_type": "markdown",
      "metadata": {
        "id": "UW1NNAgNNfcg"
      },
      "source": [
        "Da otimização, obtivemos os seguintes hiper-parâmetros:\n",
        "\n",
        "- max_depth: 4\n",
        "- min_samples_leaf: 4\n",
        "- min_samples_split: 2\n",
        "\n",
        "Agora, vamos aplicá-los e verificar se a performance, é, de fato, melhorada."
      ]
    },
    {
      "cell_type": "code",
      "metadata": {
        "colab": {
          "base_uri": "https://localhost:8080/"
        },
        "id": "pNJovqt3MNQe",
        "outputId": "d92e3bb1-7688-4df9-ff37-35a2112eda05"
      },
      "source": [
        "modelo2opt = tree.DecisionTreeRegressor(random_state=10, max_depth=4, min_samples_leaf=4, min_samples_split=2)\n",
        "\n",
        "with mlflow.start_run() as run2opt:\n",
        "    modelo2opt.fit(x_train,y_train)\n",
        "    print(\"Logged data and model in run {}\".format(run2opt.info.run_id))\n",
        "\n",
        "modelo2opt.score(x_test,y_test)"
      ],
      "execution_count": 40,
      "outputs": [
        {
          "output_type": "stream",
          "text": [
            "Logged data and model in run c819f42f09b843e38c074d8c68f48b56\n"
          ],
          "name": "stdout"
        },
        {
          "output_type": "execute_result",
          "data": {
            "text/plain": [
              "0.42347640866651093"
            ]
          },
          "metadata": {
            "tags": []
          },
          "execution_count": 40
        }
      ]
    },
    {
      "cell_type": "markdown",
      "metadata": {
        "id": "TgPMXTLdMDx0"
      },
      "source": [
        "## Random Forest"
      ]
    },
    {
      "cell_type": "markdown",
      "metadata": {
        "id": "H4KZr4u8OTI0"
      },
      "source": [
        "Na otimização do random forest, obteve-se o seguinte:\n",
        "\n",
        "- max_depth: 6\n",
        "- min_samples_leaf: 2\n",
        "- min_samples_split: 2\n",
        "\n",
        "Vamos executar o algoritmo `RandomForestRegressor` com as novas mudanças."
      ]
    },
    {
      "cell_type": "code",
      "metadata": {
        "colab": {
          "base_uri": "https://localhost:8080/"
        },
        "id": "hSE_8_CYMNoH",
        "outputId": "57be4674-63ef-4bb6-9ce8-67e9d6828362"
      },
      "source": [
        "modelo3opt = RandomForestRegressor(random_state=10, max_depth=6, min_samples_leaf=2, min_samples_split=2)\n",
        "\n",
        "with mlflow.start_run() as run3opt:\n",
        "    modelo3opt.fit(x_train,y_train)\n",
        "    print(\"Logged data and model in run {}\".format(run3opt.info.run_id))\n",
        "\n",
        "modelo3opt.score(x_test,y_test)"
      ],
      "execution_count": 41,
      "outputs": [
        {
          "output_type": "stream",
          "text": [
            "Logged data and model in run 99524d3a07054d39ab707bf6bf52500c\n"
          ],
          "name": "stdout"
        },
        {
          "output_type": "execute_result",
          "data": {
            "text/plain": [
              "0.4443073997182737"
            ]
          },
          "metadata": {
            "tags": []
          },
          "execution_count": 41
        }
      ]
    },
    {
      "cell_type": "markdown",
      "metadata": {
        "id": "jwqIkZnmME_C"
      },
      "source": [
        "## Neural Network"
      ]
    },
    {
      "cell_type": "markdown",
      "metadata": {
        "id": "qv60AMIEO7Ym"
      },
      "source": [
        "Para o algoritmo de redes neurais, foram obtidos os seguintes hiper-parâmetros:\n",
        "\n",
        "- hidden_layer_sizes: (10, 10)\n",
        "- activation: relu\n",
        "- learning_rate: constant"
      ]
    },
    {
      "cell_type": "code",
      "metadata": {
        "colab": {
          "base_uri": "https://localhost:8080/"
        },
        "id": "f9XLjRZjM7KC",
        "outputId": "cd43b23c-4633-4678-8b79-67eeb116531e"
      },
      "source": [
        "with mlflow.start_run() as run4opt:\n",
        "    modelo4opt = MLPRegressor(random_state=10, hidden_layer_sizes=(10,10), activation='relu', learning_rate='constant').fit(x_train, y_train)\n",
        "    print(\"Logged data and model in run {}\".format(run4opt.info.run_id))\n",
        "\n",
        "modelo4opt.score(x_test,y_test)"
      ],
      "execution_count": 42,
      "outputs": [
        {
          "output_type": "stream",
          "text": [
            "Logged data and model in run 5c4c54bf009c437d9c2b139a37597036\n"
          ],
          "name": "stdout"
        },
        {
          "output_type": "execute_result",
          "data": {
            "text/plain": [
              "0.42913904146854776"
            ]
          },
          "metadata": {
            "tags": []
          },
          "execution_count": 42
        }
      ]
    }
  ]
}