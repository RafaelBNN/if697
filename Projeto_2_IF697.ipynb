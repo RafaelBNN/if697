{
  "nbformat": 4,
  "nbformat_minor": 0,
  "metadata": {
    "colab": {
      "name": "Projeto 2.2 - IF697.ipynb",
      "provenance": [],
      "collapsed_sections": [
        "IeZZAKvpJQKg",
        "6Smp1tzfK8Cn",
        "U8w-DDptTK-Y",
        "EDxsohxhpSb2",
        "iIfIXLh6hkos",
        "6GlRIbU3hmsN",
        "mf9ftbycvWE5"
      ],
      "authorship_tag": "ABX9TyMqOX+3ybmtAp8efa+ymZlA",
      "include_colab_link": true
    },
    "kernelspec": {
      "name": "python3",
      "display_name": "Python 3"
    },
    "language_info": {
      "name": "python"
    }
  },
  "cells": [
    {
      "cell_type": "markdown",
      "metadata": {
        "id": "view-in-github",
        "colab_type": "text"
      },
      "source": [
        "<a href=\"https://colab.research.google.com/github/RafaelBNN/if697/blob/main/Projeto_2_IF697.ipynb\" target=\"_parent\"><img src=\"https://colab.research.google.com/assets/colab-badge.svg\" alt=\"Open In Colab\"/></a>"
      ]
    },
    {
      "cell_type": "markdown",
      "metadata": {
        "id": "ZSpx8whYv6Ki"
      },
      "source": [
        "### Importando as Bibliotecas"
      ]
    },
    {
      "cell_type": "code",
      "metadata": {
        "id": "sMcahxhiv6e2"
      },
      "source": [
        "import numpy as np\n",
        "import pandas as pd\n",
        "from matplotlib import pyplot as plt\n",
        "import seaborn as sns"
      ],
      "execution_count": 1,
      "outputs": []
    },
    {
      "cell_type": "code",
      "metadata": {
        "colab": {
          "base_uri": "https://localhost:8080/"
        },
        "id": "7JC0QekwYQMA",
        "outputId": "1d2db6e6-c055-45b1-d96d-aca2a71834ca"
      },
      "source": [
        "# Blbliotecas e funcoes relacionadas ao mlflow\n",
        "!pip install mlflow\n",
        "import mlflow\n",
        "from pprint import pprint\n",
        "!pip install utils\n",
        "\n",
        "def fetch_logged_data(run_id):\n",
        "    client = mlflow.tracking.MlflowClient()\n",
        "    data = client.get_run(run_id).data\n",
        "    tags = {k: v for k, v in data.tags.items() if not k.startswith(\"mlflow.\")}\n",
        "    artifacts = [f.path for f in client.list_artifacts(run_id, \"model\")]\n",
        "    return data.params, data.metrics, tags, artifacts"
      ],
      "execution_count": 2,
      "outputs": [
        {
          "output_type": "stream",
          "text": [
            "Requirement already satisfied: mlflow in /usr/local/lib/python3.7/dist-packages (1.19.0)\n",
            "Requirement already satisfied: sqlalchemy in /usr/local/lib/python3.7/dist-packages (from mlflow) (1.4.22)\n",
            "Requirement already satisfied: prometheus-flask-exporter in /usr/local/lib/python3.7/dist-packages (from mlflow) (0.18.2)\n",
            "Requirement already satisfied: pandas in /usr/local/lib/python3.7/dist-packages (from mlflow) (1.1.5)\n",
            "Requirement already satisfied: alembic<=1.4.1 in /usr/local/lib/python3.7/dist-packages (from mlflow) (1.4.1)\n",
            "Requirement already satisfied: databricks-cli>=0.8.7 in /usr/local/lib/python3.7/dist-packages (from mlflow) (0.15.0)\n",
            "Requirement already satisfied: docker>=4.0.0 in /usr/local/lib/python3.7/dist-packages (from mlflow) (5.0.0)\n",
            "Requirement already satisfied: click>=7.0 in /usr/local/lib/python3.7/dist-packages (from mlflow) (7.1.2)\n",
            "Requirement already satisfied: pytz in /usr/local/lib/python3.7/dist-packages (from mlflow) (2018.9)\n",
            "Requirement already satisfied: gunicorn in /usr/local/lib/python3.7/dist-packages (from mlflow) (20.1.0)\n",
            "Requirement already satisfied: protobuf>=3.7.0 in /usr/local/lib/python3.7/dist-packages (from mlflow) (3.17.3)\n",
            "Requirement already satisfied: packaging in /usr/local/lib/python3.7/dist-packages (from mlflow) (21.0)\n",
            "Requirement already satisfied: Flask in /usr/local/lib/python3.7/dist-packages (from mlflow) (1.1.4)\n",
            "Requirement already satisfied: numpy in /usr/local/lib/python3.7/dist-packages (from mlflow) (1.19.5)\n",
            "Requirement already satisfied: requests>=2.17.3 in /usr/local/lib/python3.7/dist-packages (from mlflow) (2.23.0)\n",
            "Requirement already satisfied: sqlparse>=0.3.1 in /usr/local/lib/python3.7/dist-packages (from mlflow) (0.4.1)\n",
            "Requirement already satisfied: cloudpickle in /usr/local/lib/python3.7/dist-packages (from mlflow) (1.3.0)\n",
            "Requirement already satisfied: querystring-parser in /usr/local/lib/python3.7/dist-packages (from mlflow) (1.2.4)\n",
            "Requirement already satisfied: pyyaml>=5.1 in /usr/local/lib/python3.7/dist-packages (from mlflow) (5.4.1)\n",
            "Requirement already satisfied: gitpython>=2.1.0 in /usr/local/lib/python3.7/dist-packages (from mlflow) (3.1.18)\n",
            "Requirement already satisfied: entrypoints in /usr/local/lib/python3.7/dist-packages (from mlflow) (0.3)\n",
            "Requirement already satisfied: python-dateutil in /usr/local/lib/python3.7/dist-packages (from alembic<=1.4.1->mlflow) (2.8.2)\n",
            "Requirement already satisfied: python-editor>=0.3 in /usr/local/lib/python3.7/dist-packages (from alembic<=1.4.1->mlflow) (1.0.4)\n",
            "Requirement already satisfied: Mako in /usr/local/lib/python3.7/dist-packages (from alembic<=1.4.1->mlflow) (1.1.4)\n",
            "Requirement already satisfied: six>=1.10.0 in /usr/local/lib/python3.7/dist-packages (from databricks-cli>=0.8.7->mlflow) (1.15.0)\n",
            "Requirement already satisfied: tabulate>=0.7.7 in /usr/local/lib/python3.7/dist-packages (from databricks-cli>=0.8.7->mlflow) (0.8.9)\n",
            "Requirement already satisfied: websocket-client>=0.32.0 in /usr/local/lib/python3.7/dist-packages (from docker>=4.0.0->mlflow) (1.2.1)\n",
            "Requirement already satisfied: gitdb<5,>=4.0.1 in /usr/local/lib/python3.7/dist-packages (from gitpython>=2.1.0->mlflow) (4.0.7)\n",
            "Requirement already satisfied: typing-extensions>=3.7.4.0 in /usr/local/lib/python3.7/dist-packages (from gitpython>=2.1.0->mlflow) (3.7.4.3)\n",
            "Requirement already satisfied: smmap<5,>=3.0.1 in /usr/local/lib/python3.7/dist-packages (from gitdb<5,>=4.0.1->gitpython>=2.1.0->mlflow) (4.0.0)\n",
            "Requirement already satisfied: chardet<4,>=3.0.2 in /usr/local/lib/python3.7/dist-packages (from requests>=2.17.3->mlflow) (3.0.4)\n",
            "Requirement already satisfied: urllib3!=1.25.0,!=1.25.1,<1.26,>=1.21.1 in /usr/local/lib/python3.7/dist-packages (from requests>=2.17.3->mlflow) (1.24.3)\n",
            "Requirement already satisfied: idna<3,>=2.5 in /usr/local/lib/python3.7/dist-packages (from requests>=2.17.3->mlflow) (2.10)\n",
            "Requirement already satisfied: certifi>=2017.4.17 in /usr/local/lib/python3.7/dist-packages (from requests>=2.17.3->mlflow) (2021.5.30)\n",
            "Requirement already satisfied: greenlet!=0.4.17 in /usr/local/lib/python3.7/dist-packages (from sqlalchemy->mlflow) (1.1.1)\n",
            "Requirement already satisfied: importlib-metadata in /usr/local/lib/python3.7/dist-packages (from sqlalchemy->mlflow) (4.6.3)\n",
            "Requirement already satisfied: Jinja2<3.0,>=2.10.1 in /usr/local/lib/python3.7/dist-packages (from Flask->mlflow) (2.11.3)\n",
            "Requirement already satisfied: Werkzeug<2.0,>=0.15 in /usr/local/lib/python3.7/dist-packages (from Flask->mlflow) (1.0.1)\n",
            "Requirement already satisfied: itsdangerous<2.0,>=0.24 in /usr/local/lib/python3.7/dist-packages (from Flask->mlflow) (1.1.0)\n",
            "Requirement already satisfied: MarkupSafe>=0.23 in /usr/local/lib/python3.7/dist-packages (from Jinja2<3.0,>=2.10.1->Flask->mlflow) (2.0.1)\n",
            "Requirement already satisfied: setuptools>=3.0 in /usr/local/lib/python3.7/dist-packages (from gunicorn->mlflow) (57.4.0)\n",
            "Requirement already satisfied: zipp>=0.5 in /usr/local/lib/python3.7/dist-packages (from importlib-metadata->sqlalchemy->mlflow) (3.5.0)\n",
            "Requirement already satisfied: pyparsing>=2.0.2 in /usr/local/lib/python3.7/dist-packages (from packaging->mlflow) (2.4.7)\n",
            "Requirement already satisfied: prometheus-client in /usr/local/lib/python3.7/dist-packages (from prometheus-flask-exporter->mlflow) (0.11.0)\n",
            "Requirement already satisfied: utils in /usr/local/lib/python3.7/dist-packages (1.0.1)\n"
          ],
          "name": "stdout"
        }
      ]
    },
    {
      "cell_type": "markdown",
      "metadata": {
        "id": "IeZZAKvpJQKg"
      },
      "source": [
        "# 1. Introdução"
      ]
    },
    {
      "cell_type": "markdown",
      "metadata": {
        "id": "u04EKsdnJWfN"
      },
      "source": [
        "Este Notebook busca dar continuidade à análise do dataset estudado no primeiro projeto. Lá, exploramos e tratamos um dataset relacionado a competições de powerlifting, sobre o qual foi realizado um pré-processeamento e uma análise descritiva de dados. \n",
        "\n",
        "Neste projeto, daremos prosseguimento a isso aplicando a ideia de *predição* dos dados. \n",
        "\n",
        "Os problemas de predição aparecem quando queremos descobrir um atributo desconhecido de um registro a partir de outros atributos desse registro. Esses problemas são, principalmente, divididos em duas categorias: problemas de *classificação* e problemas de *regressão*. Na *classificação*, o objetivo é predizer um atributo categórico de um registro, como o sexo de um indivíduo ou a espécie de um animal, por exemplo, enquanto que, na *regressão*, queremos prever um atributo contínuo, como a altura ou o peso de uma pessoa.\n",
        "\n",
        "A partir do dataset observado, portanto, vamos aplicar o conceito de regressão ao atributo `BodyweightKg` (o peso corporal do competidor). Vamos treinar alguns modelos a partir de variados algoritmos de *machine learning* para realizar a predição dessa coluna e avaliar a performance de cada um desses modelos.\n",
        "\n",
        "O dataframe que será utilizado na predição é uma amostra do dataset original. Para a previsão, serão utilizadas as colunas `Sex`, o sexo do competidor; `Age`, a idade do competidor; `Best3SquatKg`, a melhor tentativa dentre as 3 no agachamento; `Best3SBenchKg`, a melhor tentativa dentre as 3 no supino; e `Best3DeadliftKg`, a melhor tentativa dentre as 3 no levantamento terra."
      ]
    },
    {
      "cell_type": "markdown",
      "metadata": {
        "id": "vCc8s_OlK5Y2"
      },
      "source": [
        "#### Importação do Dataframe"
      ]
    },
    {
      "cell_type": "code",
      "metadata": {
        "colab": {
          "base_uri": "https://localhost:8080/",
          "height": 0
        },
        "id": "f0FkTASELFSB",
        "outputId": "3cf59848-50ec-4317-8ded-9f5b5b9fa334"
      },
      "source": [
        "df=pd.read_csv('https://raw.githubusercontent.com/RafaelBNN/datasets/main/powerlifting_final.csv')\n",
        "\n",
        "df.head()"
      ],
      "execution_count": 3,
      "outputs": [
        {
          "output_type": "stream",
          "text": [
            "/usr/local/lib/python3.7/dist-packages/IPython/core/interactiveshell.py:2718: DtypeWarning: Columns (24) have mixed types.Specify dtype option on import or set low_memory=False.\n",
            "  interactivity=interactivity, compiler=compiler, result=result)\n"
          ],
          "name": "stderr"
        },
        {
          "output_type": "execute_result",
          "data": {
            "text/html": [
              "<div>\n",
              "<style scoped>\n",
              "    .dataframe tbody tr th:only-of-type {\n",
              "        vertical-align: middle;\n",
              "    }\n",
              "\n",
              "    .dataframe tbody tr th {\n",
              "        vertical-align: top;\n",
              "    }\n",
              "\n",
              "    .dataframe thead th {\n",
              "        text-align: right;\n",
              "    }\n",
              "</style>\n",
              "<table border=\"1\" class=\"dataframe\">\n",
              "  <thead>\n",
              "    <tr style=\"text-align: right;\">\n",
              "      <th></th>\n",
              "      <th>Unnamed: 0</th>\n",
              "      <th>Unnamed: 0.1</th>\n",
              "      <th>Name</th>\n",
              "      <th>Sex</th>\n",
              "      <th>Event</th>\n",
              "      <th>Equipment</th>\n",
              "      <th>Age</th>\n",
              "      <th>AgeClass</th>\n",
              "      <th>Division</th>\n",
              "      <th>BodyweightKg</th>\n",
              "      <th>WeightClassKg</th>\n",
              "      <th>Squat1Kg</th>\n",
              "      <th>Squat2Kg</th>\n",
              "      <th>Squat3Kg</th>\n",
              "      <th>Best3SquatKg</th>\n",
              "      <th>Bench1Kg</th>\n",
              "      <th>Bench2Kg</th>\n",
              "      <th>Bench3Kg</th>\n",
              "      <th>Best3BenchKg</th>\n",
              "      <th>Deadlift1Kg</th>\n",
              "      <th>Deadlift2Kg</th>\n",
              "      <th>Deadlift3Kg</th>\n",
              "      <th>Best3DeadliftKg</th>\n",
              "      <th>TotalKg</th>\n",
              "      <th>Place</th>\n",
              "      <th>Wilks</th>\n",
              "      <th>McCulloch</th>\n",
              "      <th>Glossbrenner</th>\n",
              "      <th>IPFPoints</th>\n",
              "      <th>Tested</th>\n",
              "      <th>Country</th>\n",
              "      <th>Federation</th>\n",
              "      <th>Date</th>\n",
              "      <th>MeetCountry</th>\n",
              "      <th>MeetState</th>\n",
              "      <th>MeetName</th>\n",
              "      <th>Best3SquatKg_norm</th>\n",
              "      <th>Best3BenchKg_norm</th>\n",
              "      <th>Best3DeadliftKg_norm</th>\n",
              "      <th>TotalKg_norm</th>\n",
              "      <th>BodyweightKg_norm</th>\n",
              "      <th>IPFPoints_norm</th>\n",
              "      <th>TotalKg_disc</th>\n",
              "      <th>lof_outlier</th>\n",
              "      <th>Age_disc</th>\n",
              "    </tr>\n",
              "  </thead>\n",
              "  <tbody>\n",
              "    <tr>\n",
              "      <th>0</th>\n",
              "      <td>0</td>\n",
              "      <td>692083</td>\n",
              "      <td>Hayden Fulwood</td>\n",
              "      <td>1</td>\n",
              "      <td>SBD</td>\n",
              "      <td>Raw</td>\n",
              "      <td>18.000000</td>\n",
              "      <td>18-19</td>\n",
              "      <td>MR-T3</td>\n",
              "      <td>88.0</td>\n",
              "      <td>90</td>\n",
              "      <td>NaN</td>\n",
              "      <td>NaN</td>\n",
              "      <td>NaN</td>\n",
              "      <td>167.50</td>\n",
              "      <td>NaN</td>\n",
              "      <td>NaN</td>\n",
              "      <td>NaN</td>\n",
              "      <td>122.50</td>\n",
              "      <td>NaN</td>\n",
              "      <td>NaN</td>\n",
              "      <td>NaN</td>\n",
              "      <td>227.50</td>\n",
              "      <td>517.50</td>\n",
              "      <td>1</td>\n",
              "      <td>334.25</td>\n",
              "      <td>354.31</td>\n",
              "      <td>322.27</td>\n",
              "      <td>482.79</td>\n",
              "      <td>Yes</td>\n",
              "      <td>USA</td>\n",
              "      <td>USAPL</td>\n",
              "      <td>2013-04-27</td>\n",
              "      <td>USA</td>\n",
              "      <td>AL</td>\n",
              "      <td>S.E HS State Wars</td>\n",
              "      <td>-0.385417</td>\n",
              "      <td>-0.528924</td>\n",
              "      <td>0.080000</td>\n",
              "      <td>-0.156780</td>\n",
              "      <td>-0.411065</td>\n",
              "      <td>-0.206464</td>\n",
              "      <td>(507.5, 576.06]</td>\n",
              "      <td>1</td>\n",
              "      <td>(15.9, 19.6]</td>\n",
              "    </tr>\n",
              "    <tr>\n",
              "      <th>1</th>\n",
              "      <td>1</td>\n",
              "      <td>621012</td>\n",
              "      <td>Jozef Slimák</td>\n",
              "      <td>1</td>\n",
              "      <td>B</td>\n",
              "      <td>Multi-ply</td>\n",
              "      <td>46.000000</td>\n",
              "      <td>45-49</td>\n",
              "      <td>M-M2</td>\n",
              "      <td>82.2</td>\n",
              "      <td>82.5</td>\n",
              "      <td>NaN</td>\n",
              "      <td>NaN</td>\n",
              "      <td>NaN</td>\n",
              "      <td>NaN</td>\n",
              "      <td>165.0</td>\n",
              "      <td>180.0</td>\n",
              "      <td>-190.0</td>\n",
              "      <td>180.00</td>\n",
              "      <td>NaN</td>\n",
              "      <td>NaN</td>\n",
              "      <td>NaN</td>\n",
              "      <td>NaN</td>\n",
              "      <td>180.00</td>\n",
              "      <td>1</td>\n",
              "      <td>120.85</td>\n",
              "      <td>129.06</td>\n",
              "      <td>116.68</td>\n",
              "      <td>571.78</td>\n",
              "      <td>NaN</td>\n",
              "      <td>Slovakia</td>\n",
              "      <td>WPC</td>\n",
              "      <td>2012-11-06</td>\n",
              "      <td>USA</td>\n",
              "      <td>NV</td>\n",
              "      <td>World Championships</td>\n",
              "      <td>NaN</td>\n",
              "      <td>-0.280420</td>\n",
              "      <td>NaN</td>\n",
              "      <td>-0.728814</td>\n",
              "      <td>-0.464106</td>\n",
              "      <td>-0.037484</td>\n",
              "      <td>(142.5, 202.5]</td>\n",
              "      <td>1</td>\n",
              "      <td>(45.5, 49.2]</td>\n",
              "    </tr>\n",
              "    <tr>\n",
              "      <th>2</th>\n",
              "      <td>2</td>\n",
              "      <td>164449</td>\n",
              "      <td>Chase Garrett</td>\n",
              "      <td>1</td>\n",
              "      <td>D</td>\n",
              "      <td>Raw</td>\n",
              "      <td>14.000000</td>\n",
              "      <td>13-15</td>\n",
              "      <td>Teenage 13-15</td>\n",
              "      <td>44.0</td>\n",
              "      <td>44</td>\n",
              "      <td>NaN</td>\n",
              "      <td>NaN</td>\n",
              "      <td>NaN</td>\n",
              "      <td>NaN</td>\n",
              "      <td>NaN</td>\n",
              "      <td>NaN</td>\n",
              "      <td>NaN</td>\n",
              "      <td>NaN</td>\n",
              "      <td>NaN</td>\n",
              "      <td>NaN</td>\n",
              "      <td>NaN</td>\n",
              "      <td>70.31</td>\n",
              "      <td>70.31</td>\n",
              "      <td>1</td>\n",
              "      <td>83.29</td>\n",
              "      <td>98.28</td>\n",
              "      <td>82.94</td>\n",
              "      <td>212.28</td>\n",
              "      <td>NaN</td>\n",
              "      <td>NaN</td>\n",
              "      <td>SPF</td>\n",
              "      <td>2008-12-06</td>\n",
              "      <td>USA</td>\n",
              "      <td>NaN</td>\n",
              "      <td>Body by George Classic</td>\n",
              "      <td>NaN</td>\n",
              "      <td>NaN</td>\n",
              "      <td>-0.758347</td>\n",
              "      <td>-0.914729</td>\n",
              "      <td>-0.813443</td>\n",
              "      <td>-0.720126</td>\n",
              "      <td>(19.999, 142.5]</td>\n",
              "      <td>1</td>\n",
              "      <td>(12.2, 15.9]</td>\n",
              "    </tr>\n",
              "    <tr>\n",
              "      <th>3</th>\n",
              "      <td>3</td>\n",
              "      <td>353419</td>\n",
              "      <td>Edgar Rodea</td>\n",
              "      <td>1</td>\n",
              "      <td>SBD</td>\n",
              "      <td>Single-ply</td>\n",
              "      <td>27.995064</td>\n",
              "      <td>NaN</td>\n",
              "      <td>Boys</td>\n",
              "      <td>92.9</td>\n",
              "      <td>99.7</td>\n",
              "      <td>NaN</td>\n",
              "      <td>NaN</td>\n",
              "      <td>NaN</td>\n",
              "      <td>204.12</td>\n",
              "      <td>NaN</td>\n",
              "      <td>NaN</td>\n",
              "      <td>NaN</td>\n",
              "      <td>129.27</td>\n",
              "      <td>NaN</td>\n",
              "      <td>NaN</td>\n",
              "      <td>NaN</td>\n",
              "      <td>185.97</td>\n",
              "      <td>519.36</td>\n",
              "      <td>1</td>\n",
              "      <td>326.42</td>\n",
              "      <td>326.42</td>\n",
              "      <td>314.34</td>\n",
              "      <td>420.04</td>\n",
              "      <td>Yes</td>\n",
              "      <td>NaN</td>\n",
              "      <td>THSPA</td>\n",
              "      <td>2017-01-28</td>\n",
              "      <td>USA</td>\n",
              "      <td>TX</td>\n",
              "      <td>Santo Meet</td>\n",
              "      <td>-0.232833</td>\n",
              "      <td>-0.499665</td>\n",
              "      <td>-0.141493</td>\n",
              "      <td>-0.153627</td>\n",
              "      <td>-0.366255</td>\n",
              "      <td>-0.325618</td>\n",
              "      <td>(507.5, 576.06]</td>\n",
              "      <td>1</td>\n",
              "      <td>(27.0, 30.7]</td>\n",
              "    </tr>\n",
              "    <tr>\n",
              "      <th>4</th>\n",
              "      <td>4</td>\n",
              "      <td>128144</td>\n",
              "      <td>K. Kaufman</td>\n",
              "      <td>1</td>\n",
              "      <td>B</td>\n",
              "      <td>Raw</td>\n",
              "      <td>46.228441</td>\n",
              "      <td>NaN</td>\n",
              "      <td>Open</td>\n",
              "      <td>90.0</td>\n",
              "      <td>90</td>\n",
              "      <td>NaN</td>\n",
              "      <td>NaN</td>\n",
              "      <td>NaN</td>\n",
              "      <td>NaN</td>\n",
              "      <td>NaN</td>\n",
              "      <td>NaN</td>\n",
              "      <td>NaN</td>\n",
              "      <td>145.15</td>\n",
              "      <td>NaN</td>\n",
              "      <td>NaN</td>\n",
              "      <td>NaN</td>\n",
              "      <td>NaN</td>\n",
              "      <td>145.15</td>\n",
              "      <td>6</td>\n",
              "      <td>92.66</td>\n",
              "      <td>92.66</td>\n",
              "      <td>89.30</td>\n",
              "      <td>558.46</td>\n",
              "      <td>NaN</td>\n",
              "      <td>NaN</td>\n",
              "      <td>USPF</td>\n",
              "      <td>1979-12-08</td>\n",
              "      <td>USA</td>\n",
              "      <td>ND</td>\n",
              "      <td>3rd Annual Midwestern Bench Press Championships</td>\n",
              "      <td>NaN</td>\n",
              "      <td>-0.431035</td>\n",
              "      <td>NaN</td>\n",
              "      <td>-0.787881</td>\n",
              "      <td>-0.392775</td>\n",
              "      <td>-0.062777</td>\n",
              "      <td>(142.5, 202.5]</td>\n",
              "      <td>1</td>\n",
              "      <td>(45.5, 49.2]</td>\n",
              "    </tr>\n",
              "  </tbody>\n",
              "</table>\n",
              "</div>"
            ],
            "text/plain": [
              "   Unnamed: 0  Unnamed: 0.1  ... lof_outlier      Age_disc\n",
              "0           0        692083  ...           1  (15.9, 19.6]\n",
              "1           1        621012  ...           1  (45.5, 49.2]\n",
              "2           2        164449  ...           1  (12.2, 15.9]\n",
              "3           3        353419  ...           1  (27.0, 30.7]\n",
              "4           4        128144  ...           1  (45.5, 49.2]\n",
              "\n",
              "[5 rows x 45 columns]"
            ]
          },
          "metadata": {
            "tags": []
          },
          "execution_count": 3
        }
      ]
    },
    {
      "cell_type": "code",
      "metadata": {
        "colab": {
          "base_uri": "https://localhost:8080/"
        },
        "id": "8HwR4r-3T9M9",
        "outputId": "72b42610-369d-4786-c45b-6e88c4d24123"
      },
      "source": [
        "df.dtypes"
      ],
      "execution_count": 4,
      "outputs": [
        {
          "output_type": "execute_result",
          "data": {
            "text/plain": [
              "Unnamed: 0                int64\n",
              "Unnamed: 0.1              int64\n",
              "Name                     object\n",
              "Sex                       int64\n",
              "Event                    object\n",
              "Equipment                object\n",
              "Age                     float64\n",
              "AgeClass                 object\n",
              "Division                 object\n",
              "BodyweightKg            float64\n",
              "WeightClassKg            object\n",
              "Squat1Kg                float64\n",
              "Squat2Kg                float64\n",
              "Squat3Kg                float64\n",
              "Best3SquatKg            float64\n",
              "Bench1Kg                float64\n",
              "Bench2Kg                float64\n",
              "Bench3Kg                float64\n",
              "Best3BenchKg            float64\n",
              "Deadlift1Kg             float64\n",
              "Deadlift2Kg             float64\n",
              "Deadlift3Kg             float64\n",
              "Best3DeadliftKg         float64\n",
              "TotalKg                 float64\n",
              "Place                    object\n",
              "Wilks                   float64\n",
              "McCulloch               float64\n",
              "Glossbrenner            float64\n",
              "IPFPoints               float64\n",
              "Tested                   object\n",
              "Country                  object\n",
              "Federation               object\n",
              "Date                     object\n",
              "MeetCountry              object\n",
              "MeetState                object\n",
              "MeetName                 object\n",
              "Best3SquatKg_norm       float64\n",
              "Best3BenchKg_norm       float64\n",
              "Best3DeadliftKg_norm    float64\n",
              "TotalKg_norm            float64\n",
              "BodyweightKg_norm       float64\n",
              "IPFPoints_norm          float64\n",
              "TotalKg_disc             object\n",
              "lof_outlier               int64\n",
              "Age_disc                 object\n",
              "dtype: object"
            ]
          },
          "metadata": {
            "tags": []
          },
          "execution_count": 4
        }
      ]
    },
    {
      "cell_type": "code",
      "metadata": {
        "colab": {
          "base_uri": "https://localhost:8080/",
          "height": 0
        },
        "id": "dyaymTqWT0lT",
        "outputId": "535f2cfc-9a45-4987-eb75-6575d2521dd8"
      },
      "source": [
        "# As colunas que serao utilizadas\n",
        "df = df[['Sex','Age','Best3SquatKg','Best3BenchKg','Best3DeadliftKg','BodyweightKg']]\n",
        "\n",
        "df.head()"
      ],
      "execution_count": 5,
      "outputs": [
        {
          "output_type": "execute_result",
          "data": {
            "text/html": [
              "<div>\n",
              "<style scoped>\n",
              "    .dataframe tbody tr th:only-of-type {\n",
              "        vertical-align: middle;\n",
              "    }\n",
              "\n",
              "    .dataframe tbody tr th {\n",
              "        vertical-align: top;\n",
              "    }\n",
              "\n",
              "    .dataframe thead th {\n",
              "        text-align: right;\n",
              "    }\n",
              "</style>\n",
              "<table border=\"1\" class=\"dataframe\">\n",
              "  <thead>\n",
              "    <tr style=\"text-align: right;\">\n",
              "      <th></th>\n",
              "      <th>Sex</th>\n",
              "      <th>Age</th>\n",
              "      <th>Best3SquatKg</th>\n",
              "      <th>Best3BenchKg</th>\n",
              "      <th>Best3DeadliftKg</th>\n",
              "      <th>BodyweightKg</th>\n",
              "    </tr>\n",
              "  </thead>\n",
              "  <tbody>\n",
              "    <tr>\n",
              "      <th>0</th>\n",
              "      <td>1</td>\n",
              "      <td>18.000000</td>\n",
              "      <td>167.50</td>\n",
              "      <td>122.50</td>\n",
              "      <td>227.50</td>\n",
              "      <td>88.0</td>\n",
              "    </tr>\n",
              "    <tr>\n",
              "      <th>1</th>\n",
              "      <td>1</td>\n",
              "      <td>46.000000</td>\n",
              "      <td>NaN</td>\n",
              "      <td>180.00</td>\n",
              "      <td>NaN</td>\n",
              "      <td>82.2</td>\n",
              "    </tr>\n",
              "    <tr>\n",
              "      <th>2</th>\n",
              "      <td>1</td>\n",
              "      <td>14.000000</td>\n",
              "      <td>NaN</td>\n",
              "      <td>NaN</td>\n",
              "      <td>70.31</td>\n",
              "      <td>44.0</td>\n",
              "    </tr>\n",
              "    <tr>\n",
              "      <th>3</th>\n",
              "      <td>1</td>\n",
              "      <td>27.995064</td>\n",
              "      <td>204.12</td>\n",
              "      <td>129.27</td>\n",
              "      <td>185.97</td>\n",
              "      <td>92.9</td>\n",
              "    </tr>\n",
              "    <tr>\n",
              "      <th>4</th>\n",
              "      <td>1</td>\n",
              "      <td>46.228441</td>\n",
              "      <td>NaN</td>\n",
              "      <td>145.15</td>\n",
              "      <td>NaN</td>\n",
              "      <td>90.0</td>\n",
              "    </tr>\n",
              "  </tbody>\n",
              "</table>\n",
              "</div>"
            ],
            "text/plain": [
              "   Sex        Age  Best3SquatKg  Best3BenchKg  Best3DeadliftKg  BodyweightKg\n",
              "0    1  18.000000        167.50        122.50           227.50          88.0\n",
              "1    1  46.000000           NaN        180.00              NaN          82.2\n",
              "2    1  14.000000           NaN           NaN            70.31          44.0\n",
              "3    1  27.995064        204.12        129.27           185.97          92.9\n",
              "4    1  46.228441           NaN        145.15              NaN          90.0"
            ]
          },
          "metadata": {
            "tags": []
          },
          "execution_count": 5
        }
      ]
    },
    {
      "cell_type": "code",
      "metadata": {
        "colab": {
          "base_uri": "https://localhost:8080/"
        },
        "id": "62X1SWU3VBmy",
        "outputId": "d7eecf39-3484-4afb-9d68-cb3cfeb0a647"
      },
      "source": [
        "len(df)"
      ],
      "execution_count": 6,
      "outputs": [
        {
          "output_type": "execute_result",
          "data": {
            "text/plain": [
              "16676"
            ]
          },
          "metadata": {
            "tags": []
          },
          "execution_count": 6
        }
      ]
    },
    {
      "cell_type": "code",
      "metadata": {
        "colab": {
          "base_uri": "https://localhost:8080/"
        },
        "id": "hiI6H2UxU_J-",
        "outputId": "893c7b04-25e4-4015-e5ca-ddabf0392df5"
      },
      "source": [
        "df.isnull().sum(axis = 0)/len(df)"
      ],
      "execution_count": 7,
      "outputs": [
        {
          "output_type": "execute_result",
          "data": {
            "text/plain": [
              "Sex                0.000000\n",
              "Age                0.000000\n",
              "Best3SquatKg       0.243404\n",
              "Best3BenchKg       0.042756\n",
              "Best3DeadliftKg    0.190094\n",
              "BodyweightKg       0.005937\n",
              "dtype: float64"
            ]
          },
          "metadata": {
            "tags": []
          },
          "execution_count": 7
        }
      ]
    },
    {
      "cell_type": "code",
      "metadata": {
        "id": "jcQ_lHLCUqv9",
        "colab": {
          "base_uri": "https://localhost:8080/"
        },
        "outputId": "a96db326-2293-4d52-f350-920e7e968720"
      },
      "source": [
        "# Para simplificar, vamos executar um dropna sobre o dataframe\n",
        "\n",
        "df = df.dropna(subset=['Sex','Age','Best3SquatKg','Best3BenchKg','Best3DeadliftKg','BodyweightKg'])\n",
        "\n",
        "len(df)"
      ],
      "execution_count": 8,
      "outputs": [
        {
          "output_type": "execute_result",
          "data": {
            "text/plain": [
              "12476"
            ]
          },
          "metadata": {
            "tags": []
          },
          "execution_count": 8
        }
      ]
    },
    {
      "cell_type": "code",
      "metadata": {
        "id": "9vA72jwD9nVQ"
      },
      "source": [
        "# Alem disso, vamos normalizar as colunas que serao usadas, pois alguns algoritmos de previsao preferem dessa forma\n",
        "\n",
        "df['Age'] = ((df['Age'] - df['Age'].min()) / (df['Age'].max() - df['Age'].min())*2) -1\n",
        "df['Best3SquatKg'] = ((df['Best3SquatKg'] - df['Best3SquatKg'].min()) / (df['Best3SquatKg'].max() - df['Best3SquatKg'].min())*2) -1\n",
        "df['Best3BenchKg'] = ((df['Best3BenchKg'] - df['Best3BenchKg'].min()) / (df['Best3BenchKg'].max() - df['Best3BenchKg'].min())*2) -1\n",
        "df['Best3DeadliftKg'] = ((df['Best3DeadliftKg'] - df['Best3DeadliftKg'].min()) / (df['Best3DeadliftKg'].max() - df['Best3DeadliftKg'].min())*2) -1\n"
      ],
      "execution_count": 9,
      "outputs": []
    },
    {
      "cell_type": "markdown",
      "metadata": {
        "id": "6Smp1tzfK8Cn"
      },
      "source": [
        "# 2. Conjuntos de treinamento, validação e teste"
      ]
    },
    {
      "cell_type": "markdown",
      "metadata": {
        "id": "68WjpLH7LClo"
      },
      "source": [
        "Ao trabalhar com modelos de *machine learning*, é imprescindível que seja feita a divisão dos dados entre conjunto de treinamento, conjunto de validação e conjunto de teste (*training set*, *validation set* e *test set*). Essa divisão contribui para a avaliação de como o modelo está generalizando os dados a serem previstos e nos ajuda a identificar problemas como *overfitting*.\n",
        "\n",
        "Aqui, vamos dividir o dataset utilizando a função `train_test_split` da biblioteca `sklearn`."
      ]
    },
    {
      "cell_type": "code",
      "metadata": {
        "id": "M96VO52deW79"
      },
      "source": [
        "from sklearn.model_selection import train_test_split\n",
        "\n",
        "# Os dataframes 'x' contem as colunas que serao utilizadas para realizar a predicao,\n",
        "# e os dataframes 'y' contem a coluna sobre a qual sera realizada a predicao.\n",
        "\n",
        "x_df = df.drop('BodyweightKg', axis=1)\n",
        "y_df = df['BodyweightKg']\n",
        "\n",
        "# Por padrao, o test set sera formado por 25% dos dados fornecidos, e o training set, 75%.\n",
        "# Alem disso, o parametro random_state permite que a escolha dos conjuntos de treinamento e teste\n",
        "# seja a mesma sempre que executarmos esta linha. \n",
        "\n",
        "x_train, x_test, y_train, y_test = train_test_split(x_df,y_df,random_state=10) "
      ],
      "execution_count": 10,
      "outputs": []
    },
    {
      "cell_type": "code",
      "metadata": {
        "colab": {
          "base_uri": "https://localhost:8080/",
          "height": 0
        },
        "id": "Bp6lL-xcg_vJ",
        "outputId": "a8b78caf-80ce-488c-c520-45d1c04e49e1"
      },
      "source": [
        "x_train.head()"
      ],
      "execution_count": 11,
      "outputs": [
        {
          "output_type": "execute_result",
          "data": {
            "text/html": [
              "<div>\n",
              "<style scoped>\n",
              "    .dataframe tbody tr th:only-of-type {\n",
              "        vertical-align: middle;\n",
              "    }\n",
              "\n",
              "    .dataframe tbody tr th {\n",
              "        vertical-align: top;\n",
              "    }\n",
              "\n",
              "    .dataframe thead th {\n",
              "        text-align: right;\n",
              "    }\n",
              "</style>\n",
              "<table border=\"1\" class=\"dataframe\">\n",
              "  <thead>\n",
              "    <tr style=\"text-align: right;\">\n",
              "      <th></th>\n",
              "      <th>Sex</th>\n",
              "      <th>Age</th>\n",
              "      <th>Best3SquatKg</th>\n",
              "      <th>Best3BenchKg</th>\n",
              "      <th>Best3DeadliftKg</th>\n",
              "    </tr>\n",
              "  </thead>\n",
              "  <tbody>\n",
              "    <tr>\n",
              "      <th>10825</th>\n",
              "      <td>0</td>\n",
              "      <td>-0.586207</td>\n",
              "      <td>-0.635417</td>\n",
              "      <td>-0.738462</td>\n",
              "      <td>-0.352941</td>\n",
              "    </tr>\n",
              "    <tr>\n",
              "      <th>5873</th>\n",
              "      <td>1</td>\n",
              "      <td>-0.710345</td>\n",
              "      <td>-0.041667</td>\n",
              "      <td>0.076923</td>\n",
              "      <td>0.279412</td>\n",
              "    </tr>\n",
              "    <tr>\n",
              "      <th>1923</th>\n",
              "      <td>1</td>\n",
              "      <td>-0.451811</td>\n",
              "      <td>-0.125000</td>\n",
              "      <td>-0.123077</td>\n",
              "      <td>-0.058824</td>\n",
              "    </tr>\n",
              "    <tr>\n",
              "      <th>12586</th>\n",
              "      <td>1</td>\n",
              "      <td>-0.650272</td>\n",
              "      <td>-0.166708</td>\n",
              "      <td>-0.534031</td>\n",
              "      <td>-0.057176</td>\n",
              "    </tr>\n",
              "    <tr>\n",
              "      <th>13777</th>\n",
              "      <td>1</td>\n",
              "      <td>0.006897</td>\n",
              "      <td>-0.034417</td>\n",
              "      <td>-0.296800</td>\n",
              "      <td>0.236294</td>\n",
              "    </tr>\n",
              "  </tbody>\n",
              "</table>\n",
              "</div>"
            ],
            "text/plain": [
              "       Sex       Age  Best3SquatKg  Best3BenchKg  Best3DeadliftKg\n",
              "10825    0 -0.586207     -0.635417     -0.738462        -0.352941\n",
              "5873     1 -0.710345     -0.041667      0.076923         0.279412\n",
              "1923     1 -0.451811     -0.125000     -0.123077        -0.058824\n",
              "12586    1 -0.650272     -0.166708     -0.534031        -0.057176\n",
              "13777    1  0.006897     -0.034417     -0.296800         0.236294"
            ]
          },
          "metadata": {
            "tags": []
          },
          "execution_count": 11
        }
      ]
    },
    {
      "cell_type": "code",
      "metadata": {
        "colab": {
          "base_uri": "https://localhost:8080/"
        },
        "id": "thqb5agPhCYB",
        "outputId": "7448884e-32cc-46f0-f8cf-1a8eafd4a2fe"
      },
      "source": [
        "y_train.head()"
      ],
      "execution_count": 12,
      "outputs": [
        {
          "output_type": "execute_result",
          "data": {
            "text/plain": [
              "10825     77.00\n",
              "5873      89.95\n",
              "1923      89.30\n",
              "12586     53.80\n",
              "13777    108.64\n",
              "Name: BodyweightKg, dtype: float64"
            ]
          },
          "metadata": {
            "tags": []
          },
          "execution_count": 12
        }
      ]
    },
    {
      "cell_type": "code",
      "metadata": {
        "colab": {
          "base_uri": "https://localhost:8080/"
        },
        "id": "sA8psjNOg3y5",
        "outputId": "2b15a2e0-8d1f-4dab-ee96-351db8f9e85c"
      },
      "source": [
        "len(x_train), len(y_train), len(x_test), len(y_test)"
      ],
      "execution_count": 13,
      "outputs": [
        {
          "output_type": "execute_result",
          "data": {
            "text/plain": [
              "(9357, 9357, 3119, 3119)"
            ]
          },
          "metadata": {
            "tags": []
          },
          "execution_count": 13
        }
      ]
    },
    {
      "cell_type": "markdown",
      "metadata": {
        "id": "vDiB0xnsLFnr"
      },
      "source": [
        "# 3. Modelos Iniciais"
      ]
    },
    {
      "cell_type": "markdown",
      "metadata": {
        "id": "2FTNjM6BLLPC"
      },
      "source": [
        "Após a divisão do dataset, agora empeçaremos a previsão da coluna `BodyweightKg`. Vamos aplicar alguns algoritmos de regressão aos conjuntos de treinamento e teste e avaliar a performance de cada um dos modelos treinados."
      ]
    },
    {
      "cell_type": "markdown",
      "metadata": {
        "id": "U8w-DDptTK-Y"
      },
      "source": [
        "## *Autologging*"
      ]
    },
    {
      "cell_type": "markdown",
      "metadata": {
        "id": "1GZrJNgKTNxH"
      },
      "source": [
        "Antes de aplicar os algoritmos, porém, vamos chamar a função `mlflow.sklearn.autolog()`. Ela permite que os modelos sejam registrados automaticamente logo após sua execução utilizando a ferramenta *MLFlow*. Isso permite o rastreamento de como nosso programa está se comportando e como as predições evoluem ao longo do tempo.\n",
        "\n",
        "Ao registrar os modelos automaticamente, são guardados os paraâmetros e o score daquele modelo para serem avaliados no futuro."
      ]
    },
    {
      "cell_type": "code",
      "metadata": {
        "id": "xnPZIlbETNAB"
      },
      "source": [
        "mlflow.sklearn.autolog()"
      ],
      "execution_count": 14,
      "outputs": []
    },
    {
      "cell_type": "markdown",
      "metadata": {
        "id": "EDxsohxhpSb2"
      },
      "source": [
        "## Regressão Linear"
      ]
    },
    {
      "cell_type": "markdown",
      "metadata": {
        "id": "mVQlVK1Mh_Jt"
      },
      "source": [
        "O primeiro algoritmo e o mais simples que vamos aplicar vai ser a simples regressão linear. Esse algoritmo de regressão busca encontrar a melhor reta que se ajusta aos dados, ou seja, a reta que minimiza a soma dos resíduos."
      ]
    },
    {
      "cell_type": "code",
      "metadata": {
        "id": "5rdIolmcpapU",
        "colab": {
          "base_uri": "https://localhost:8080/"
        },
        "outputId": "0c82e1d4-e073-4755-d3ae-6e79c5a2696f"
      },
      "source": [
        "from sklearn.linear_model import LinearRegression\n",
        "\n",
        "modelo1 = LinearRegression()\n",
        "\n",
        "with mlflow.start_run() as run1:\n",
        "    modelo1.fit(x_train,y_train)\n",
        "    print(\"Logged data and model in run {}\".format(run1.info.run_id))\n",
        "\n",
        "y_pred1 = modelo1.predict(x_test)"
      ],
      "execution_count": 15,
      "outputs": [
        {
          "output_type": "stream",
          "text": [
            "2021/08/17 05:05:13 WARNING mlflow.utils.autologging_utils: MLflow autologging encountered a warning: \"/usr/local/lib/python3.7/dist-packages/mlflow/models/signature.py:129: UserWarning: Hint: Inferred schema contains integer column(s). Integer columns in Python cannot represent missing values. If your input data contains missing values at inference time, it will be encoded as floats and will cause a schema enforcement error. The best way to avoid this problem is to infer the model schema based on a realistic data sample (training dataset) that includes missing values. Alternatively, you can declare integer columns as doubles (float64) whenever these columns may have missing values. See `Handling Integers With Missing Values <https://www.mlflow.org/docs/latest/models.html#handling-integers-with-missing-values>`_ for more details.\"\n"
          ],
          "name": "stderr"
        },
        {
          "output_type": "stream",
          "text": [
            "Logged data and model in run adbc69061f084f74948e8a5da4ad3046\n"
          ],
          "name": "stdout"
        }
      ]
    },
    {
      "cell_type": "code",
      "metadata": {
        "colab": {
          "base_uri": "https://localhost:8080/"
        },
        "id": "nWW1sodUpsLU",
        "outputId": "a2d969b7-1dc1-4c3c-af4d-d3b6abb4faa0"
      },
      "source": [
        "from sklearn.metrics import mean_squared_error\n",
        "\n",
        "print('Mean squared error: %.2f' % mean_squared_error(y_test, y_pred1))"
      ],
      "execution_count": 16,
      "outputs": [
        {
          "output_type": "stream",
          "text": [
            "Mean squared error: 305.69\n"
          ],
          "name": "stdout"
        }
      ]
    },
    {
      "cell_type": "code",
      "metadata": {
        "colab": {
          "base_uri": "https://localhost:8080/"
        },
        "id": "IX4Kw_3SEhER",
        "outputId": "4fdfec88-d1b8-4cb5-e6a7-660b3321b40b"
      },
      "source": [
        "modelo1.score(x_test,y_test)"
      ],
      "execution_count": 17,
      "outputs": [
        {
          "output_type": "execute_result",
          "data": {
            "text/plain": [
              "0.42925550418604164"
            ]
          },
          "metadata": {
            "tags": []
          },
          "execution_count": 17
        }
      ]
    },
    {
      "cell_type": "markdown",
      "metadata": {
        "id": "iIfIXLh6hkos"
      },
      "source": [
        "## Decision Tree"
      ]
    },
    {
      "cell_type": "markdown",
      "metadata": {
        "id": "1P4h8egSKeux"
      },
      "source": [
        "Os algoritmos de árvore de decisão estão entre os algoritmos com melhor taxa de acurácia x explicabilidade. Ao passo que eles entregam uma acurácia considerável, esses algoritmos também têm uma boa taxa de interpretabilidade, o que significa que suas previsões são de fácil entendimento, diferente dos modelos que usam redes neurais, por exemplo.\n",
        "\n",
        "Vamos, então, aplicar o algoritmo `DecisionTreeRegressor` e avaliar sua performance."
      ]
    },
    {
      "cell_type": "code",
      "metadata": {
        "colab": {
          "base_uri": "https://localhost:8080/"
        },
        "id": "xZbEfoK5MOTJ",
        "outputId": "51ef3805-0a4f-401b-af12-14f0cee2b46c"
      },
      "source": [
        "from sklearn import tree\n",
        "\n",
        "modelo2 = tree.DecisionTreeRegressor(random_state=10)\n",
        "\n",
        "with mlflow.start_run() as run2:\n",
        "    modelo2.fit(x_train,y_train)\n",
        "    print(\"Logged data and model in run {}\".format(run2.info.run_id))\n",
        "\n",
        "y_pred2 = modelo2.predict(x_test)"
      ],
      "execution_count": 18,
      "outputs": [
        {
          "output_type": "stream",
          "text": [
            "2021/08/17 05:05:14 WARNING mlflow.utils.autologging_utils: MLflow autologging encountered a warning: \"/usr/local/lib/python3.7/dist-packages/mlflow/models/signature.py:129: UserWarning: Hint: Inferred schema contains integer column(s). Integer columns in Python cannot represent missing values. If your input data contains missing values at inference time, it will be encoded as floats and will cause a schema enforcement error. The best way to avoid this problem is to infer the model schema based on a realistic data sample (training dataset) that includes missing values. Alternatively, you can declare integer columns as doubles (float64) whenever these columns may have missing values. See `Handling Integers With Missing Values <https://www.mlflow.org/docs/latest/models.html#handling-integers-with-missing-values>`_ for more details.\"\n"
          ],
          "name": "stderr"
        },
        {
          "output_type": "stream",
          "text": [
            "Logged data and model in run 9a3b86e49a184675a095aea55fe6a065\n"
          ],
          "name": "stdout"
        }
      ]
    },
    {
      "cell_type": "code",
      "metadata": {
        "colab": {
          "base_uri": "https://localhost:8080/"
        },
        "id": "jzipcNHUMkrN",
        "outputId": "6a420f4b-9b82-4e30-e5d0-ebde0f5b5cea"
      },
      "source": [
        "modelo2.score(x_test,y_test) # overfitting"
      ],
      "execution_count": 19,
      "outputs": [
        {
          "output_type": "execute_result",
          "data": {
            "text/plain": [
              "-0.1190605397850142"
            ]
          },
          "metadata": {
            "tags": []
          },
          "execution_count": 19
        }
      ]
    },
    {
      "cell_type": "markdown",
      "metadata": {
        "id": "3MYcri16aQ3v"
      },
      "source": [
        "Perceba que o modelo treinado acima não obteve um bom desempenho. Isso ocorreu porque o atributo `max_depth` da classe `DecisionTreeRegressor` é, por padrão, a maior profundidade possível, o que, nesse caso, levou a um overfitting.\n",
        "\n",
        "Podemos, então, alterar o valor desse e de outros atributos para tentar obter uma performance mais próxima ao ideal."
      ]
    },
    {
      "cell_type": "code",
      "metadata": {
        "colab": {
          "base_uri": "https://localhost:8080/"
        },
        "id": "bZlqVx7jPNhD",
        "outputId": "35a3d53d-eb94-4643-b2a9-de0b54839a37"
      },
      "source": [
        "# Aqui podemos alterar o atributo max_depth e o atributo min_split_samples (default=2), resultando num score diferente\n",
        "modelo22 = tree.DecisionTreeRegressor(max_depth=5, random_state=10) \n",
        "\n",
        "with mlflow.start_run() as run22:\n",
        "    modelo22.fit(x_train,y_train)\n",
        "    print(\"Logged data and model in run {}\".format(run22.info.run_id))\n",
        "\n",
        "y_pred22 = modelo22.predict(x_test)"
      ],
      "execution_count": 20,
      "outputs": [
        {
          "output_type": "stream",
          "text": [
            "2021/08/17 05:05:14 WARNING mlflow.utils.autologging_utils: MLflow autologging encountered a warning: \"/usr/local/lib/python3.7/dist-packages/mlflow/models/signature.py:129: UserWarning: Hint: Inferred schema contains integer column(s). Integer columns in Python cannot represent missing values. If your input data contains missing values at inference time, it will be encoded as floats and will cause a schema enforcement error. The best way to avoid this problem is to infer the model schema based on a realistic data sample (training dataset) that includes missing values. Alternatively, you can declare integer columns as doubles (float64) whenever these columns may have missing values. See `Handling Integers With Missing Values <https://www.mlflow.org/docs/latest/models.html#handling-integers-with-missing-values>`_ for more details.\"\n"
          ],
          "name": "stderr"
        },
        {
          "output_type": "stream",
          "text": [
            "Logged data and model in run 95456caf547640ef863d264e3b8445a7\n"
          ],
          "name": "stdout"
        }
      ]
    },
    {
      "cell_type": "code",
      "metadata": {
        "colab": {
          "base_uri": "https://localhost:8080/"
        },
        "id": "_MYebshM-hIy",
        "outputId": "c05d2290-a85f-4fe7-a24c-0a4f477a70a3"
      },
      "source": [
        "modelo22.score(x_test,y_test)"
      ],
      "execution_count": 21,
      "outputs": [
        {
          "output_type": "execute_result",
          "data": {
            "text/plain": [
              "0.4250097031452772"
            ]
          },
          "metadata": {
            "tags": []
          },
          "execution_count": 21
        }
      ]
    },
    {
      "cell_type": "markdown",
      "metadata": {
        "id": "MKQK7-0WbolM"
      },
      "source": [
        "Abaixo aplicamos `cross_val_score` aos dois modelos treinados."
      ]
    },
    {
      "cell_type": "code",
      "metadata": {
        "colab": {
          "base_uri": "https://localhost:8080/"
        },
        "id": "e06U1X2Pgc0V",
        "outputId": "d12f2e96-64f0-4815-9b07-126153ea5cb2"
      },
      "source": [
        "from sklearn.model_selection import cross_val_score\n",
        "\n",
        "cross_val_score(modelo2, x_train, y_train, cv=10) # modelo com overfit"
      ],
      "execution_count": 22,
      "outputs": [
        {
          "output_type": "stream",
          "text": [
            "2021/08/17 05:05:14 INFO mlflow.utils.autologging_utils: Created MLflow autologging run with ID 'eb6c40a287074cbeb4fd9077c47a3198', which will track hyperparameters, performance metrics, model artifacts, and lineage information for the current sklearn workflow\n",
            "2021/08/17 05:05:14 WARNING mlflow.utils.autologging_utils: MLflow autologging encountered a warning: \"/usr/local/lib/python3.7/dist-packages/mlflow/models/signature.py:129: UserWarning: Hint: Inferred schema contains integer column(s). Integer columns in Python cannot represent missing values. If your input data contains missing values at inference time, it will be encoded as floats and will cause a schema enforcement error. The best way to avoid this problem is to infer the model schema based on a realistic data sample (training dataset) that includes missing values. Alternatively, you can declare integer columns as doubles (float64) whenever these columns may have missing values. See `Handling Integers With Missing Values <https://www.mlflow.org/docs/latest/models.html#handling-integers-with-missing-values>`_ for more details.\"\n",
            "2021/08/17 05:05:14 INFO mlflow.utils.autologging_utils: Created MLflow autologging run with ID '2470a0934d044ca0b0cb0ac1c7f0fe82', which will track hyperparameters, performance metrics, model artifacts, and lineage information for the current sklearn workflow\n",
            "2021/08/17 05:05:14 WARNING mlflow.utils.autologging_utils: MLflow autologging encountered a warning: \"/usr/local/lib/python3.7/dist-packages/mlflow/models/signature.py:129: UserWarning: Hint: Inferred schema contains integer column(s). Integer columns in Python cannot represent missing values. If your input data contains missing values at inference time, it will be encoded as floats and will cause a schema enforcement error. The best way to avoid this problem is to infer the model schema based on a realistic data sample (training dataset) that includes missing values. Alternatively, you can declare integer columns as doubles (float64) whenever these columns may have missing values. See `Handling Integers With Missing Values <https://www.mlflow.org/docs/latest/models.html#handling-integers-with-missing-values>`_ for more details.\"\n",
            "2021/08/17 05:05:14 INFO mlflow.utils.autologging_utils: Created MLflow autologging run with ID '9c75f70e62a945dabeab04fcb9783c39', which will track hyperparameters, performance metrics, model artifacts, and lineage information for the current sklearn workflow\n",
            "2021/08/17 05:05:14 WARNING mlflow.utils.autologging_utils: MLflow autologging encountered a warning: \"/usr/local/lib/python3.7/dist-packages/mlflow/models/signature.py:129: UserWarning: Hint: Inferred schema contains integer column(s). Integer columns in Python cannot represent missing values. If your input data contains missing values at inference time, it will be encoded as floats and will cause a schema enforcement error. The best way to avoid this problem is to infer the model schema based on a realistic data sample (training dataset) that includes missing values. Alternatively, you can declare integer columns as doubles (float64) whenever these columns may have missing values. See `Handling Integers With Missing Values <https://www.mlflow.org/docs/latest/models.html#handling-integers-with-missing-values>`_ for more details.\"\n",
            "2021/08/17 05:05:14 INFO mlflow.utils.autologging_utils: Created MLflow autologging run with ID 'b41dae80160f400eaef21e5e7c0d0591', which will track hyperparameters, performance metrics, model artifacts, and lineage information for the current sklearn workflow\n",
            "2021/08/17 05:05:14 WARNING mlflow.utils.autologging_utils: MLflow autologging encountered a warning: \"/usr/local/lib/python3.7/dist-packages/mlflow/models/signature.py:129: UserWarning: Hint: Inferred schema contains integer column(s). Integer columns in Python cannot represent missing values. If your input data contains missing values at inference time, it will be encoded as floats and will cause a schema enforcement error. The best way to avoid this problem is to infer the model schema based on a realistic data sample (training dataset) that includes missing values. Alternatively, you can declare integer columns as doubles (float64) whenever these columns may have missing values. See `Handling Integers With Missing Values <https://www.mlflow.org/docs/latest/models.html#handling-integers-with-missing-values>`_ for more details.\"\n",
            "2021/08/17 05:05:14 INFO mlflow.utils.autologging_utils: Created MLflow autologging run with ID '58a18e95d37c452a850f1c7cfdb025a0', which will track hyperparameters, performance metrics, model artifacts, and lineage information for the current sklearn workflow\n",
            "2021/08/17 05:05:14 WARNING mlflow.utils.autologging_utils: MLflow autologging encountered a warning: \"/usr/local/lib/python3.7/dist-packages/mlflow/models/signature.py:129: UserWarning: Hint: Inferred schema contains integer column(s). Integer columns in Python cannot represent missing values. If your input data contains missing values at inference time, it will be encoded as floats and will cause a schema enforcement error. The best way to avoid this problem is to infer the model schema based on a realistic data sample (training dataset) that includes missing values. Alternatively, you can declare integer columns as doubles (float64) whenever these columns may have missing values. See `Handling Integers With Missing Values <https://www.mlflow.org/docs/latest/models.html#handling-integers-with-missing-values>`_ for more details.\"\n",
            "2021/08/17 05:05:14 INFO mlflow.utils.autologging_utils: Created MLflow autologging run with ID 'b58fc504f6274d3384a28fde06b22476', which will track hyperparameters, performance metrics, model artifacts, and lineage information for the current sklearn workflow\n",
            "2021/08/17 05:05:14 WARNING mlflow.utils.autologging_utils: MLflow autologging encountered a warning: \"/usr/local/lib/python3.7/dist-packages/mlflow/models/signature.py:129: UserWarning: Hint: Inferred schema contains integer column(s). Integer columns in Python cannot represent missing values. If your input data contains missing values at inference time, it will be encoded as floats and will cause a schema enforcement error. The best way to avoid this problem is to infer the model schema based on a realistic data sample (training dataset) that includes missing values. Alternatively, you can declare integer columns as doubles (float64) whenever these columns may have missing values. See `Handling Integers With Missing Values <https://www.mlflow.org/docs/latest/models.html#handling-integers-with-missing-values>`_ for more details.\"\n",
            "2021/08/17 05:05:14 INFO mlflow.utils.autologging_utils: Created MLflow autologging run with ID 'a8602d06a96d4a269f5a7ae42ab03e51', which will track hyperparameters, performance metrics, model artifacts, and lineage information for the current sklearn workflow\n",
            "2021/08/17 05:05:14 WARNING mlflow.utils.autologging_utils: MLflow autologging encountered a warning: \"/usr/local/lib/python3.7/dist-packages/mlflow/models/signature.py:129: UserWarning: Hint: Inferred schema contains integer column(s). Integer columns in Python cannot represent missing values. If your input data contains missing values at inference time, it will be encoded as floats and will cause a schema enforcement error. The best way to avoid this problem is to infer the model schema based on a realistic data sample (training dataset) that includes missing values. Alternatively, you can declare integer columns as doubles (float64) whenever these columns may have missing values. See `Handling Integers With Missing Values <https://www.mlflow.org/docs/latest/models.html#handling-integers-with-missing-values>`_ for more details.\"\n",
            "2021/08/17 05:05:14 INFO mlflow.utils.autologging_utils: Created MLflow autologging run with ID '14ac861334ca4972a9dc211ddf2fe298', which will track hyperparameters, performance metrics, model artifacts, and lineage information for the current sklearn workflow\n",
            "2021/08/17 05:05:14 WARNING mlflow.utils.autologging_utils: MLflow autologging encountered a warning: \"/usr/local/lib/python3.7/dist-packages/mlflow/models/signature.py:129: UserWarning: Hint: Inferred schema contains integer column(s). Integer columns in Python cannot represent missing values. If your input data contains missing values at inference time, it will be encoded as floats and will cause a schema enforcement error. The best way to avoid this problem is to infer the model schema based on a realistic data sample (training dataset) that includes missing values. Alternatively, you can declare integer columns as doubles (float64) whenever these columns may have missing values. See `Handling Integers With Missing Values <https://www.mlflow.org/docs/latest/models.html#handling-integers-with-missing-values>`_ for more details.\"\n",
            "2021/08/17 05:05:15 INFO mlflow.utils.autologging_utils: Created MLflow autologging run with ID 'a2604f4438594f50abb1c7e0dd5f134d', which will track hyperparameters, performance metrics, model artifacts, and lineage information for the current sklearn workflow\n",
            "2021/08/17 05:05:15 WARNING mlflow.utils.autologging_utils: MLflow autologging encountered a warning: \"/usr/local/lib/python3.7/dist-packages/mlflow/models/signature.py:129: UserWarning: Hint: Inferred schema contains integer column(s). Integer columns in Python cannot represent missing values. If your input data contains missing values at inference time, it will be encoded as floats and will cause a schema enforcement error. The best way to avoid this problem is to infer the model schema based on a realistic data sample (training dataset) that includes missing values. Alternatively, you can declare integer columns as doubles (float64) whenever these columns may have missing values. See `Handling Integers With Missing Values <https://www.mlflow.org/docs/latest/models.html#handling-integers-with-missing-values>`_ for more details.\"\n",
            "2021/08/17 05:05:15 INFO mlflow.utils.autologging_utils: Created MLflow autologging run with ID 'c6f44ab908f64099ad720cebdcbc5dba', which will track hyperparameters, performance metrics, model artifacts, and lineage information for the current sklearn workflow\n",
            "2021/08/17 05:05:15 WARNING mlflow.utils.autologging_utils: MLflow autologging encountered a warning: \"/usr/local/lib/python3.7/dist-packages/mlflow/models/signature.py:129: UserWarning: Hint: Inferred schema contains integer column(s). Integer columns in Python cannot represent missing values. If your input data contains missing values at inference time, it will be encoded as floats and will cause a schema enforcement error. The best way to avoid this problem is to infer the model schema based on a realistic data sample (training dataset) that includes missing values. Alternatively, you can declare integer columns as doubles (float64) whenever these columns may have missing values. See `Handling Integers With Missing Values <https://www.mlflow.org/docs/latest/models.html#handling-integers-with-missing-values>`_ for more details.\"\n"
          ],
          "name": "stderr"
        },
        {
          "output_type": "execute_result",
          "data": {
            "text/plain": [
              "array([-0.1945758 , -0.23627933, -0.18019839, -0.38504958, -0.17041169,\n",
              "       -0.15881799, -0.21863753, -0.30225223, -0.11893977, -0.0908888 ])"
            ]
          },
          "metadata": {
            "tags": []
          },
          "execution_count": 22
        }
      ]
    },
    {
      "cell_type": "code",
      "metadata": {
        "colab": {
          "base_uri": "https://localhost:8080/"
        },
        "id": "ww7lyKt7gqgn",
        "outputId": "de0879f9-8c9b-421a-a732-9a83bf1287a1"
      },
      "source": [
        "cross_val_score(modelo22, x_train, y_train, cv=10) # modelo com max_depth=5"
      ],
      "execution_count": 23,
      "outputs": [
        {
          "output_type": "stream",
          "text": [
            "2021/08/17 05:05:15 INFO mlflow.utils.autologging_utils: Created MLflow autologging run with ID '893a8354b3a34e17b90c139d8b2eb347', which will track hyperparameters, performance metrics, model artifacts, and lineage information for the current sklearn workflow\n",
            "2021/08/17 05:05:15 WARNING mlflow.utils.autologging_utils: MLflow autologging encountered a warning: \"/usr/local/lib/python3.7/dist-packages/mlflow/models/signature.py:129: UserWarning: Hint: Inferred schema contains integer column(s). Integer columns in Python cannot represent missing values. If your input data contains missing values at inference time, it will be encoded as floats and will cause a schema enforcement error. The best way to avoid this problem is to infer the model schema based on a realistic data sample (training dataset) that includes missing values. Alternatively, you can declare integer columns as doubles (float64) whenever these columns may have missing values. See `Handling Integers With Missing Values <https://www.mlflow.org/docs/latest/models.html#handling-integers-with-missing-values>`_ for more details.\"\n",
            "2021/08/17 05:05:15 INFO mlflow.utils.autologging_utils: Created MLflow autologging run with ID 'e12ff28bc3bb41c289b79277050b7127', which will track hyperparameters, performance metrics, model artifacts, and lineage information for the current sklearn workflow\n",
            "2021/08/17 05:05:15 WARNING mlflow.utils.autologging_utils: MLflow autologging encountered a warning: \"/usr/local/lib/python3.7/dist-packages/mlflow/models/signature.py:129: UserWarning: Hint: Inferred schema contains integer column(s). Integer columns in Python cannot represent missing values. If your input data contains missing values at inference time, it will be encoded as floats and will cause a schema enforcement error. The best way to avoid this problem is to infer the model schema based on a realistic data sample (training dataset) that includes missing values. Alternatively, you can declare integer columns as doubles (float64) whenever these columns may have missing values. See `Handling Integers With Missing Values <https://www.mlflow.org/docs/latest/models.html#handling-integers-with-missing-values>`_ for more details.\"\n",
            "2021/08/17 05:05:15 INFO mlflow.utils.autologging_utils: Created MLflow autologging run with ID '347663cebdf8491f9e3d6d5247bd8888', which will track hyperparameters, performance metrics, model artifacts, and lineage information for the current sklearn workflow\n",
            "2021/08/17 05:05:15 WARNING mlflow.utils.autologging_utils: MLflow autologging encountered a warning: \"/usr/local/lib/python3.7/dist-packages/mlflow/models/signature.py:129: UserWarning: Hint: Inferred schema contains integer column(s). Integer columns in Python cannot represent missing values. If your input data contains missing values at inference time, it will be encoded as floats and will cause a schema enforcement error. The best way to avoid this problem is to infer the model schema based on a realistic data sample (training dataset) that includes missing values. Alternatively, you can declare integer columns as doubles (float64) whenever these columns may have missing values. See `Handling Integers With Missing Values <https://www.mlflow.org/docs/latest/models.html#handling-integers-with-missing-values>`_ for more details.\"\n",
            "2021/08/17 05:05:15 INFO mlflow.utils.autologging_utils: Created MLflow autologging run with ID '7acb4a3f508c47988752250ae09399f0', which will track hyperparameters, performance metrics, model artifacts, and lineage information for the current sklearn workflow\n",
            "2021/08/17 05:05:15 WARNING mlflow.utils.autologging_utils: MLflow autologging encountered a warning: \"/usr/local/lib/python3.7/dist-packages/mlflow/models/signature.py:129: UserWarning: Hint: Inferred schema contains integer column(s). Integer columns in Python cannot represent missing values. If your input data contains missing values at inference time, it will be encoded as floats and will cause a schema enforcement error. The best way to avoid this problem is to infer the model schema based on a realistic data sample (training dataset) that includes missing values. Alternatively, you can declare integer columns as doubles (float64) whenever these columns may have missing values. See `Handling Integers With Missing Values <https://www.mlflow.org/docs/latest/models.html#handling-integers-with-missing-values>`_ for more details.\"\n",
            "2021/08/17 05:05:15 INFO mlflow.utils.autologging_utils: Created MLflow autologging run with ID '338f99fb8e0642eca9ecfc61431dfeec', which will track hyperparameters, performance metrics, model artifacts, and lineage information for the current sklearn workflow\n",
            "2021/08/17 05:05:15 WARNING mlflow.utils.autologging_utils: MLflow autologging encountered a warning: \"/usr/local/lib/python3.7/dist-packages/mlflow/models/signature.py:129: UserWarning: Hint: Inferred schema contains integer column(s). Integer columns in Python cannot represent missing values. If your input data contains missing values at inference time, it will be encoded as floats and will cause a schema enforcement error. The best way to avoid this problem is to infer the model schema based on a realistic data sample (training dataset) that includes missing values. Alternatively, you can declare integer columns as doubles (float64) whenever these columns may have missing values. See `Handling Integers With Missing Values <https://www.mlflow.org/docs/latest/models.html#handling-integers-with-missing-values>`_ for more details.\"\n",
            "2021/08/17 05:05:15 INFO mlflow.utils.autologging_utils: Created MLflow autologging run with ID '7c9e9c5526714d01ba9f04c2b6cf3153', which will track hyperparameters, performance metrics, model artifacts, and lineage information for the current sklearn workflow\n",
            "2021/08/17 05:05:15 WARNING mlflow.utils.autologging_utils: MLflow autologging encountered a warning: \"/usr/local/lib/python3.7/dist-packages/mlflow/models/signature.py:129: UserWarning: Hint: Inferred schema contains integer column(s). Integer columns in Python cannot represent missing values. If your input data contains missing values at inference time, it will be encoded as floats and will cause a schema enforcement error. The best way to avoid this problem is to infer the model schema based on a realistic data sample (training dataset) that includes missing values. Alternatively, you can declare integer columns as doubles (float64) whenever these columns may have missing values. See `Handling Integers With Missing Values <https://www.mlflow.org/docs/latest/models.html#handling-integers-with-missing-values>`_ for more details.\"\n",
            "2021/08/17 05:05:15 INFO mlflow.utils.autologging_utils: Created MLflow autologging run with ID '5ca4503858424ccda5ad0f31170d0fff', which will track hyperparameters, performance metrics, model artifacts, and lineage information for the current sklearn workflow\n",
            "2021/08/17 05:05:15 WARNING mlflow.utils.autologging_utils: MLflow autologging encountered a warning: \"/usr/local/lib/python3.7/dist-packages/mlflow/models/signature.py:129: UserWarning: Hint: Inferred schema contains integer column(s). Integer columns in Python cannot represent missing values. If your input data contains missing values at inference time, it will be encoded as floats and will cause a schema enforcement error. The best way to avoid this problem is to infer the model schema based on a realistic data sample (training dataset) that includes missing values. Alternatively, you can declare integer columns as doubles (float64) whenever these columns may have missing values. See `Handling Integers With Missing Values <https://www.mlflow.org/docs/latest/models.html#handling-integers-with-missing-values>`_ for more details.\"\n",
            "2021/08/17 05:05:15 INFO mlflow.utils.autologging_utils: Created MLflow autologging run with ID '6818abf82e8645459589b26282d4c94b', which will track hyperparameters, performance metrics, model artifacts, and lineage information for the current sklearn workflow\n",
            "2021/08/17 05:05:15 WARNING mlflow.utils.autologging_utils: MLflow autologging encountered a warning: \"/usr/local/lib/python3.7/dist-packages/mlflow/models/signature.py:129: UserWarning: Hint: Inferred schema contains integer column(s). Integer columns in Python cannot represent missing values. If your input data contains missing values at inference time, it will be encoded as floats and will cause a schema enforcement error. The best way to avoid this problem is to infer the model schema based on a realistic data sample (training dataset) that includes missing values. Alternatively, you can declare integer columns as doubles (float64) whenever these columns may have missing values. See `Handling Integers With Missing Values <https://www.mlflow.org/docs/latest/models.html#handling-integers-with-missing-values>`_ for more details.\"\n",
            "2021/08/17 05:05:15 INFO mlflow.utils.autologging_utils: Created MLflow autologging run with ID '8b88aa6cc486416a870aacac941a8aa0', which will track hyperparameters, performance metrics, model artifacts, and lineage information for the current sklearn workflow\n",
            "2021/08/17 05:05:15 WARNING mlflow.utils.autologging_utils: MLflow autologging encountered a warning: \"/usr/local/lib/python3.7/dist-packages/mlflow/models/signature.py:129: UserWarning: Hint: Inferred schema contains integer column(s). Integer columns in Python cannot represent missing values. If your input data contains missing values at inference time, it will be encoded as floats and will cause a schema enforcement error. The best way to avoid this problem is to infer the model schema based on a realistic data sample (training dataset) that includes missing values. Alternatively, you can declare integer columns as doubles (float64) whenever these columns may have missing values. See `Handling Integers With Missing Values <https://www.mlflow.org/docs/latest/models.html#handling-integers-with-missing-values>`_ for more details.\"\n",
            "2021/08/17 05:05:15 INFO mlflow.utils.autologging_utils: Created MLflow autologging run with ID '4171afa3642843da9a309e2e48c480d7', which will track hyperparameters, performance metrics, model artifacts, and lineage information for the current sklearn workflow\n",
            "2021/08/17 05:05:15 WARNING mlflow.utils.autologging_utils: MLflow autologging encountered a warning: \"/usr/local/lib/python3.7/dist-packages/mlflow/models/signature.py:129: UserWarning: Hint: Inferred schema contains integer column(s). Integer columns in Python cannot represent missing values. If your input data contains missing values at inference time, it will be encoded as floats and will cause a schema enforcement error. The best way to avoid this problem is to infer the model schema based on a realistic data sample (training dataset) that includes missing values. Alternatively, you can declare integer columns as doubles (float64) whenever these columns may have missing values. See `Handling Integers With Missing Values <https://www.mlflow.org/docs/latest/models.html#handling-integers-with-missing-values>`_ for more details.\"\n"
          ],
          "name": "stderr"
        },
        {
          "output_type": "execute_result",
          "data": {
            "text/plain": [
              "array([0.41979619, 0.4097474 , 0.40820003, 0.36196559, 0.41220871,\n",
              "       0.39218524, 0.40878043, 0.37763231, 0.41366703, 0.42547843])"
            ]
          },
          "metadata": {
            "tags": []
          },
          "execution_count": 23
        }
      ]
    },
    {
      "cell_type": "markdown",
      "metadata": {
        "id": "6GlRIbU3hmsN"
      },
      "source": [
        "## Random Forest"
      ]
    },
    {
      "cell_type": "markdown",
      "metadata": {
        "id": "JDM_1BaZg3EB"
      },
      "source": [
        "O método *Random Forest* é um tipo de algoritmo um tanto parecido com as árvores de decisão. Nele, são geradas múltiplas ávores de decisão que são treinadas e usadas para convergir a uma previsão final. Para treinar cada uma dessas árvores, o algoritmo pode usar partes diferentes dos dados do conjunto de treinamento ou até mesmo diferentes conjuntos de features dentre as que serão utilizadas na previsão."
      ]
    },
    {
      "cell_type": "code",
      "metadata": {
        "colab": {
          "base_uri": "https://localhost:8080/"
        },
        "id": "s_uI8EkfOnen",
        "outputId": "c420be92-cfba-4e14-df57-a236aafcfc13"
      },
      "source": [
        "from sklearn.ensemble import RandomForestRegressor\n",
        "\n",
        "# O algoritmo de random forest tambem oferece os algortimos de max_depth e min_split_sample, que podem ser alterados para obter-se resultados diferentes\n",
        "modelo3 = RandomForestRegressor(max_depth=5, random_state=10)\n",
        "\n",
        "with mlflow.start_run() as run3:\n",
        "    modelo3.fit(x_train,y_train)\n",
        "    print(\"Logged data and model in run {}\".format(run3.info.run_id))\n",
        "\n",
        "y_pred3 = modelo3.predict(x_test)"
      ],
      "execution_count": 24,
      "outputs": [
        {
          "output_type": "stream",
          "text": [
            "2021/08/17 05:05:17 WARNING mlflow.utils.autologging_utils: MLflow autologging encountered a warning: \"/usr/local/lib/python3.7/dist-packages/mlflow/models/signature.py:129: UserWarning: Hint: Inferred schema contains integer column(s). Integer columns in Python cannot represent missing values. If your input data contains missing values at inference time, it will be encoded as floats and will cause a schema enforcement error. The best way to avoid this problem is to infer the model schema based on a realistic data sample (training dataset) that includes missing values. Alternatively, you can declare integer columns as doubles (float64) whenever these columns may have missing values. See `Handling Integers With Missing Values <https://www.mlflow.org/docs/latest/models.html#handling-integers-with-missing-values>`_ for more details.\"\n"
          ],
          "name": "stderr"
        },
        {
          "output_type": "stream",
          "text": [
            "Logged data and model in run f542b8f2f37a406c985f760d124edee4\n"
          ],
          "name": "stdout"
        }
      ]
    },
    {
      "cell_type": "code",
      "metadata": {
        "colab": {
          "base_uri": "https://localhost:8080/"
        },
        "id": "65WoNzvVSQZK",
        "outputId": "d90e2d1a-1c19-4a5b-b236-84eb4beb7001"
      },
      "source": [
        "modelo3.score(x_test,y_test)"
      ],
      "execution_count": 25,
      "outputs": [
        {
          "output_type": "execute_result",
          "data": {
            "text/plain": [
              "0.44307796297090707"
            ]
          },
          "metadata": {
            "tags": []
          },
          "execution_count": 25
        }
      ]
    },
    {
      "cell_type": "markdown",
      "metadata": {
        "id": "mf9ftbycvWE5"
      },
      "source": [
        "## Rede Neural"
      ]
    },
    {
      "cell_type": "markdown",
      "metadata": {
        "id": "HBG6dQKKjpDz"
      },
      "source": [
        "As redes neurais estão entre os mais citados e também mais precisos algoritmos de predição já criados. Seu poder vem do fato de esse tipo de algoritmo ser capaz de encontrar relações das mais altas ordens entre os atributos (diferente, por exemplo, da regressão linear, que é capaz apenas de considerar relações *lineares*). Outra característica que possibilita que as redes neurais sejam tão precisas é a quantidade de hiper-parâmetros, que podem ser alterados dependendo da tarefa de previsão a ser realizada.\n",
        "\n",
        "Aqui, vamos aplicar o algoritmo `MLPRegressor` aos nossos conjuntos de treinamento e teste e avaliar sua performance com hiper-parâmetros *default*."
      ]
    },
    {
      "cell_type": "code",
      "metadata": {
        "colab": {
          "base_uri": "https://localhost:8080/"
        },
        "id": "4It7Deo2-5nG",
        "outputId": "a14e4197-e2e9-4ed6-e161-9294478e7cc6"
      },
      "source": [
        "from sklearn.neural_network import MLPRegressor\n",
        "\n",
        "with mlflow.start_run() as run4:\n",
        "    modelo4 = MLPRegressor(random_state=10).fit(x_train, y_train)\n",
        "    print(\"Logged data and model in run {}\".format(run4.info.run_id))\n",
        "\n",
        "y_pred4 = modelo4.predict(x_test)"
      ],
      "execution_count": 26,
      "outputs": [
        {
          "output_type": "stream",
          "text": [
            "/usr/local/lib/python3.7/dist-packages/sklearn/neural_network/_multilayer_perceptron.py:571: ConvergenceWarning: Stochastic Optimizer: Maximum iterations (200) reached and the optimization hasn't converged yet.\n",
            "  % self.max_iter, ConvergenceWarning)\n",
            "2021/08/17 05:05:24 WARNING mlflow.utils.autologging_utils: MLflow autologging encountered a warning: \"/usr/local/lib/python3.7/dist-packages/mlflow/models/signature.py:129: UserWarning: Hint: Inferred schema contains integer column(s). Integer columns in Python cannot represent missing values. If your input data contains missing values at inference time, it will be encoded as floats and will cause a schema enforcement error. The best way to avoid this problem is to infer the model schema based on a realistic data sample (training dataset) that includes missing values. Alternatively, you can declare integer columns as doubles (float64) whenever these columns may have missing values. See `Handling Integers With Missing Values <https://www.mlflow.org/docs/latest/models.html#handling-integers-with-missing-values>`_ for more details.\"\n"
          ],
          "name": "stderr"
        },
        {
          "output_type": "stream",
          "text": [
            "Logged data and model in run de2c854fc9254a008af501ca64142bc1\n"
          ],
          "name": "stdout"
        }
      ]
    },
    {
      "cell_type": "code",
      "metadata": {
        "colab": {
          "base_uri": "https://localhost:8080/"
        },
        "id": "MYXAbZU2_QDY",
        "outputId": "f9b4ca39-8465-4ed6-bba1-56d34ff88853"
      },
      "source": [
        "modelo4.score(x_test,y_test)"
      ],
      "execution_count": 27,
      "outputs": [
        {
          "output_type": "execute_result",
          "data": {
            "text/plain": [
              "0.4352326053108301"
            ]
          },
          "metadata": {
            "tags": []
          },
          "execution_count": 27
        }
      ]
    },
    {
      "cell_type": "markdown",
      "metadata": {
        "id": "CAd6pdFGwHOE"
      },
      "source": [
        "# 4. MLFlow"
      ]
    },
    {
      "cell_type": "markdown",
      "metadata": {
        "id": "QAqTRENAhwvU"
      },
      "source": [
        "Após treinar os modelos iniciais, vamos verificar os registros obtidos utilizando o MLFlow."
      ]
    },
    {
      "cell_type": "code",
      "metadata": {
        "colab": {
          "base_uri": "https://localhost:8080/"
        },
        "id": "VXlZ_qWBR6Ci",
        "outputId": "722f3710-5001-4717-dd58-395c08f0ac1d"
      },
      "source": [
        "# fetch logged data\n",
        "params, metrics, tags, artifacts = fetch_logged_data(run1.info.run_id)\n",
        "\n",
        "print('Parametros utilizados:')\n",
        "pprint(params)\n",
        "print('\\nMetricas:')\n",
        "pprint(metrics)\n",
        "print('\\nAlgoritmo utilizado:')\n",
        "pprint(tags)\n",
        "print('\\nArtifacts:')\n",
        "pprint(artifacts)"
      ],
      "execution_count": 28,
      "outputs": [
        {
          "output_type": "stream",
          "text": [
            "Parametros utilizados:\n",
            "{'copy_X': 'True',\n",
            " 'fit_intercept': 'True',\n",
            " 'n_jobs': 'None',\n",
            " 'normalize': 'False'}\n",
            "\n",
            "Metricas:\n",
            "{'training_mae': 13.432513967102905,\n",
            " 'training_mse': 304.3910590175906,\n",
            " 'training_r2_score': 0.40325855635472385,\n",
            " 'training_rmse': 17.446806556432914,\n",
            " 'training_score': 0.40325855635472385}\n",
            "\n",
            "Algoritmo utilizado:\n",
            "{'estimator_class': 'sklearn.linear_model._base.LinearRegression',\n",
            " 'estimator_name': 'LinearRegression'}\n",
            "\n",
            "Artifacts:\n",
            "['model/MLmodel',\n",
            " 'model/conda.yaml',\n",
            " 'model/model.pkl',\n",
            " 'model/requirements.txt']\n"
          ],
          "name": "stdout"
        }
      ]
    },
    {
      "cell_type": "code",
      "metadata": {
        "colab": {
          "base_uri": "https://localhost:8080/"
        },
        "id": "ajER2xd-gYZt",
        "outputId": "fd726726-57f4-4ca6-e8db-7aebbccddcc6"
      },
      "source": [
        "# fetch logged data\n",
        "params, metrics, tags, artifacts = fetch_logged_data(run2.info.run_id)\n",
        "\n",
        "print('Parametros utilizados:')\n",
        "pprint(params)\n",
        "print('\\nMetricas:')\n",
        "pprint(metrics)\n",
        "print('\\nAlgoritmo utilizado:')\n",
        "pprint(tags)\n",
        "print('\\nArtifacts:')\n",
        "pprint(artifacts)"
      ],
      "execution_count": 29,
      "outputs": [
        {
          "output_type": "stream",
          "text": [
            "Parametros utilizados:\n",
            "{'ccp_alpha': '0.0',\n",
            " 'criterion': 'mse',\n",
            " 'max_depth': 'None',\n",
            " 'max_features': 'None',\n",
            " 'max_leaf_nodes': 'None',\n",
            " 'min_impurity_decrease': '0.0',\n",
            " 'min_impurity_split': 'None',\n",
            " 'min_samples_leaf': '1',\n",
            " 'min_samples_split': '2',\n",
            " 'min_weight_fraction_leaf': '0.0',\n",
            " 'presort': 'deprecated',\n",
            " 'random_state': '10',\n",
            " 'splitter': 'best'}\n",
            "\n",
            "Metricas:\n",
            "{'training_mae': 0.0065362829966869734,\n",
            " 'training_mse': 0.07224798546542698,\n",
            " 'training_r2_score': 0.9998583619134995,\n",
            " 'training_rmse': 0.2687898537248513,\n",
            " 'training_score': 0.9998583619134994}\n",
            "\n",
            "Algoritmo utilizado:\n",
            "{'estimator_class': 'sklearn.tree._classes.DecisionTreeRegressor',\n",
            " 'estimator_name': 'DecisionTreeRegressor'}\n",
            "\n",
            "Artifacts:\n",
            "['model/MLmodel',\n",
            " 'model/conda.yaml',\n",
            " 'model/model.pkl',\n",
            " 'model/requirements.txt']\n"
          ],
          "name": "stdout"
        }
      ]
    },
    {
      "cell_type": "code",
      "metadata": {
        "colab": {
          "base_uri": "https://localhost:8080/"
        },
        "id": "WIFaFO_cgcRM",
        "outputId": "9e28386a-b90d-4457-ed79-0cb3eed3b81c"
      },
      "source": [
        "# fetch logged data\n",
        "params, metrics, tags, artifacts = fetch_logged_data(run22.info.run_id)\n",
        "\n",
        "print('Parametros utilizados:')\n",
        "pprint(params)\n",
        "print('\\nMetricas:')\n",
        "pprint(metrics)\n",
        "print('\\nAlgoritmo utilizado:')\n",
        "pprint(tags)\n",
        "print('\\nArtifacts:')\n",
        "pprint(artifacts)"
      ],
      "execution_count": 30,
      "outputs": [
        {
          "output_type": "stream",
          "text": [
            "Parametros utilizados:\n",
            "{'ccp_alpha': '0.0',\n",
            " 'criterion': 'mse',\n",
            " 'max_depth': '5',\n",
            " 'max_features': 'None',\n",
            " 'max_leaf_nodes': 'None',\n",
            " 'min_impurity_decrease': '0.0',\n",
            " 'min_impurity_split': 'None',\n",
            " 'min_samples_leaf': '1',\n",
            " 'min_samples_split': '2',\n",
            " 'min_weight_fraction_leaf': '0.0',\n",
            " 'presort': 'deprecated',\n",
            " 'random_state': '10',\n",
            " 'splitter': 'best'}\n",
            "\n",
            "Metricas:\n",
            "{'training_mae': 13.104485872151269,\n",
            " 'training_mse': 291.1634615354983,\n",
            " 'training_r2_score': 0.42919051257872787,\n",
            " 'training_rmse': 17.06351257905295,\n",
            " 'training_score': 0.42919051257872787}\n",
            "\n",
            "Algoritmo utilizado:\n",
            "{'estimator_class': 'sklearn.tree._classes.DecisionTreeRegressor',\n",
            " 'estimator_name': 'DecisionTreeRegressor'}\n",
            "\n",
            "Artifacts:\n",
            "['model/MLmodel',\n",
            " 'model/conda.yaml',\n",
            " 'model/model.pkl',\n",
            " 'model/requirements.txt']\n"
          ],
          "name": "stdout"
        }
      ]
    },
    {
      "cell_type": "code",
      "metadata": {
        "colab": {
          "base_uri": "https://localhost:8080/"
        },
        "id": "bEYcVWHkgef4",
        "outputId": "c10d82a7-b053-4f9d-a2f2-6f009630fb7d"
      },
      "source": [
        "# fetch logged data\n",
        "params, metrics, tags, artifacts = fetch_logged_data(run3.info.run_id)\n",
        "\n",
        "print('Parametros utilizados:')\n",
        "pprint(params)\n",
        "print('\\nMetricas:')\n",
        "pprint(metrics)\n",
        "print('\\nAlgoritmo utilizado:')\n",
        "pprint(tags)\n",
        "print('\\nArtifacts:')\n",
        "pprint(artifacts)"
      ],
      "execution_count": 31,
      "outputs": [
        {
          "output_type": "stream",
          "text": [
            "Parametros utilizados:\n",
            "{'bootstrap': 'True',\n",
            " 'ccp_alpha': '0.0',\n",
            " 'criterion': 'mse',\n",
            " 'max_depth': '5',\n",
            " 'max_features': 'auto',\n",
            " 'max_leaf_nodes': 'None',\n",
            " 'max_samples': 'None',\n",
            " 'min_impurity_decrease': '0.0',\n",
            " 'min_impurity_split': 'None',\n",
            " 'min_samples_leaf': '1',\n",
            " 'min_samples_split': '2',\n",
            " 'min_weight_fraction_leaf': '0.0',\n",
            " 'n_estimators': '100',\n",
            " 'n_jobs': 'None',\n",
            " 'oob_score': 'False',\n",
            " 'random_state': '10',\n",
            " 'verbose': '0',\n",
            " 'warm_start': 'False'}\n",
            "\n",
            "Metricas:\n",
            "{'training_mae': 12.977786887496167,\n",
            " 'training_mse': 284.61508137753196,\n",
            " 'training_r2_score': 0.4420282412610841,\n",
            " 'training_rmse': 16.870538858540705,\n",
            " 'training_score': 0.44202824126108403}\n",
            "\n",
            "Algoritmo utilizado:\n",
            "{'estimator_class': 'sklearn.ensemble._forest.RandomForestRegressor',\n",
            " 'estimator_name': 'RandomForestRegressor'}\n",
            "\n",
            "Artifacts:\n",
            "['model/MLmodel',\n",
            " 'model/conda.yaml',\n",
            " 'model/model.pkl',\n",
            " 'model/requirements.txt']\n"
          ],
          "name": "stdout"
        }
      ]
    },
    {
      "cell_type": "code",
      "metadata": {
        "colab": {
          "base_uri": "https://localhost:8080/"
        },
        "id": "LzMdNF2JggvI",
        "outputId": "bfe19247-838e-4ce1-e104-a60c0a3094e2"
      },
      "source": [
        "# fetch logged data\n",
        "params, metrics, tags, artifacts = fetch_logged_data(run4.info.run_id)\n",
        "\n",
        "print('Parametros utilizados:')\n",
        "pprint(params)\n",
        "print('\\nMetricas:')\n",
        "pprint(metrics)\n",
        "print('\\nAlgoritmo utilizado:')\n",
        "pprint(tags)\n",
        "print('\\nArtifacts:')\n",
        "pprint(artifacts)"
      ],
      "execution_count": 32,
      "outputs": [
        {
          "output_type": "stream",
          "text": [
            "Parametros utilizados:\n",
            "{'activation': 'relu',\n",
            " 'alpha': '0.0001',\n",
            " 'batch_size': 'auto',\n",
            " 'beta_1': '0.9',\n",
            " 'beta_2': '0.999',\n",
            " 'early_stopping': 'False',\n",
            " 'epsilon': '1e-08',\n",
            " 'hidden_layer_sizes': '(100,)',\n",
            " 'learning_rate': 'constant',\n",
            " 'learning_rate_init': '0.001',\n",
            " 'max_fun': '15000',\n",
            " 'max_iter': '200',\n",
            " 'momentum': '0.9',\n",
            " 'n_iter_no_change': '10',\n",
            " 'nesterovs_momentum': 'True',\n",
            " 'power_t': '0.5',\n",
            " 'random_state': '10',\n",
            " 'shuffle': 'True',\n",
            " 'solver': 'adam',\n",
            " 'tol': '0.0001',\n",
            " 'validation_fraction': '0.1',\n",
            " 'verbose': 'False',\n",
            " 'warm_start': 'False'}\n",
            "\n",
            "Metricas:\n",
            "{'training_mae': 13.394924733268539,\n",
            " 'training_mse': 302.5030589543456,\n",
            " 'training_r2_score': 0.406959873623961,\n",
            " 'training_rmse': 17.392615069458234,\n",
            " 'training_score': 0.406959873623961}\n",
            "\n",
            "Algoritmo utilizado:\n",
            "{'estimator_class': 'sklearn.neural_network._multilayer_perceptron.MLPRegressor',\n",
            " 'estimator_name': 'MLPRegressor'}\n",
            "\n",
            "Artifacts:\n",
            "['model/MLmodel',\n",
            " 'model/conda.yaml',\n",
            " 'model/model.pkl',\n",
            " 'model/requirements.txt']\n"
          ],
          "name": "stdout"
        }
      ]
    },
    {
      "cell_type": "markdown",
      "metadata": {
        "id": "HSzgDZMTwXVl"
      },
      "source": [
        "# 5. Seleção de Hiper-Parâmetros"
      ]
    },
    {
      "cell_type": "markdown",
      "metadata": {
        "id": "aYJy9KQ9gnQL"
      },
      "source": [
        "A avaliação e seleção de hiper-parâmetros é um passo bastante importante na escolha do modelo final pois é nessa etapa em que são definidas características que serão utilizadas no treinamento, como: número de vizinhos no kNN, número de camadas numa rede neural, profundidade numa árvore de decisão, entre outras. No fim das contas, são essas escolhas que vão determinar se o modelo vai performar excepcionalmente bem ou muito longe do ideal.\n",
        "\n",
        "Existem vários algoritmos de otimização de hiper-parâmetros, e diferentes algoritmos se adequam a diferentes tarefas. Como nosso dataset não é tão grande, vamos utilizar o *Random Search*, que é bastante conhecido e não é tão exigente computacionalmente. Faremos a otimização sobre os algoritmos de árvore de decisão, random forest e rede neural vistos anteriormente. "
      ]
    },
    {
      "cell_type": "code",
      "metadata": {
        "id": "MMTSMXslT0Jh"
      },
      "source": [
        "# Importando o Random Search com cross-validation\n",
        "from sklearn.model_selection import RandomizedSearchCV"
      ],
      "execution_count": 33,
      "outputs": []
    },
    {
      "cell_type": "markdown",
      "metadata": {
        "id": "-b1Exzr6LE8q"
      },
      "source": [
        "## Decision Tree"
      ]
    },
    {
      "cell_type": "code",
      "metadata": {
        "colab": {
          "base_uri": "https://localhost:8080/"
        },
        "id": "tiBWJYEXgnj8",
        "outputId": "7b5745c0-05f4-4379-eae1-2889018164f0"
      },
      "source": [
        "# Definindo o Random Search CV. Vamos fornecer o argumento n_iter, que fala quantas configurações de hparams testar:\n",
        "random_search_cv1 = RandomizedSearchCV( estimator = tree.DecisionTreeRegressor(random_state=10),\n",
        "                                        param_distributions = { 'max_depth':range(1,10),            # Testando comprimentos máximos de 1 a 10\n",
        "                                                                'min_samples_leaf':range(1,8),     # O mínimo de amostras por folha, de 1 a 8\n",
        "                                                                'min_samples_split':range(2,4)} ,   \n",
        "                                        #scoring='roc_auc', \n",
        "                                        cv = 3,\n",
        "                                        n_iter = 20)\n",
        "\n",
        "# Realizando a otimização por GridSearch para os dados de cancer de mama:\n",
        "random_search_cv1.fit(x_train,y_train)\n",
        "\n",
        "#Vamos ver informações relevantes:\n",
        "print('Melhor comprimento máximo: {}'.format(random_search_cv1.best_params_['max_depth']))\n",
        "print('Melhor minimo de amostras por folha: {}'.format(random_search_cv1.best_params_['min_samples_leaf']))\n",
        "print('Melhor min_samples_split encontrado: {}'.format(random_search_cv1.best_params_['min_samples_split']))\n",
        "#print('Desempenho AUC-ROC do melhor modelo: {}'.format(round(random_search_cv1.best_score_,3)))\n",
        "print('Tempo para realizar a otimização:')\n",
        "%timeit -n 1 -r 1 random_search_cv1.fit(x_train,y_train)"
      ],
      "execution_count": 34,
      "outputs": [
        {
          "output_type": "stream",
          "text": [
            "2021/08/17 05:05:25 INFO mlflow.utils.autologging_utils: Created MLflow autologging run with ID 'ed399320e96f42b88b789e45353540be', which will track hyperparameters, performance metrics, model artifacts, and lineage information for the current sklearn workflow\n",
            "2021/08/17 05:05:25 WARNING mlflow.utils: Truncated the value of the key `estimator`. Truncated value: `DecisionTreeRegressor(ccp_alpha=0.0, criterion='mse', max_depth=None,\n",
            "                      max_features=None, max_leaf_nodes=None,\n",
            "                      min_impurity_decrease=0.0, min_impurity_split=None,\n",
            "                      min_samples_leaf=1,...`\n",
            "2021/08/17 05:05:26 WARNING mlflow.utils.autologging_utils: MLflow autologging encountered a warning: \"/usr/local/lib/python3.7/dist-packages/mlflow/models/signature.py:129: UserWarning: Hint: Inferred schema contains integer column(s). Integer columns in Python cannot represent missing values. If your input data contains missing values at inference time, it will be encoded as floats and will cause a schema enforcement error. The best way to avoid this problem is to infer the model schema based on a realistic data sample (training dataset) that includes missing values. Alternatively, you can declare integer columns as doubles (float64) whenever these columns may have missing values. See `Handling Integers With Missing Values <https://www.mlflow.org/docs/latest/models.html#handling-integers-with-missing-values>`_ for more details.\"\n",
            "2021/08/17 05:05:26 INFO mlflow.sklearn.utils: Logging the 5 best runs, 15 runs will be omitted.\n",
            "2021/08/17 05:05:26 INFO mlflow.utils.autologging_utils: Created MLflow autologging run with ID '5048bad9ba1d4ddaa537c30ae7c0a755', which will track hyperparameters, performance metrics, model artifacts, and lineage information for the current sklearn workflow\n",
            "2021/08/17 05:05:26 WARNING mlflow.utils: Truncated the value of the key `estimator`. Truncated value: `DecisionTreeRegressor(ccp_alpha=0.0, criterion='mse', max_depth=None,\n",
            "                      max_features=None, max_leaf_nodes=None,\n",
            "                      min_impurity_decrease=0.0, min_impurity_split=None,\n",
            "                      min_samples_leaf=1,...`\n"
          ],
          "name": "stderr"
        },
        {
          "output_type": "stream",
          "text": [
            "Melhor comprimento máximo: 4\n",
            "Melhor minimo de amostras por folha: 5\n",
            "Melhor min_samples_split encontrado: 2\n",
            "Tempo para realizar a otimização:\n"
          ],
          "name": "stdout"
        },
        {
          "output_type": "stream",
          "text": [
            "2021/08/17 05:05:27 WARNING mlflow.utils.autologging_utils: MLflow autologging encountered a warning: \"/usr/local/lib/python3.7/dist-packages/mlflow/models/signature.py:129: UserWarning: Hint: Inferred schema contains integer column(s). Integer columns in Python cannot represent missing values. If your input data contains missing values at inference time, it will be encoded as floats and will cause a schema enforcement error. The best way to avoid this problem is to infer the model schema based on a realistic data sample (training dataset) that includes missing values. Alternatively, you can declare integer columns as doubles (float64) whenever these columns may have missing values. See `Handling Integers With Missing Values <https://www.mlflow.org/docs/latest/models.html#handling-integers-with-missing-values>`_ for more details.\"\n",
            "2021/08/17 05:05:27 INFO mlflow.sklearn.utils: Logging the 5 best runs, 15 runs will be omitted.\n"
          ],
          "name": "stderr"
        },
        {
          "output_type": "stream",
          "text": [
            "1 loop, best of 1: 1.1 s per loop\n"
          ],
          "name": "stdout"
        }
      ]
    },
    {
      "cell_type": "markdown",
      "metadata": {
        "id": "SPWxrEl_LHi4"
      },
      "source": [
        "## Random Forest"
      ]
    },
    {
      "cell_type": "code",
      "metadata": {
        "colab": {
          "base_uri": "https://localhost:8080/"
        },
        "id": "T4AgP-ELZmqn",
        "outputId": "866041e3-5f8c-4a8f-d64c-83637ae989e1"
      },
      "source": [
        "# Definindo o Random Search CV. Vamos fornecer o argumento n_iter, que fala quantas configurações de hparams testar:\n",
        "random_search_cv2 = RandomizedSearchCV( estimator = RandomForestRegressor(random_state=10),\n",
        "                                        param_distributions = { 'max_depth':range(1,10),            # Testando comprimentos máximos de 1 a 10\n",
        "                                                                'min_samples_leaf':range(1,8),     # O mínimo de amostras por folha, de 1 a 8\n",
        "                                                                'min_samples_split':range(2,4)} ,   \n",
        "                                        #scoring='roc_auc', \n",
        "                                        cv = 3,\n",
        "                                        n_iter = 20)\n",
        "\n",
        "# Realizando a otimização por GridSearch para os dados de cancer de mama:\n",
        "random_search_cv2.fit(x_train,y_train)\n",
        "\n",
        "#Vamos ver informações relevantes:\n",
        "print('Melhor comprimento máximo: {}'.format(random_search_cv2.best_params_['max_depth']))\n",
        "print('Melhor minimo de amostras por folha: {}'.format(random_search_cv2.best_params_['min_samples_leaf']))\n",
        "print('Melhor min_samples_split encontrado: {}'.format(random_search_cv2.best_params_['min_samples_split']))\n",
        "#print('Desempenho AUC-ROC do melhor modelo: {}'.format(round(random_search_cv2.best_score_,3)))\n",
        "print('Tempo para realizar a otimização:')\n",
        "%timeit -n 1 -r 1 random_search_cv2.fit(x_train,y_train)"
      ],
      "execution_count": 35,
      "outputs": [
        {
          "output_type": "stream",
          "text": [
            "2021/08/17 05:05:27 INFO mlflow.utils.autologging_utils: Created MLflow autologging run with ID '3a6f24fa7e3a4aa7b803324cf9ee010e', which will track hyperparameters, performance metrics, model artifacts, and lineage information for the current sklearn workflow\n",
            "2021/08/17 05:05:27 WARNING mlflow.utils: Truncated the value of the key `estimator`. Truncated value: `RandomForestRegressor(bootstrap=True, ccp_alpha=0.0, criterion='mse',\n",
            "                      max_depth=None, max_features='auto', max_leaf_nodes=None,\n",
            "                      max_samples=None, min_impurity_decrease=0.0,\n",
            "                      min_impu...`\n",
            "2021/08/17 05:06:16 WARNING mlflow.utils.autologging_utils: MLflow autologging encountered a warning: \"/usr/local/lib/python3.7/dist-packages/mlflow/models/signature.py:129: UserWarning: Hint: Inferred schema contains integer column(s). Integer columns in Python cannot represent missing values. If your input data contains missing values at inference time, it will be encoded as floats and will cause a schema enforcement error. The best way to avoid this problem is to infer the model schema based on a realistic data sample (training dataset) that includes missing values. Alternatively, you can declare integer columns as doubles (float64) whenever these columns may have missing values. See `Handling Integers With Missing Values <https://www.mlflow.org/docs/latest/models.html#handling-integers-with-missing-values>`_ for more details.\"\n",
            "2021/08/17 05:06:16 INFO mlflow.sklearn.utils: Logging the 5 best runs, 15 runs will be omitted.\n",
            "2021/08/17 05:06:16 INFO mlflow.utils.autologging_utils: Created MLflow autologging run with ID 'c722f320092b49f7a9dc93e2f7711f6c', which will track hyperparameters, performance metrics, model artifacts, and lineage information for the current sklearn workflow\n",
            "2021/08/17 05:06:16 WARNING mlflow.utils: Truncated the value of the key `estimator`. Truncated value: `RandomForestRegressor(bootstrap=True, ccp_alpha=0.0, criterion='mse',\n",
            "                      max_depth=None, max_features='auto', max_leaf_nodes=None,\n",
            "                      max_samples=None, min_impurity_decrease=0.0,\n",
            "                      min_impu...`\n"
          ],
          "name": "stderr"
        },
        {
          "output_type": "stream",
          "text": [
            "Melhor comprimento máximo: 6\n",
            "Melhor minimo de amostras por folha: 2\n",
            "Melhor min_samples_split encontrado: 2\n",
            "Tempo para realizar a otimização:\n"
          ],
          "name": "stdout"
        },
        {
          "output_type": "stream",
          "text": [
            "2021/08/17 05:07:03 WARNING mlflow.utils.autologging_utils: MLflow autologging encountered a warning: \"/usr/local/lib/python3.7/dist-packages/mlflow/models/signature.py:129: UserWarning: Hint: Inferred schema contains integer column(s). Integer columns in Python cannot represent missing values. If your input data contains missing values at inference time, it will be encoded as floats and will cause a schema enforcement error. The best way to avoid this problem is to infer the model schema based on a realistic data sample (training dataset) that includes missing values. Alternatively, you can declare integer columns as doubles (float64) whenever these columns may have missing values. See `Handling Integers With Missing Values <https://www.mlflow.org/docs/latest/models.html#handling-integers-with-missing-values>`_ for more details.\"\n",
            "2021/08/17 05:07:03 INFO mlflow.sklearn.utils: Logging the 5 best runs, 15 runs will be omitted.\n"
          ],
          "name": "stderr"
        },
        {
          "output_type": "stream",
          "text": [
            "1 loop, best of 1: 47.2 s per loop\n"
          ],
          "name": "stdout"
        }
      ]
    },
    {
      "cell_type": "markdown",
      "metadata": {
        "id": "xdjFZWTOLLFu"
      },
      "source": [
        "## Rede Neural"
      ]
    },
    {
      "cell_type": "code",
      "metadata": {
        "colab": {
          "base_uri": "https://localhost:8080/"
        },
        "id": "NDLZ2LnUbleQ",
        "outputId": "02ad11b7-5f57-4d02-a5c9-af2ff042bc8d"
      },
      "source": [
        "# Definindo o Random Search CV. Vamos fornecer o argumento n_iter, que fala quantas configurações de hparams testar:\n",
        "random_search_cv3 = RandomizedSearchCV( estimator = MLPRegressor(random_state=10),\n",
        "                                        param_distributions = { 'hidden_layer_sizes':[(50,50,50),(50,100,50),(100,1)],\n",
        "                                                                'alpha': [0.0001, 0.05],\n",
        "                                                                'learning_rate': ['constant','adaptive'] }, \n",
        "                                        #scoring='roc_auc', \n",
        "                                        cv = 3,\n",
        "                                        n_iter = 20)\n",
        "\n",
        "# Realizando a otimização por GridSearch para os dados de cancer de mama:\n",
        "random_search_cv3.fit(x_train,y_train)\n",
        "\n",
        "#Vamos ver informações relevantes:\n",
        "print('Melhor hidden_layer_sizes: {}'.format(random_search_cv3.best_params_['hidden_layer_sizes']))\n",
        "print('Melhor alpha: {}'.format(random_search_cv3.best_params_['alpha']))\n",
        "print('Melhor learning_rate: {}'.format(random_search_cv3.best_params_['learning_rate']))\n",
        "#print('Desempenho AUC-ROC do melhor modelo: {}'.format(round(random_search_cv3.best_score_,3)))\n",
        "print('Tempo para realizar a otimização:')\n",
        "%timeit -n 1 -r 1 random_search_cv3.fit(x_train,y_train)"
      ],
      "execution_count": null,
      "outputs": [
        {
          "output_type": "stream",
          "text": [
            "2021/08/17 04:55:23 INFO mlflow.utils.autologging_utils: Created MLflow autologging run with ID 'f306e50457ed4229bb15455c4b3c2bb3', which will track hyperparameters, performance metrics, model artifacts, and lineage information for the current sklearn workflow\n",
            "2021/08/17 04:55:23 WARNING mlflow.utils: Truncated the value of the key `estimator`. Truncated value: `MLPRegressor(activation='relu', alpha=0.0001, batch_size='auto', beta_1=0.9,\n",
            "             beta_2=0.999, early_stopping=False, epsilon=1e-08,\n",
            "             hidden_layer_sizes=(100,), learning_rate='constant',\n",
            "             learning_rate_init=0.001, m...`\n",
            "/usr/local/lib/python3.7/dist-packages/sklearn/model_selection/_search.py:281: UserWarning: The total space of parameters 12 is smaller than n_iter=20. Running 12 iterations. For exhaustive searches, use GridSearchCV.\n",
            "  % (grid_size, self.n_iter, grid_size), UserWarning)\n",
            "/usr/local/lib/python3.7/dist-packages/sklearn/neural_network/_multilayer_perceptron.py:571: ConvergenceWarning: Stochastic Optimizer: Maximum iterations (200) reached and the optimization hasn't converged yet.\n",
            "  % self.max_iter, ConvergenceWarning)\n",
            "/usr/local/lib/python3.7/dist-packages/sklearn/neural_network/_multilayer_perceptron.py:571: ConvergenceWarning: Stochastic Optimizer: Maximum iterations (200) reached and the optimization hasn't converged yet.\n",
            "  % self.max_iter, ConvergenceWarning)\n",
            "/usr/local/lib/python3.7/dist-packages/sklearn/neural_network/_multilayer_perceptron.py:571: ConvergenceWarning: Stochastic Optimizer: Maximum iterations (200) reached and the optimization hasn't converged yet.\n",
            "  % self.max_iter, ConvergenceWarning)\n",
            "/usr/local/lib/python3.7/dist-packages/sklearn/neural_network/_multilayer_perceptron.py:571: ConvergenceWarning: Stochastic Optimizer: Maximum iterations (200) reached and the optimization hasn't converged yet.\n",
            "  % self.max_iter, ConvergenceWarning)\n",
            "/usr/local/lib/python3.7/dist-packages/sklearn/neural_network/_multilayer_perceptron.py:571: ConvergenceWarning: Stochastic Optimizer: Maximum iterations (200) reached and the optimization hasn't converged yet.\n",
            "  % self.max_iter, ConvergenceWarning)\n",
            "/usr/local/lib/python3.7/dist-packages/sklearn/neural_network/_multilayer_perceptron.py:571: ConvergenceWarning: Stochastic Optimizer: Maximum iterations (200) reached and the optimization hasn't converged yet.\n",
            "  % self.max_iter, ConvergenceWarning)\n",
            "/usr/local/lib/python3.7/dist-packages/sklearn/neural_network/_multilayer_perceptron.py:571: ConvergenceWarning: Stochastic Optimizer: Maximum iterations (200) reached and the optimization hasn't converged yet.\n",
            "  % self.max_iter, ConvergenceWarning)\n",
            "/usr/local/lib/python3.7/dist-packages/sklearn/neural_network/_multilayer_perceptron.py:571: ConvergenceWarning: Stochastic Optimizer: Maximum iterations (200) reached and the optimization hasn't converged yet.\n",
            "  % self.max_iter, ConvergenceWarning)\n",
            "/usr/local/lib/python3.7/dist-packages/sklearn/neural_network/_multilayer_perceptron.py:571: ConvergenceWarning: Stochastic Optimizer: Maximum iterations (200) reached and the optimization hasn't converged yet.\n",
            "  % self.max_iter, ConvergenceWarning)\n",
            "/usr/local/lib/python3.7/dist-packages/sklearn/neural_network/_multilayer_perceptron.py:571: ConvergenceWarning: Stochastic Optimizer: Maximum iterations (200) reached and the optimization hasn't converged yet.\n",
            "  % self.max_iter, ConvergenceWarning)\n",
            "/usr/local/lib/python3.7/dist-packages/sklearn/neural_network/_multilayer_perceptron.py:571: ConvergenceWarning: Stochastic Optimizer: Maximum iterations (200) reached and the optimization hasn't converged yet.\n",
            "  % self.max_iter, ConvergenceWarning)\n",
            "/usr/local/lib/python3.7/dist-packages/sklearn/neural_network/_multilayer_perceptron.py:571: ConvergenceWarning: Stochastic Optimizer: Maximum iterations (200) reached and the optimization hasn't converged yet.\n",
            "  % self.max_iter, ConvergenceWarning)\n",
            "2021/08/17 04:58:54 WARNING mlflow.utils.autologging_utils: MLflow autologging encountered a warning: \"/usr/local/lib/python3.7/dist-packages/mlflow/models/signature.py:129: UserWarning: Hint: Inferred schema contains integer column(s). Integer columns in Python cannot represent missing values. If your input data contains missing values at inference time, it will be encoded as floats and will cause a schema enforcement error. The best way to avoid this problem is to infer the model schema based on a realistic data sample (training dataset) that includes missing values. Alternatively, you can declare integer columns as doubles (float64) whenever these columns may have missing values. See `Handling Integers With Missing Values <https://www.mlflow.org/docs/latest/models.html#handling-integers-with-missing-values>`_ for more details.\"\n",
            "2021/08/17 04:58:54 INFO mlflow.sklearn.utils: Logging the 5 best runs, 7 runs will be omitted.\n",
            "2021/08/17 04:58:54 INFO mlflow.utils.autologging_utils: Created MLflow autologging run with ID '5f331dd9bdbe4022950e8c9940fcd0ab', which will track hyperparameters, performance metrics, model artifacts, and lineage information for the current sklearn workflow\n",
            "2021/08/17 04:58:54 WARNING mlflow.utils: Truncated the value of the key `estimator`. Truncated value: `MLPRegressor(activation='relu', alpha=0.0001, batch_size='auto', beta_1=0.9,\n",
            "             beta_2=0.999, early_stopping=False, epsilon=1e-08,\n",
            "             hidden_layer_sizes=(100,), learning_rate='constant',\n",
            "             learning_rate_init=0.001, m...`\n",
            "/usr/local/lib/python3.7/dist-packages/sklearn/model_selection/_search.py:281: UserWarning: The total space of parameters 12 is smaller than n_iter=20. Running 12 iterations. For exhaustive searches, use GridSearchCV.\n",
            "  % (grid_size, self.n_iter, grid_size), UserWarning)\n"
          ],
          "name": "stderr"
        },
        {
          "output_type": "stream",
          "text": [
            "Melhor hidden_layer_sizes: (50, 50, 50)\n",
            "Melhor alpha: 0.0001\n",
            "Melhor learning_rate: constant\n",
            "Tempo para realizar a otimização:\n"
          ],
          "name": "stdout"
        },
        {
          "output_type": "stream",
          "text": [
            "/usr/local/lib/python3.7/dist-packages/sklearn/neural_network/_multilayer_perceptron.py:571: ConvergenceWarning: Stochastic Optimizer: Maximum iterations (200) reached and the optimization hasn't converged yet.\n",
            "  % self.max_iter, ConvergenceWarning)\n",
            "/usr/local/lib/python3.7/dist-packages/sklearn/neural_network/_multilayer_perceptron.py:573: UserWarning: Training interrupted by user.\n",
            "  warnings.warn(\"Training interrupted by user.\")\n",
            "/usr/local/lib/python3.7/dist-packages/sklearn/neural_network/_multilayer_perceptron.py:571: ConvergenceWarning: Stochastic Optimizer: Maximum iterations (200) reached and the optimization hasn't converged yet.\n",
            "  % self.max_iter, ConvergenceWarning)\n",
            "/usr/local/lib/python3.7/dist-packages/sklearn/neural_network/_multilayer_perceptron.py:571: ConvergenceWarning: Stochastic Optimizer: Maximum iterations (200) reached and the optimization hasn't converged yet.\n",
            "  % self.max_iter, ConvergenceWarning)\n",
            "/usr/local/lib/python3.7/dist-packages/sklearn/neural_network/_multilayer_perceptron.py:573: UserWarning: Training interrupted by user.\n",
            "  warnings.warn(\"Training interrupted by user.\")\n",
            "/usr/local/lib/python3.7/dist-packages/sklearn/neural_network/_multilayer_perceptron.py:573: UserWarning: Training interrupted by user.\n",
            "  warnings.warn(\"Training interrupted by user.\")\n"
          ],
          "name": "stderr"
        }
      ]
    },
    {
      "cell_type": "markdown",
      "metadata": {
        "id": "qHnXMAlxwJGh"
      },
      "source": [
        "# 6. Diagnóstico e Aprimoramento"
      ]
    },
    {
      "cell_type": "markdown",
      "metadata": {
        "id": "SYIZWavyfEO3"
      },
      "source": [
        "A partir os resultados da seleção, podemos aplicar novamente os algoritmos vistos no tópico 3, agora com os melhores hiper-parâmetros encontrados."
      ]
    }
  ]
}