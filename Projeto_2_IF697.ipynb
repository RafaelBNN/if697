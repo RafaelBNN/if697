{
  "nbformat": 4,
  "nbformat_minor": 0,
  "metadata": {
    "colab": {
      "name": "Projeto 2 - IF697.ipynb",
      "provenance": [],
      "authorship_tag": "ABX9TyMbml5zdpsl6NAl5Zo6eoxt",
      "include_colab_link": true
    },
    "kernelspec": {
      "name": "python3",
      "display_name": "Python 3"
    },
    "language_info": {
      "name": "python"
    }
  },
  "cells": [
    {
      "cell_type": "markdown",
      "metadata": {
        "id": "view-in-github",
        "colab_type": "text"
      },
      "source": [
        "<a href=\"https://colab.research.google.com/github/RafaelBNN/if697/blob/main/Projeto_2_IF697.ipynb\" target=\"_parent\"><img src=\"https://colab.research.google.com/assets/colab-badge.svg\" alt=\"Open In Colab\"/></a>"
      ]
    },
    {
      "cell_type": "markdown",
      "metadata": {
        "id": "ucGz7pDboB0p"
      },
      "source": [
        "A ideia vai ser prever o `Place` de um atleta de acordo com `Age`, `BodyweightKg`, `Sex`, `Division`, `IPFPoints` e `Place` de atletas com atributos semelhantes. O professor sugeriu coletar uma amostra dos últimos 5 anos do dataset original e usar 3,5 anos como *training* set, 0,5 anos como *validation* set e o último ano como *test* set.\n",
        "\n",
        "*Na real eu não entendi se é pra prever a colocação de um atleta de acordo com colocações anteriores deste mesmo atleta ou de acordo com colocações anteriores de atletas semelhantes*\n",
        "\n"
      ]
    }
  ]
}