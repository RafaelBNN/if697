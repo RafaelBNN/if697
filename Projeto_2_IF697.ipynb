{
  "nbformat": 4,
  "nbformat_minor": 0,
  "metadata": {
    "colab": {
      "name": "Projeto 2 - IF697.ipynb",
      "provenance": [],
      "authorship_tag": "ABX9TyO9KjhHjmOajLwVs5IcSRSB",
      "include_colab_link": true
    },
    "kernelspec": {
      "name": "python3",
      "display_name": "Python 3"
    },
    "language_info": {
      "name": "python"
    }
  },
  "cells": [
    {
      "cell_type": "markdown",
      "metadata": {
        "id": "view-in-github",
        "colab_type": "text"
      },
      "source": [
        "<a href=\"https://colab.research.google.com/github/RafaelBNN/if697/blob/main/Projeto_2_IF697.ipynb\" target=\"_parent\"><img src=\"https://colab.research.google.com/assets/colab-badge.svg\" alt=\"Open In Colab\"/></a>"
      ]
    },
    {
      "cell_type": "markdown",
      "metadata": {
        "id": "ucGz7pDboB0p"
      },
      "source": [
        "A ideia vai ser prever o `Place` de um atleta de acordo com `Age`, `BodyweightKg`, `Sex`, `Division`, `IPFPoints` e `Place` de atletas com atributos semelhantes. O professor sugeriu coletar uma amostra dos últimos 5 anos do dataset original e usar 3,5 anos como *training* set, 0,5 anos como *validation* set e o último ano como *test* set.\n",
        "\n"
      ]
    },
    {
      "cell_type": "markdown",
      "metadata": {
        "id": "W5aE0zddqp4t"
      },
      "source": [
        "*Atualização 27/07*: Acho que esse problema se aplica mais como um problema de regressão, já que não precisamos prever com 100% de certeza a colocação de um competidor. A parte decimal das predições vai nos dar uma ideia da \"certeza\" do algoritmo de que o competidor vai ficar naquela colocação."
      ]
    },
    {
      "cell_type": "markdown",
      "metadata": {
        "id": "is0iIU5LMvZ5"
      },
      "source": [
        "*Atualização 02/08 (acompanhamento)*: Segundo o professor, se formos fazer regressão, deveremos aplicá-la a vários atletas (que talvez tenham participado da mesma competição, não entendi essa parte direito) e rankeá-los de acordo com as previsões, em vez de deixar um número não-inteiro na coluna. Nesse caso, haverá a necessidade de buscarmos registros da mesma competição (na sample que pegamos, temos 1800 registros de 2019; esses registros podem ser, por exemplo de 1800 competições diferentes, e isso talvez não se encaixe na forma com que o professor pensou na solução).\n",
        "\n",
        "Se fizermos classificação, porém, não parece que teremos esse problema, de modo que o professor não citou \"rankear\" atletas de acordo com o resultado do modelo (já que não há como rankear classes).\n",
        "\n",
        "Dado, então, esse problema de ter que buscar registros das mesmas competições para realizar a previsão, parece melhor fazer com classificação, embora o de regressão seja mais fofinho, e acho que faz mais sentido também."
      ]
    },
    {
      "cell_type": "markdown",
      "metadata": {
        "id": "Qw5A-DKEOf0n"
      },
      "source": [
        "*Atualização 12/08*: Vamos de classificação mesmo. Com regressão pode ser que houvesse alguma dificuldade na hora de avaliar o desempenho do modelo. O treinamento também não seria tão simples, visto que eu teria que separar as competições."
      ]
    },
    {
      "cell_type": "code",
      "metadata": {
        "id": "5mrUhbxf9Kjt"
      },
      "source": [
        "import numpy as np\n",
        "import pandas as pd\n",
        "from matplotlib import pyplot as plt\n",
        "import seaborn as sns"
      ],
      "execution_count": 46,
      "outputs": []
    },
    {
      "cell_type": "code",
      "metadata": {
        "id": "FiUidjVE-Z3m",
        "colab": {
          "base_uri": "https://localhost:8080/",
          "height": 417
        },
        "outputId": "5550a240-bdb0-4208-c284-157c56bcbbc8"
      },
      "source": [
        "df=pd.read_csv(\"https://raw.githubusercontent.com/RafaelBNN/datasets/main/powerlifting_final2.csv\")\n",
        "\n",
        "df.head()"
      ],
      "execution_count": 18,
      "outputs": [
        {
          "output_type": "execute_result",
          "data": {
            "text/html": [
              "<div>\n",
              "<style scoped>\n",
              "    .dataframe tbody tr th:only-of-type {\n",
              "        vertical-align: middle;\n",
              "    }\n",
              "\n",
              "    .dataframe tbody tr th {\n",
              "        vertical-align: top;\n",
              "    }\n",
              "\n",
              "    .dataframe thead th {\n",
              "        text-align: right;\n",
              "    }\n",
              "</style>\n",
              "<table border=\"1\" class=\"dataframe\">\n",
              "  <thead>\n",
              "    <tr style=\"text-align: right;\">\n",
              "      <th></th>\n",
              "      <th>Unnamed: 0</th>\n",
              "      <th>Unnamed: 0.1</th>\n",
              "      <th>Name</th>\n",
              "      <th>Sex</th>\n",
              "      <th>Event</th>\n",
              "      <th>Equipment</th>\n",
              "      <th>Age</th>\n",
              "      <th>AgeClass</th>\n",
              "      <th>Division</th>\n",
              "      <th>BodyweightKg</th>\n",
              "      <th>WeightClassKg</th>\n",
              "      <th>Squat1Kg</th>\n",
              "      <th>Squat2Kg</th>\n",
              "      <th>Squat3Kg</th>\n",
              "      <th>Best3SquatKg</th>\n",
              "      <th>Bench1Kg</th>\n",
              "      <th>Bench2Kg</th>\n",
              "      <th>Bench3Kg</th>\n",
              "      <th>Best3BenchKg</th>\n",
              "      <th>Deadlift1Kg</th>\n",
              "      <th>Deadlift2Kg</th>\n",
              "      <th>Deadlift3Kg</th>\n",
              "      <th>Best3DeadliftKg</th>\n",
              "      <th>TotalKg</th>\n",
              "      <th>Place</th>\n",
              "      <th>Wilks</th>\n",
              "      <th>McCulloch</th>\n",
              "      <th>Glossbrenner</th>\n",
              "      <th>IPFPoints</th>\n",
              "      <th>Tested</th>\n",
              "      <th>Country</th>\n",
              "      <th>Federation</th>\n",
              "      <th>Date</th>\n",
              "      <th>MeetCountry</th>\n",
              "      <th>MeetState</th>\n",
              "      <th>MeetName</th>\n",
              "      <th>Best3SquatKg_norm</th>\n",
              "      <th>Best3BenchKg_norm</th>\n",
              "      <th>Best3DeadliftKg_norm</th>\n",
              "      <th>TotalKg_norm</th>\n",
              "      <th>BodyweightKg_norm</th>\n",
              "      <th>IPFPoints_norm</th>\n",
              "      <th>TotalKg_disc</th>\n",
              "      <th>lof_outlier</th>\n",
              "    </tr>\n",
              "  </thead>\n",
              "  <tbody>\n",
              "    <tr>\n",
              "      <th>0</th>\n",
              "      <td>0</td>\n",
              "      <td>674206</td>\n",
              "      <td>Dane Roach</td>\n",
              "      <td>1</td>\n",
              "      <td>SBD</td>\n",
              "      <td>Raw</td>\n",
              "      <td>25.500000</td>\n",
              "      <td>24-34</td>\n",
              "      <td>MR-O</td>\n",
              "      <td>81.20</td>\n",
              "      <td>83</td>\n",
              "      <td>157.5</td>\n",
              "      <td>167.5</td>\n",
              "      <td>175.0</td>\n",
              "      <td>175.00</td>\n",
              "      <td>117.5</td>\n",
              "      <td>122.5</td>\n",
              "      <td>127.5</td>\n",
              "      <td>127.50</td>\n",
              "      <td>205.0</td>\n",
              "      <td>220.0</td>\n",
              "      <td>227.5</td>\n",
              "      <td>227.5</td>\n",
              "      <td>530.0</td>\n",
              "      <td>3</td>\n",
              "      <td>358.49</td>\n",
              "      <td>358.49</td>\n",
              "      <td>346.20</td>\n",
              "      <td>525.08</td>\n",
              "      <td>Yes</td>\n",
              "      <td>NaN</td>\n",
              "      <td>USAPL</td>\n",
              "      <td>2017-12-02</td>\n",
              "      <td>USA</td>\n",
              "      <td>MI</td>\n",
              "      <td>Michigan State Meet</td>\n",
              "      <td>-0.340206</td>\n",
              "      <td>-0.409639</td>\n",
              "      <td>0.051948</td>\n",
              "      <td>-0.148760</td>\n",
              "      <td>-0.344148</td>\n",
              "      <td>-0.167948</td>\n",
              "      <td>(487.5, 551.11]</td>\n",
              "      <td>1</td>\n",
              "    </tr>\n",
              "    <tr>\n",
              "      <th>1</th>\n",
              "      <td>1</td>\n",
              "      <td>507347</td>\n",
              "      <td>Cody Robert</td>\n",
              "      <td>1</td>\n",
              "      <td>SBD</td>\n",
              "      <td>Single-ply</td>\n",
              "      <td>23.744319</td>\n",
              "      <td>NaN</td>\n",
              "      <td>Boys</td>\n",
              "      <td>141.52</td>\n",
              "      <td>124.7+</td>\n",
              "      <td>NaN</td>\n",
              "      <td>NaN</td>\n",
              "      <td>NaN</td>\n",
              "      <td>204.12</td>\n",
              "      <td>NaN</td>\n",
              "      <td>NaN</td>\n",
              "      <td>NaN</td>\n",
              "      <td>136.08</td>\n",
              "      <td>NaN</td>\n",
              "      <td>NaN</td>\n",
              "      <td>NaN</td>\n",
              "      <td>183.7</td>\n",
              "      <td>523.9</td>\n",
              "      <td>7</td>\n",
              "      <td>292.29</td>\n",
              "      <td>292.29</td>\n",
              "      <td>276.78</td>\n",
              "      <td>345.78</td>\n",
              "      <td>Yes</td>\n",
              "      <td>NaN</td>\n",
              "      <td>THSPA</td>\n",
              "      <td>2019-02-16</td>\n",
              "      <td>USA</td>\n",
              "      <td>TX</td>\n",
              "      <td>Rice Consolidated Booster Club Meet</td>\n",
              "      <td>-0.220124</td>\n",
              "      <td>-0.368289</td>\n",
              "      <td>-0.175584</td>\n",
              "      <td>-0.158843</td>\n",
              "      <td>0.321525</td>\n",
              "      <td>-0.488504</td>\n",
              "      <td>(487.5, 551.11]</td>\n",
              "      <td>1</td>\n",
              "    </tr>\n",
              "    <tr>\n",
              "      <th>2</th>\n",
              "      <td>2</td>\n",
              "      <td>1054061</td>\n",
              "      <td>Satu Luoto</td>\n",
              "      <td>0</td>\n",
              "      <td>SBD</td>\n",
              "      <td>Raw</td>\n",
              "      <td>46.500000</td>\n",
              "      <td>45-49</td>\n",
              "      <td>Masters 1</td>\n",
              "      <td>62.76</td>\n",
              "      <td>63</td>\n",
              "      <td>122.5</td>\n",
              "      <td>127.5</td>\n",
              "      <td>-132.5</td>\n",
              "      <td>127.50</td>\n",
              "      <td>82.5</td>\n",
              "      <td>85.0</td>\n",
              "      <td>-87.5</td>\n",
              "      <td>85.00</td>\n",
              "      <td>125.0</td>\n",
              "      <td>130.0</td>\n",
              "      <td>-132.5</td>\n",
              "      <td>130.0</td>\n",
              "      <td>342.5</td>\n",
              "      <td>4</td>\n",
              "      <td>368.90</td>\n",
              "      <td>393.98</td>\n",
              "      <td>325.76</td>\n",
              "      <td>593.66</td>\n",
              "      <td>Yes</td>\n",
              "      <td>Finland</td>\n",
              "      <td>IPF</td>\n",
              "      <td>2016-06-19</td>\n",
              "      <td>USA</td>\n",
              "      <td>TX</td>\n",
              "      <td>World Classic Powerlifting Championships</td>\n",
              "      <td>-0.536082</td>\n",
              "      <td>-0.614458</td>\n",
              "      <td>-0.454545</td>\n",
              "      <td>-0.458678</td>\n",
              "      <td>-0.547647</td>\n",
              "      <td>-0.045339</td>\n",
              "      <td>(308.44, 360.0]</td>\n",
              "      <td>1</td>\n",
              "    </tr>\n",
              "    <tr>\n",
              "      <th>3</th>\n",
              "      <td>3</td>\n",
              "      <td>587550</td>\n",
              "      <td>Andreas Andersson</td>\n",
              "      <td>1</td>\n",
              "      <td>SBD</td>\n",
              "      <td>Raw</td>\n",
              "      <td>34.410717</td>\n",
              "      <td>NaN</td>\n",
              "      <td>Juniors 19-23</td>\n",
              "      <td>101.50</td>\n",
              "      <td>105</td>\n",
              "      <td>160.0</td>\n",
              "      <td>170.0</td>\n",
              "      <td>180.0</td>\n",
              "      <td>180.00</td>\n",
              "      <td>120.0</td>\n",
              "      <td>125.0</td>\n",
              "      <td>NaN</td>\n",
              "      <td>125.00</td>\n",
              "      <td>220.0</td>\n",
              "      <td>230.0</td>\n",
              "      <td>-235.0</td>\n",
              "      <td>230.0</td>\n",
              "      <td>535.0</td>\n",
              "      <td>1</td>\n",
              "      <td>323.70</td>\n",
              "      <td>323.70</td>\n",
              "      <td>310.96</td>\n",
              "      <td>456.95</td>\n",
              "      <td>Yes</td>\n",
              "      <td>NaN</td>\n",
              "      <td>NSF</td>\n",
              "      <td>2016-03-02</td>\n",
              "      <td>Norway</td>\n",
              "      <td>NaN</td>\n",
              "      <td>Klubbmesterskap</td>\n",
              "      <td>-0.319588</td>\n",
              "      <td>-0.421687</td>\n",
              "      <td>0.064935</td>\n",
              "      <td>-0.140496</td>\n",
              "      <td>-0.120124</td>\n",
              "      <td>-0.289752</td>\n",
              "      <td>(487.5, 551.11]</td>\n",
              "      <td>1</td>\n",
              "    </tr>\n",
              "    <tr>\n",
              "      <th>4</th>\n",
              "      <td>4</td>\n",
              "      <td>227497</td>\n",
              "      <td>Ben Leyland</td>\n",
              "      <td>1</td>\n",
              "      <td>SBD</td>\n",
              "      <td>Raw</td>\n",
              "      <td>28.671584</td>\n",
              "      <td>NaN</td>\n",
              "      <td>M-C-U23</td>\n",
              "      <td>107.20</td>\n",
              "      <td>120</td>\n",
              "      <td>195.0</td>\n",
              "      <td>207.5</td>\n",
              "      <td>-217.5</td>\n",
              "      <td>207.50</td>\n",
              "      <td>130.0</td>\n",
              "      <td>-132.5</td>\n",
              "      <td>-132.5</td>\n",
              "      <td>130.00</td>\n",
              "      <td>250.0</td>\n",
              "      <td>277.5</td>\n",
              "      <td>290.0</td>\n",
              "      <td>290.0</td>\n",
              "      <td>627.5</td>\n",
              "      <td>2</td>\n",
              "      <td>372.32</td>\n",
              "      <td>372.32</td>\n",
              "      <td>357.01</td>\n",
              "      <td>532.45</td>\n",
              "      <td>Yes</td>\n",
              "      <td>NaN</td>\n",
              "      <td>EPA</td>\n",
              "      <td>2015-07-18</td>\n",
              "      <td>England</td>\n",
              "      <td>NaN</td>\n",
              "      <td>East Midlands Masters Juniors and Novice Champ...</td>\n",
              "      <td>-0.206186</td>\n",
              "      <td>-0.397590</td>\n",
              "      <td>0.376623</td>\n",
              "      <td>0.012397</td>\n",
              "      <td>-0.057220</td>\n",
              "      <td>-0.154772</td>\n",
              "      <td>(551.11, 632.5]</td>\n",
              "      <td>1</td>\n",
              "    </tr>\n",
              "  </tbody>\n",
              "</table>\n",
              "</div>"
            ],
            "text/plain": [
              "   Unnamed: 0  Unnamed: 0.1  ...     TotalKg_disc  lof_outlier\n",
              "0           0        674206  ...  (487.5, 551.11]            1\n",
              "1           1        507347  ...  (487.5, 551.11]            1\n",
              "2           2       1054061  ...  (308.44, 360.0]            1\n",
              "3           3        587550  ...  (487.5, 551.11]            1\n",
              "4           4        227497  ...  (551.11, 632.5]            1\n",
              "\n",
              "[5 rows x 44 columns]"
            ]
          },
          "metadata": {
            "tags": []
          },
          "execution_count": 18
        }
      ]
    },
    {
      "cell_type": "code",
      "metadata": {
        "id": "s5p3ikdR-uhF",
        "colab": {
          "base_uri": "https://localhost:8080/"
        },
        "outputId": "0436d437-9c65-4778-f9ca-8fa11b9096c3"
      },
      "source": [
        "print('Numero de registros de 2015:', len(df[(df['Date']>'2015-01-01')&(df['Date']<'2016-01-01')]))\n",
        "print('Numero de registros de 2016:', len(df[(df['Date']>'2016-01-01')&(df['Date']<'2017-01-01')]))\n",
        "print('Numero de registros de 2017:', len(df[(df['Date']>'2017-01-01')&(df['Date']<'2018-01-01')]))\n",
        "print('Numero de registros de 2018:', len(df[(df['Date']>'2018-01-01')&(df['Date']<'2019-01-01')]))\n",
        "print('Numero de registros de 2019:', len(df[(df['Date']>'2019-01-01')&(df['Date']<'2020-01-01')]))"
      ],
      "execution_count": 19,
      "outputs": [
        {
          "output_type": "stream",
          "text": [
            "Numero de registros de 2015: 3093\n",
            "Numero de registros de 2016: 3551\n",
            "Numero de registros de 2017: 4062\n",
            "Numero de registros de 2018: 4331\n",
            "Numero de registros de 2019: 1800\n"
          ],
          "name": "stdout"
        }
      ]
    },
    {
      "cell_type": "code",
      "metadata": {
        "id": "SYHNY_ZivB-f"
      },
      "source": [
        "df = df.dropna(subset=['Sex','Age','AgeClass','Division','WeightClassKg','BodyweightKg'])"
      ],
      "execution_count": 35,
      "outputs": []
    },
    {
      "cell_type": "code",
      "metadata": {
        "id": "EMitbhrqvHAX",
        "outputId": "967186fc-661d-4362-b504-e132e51c0612",
        "colab": {
          "base_uri": "https://localhost:8080/"
        }
      },
      "source": [
        "print('Numero de registros de 2015:', len(df[(df['Date']>'2015-01-01')&(df['Date']<'2016-01-01')]))\n",
        "print('Numero de registros de 2016:', len(df[(df['Date']>'2016-01-01')&(df['Date']<'2017-01-01')]))\n",
        "print('Numero de registros de 2017:', len(df[(df['Date']>'2017-01-01')&(df['Date']<'2018-01-01')]))\n",
        "print('Numero de registros de 2018:', len(df[(df['Date']>'2018-01-01')&(df['Date']<'2019-01-01')]))\n",
        "print('Numero de registros de 2019:', len(df[(df['Date']>'2019-01-01')&(df['Date']<'2020-01-01')]))"
      ],
      "execution_count": 36,
      "outputs": [
        {
          "output_type": "stream",
          "text": [
            "Numero de registros de 2015: 3085\n",
            "Numero de registros de 2016: 3538\n",
            "Numero de registros de 2017: 4053\n",
            "Numero de registros de 2018: 4326\n",
            "Numero de registros de 2019: 1800\n"
          ],
          "name": "stdout"
        }
      ]
    },
    {
      "cell_type": "markdown",
      "metadata": {
        "id": "PZfYnpWg_IrU"
      },
      "source": [
        "Dessa forma, vamos utilizar os anos de 2015 a 2018 para *training* e *validation set* e os registros de 2019 para *test set*."
      ]
    },
    {
      "cell_type": "code",
      "metadata": {
        "id": "fywG71cAp8u8",
        "colab": {
          "base_uri": "https://localhost:8080/"
        },
        "outputId": "28ed4208-c11c-4942-eec6-ca6b1fcfbbb6"
      },
      "source": [
        "df['MeetName'].dtype"
      ],
      "execution_count": 20,
      "outputs": [
        {
          "output_type": "execute_result",
          "data": {
            "text/plain": [
              "dtype('O')"
            ]
          },
          "metadata": {
            "tags": []
          },
          "execution_count": 20
        }
      ]
    },
    {
      "cell_type": "code",
      "metadata": {
        "id": "fsdyYv7yKuk_",
        "colab": {
          "base_uri": "https://localhost:8080/"
        },
        "outputId": "8bd924b0-d64a-4b2b-a055-dd5b805a1780"
      },
      "source": [
        "df['MeetName'] = df['MeetName'].astype('category')\n",
        "\n",
        "df['MeetName'].cat.categories"
      ],
      "execution_count": 21,
      "outputs": [
        {
          "output_type": "execute_result",
          "data": {
            "text/plain": [
              "Index(['015 Pennsylvania State Bench Press and Deadlift',\n",
              "       '1. Pitomača Open u powerliftingu & benchpressu',\n",
              "       '1. Runde Bayernliga Bankdrücken', '1. Runde Bundesliga Kraftdreikampf',\n",
              "       '1. Runde Sachsen-Ober-Liga im Bankdrücken',\n",
              "       '1. Wettkampftag Bundesliga Kraftdreikampf',\n",
              "       '10th Annual Asa Chambless Powerlifting Classic',\n",
              "       '10th Annual Bristol Big Bench', '10th Annual Fall Championships',\n",
              "       '10th Annual Forney Jackrabbit Invitational',\n",
              "       ...\n",
              "       'Íslandsmeistaramót ungmenna og öldunga í klassískum kraftlyftingum',\n",
              "       'Íslandsmeistaramót ungmenna og öldunga í kraftlyftingum',\n",
              "       'Íslandsmeistaramót í bekkpressu',\n",
              "       'Íslandsmeistaramót í klassískum kraftlyftingum',\n",
              "       'Íslandsmeistaramót í kraftlyftingum',\n",
              "       'Íslandsmeistaramót í réttstöðulyftu',\n",
              "       'Österreichische Staatsmeisterschaft mit Internationalen Cup',\n",
              "       'Českomoravský Pohár v Klasickém Silovém Trojboji Dorostu a Juniorů',\n",
              "       'Českomoravský Pohár v Klasickém Silovém Trojboji Mužů a Žen',\n",
              "       'Đurđevac Open'],\n",
              "      dtype='object', length=4728)"
            ]
          },
          "metadata": {
            "tags": []
          },
          "execution_count": 21
        }
      ]
    },
    {
      "cell_type": "code",
      "metadata": {
        "id": "15n8wrm8LGsm",
        "colab": {
          "base_uri": "https://localhost:8080/",
          "height": 669
        },
        "outputId": "277742f0-2bb6-4ee4-d475-7a7c73e6fdbc"
      },
      "source": [
        "mask = (df['Date']>'2019-01-01')&(df['Date']<'2020-01-01')\n",
        "\n",
        "df.loc[mask]"
      ],
      "execution_count": null,
      "outputs": [
        {
          "output_type": "execute_result",
          "data": {
            "text/html": [
              "<div>\n",
              "<style scoped>\n",
              "    .dataframe tbody tr th:only-of-type {\n",
              "        vertical-align: middle;\n",
              "    }\n",
              "\n",
              "    .dataframe tbody tr th {\n",
              "        vertical-align: top;\n",
              "    }\n",
              "\n",
              "    .dataframe thead th {\n",
              "        text-align: right;\n",
              "    }\n",
              "</style>\n",
              "<table border=\"1\" class=\"dataframe\">\n",
              "  <thead>\n",
              "    <tr style=\"text-align: right;\">\n",
              "      <th></th>\n",
              "      <th>Unnamed: 0</th>\n",
              "      <th>Unnamed: 0.1</th>\n",
              "      <th>Name</th>\n",
              "      <th>Sex</th>\n",
              "      <th>Event</th>\n",
              "      <th>Equipment</th>\n",
              "      <th>Age</th>\n",
              "      <th>AgeClass</th>\n",
              "      <th>Division</th>\n",
              "      <th>BodyweightKg</th>\n",
              "      <th>WeightClassKg</th>\n",
              "      <th>Squat1Kg</th>\n",
              "      <th>Squat2Kg</th>\n",
              "      <th>Squat3Kg</th>\n",
              "      <th>Best3SquatKg</th>\n",
              "      <th>Bench1Kg</th>\n",
              "      <th>Bench2Kg</th>\n",
              "      <th>Bench3Kg</th>\n",
              "      <th>Best3BenchKg</th>\n",
              "      <th>Deadlift1Kg</th>\n",
              "      <th>Deadlift2Kg</th>\n",
              "      <th>Deadlift3Kg</th>\n",
              "      <th>Best3DeadliftKg</th>\n",
              "      <th>TotalKg</th>\n",
              "      <th>Place</th>\n",
              "      <th>Wilks</th>\n",
              "      <th>McCulloch</th>\n",
              "      <th>Glossbrenner</th>\n",
              "      <th>IPFPoints</th>\n",
              "      <th>Tested</th>\n",
              "      <th>Country</th>\n",
              "      <th>Federation</th>\n",
              "      <th>Date</th>\n",
              "      <th>MeetCountry</th>\n",
              "      <th>MeetState</th>\n",
              "      <th>MeetName</th>\n",
              "      <th>Best3SquatKg_norm</th>\n",
              "      <th>Best3BenchKg_norm</th>\n",
              "      <th>Best3DeadliftKg_norm</th>\n",
              "      <th>TotalKg_norm</th>\n",
              "      <th>BodyweightKg_norm</th>\n",
              "      <th>IPFPoints_norm</th>\n",
              "      <th>TotalKg_disc</th>\n",
              "      <th>lof_outlier</th>\n",
              "    </tr>\n",
              "  </thead>\n",
              "  <tbody>\n",
              "    <tr>\n",
              "      <th>1</th>\n",
              "      <td>1</td>\n",
              "      <td>507347</td>\n",
              "      <td>Cody Robert</td>\n",
              "      <td>1</td>\n",
              "      <td>SBD</td>\n",
              "      <td>Single-ply</td>\n",
              "      <td>23.744319</td>\n",
              "      <td>NaN</td>\n",
              "      <td>Boys</td>\n",
              "      <td>141.52</td>\n",
              "      <td>124.7+</td>\n",
              "      <td>NaN</td>\n",
              "      <td>NaN</td>\n",
              "      <td>NaN</td>\n",
              "      <td>204.12</td>\n",
              "      <td>NaN</td>\n",
              "      <td>NaN</td>\n",
              "      <td>NaN</td>\n",
              "      <td>136.08</td>\n",
              "      <td>NaN</td>\n",
              "      <td>NaN</td>\n",
              "      <td>NaN</td>\n",
              "      <td>183.70</td>\n",
              "      <td>523.90</td>\n",
              "      <td>7</td>\n",
              "      <td>292.29</td>\n",
              "      <td>292.29</td>\n",
              "      <td>276.78</td>\n",
              "      <td>345.78</td>\n",
              "      <td>Yes</td>\n",
              "      <td>NaN</td>\n",
              "      <td>THSPA</td>\n",
              "      <td>2019-02-16</td>\n",
              "      <td>USA</td>\n",
              "      <td>TX</td>\n",
              "      <td>Rice Consolidated Booster Club Meet</td>\n",
              "      <td>-0.220124</td>\n",
              "      <td>-0.368289</td>\n",
              "      <td>-0.175584</td>\n",
              "      <td>-0.158843</td>\n",
              "      <td>0.321525</td>\n",
              "      <td>-0.488504</td>\n",
              "      <td>(487.5, 551.11]</td>\n",
              "      <td>1</td>\n",
              "    </tr>\n",
              "    <tr>\n",
              "      <th>7</th>\n",
              "      <td>8</td>\n",
              "      <td>1119580</td>\n",
              "      <td>Cali Mendonca</td>\n",
              "      <td>0</td>\n",
              "      <td>SBD</td>\n",
              "      <td>Single-ply</td>\n",
              "      <td>24.270429</td>\n",
              "      <td>NaN</td>\n",
              "      <td>Girls</td>\n",
              "      <td>59.33</td>\n",
              "      <td>60.1</td>\n",
              "      <td>NaN</td>\n",
              "      <td>NaN</td>\n",
              "      <td>NaN</td>\n",
              "      <td>79.38</td>\n",
              "      <td>NaN</td>\n",
              "      <td>NaN</td>\n",
              "      <td>NaN</td>\n",
              "      <td>43.09</td>\n",
              "      <td>NaN</td>\n",
              "      <td>NaN</td>\n",
              "      <td>NaN</td>\n",
              "      <td>90.72</td>\n",
              "      <td>213.19</td>\n",
              "      <td>4</td>\n",
              "      <td>239.76</td>\n",
              "      <td>239.76</td>\n",
              "      <td>211.88</td>\n",
              "      <td>346.87</td>\n",
              "      <td>Yes</td>\n",
              "      <td>NaN</td>\n",
              "      <td>THSWPA</td>\n",
              "      <td>2019-01-26</td>\n",
              "      <td>USA</td>\n",
              "      <td>TX</td>\n",
              "      <td>Bullard Invitational</td>\n",
              "      <td>-0.734515</td>\n",
              "      <td>-0.816434</td>\n",
              "      <td>-0.658597</td>\n",
              "      <td>-0.672413</td>\n",
              "      <td>-0.585499</td>\n",
              "      <td>-0.486556</td>\n",
              "      <td>(212.5, 262.5]</td>\n",
              "      <td>1</td>\n",
              "    </tr>\n",
              "    <tr>\n",
              "      <th>18</th>\n",
              "      <td>19</td>\n",
              "      <td>323371</td>\n",
              "      <td>Calvin Poweroy</td>\n",
              "      <td>1</td>\n",
              "      <td>SBD</td>\n",
              "      <td>Single-ply</td>\n",
              "      <td>49.000000</td>\n",
              "      <td>NaN</td>\n",
              "      <td>Boys</td>\n",
              "      <td>116.39</td>\n",
              "      <td>124.7</td>\n",
              "      <td>NaN</td>\n",
              "      <td>NaN</td>\n",
              "      <td>NaN</td>\n",
              "      <td>174.63</td>\n",
              "      <td>NaN</td>\n",
              "      <td>NaN</td>\n",
              "      <td>NaN</td>\n",
              "      <td>97.52</td>\n",
              "      <td>NaN</td>\n",
              "      <td>NaN</td>\n",
              "      <td>NaN</td>\n",
              "      <td>195.04</td>\n",
              "      <td>467.20</td>\n",
              "      <td>8</td>\n",
              "      <td>270.61</td>\n",
              "      <td>270.61</td>\n",
              "      <td>258.62</td>\n",
              "      <td>342.48</td>\n",
              "      <td>Yes</td>\n",
              "      <td>NaN</td>\n",
              "      <td>THSPA</td>\n",
              "      <td>2019-01-10</td>\n",
              "      <td>USA</td>\n",
              "      <td>TX</td>\n",
              "      <td>Midway Powerlifting Invitational</td>\n",
              "      <td>-0.341732</td>\n",
              "      <td>-0.554120</td>\n",
              "      <td>-0.116675</td>\n",
              "      <td>-0.252562</td>\n",
              "      <td>0.044198</td>\n",
              "      <td>-0.494404</td>\n",
              "      <td>(419.57, 487.5]</td>\n",
              "      <td>1</td>\n",
              "    </tr>\n",
              "    <tr>\n",
              "      <th>21</th>\n",
              "      <td>23</td>\n",
              "      <td>334119</td>\n",
              "      <td>Josh Hsu</td>\n",
              "      <td>1</td>\n",
              "      <td>SBD</td>\n",
              "      <td>Single-ply</td>\n",
              "      <td>25.500000</td>\n",
              "      <td>NaN</td>\n",
              "      <td>Boys</td>\n",
              "      <td>113.22</td>\n",
              "      <td>124.7</td>\n",
              "      <td>NaN</td>\n",
              "      <td>NaN</td>\n",
              "      <td>NaN</td>\n",
              "      <td>163.29</td>\n",
              "      <td>NaN</td>\n",
              "      <td>NaN</td>\n",
              "      <td>NaN</td>\n",
              "      <td>65.77</td>\n",
              "      <td>NaN</td>\n",
              "      <td>NaN</td>\n",
              "      <td>NaN</td>\n",
              "      <td>163.29</td>\n",
              "      <td>392.36</td>\n",
              "      <td>20</td>\n",
              "      <td>228.96</td>\n",
              "      <td>228.96</td>\n",
              "      <td>219.07</td>\n",
              "      <td>299.89</td>\n",
              "      <td>Yes</td>\n",
              "      <td>NaN</td>\n",
              "      <td>THSPA</td>\n",
              "      <td>2019-02-09</td>\n",
              "      <td>USA</td>\n",
              "      <td>TX</td>\n",
              "      <td>Longhorn Invitational</td>\n",
              "      <td>-0.388495</td>\n",
              "      <td>-0.707133</td>\n",
              "      <td>-0.281610</td>\n",
              "      <td>-0.376264</td>\n",
              "      <td>0.009215</td>\n",
              "      <td>-0.570547</td>\n",
              "      <td>(360.0, 419.57]</td>\n",
              "      <td>1</td>\n",
              "    </tr>\n",
              "    <tr>\n",
              "      <th>32</th>\n",
              "      <td>34</td>\n",
              "      <td>394449</td>\n",
              "      <td>Davonte Grisham</td>\n",
              "      <td>1</td>\n",
              "      <td>SBD</td>\n",
              "      <td>Single-ply</td>\n",
              "      <td>26.972898</td>\n",
              "      <td>NaN</td>\n",
              "      <td>Boys</td>\n",
              "      <td>71.40</td>\n",
              "      <td>74.8</td>\n",
              "      <td>NaN</td>\n",
              "      <td>NaN</td>\n",
              "      <td>NaN</td>\n",
              "      <td>156.49</td>\n",
              "      <td>NaN</td>\n",
              "      <td>NaN</td>\n",
              "      <td>NaN</td>\n",
              "      <td>90.72</td>\n",
              "      <td>NaN</td>\n",
              "      <td>NaN</td>\n",
              "      <td>NaN</td>\n",
              "      <td>163.29</td>\n",
              "      <td>410.50</td>\n",
              "      <td>12</td>\n",
              "      <td>303.06</td>\n",
              "      <td>303.06</td>\n",
              "      <td>293.50</td>\n",
              "      <td>400.40</td>\n",
              "      <td>Yes</td>\n",
              "      <td>NaN</td>\n",
              "      <td>THSPA</td>\n",
              "      <td>2019-02-02</td>\n",
              "      <td>USA</td>\n",
              "      <td>TX</td>\n",
              "      <td>Rice Bulldog Invitational</td>\n",
              "      <td>-0.416536</td>\n",
              "      <td>-0.586892</td>\n",
              "      <td>-0.281610</td>\n",
              "      <td>-0.346281</td>\n",
              "      <td>-0.452298</td>\n",
              "      <td>-0.390854</td>\n",
              "      <td>(360.0, 419.57]</td>\n",
              "      <td>1</td>\n",
              "    </tr>\n",
              "    <tr>\n",
              "      <th>...</th>\n",
              "      <td>...</td>\n",
              "      <td>...</td>\n",
              "      <td>...</td>\n",
              "      <td>...</td>\n",
              "      <td>...</td>\n",
              "      <td>...</td>\n",
              "      <td>...</td>\n",
              "      <td>...</td>\n",
              "      <td>...</td>\n",
              "      <td>...</td>\n",
              "      <td>...</td>\n",
              "      <td>...</td>\n",
              "      <td>...</td>\n",
              "      <td>...</td>\n",
              "      <td>...</td>\n",
              "      <td>...</td>\n",
              "      <td>...</td>\n",
              "      <td>...</td>\n",
              "      <td>...</td>\n",
              "      <td>...</td>\n",
              "      <td>...</td>\n",
              "      <td>...</td>\n",
              "      <td>...</td>\n",
              "      <td>...</td>\n",
              "      <td>...</td>\n",
              "      <td>...</td>\n",
              "      <td>...</td>\n",
              "      <td>...</td>\n",
              "      <td>...</td>\n",
              "      <td>...</td>\n",
              "      <td>...</td>\n",
              "      <td>...</td>\n",
              "      <td>...</td>\n",
              "      <td>...</td>\n",
              "      <td>...</td>\n",
              "      <td>...</td>\n",
              "      <td>...</td>\n",
              "      <td>...</td>\n",
              "      <td>...</td>\n",
              "      <td>...</td>\n",
              "      <td>...</td>\n",
              "      <td>...</td>\n",
              "      <td>...</td>\n",
              "      <td>...</td>\n",
              "    </tr>\n",
              "    <tr>\n",
              "      <th>16866</th>\n",
              "      <td>18521</td>\n",
              "      <td>464844</td>\n",
              "      <td>Kingsley Rodriguez</td>\n",
              "      <td>1</td>\n",
              "      <td>SBD</td>\n",
              "      <td>Single-ply</td>\n",
              "      <td>37.000000</td>\n",
              "      <td>NaN</td>\n",
              "      <td>Boys</td>\n",
              "      <td>72.85</td>\n",
              "      <td>74.8</td>\n",
              "      <td>NaN</td>\n",
              "      <td>NaN</td>\n",
              "      <td>NaN</td>\n",
              "      <td>188.24</td>\n",
              "      <td>NaN</td>\n",
              "      <td>NaN</td>\n",
              "      <td>NaN</td>\n",
              "      <td>111.13</td>\n",
              "      <td>NaN</td>\n",
              "      <td>NaN</td>\n",
              "      <td>NaN</td>\n",
              "      <td>192.78</td>\n",
              "      <td>492.15</td>\n",
              "      <td>5</td>\n",
              "      <td>358.01</td>\n",
              "      <td>358.01</td>\n",
              "      <td>346.54</td>\n",
              "      <td>461.62</td>\n",
              "      <td>Yes</td>\n",
              "      <td>NaN</td>\n",
              "      <td>THSPA</td>\n",
              "      <td>2019-01-12</td>\n",
              "      <td>USA</td>\n",
              "      <td>TX</td>\n",
              "      <td>Plainview Invitational</td>\n",
              "      <td>-0.285608</td>\n",
              "      <td>-0.488530</td>\n",
              "      <td>-0.128416</td>\n",
              "      <td>-0.211322</td>\n",
              "      <td>-0.436296</td>\n",
              "      <td>-0.281403</td>\n",
              "      <td>(487.5, 551.11]</td>\n",
              "      <td>1</td>\n",
              "    </tr>\n",
              "    <tr>\n",
              "      <th>16868</th>\n",
              "      <td>18523</td>\n",
              "      <td>1086951</td>\n",
              "      <td>Kaylen Flores</td>\n",
              "      <td>0</td>\n",
              "      <td>SBD</td>\n",
              "      <td>Single-ply</td>\n",
              "      <td>30.500000</td>\n",
              "      <td>NaN</td>\n",
              "      <td>Girls</td>\n",
              "      <td>114.85</td>\n",
              "      <td>117.7</td>\n",
              "      <td>NaN</td>\n",
              "      <td>NaN</td>\n",
              "      <td>NaN</td>\n",
              "      <td>185.97</td>\n",
              "      <td>NaN</td>\n",
              "      <td>NaN</td>\n",
              "      <td>NaN</td>\n",
              "      <td>97.52</td>\n",
              "      <td>NaN</td>\n",
              "      <td>NaN</td>\n",
              "      <td>NaN</td>\n",
              "      <td>142.88</td>\n",
              "      <td>426.38</td>\n",
              "      <td>8</td>\n",
              "      <td>343.70</td>\n",
              "      <td>343.70</td>\n",
              "      <td>291.96</td>\n",
              "      <td>468.34</td>\n",
              "      <td>Yes</td>\n",
              "      <td>NaN</td>\n",
              "      <td>THSWPA</td>\n",
              "      <td>2019-03-02</td>\n",
              "      <td>USA</td>\n",
              "      <td>TX</td>\n",
              "      <td>REGION V DIVISION I CHAMPIONSHIPS</td>\n",
              "      <td>-0.294969</td>\n",
              "      <td>-0.554120</td>\n",
              "      <td>-0.387636</td>\n",
              "      <td>-0.320033</td>\n",
              "      <td>0.027203</td>\n",
              "      <td>-0.269389</td>\n",
              "      <td>(419.57, 487.5]</td>\n",
              "      <td>1</td>\n",
              "    </tr>\n",
              "    <tr>\n",
              "      <th>16869</th>\n",
              "      <td>18524</td>\n",
              "      <td>310372</td>\n",
              "      <td>Cameron Gray</td>\n",
              "      <td>1</td>\n",
              "      <td>SBD</td>\n",
              "      <td>Single-ply</td>\n",
              "      <td>25.000000</td>\n",
              "      <td>NaN</td>\n",
              "      <td>Boys</td>\n",
              "      <td>66.77</td>\n",
              "      <td>67.1</td>\n",
              "      <td>NaN</td>\n",
              "      <td>NaN</td>\n",
              "      <td>NaN</td>\n",
              "      <td>195.04</td>\n",
              "      <td>NaN</td>\n",
              "      <td>NaN</td>\n",
              "      <td>NaN</td>\n",
              "      <td>104.33</td>\n",
              "      <td>NaN</td>\n",
              "      <td>NaN</td>\n",
              "      <td>NaN</td>\n",
              "      <td>199.58</td>\n",
              "      <td>498.95</td>\n",
              "      <td>1</td>\n",
              "      <td>388.08</td>\n",
              "      <td>388.08</td>\n",
              "      <td>376.56</td>\n",
              "      <td>494.18</td>\n",
              "      <td>Yes</td>\n",
              "      <td>NaN</td>\n",
              "      <td>THSPA</td>\n",
              "      <td>2019-01-23</td>\n",
              "      <td>USA</td>\n",
              "      <td>TX</td>\n",
              "      <td>Ranchview Invitational</td>\n",
              "      <td>-0.257567</td>\n",
              "      <td>-0.521301</td>\n",
              "      <td>-0.093091</td>\n",
              "      <td>-0.200083</td>\n",
              "      <td>-0.503393</td>\n",
              "      <td>-0.223192</td>\n",
              "      <td>(487.5, 551.11]</td>\n",
              "      <td>1</td>\n",
              "    </tr>\n",
              "    <tr>\n",
              "      <th>16872</th>\n",
              "      <td>18528</td>\n",
              "      <td>344197</td>\n",
              "      <td>Christopher Laxamana</td>\n",
              "      <td>1</td>\n",
              "      <td>SBD</td>\n",
              "      <td>Single-ply</td>\n",
              "      <td>21.500000</td>\n",
              "      <td>NaN</td>\n",
              "      <td>Boys</td>\n",
              "      <td>65.09</td>\n",
              "      <td>67.1</td>\n",
              "      <td>NaN</td>\n",
              "      <td>NaN</td>\n",
              "      <td>NaN</td>\n",
              "      <td>172.37</td>\n",
              "      <td>NaN</td>\n",
              "      <td>NaN</td>\n",
              "      <td>NaN</td>\n",
              "      <td>92.99</td>\n",
              "      <td>NaN</td>\n",
              "      <td>NaN</td>\n",
              "      <td>NaN</td>\n",
              "      <td>188.24</td>\n",
              "      <td>453.59</td>\n",
              "      <td>4</td>\n",
              "      <td>360.28</td>\n",
              "      <td>360.28</td>\n",
              "      <td>349.88</td>\n",
              "      <td>463.00</td>\n",
              "      <td>Yes</td>\n",
              "      <td>NaN</td>\n",
              "      <td>THSPA</td>\n",
              "      <td>2019-02-07</td>\n",
              "      <td>USA</td>\n",
              "      <td>TX</td>\n",
              "      <td>Iowa Park Invitational</td>\n",
              "      <td>-0.351052</td>\n",
              "      <td>-0.575952</td>\n",
              "      <td>-0.152000</td>\n",
              "      <td>-0.275058</td>\n",
              "      <td>-0.521933</td>\n",
              "      <td>-0.278936</td>\n",
              "      <td>(419.57, 487.5]</td>\n",
              "      <td>1</td>\n",
              "    </tr>\n",
              "    <tr>\n",
              "      <th>16876</th>\n",
              "      <td>18534</td>\n",
              "      <td>883741</td>\n",
              "      <td>Robert Moody</td>\n",
              "      <td>1</td>\n",
              "      <td>SBD</td>\n",
              "      <td>Raw</td>\n",
              "      <td>30.000000</td>\n",
              "      <td>35-39</td>\n",
              "      <td>Open</td>\n",
              "      <td>150.00</td>\n",
              "      <td>140+</td>\n",
              "      <td>NaN</td>\n",
              "      <td>NaN</td>\n",
              "      <td>NaN</td>\n",
              "      <td>272.50</td>\n",
              "      <td>NaN</td>\n",
              "      <td>NaN</td>\n",
              "      <td>NaN</td>\n",
              "      <td>185.00</td>\n",
              "      <td>NaN</td>\n",
              "      <td>NaN</td>\n",
              "      <td>NaN</td>\n",
              "      <td>290.00</td>\n",
              "      <td>747.50</td>\n",
              "      <td>1</td>\n",
              "      <td>413.59</td>\n",
              "      <td>413.59</td>\n",
              "      <td>390.77</td>\n",
              "      <td>540.67</td>\n",
              "      <td>NaN</td>\n",
              "      <td>NaN</td>\n",
              "      <td>USPA</td>\n",
              "      <td>2019-02-16</td>\n",
              "      <td>USA</td>\n",
              "      <td>AK</td>\n",
              "      <td>Awakening of the Frost Giants</td>\n",
              "      <td>0.061856</td>\n",
              "      <td>-0.132530</td>\n",
              "      <td>0.376623</td>\n",
              "      <td>0.210744</td>\n",
              "      <td>0.415108</td>\n",
              "      <td>-0.140076</td>\n",
              "      <td>(632.5, 1225.0]</td>\n",
              "      <td>1</td>\n",
              "    </tr>\n",
              "  </tbody>\n",
              "</table>\n",
              "<p>1800 rows × 44 columns</p>\n",
              "</div>"
            ],
            "text/plain": [
              "       Unnamed: 0  Unnamed: 0.1  ...     TotalKg_disc  lof_outlier\n",
              "1               1        507347  ...  (487.5, 551.11]            1\n",
              "7               8       1119580  ...   (212.5, 262.5]            1\n",
              "18             19        323371  ...  (419.57, 487.5]            1\n",
              "21             23        334119  ...  (360.0, 419.57]            1\n",
              "32             34        394449  ...  (360.0, 419.57]            1\n",
              "...           ...           ...  ...              ...          ...\n",
              "16866       18521        464844  ...  (487.5, 551.11]            1\n",
              "16868       18523       1086951  ...  (419.57, 487.5]            1\n",
              "16869       18524        310372  ...  (487.5, 551.11]            1\n",
              "16872       18528        344197  ...  (419.57, 487.5]            1\n",
              "16876       18534        883741  ...  (632.5, 1225.0]            1\n",
              "\n",
              "[1800 rows x 44 columns]"
            ]
          },
          "metadata": {
            "tags": []
          },
          "execution_count": 7
        }
      ]
    },
    {
      "cell_type": "markdown",
      "metadata": {
        "id": "h_bihn8e6pdN"
      },
      "source": [
        "# Introdução"
      ]
    },
    {
      "cell_type": "markdown",
      "metadata": {
        "id": "6qfzJaob6uPT"
      },
      "source": [
        "Este Notebook busca dar continuidade à análise do dataset estudado no primeiro projeto. Lá, exploramos e tratamos um dataset relacionado a competições de powerlifting, sobre o qual realizamos pré-processeamento e análise descritiva. \n",
        "\n",
        "Neste projeto, daremos prosseguimento a isso aplicando a ideia de *predição* dos dados. \n",
        "\n",
        "Os problemas de predição aparecem quando queremos descobrir um atributo desconhecido de um registro a partir de outros atributos desse registro. Esses problemas são, principalmente, divididos em duas categorias: problemas de *classificação* e problemas de *regressão*. Na *classificação*, o objetivo é predizer um atributo categórico de um registro, como o sexo de um indivíduo ou a espécie de um animal, por exemplo, enquanto que, na *regressão*, queremos prever um atributo contínuo, como a altura ou o peso de uma pessoa.\n",
        "\n",
        "A partir do dataset observado, portanto, vamos aplicar o conceito de regressão ao atributo `Place`. Vamos treinar alguns modelos a partir de variados algoritmos de *machine learning* para realizar a predição dessa coluna e avaliar a performance de cada um desses modelos."
      ]
    },
    {
      "cell_type": "markdown",
      "metadata": {
        "id": "l6hhfAhATGgP"
      },
      "source": [
        "*É bom falar sobre o novo dataset aqui já eu acho*"
      ]
    },
    {
      "cell_type": "markdown",
      "metadata": {
        "id": "EQCrur5aaE9a"
      },
      "source": [
        "# Examinando os Dados (Clustering)"
      ]
    },
    {
      "cell_type": "markdown",
      "metadata": {
        "id": "PaRmQKFlxn6L"
      },
      "source": [
        "# `Place` vs outros atributos "
      ]
    },
    {
      "cell_type": "markdown",
      "metadata": {
        "id": "xIgUVmSqxyN-"
      },
      "source": [
        "Inicialmente, vamos buscar analisar possíveis correlações, por meio de clustering, entre o atributo `Place`, que queremos predizer, e outros atributos presentes no dataframe."
      ]
    },
    {
      "cell_type": "code",
      "metadata": {
        "id": "SSo6aMtjyMpx",
        "colab": {
          "base_uri": "https://localhost:8080/"
        },
        "outputId": "3f5da4c5-be9c-441c-ccec-7279f216e6dd"
      },
      "source": [
        "df.dtypes"
      ],
      "execution_count": null,
      "outputs": [
        {
          "output_type": "execute_result",
          "data": {
            "text/plain": [
              "Unnamed: 0                 int64\n",
              "Unnamed: 0.1               int64\n",
              "Name                      object\n",
              "Sex                        int64\n",
              "Event                     object\n",
              "Equipment                 object\n",
              "Age                      float64\n",
              "AgeClass                  object\n",
              "Division                  object\n",
              "BodyweightKg             float64\n",
              "WeightClassKg             object\n",
              "Squat1Kg                 float64\n",
              "Squat2Kg                 float64\n",
              "Squat3Kg                 float64\n",
              "Best3SquatKg             float64\n",
              "Bench1Kg                 float64\n",
              "Bench2Kg                 float64\n",
              "Bench3Kg                 float64\n",
              "Best3BenchKg             float64\n",
              "Deadlift1Kg              float64\n",
              "Deadlift2Kg              float64\n",
              "Deadlift3Kg              float64\n",
              "Best3DeadliftKg          float64\n",
              "TotalKg                  float64\n",
              "Place                     object\n",
              "Wilks                    float64\n",
              "McCulloch                float64\n",
              "Glossbrenner             float64\n",
              "IPFPoints                float64\n",
              "Tested                    object\n",
              "Country                   object\n",
              "Federation                object\n",
              "Date                      object\n",
              "MeetCountry               object\n",
              "MeetState                 object\n",
              "MeetName                category\n",
              "Best3SquatKg_norm        float64\n",
              "Best3BenchKg_norm        float64\n",
              "Best3DeadliftKg_norm     float64\n",
              "TotalKg_norm             float64\n",
              "BodyweightKg_norm        float64\n",
              "IPFPoints_norm           float64\n",
              "TotalKg_disc              object\n",
              "lof_outlier                int64\n",
              "dtype: object"
            ]
          },
          "metadata": {
            "tags": []
          },
          "execution_count": 8
        }
      ]
    },
    {
      "cell_type": "code",
      "metadata": {
        "id": "qZvaFjxhzi82"
      },
      "source": [
        "df['Name'] = df['Name'].astype('string')\n",
        "df['Sex'] = df['Sex'].astype('category')                        # astype('char')\n",
        "df['Event'] = df['Event'].astype('category')                    # astype('string')\n",
        "df['Equipment'] = df['Equipment'].astype('category')\n",
        "df['AgeClass'] = df['AgeClass'].astype('category')\n",
        "df['Division'] = df['Division'].astype('category')\n",
        "df['WeightClassKg'] = df['WeightClassKg'].astype('category')\n",
        "df['Place'] = df['Place'].astype('category')                    # astype('int64')\n",
        "df['Tested'] = df['Tested'].astype('category')\n",
        "df['Country'] = df['Country'].astype('category')\n",
        "df['Federation'] = df['Federation'].astype('category')\n",
        "df['Date'] = df['Date'].astype('category')\n",
        "df['MeetCountry'] = df['MeetCountry'].astype('category')\n",
        "df['MeetState'] = df['MeetState'].astype('category')\n",
        "df['MeetName'] = df['MeetName'].astype('category')\n",
        "df['Sex'] = df['Sex'].astype('category')"
      ],
      "execution_count": null,
      "outputs": []
    },
    {
      "cell_type": "code",
      "metadata": {
        "id": "bHHMTyMYof85",
        "colab": {
          "base_uri": "https://localhost:8080/"
        },
        "outputId": "59005e37-0509-4a96-881c-a2c60e5779dc"
      },
      "source": [
        "(df['Division'].cat.categories)"
      ],
      "execution_count": null,
      "outputs": [
        {
          "output_type": "execute_result",
          "data": {
            "text/plain": [
              "Index(['12-13', '14-15', '20-23', '24-39', '40-44', '45-49', '50-54', '55+',\n",
              "       '55-59', '60+',\n",
              "       ...\n",
              "       'wsm1', 'wsm2', 'wsmp', 'wteen', 'wyouth', 'youth', 'М1 40-49', 'М2',\n",
              "       'М3', 'М3 60-69'],\n",
              "      dtype='object', length=857)"
            ]
          },
          "metadata": {
            "tags": []
          },
          "execution_count": 10
        }
      ]
    },
    {
      "cell_type": "code",
      "metadata": {
        "id": "krbCk5Fiz61A"
      },
      "source": [
        "#df['Name'] = df['Name'].cat.codes\n",
        "df['Sex'] = df['Sex'].cat.codes\n",
        "df['Event'] = df['Event'].cat.codes\n",
        "df['Equipment'] = df['Equipment'].cat.codes\n",
        "df['AgeClass'] = df['AgeClass'].cat.codes\n",
        "df['Division'] = df['Division'].cat.codes\n",
        "df['WeightClassKg'] = df['WeightClassKg'].cat.codes\n",
        "df['Place'] = df['Place'].cat.codes\n",
        "df['Tested'] = df['Tested'].cat.codes\n",
        "df['Country'] = df['Country'].cat.codes\n",
        "df['Federation'] = df['Federation'].cat.codes\n",
        "df['Date'] = df['Date'].cat.codes\n",
        "df['MeetCountry'] = df['MeetCountry'].cat.codes\n",
        "df['MeetState'] = df['MeetState'].cat.codes\n",
        "df['MeetName'] = df['MeetName'].cat.codes"
      ],
      "execution_count": null,
      "outputs": []
    },
    {
      "cell_type": "code",
      "metadata": {
        "id": "GWLKUwVz0jF9",
        "colab": {
          "base_uri": "https://localhost:8080/"
        },
        "outputId": "3ed1371d-1842-405d-c619-117bb8f54ec4"
      },
      "source": [
        "df.dtypes"
      ],
      "execution_count": null,
      "outputs": [
        {
          "output_type": "execute_result",
          "data": {
            "text/plain": [
              "Unnamed: 0                int64\n",
              "Unnamed: 0.1              int64\n",
              "Name                     string\n",
              "Sex                        int8\n",
              "Event                      int8\n",
              "Equipment                  int8\n",
              "Age                     float64\n",
              "AgeClass                   int8\n",
              "Division                  int16\n",
              "BodyweightKg            float64\n",
              "WeightClassKg              int8\n",
              "Squat1Kg                float64\n",
              "Squat2Kg                float64\n",
              "Squat3Kg                float64\n",
              "Best3SquatKg            float64\n",
              "Bench1Kg                float64\n",
              "Bench2Kg                float64\n",
              "Bench3Kg                float64\n",
              "Best3BenchKg            float64\n",
              "Deadlift1Kg             float64\n",
              "Deadlift2Kg             float64\n",
              "Deadlift3Kg             float64\n",
              "Best3DeadliftKg         float64\n",
              "TotalKg                 float64\n",
              "Place                      int8\n",
              "Wilks                   float64\n",
              "McCulloch               float64\n",
              "Glossbrenner            float64\n",
              "IPFPoints               float64\n",
              "Tested                     int8\n",
              "Country                    int8\n",
              "Federation                int16\n",
              "Date                      int16\n",
              "MeetCountry                int8\n",
              "MeetState                  int8\n",
              "MeetName                  int16\n",
              "Best3SquatKg_norm       float64\n",
              "Best3BenchKg_norm       float64\n",
              "Best3DeadliftKg_norm    float64\n",
              "TotalKg_norm            float64\n",
              "BodyweightKg_norm       float64\n",
              "IPFPoints_norm          float64\n",
              "TotalKg_disc             object\n",
              "lof_outlier               int64\n",
              "dtype: object"
            ]
          },
          "metadata": {
            "tags": []
          },
          "execution_count": 12
        }
      ]
    },
    {
      "cell_type": "code",
      "metadata": {
        "id": "4CDdvpqV0qIK"
      },
      "source": [
        "df.drop(labels='Name',axis=1,inplace=True)"
      ],
      "execution_count": null,
      "outputs": []
    },
    {
      "cell_type": "code",
      "metadata": {
        "id": "yAehF6BU07UG",
        "colab": {
          "base_uri": "https://localhost:8080/",
          "height": 243
        },
        "outputId": "b9c62ed1-c703-4942-be13-6a15d4c7ffef"
      },
      "source": [
        "df.head()"
      ],
      "execution_count": null,
      "outputs": [
        {
          "output_type": "execute_result",
          "data": {
            "text/html": [
              "<div>\n",
              "<style scoped>\n",
              "    .dataframe tbody tr th:only-of-type {\n",
              "        vertical-align: middle;\n",
              "    }\n",
              "\n",
              "    .dataframe tbody tr th {\n",
              "        vertical-align: top;\n",
              "    }\n",
              "\n",
              "    .dataframe thead th {\n",
              "        text-align: right;\n",
              "    }\n",
              "</style>\n",
              "<table border=\"1\" class=\"dataframe\">\n",
              "  <thead>\n",
              "    <tr style=\"text-align: right;\">\n",
              "      <th></th>\n",
              "      <th>Unnamed: 0</th>\n",
              "      <th>Unnamed: 0.1</th>\n",
              "      <th>Sex</th>\n",
              "      <th>Event</th>\n",
              "      <th>Equipment</th>\n",
              "      <th>Age</th>\n",
              "      <th>AgeClass</th>\n",
              "      <th>Division</th>\n",
              "      <th>BodyweightKg</th>\n",
              "      <th>WeightClassKg</th>\n",
              "      <th>Squat1Kg</th>\n",
              "      <th>Squat2Kg</th>\n",
              "      <th>Squat3Kg</th>\n",
              "      <th>Best3SquatKg</th>\n",
              "      <th>Bench1Kg</th>\n",
              "      <th>Bench2Kg</th>\n",
              "      <th>Bench3Kg</th>\n",
              "      <th>Best3BenchKg</th>\n",
              "      <th>Deadlift1Kg</th>\n",
              "      <th>Deadlift2Kg</th>\n",
              "      <th>Deadlift3Kg</th>\n",
              "      <th>Best3DeadliftKg</th>\n",
              "      <th>TotalKg</th>\n",
              "      <th>Place</th>\n",
              "      <th>Wilks</th>\n",
              "      <th>McCulloch</th>\n",
              "      <th>Glossbrenner</th>\n",
              "      <th>IPFPoints</th>\n",
              "      <th>Tested</th>\n",
              "      <th>Country</th>\n",
              "      <th>Federation</th>\n",
              "      <th>Date</th>\n",
              "      <th>MeetCountry</th>\n",
              "      <th>MeetState</th>\n",
              "      <th>MeetName</th>\n",
              "      <th>Best3SquatKg_norm</th>\n",
              "      <th>Best3BenchKg_norm</th>\n",
              "      <th>Best3DeadliftKg_norm</th>\n",
              "      <th>TotalKg_norm</th>\n",
              "      <th>BodyweightKg_norm</th>\n",
              "      <th>IPFPoints_norm</th>\n",
              "      <th>TotalKg_disc</th>\n",
              "      <th>lof_outlier</th>\n",
              "    </tr>\n",
              "  </thead>\n",
              "  <tbody>\n",
              "    <tr>\n",
              "      <th>0</th>\n",
              "      <td>0</td>\n",
              "      <td>674206</td>\n",
              "      <td>1</td>\n",
              "      <td>5</td>\n",
              "      <td>1</td>\n",
              "      <td>25.500000</td>\n",
              "      <td>4</td>\n",
              "      <td>490</td>\n",
              "      <td>81.20</td>\n",
              "      <td>84</td>\n",
              "      <td>157.5</td>\n",
              "      <td>167.5</td>\n",
              "      <td>175.0</td>\n",
              "      <td>175.00</td>\n",
              "      <td>117.5</td>\n",
              "      <td>122.5</td>\n",
              "      <td>127.5</td>\n",
              "      <td>127.50</td>\n",
              "      <td>205.0</td>\n",
              "      <td>220.0</td>\n",
              "      <td>227.5</td>\n",
              "      <td>227.5</td>\n",
              "      <td>530.0</td>\n",
              "      <td>23</td>\n",
              "      <td>358.49</td>\n",
              "      <td>358.49</td>\n",
              "      <td>346.20</td>\n",
              "      <td>525.08</td>\n",
              "      <td>0</td>\n",
              "      <td>-1</td>\n",
              "      <td>113</td>\n",
              "      <td>623</td>\n",
              "      <td>68</td>\n",
              "      <td>40</td>\n",
              "      <td>2493</td>\n",
              "      <td>-0.340206</td>\n",
              "      <td>-0.409639</td>\n",
              "      <td>0.051948</td>\n",
              "      <td>-0.148760</td>\n",
              "      <td>-0.344148</td>\n",
              "      <td>-0.167948</td>\n",
              "      <td>(487.5, 551.11]</td>\n",
              "      <td>1</td>\n",
              "    </tr>\n",
              "    <tr>\n",
              "      <th>1</th>\n",
              "      <td>1</td>\n",
              "      <td>507347</td>\n",
              "      <td>1</td>\n",
              "      <td>5</td>\n",
              "      <td>2</td>\n",
              "      <td>23.744319</td>\n",
              "      <td>-1</td>\n",
              "      <td>67</td>\n",
              "      <td>141.52</td>\n",
              "      <td>18</td>\n",
              "      <td>NaN</td>\n",
              "      <td>NaN</td>\n",
              "      <td>NaN</td>\n",
              "      <td>204.12</td>\n",
              "      <td>NaN</td>\n",
              "      <td>NaN</td>\n",
              "      <td>NaN</td>\n",
              "      <td>136.08</td>\n",
              "      <td>NaN</td>\n",
              "      <td>NaN</td>\n",
              "      <td>NaN</td>\n",
              "      <td>183.7</td>\n",
              "      <td>523.9</td>\n",
              "      <td>51</td>\n",
              "      <td>292.29</td>\n",
              "      <td>292.29</td>\n",
              "      <td>276.78</td>\n",
              "      <td>345.78</td>\n",
              "      <td>0</td>\n",
              "      <td>-1</td>\n",
              "      <td>107</td>\n",
              "      <td>898</td>\n",
              "      <td>68</td>\n",
              "      <td>87</td>\n",
              "      <td>3502</td>\n",
              "      <td>-0.220124</td>\n",
              "      <td>-0.368289</td>\n",
              "      <td>-0.175584</td>\n",
              "      <td>-0.158843</td>\n",
              "      <td>0.321525</td>\n",
              "      <td>-0.488504</td>\n",
              "      <td>(487.5, 551.11]</td>\n",
              "      <td>1</td>\n",
              "    </tr>\n",
              "    <tr>\n",
              "      <th>2</th>\n",
              "      <td>2</td>\n",
              "      <td>1054061</td>\n",
              "      <td>0</td>\n",
              "      <td>5</td>\n",
              "      <td>1</td>\n",
              "      <td>46.500000</td>\n",
              "      <td>7</td>\n",
              "      <td>627</td>\n",
              "      <td>62.76</td>\n",
              "      <td>56</td>\n",
              "      <td>122.5</td>\n",
              "      <td>127.5</td>\n",
              "      <td>-132.5</td>\n",
              "      <td>127.50</td>\n",
              "      <td>82.5</td>\n",
              "      <td>85.0</td>\n",
              "      <td>-87.5</td>\n",
              "      <td>85.00</td>\n",
              "      <td>125.0</td>\n",
              "      <td>130.0</td>\n",
              "      <td>-132.5</td>\n",
              "      <td>130.0</td>\n",
              "      <td>342.5</td>\n",
              "      <td>30</td>\n",
              "      <td>368.90</td>\n",
              "      <td>393.98</td>\n",
              "      <td>325.76</td>\n",
              "      <td>593.66</td>\n",
              "      <td>0</td>\n",
              "      <td>26</td>\n",
              "      <td>59</td>\n",
              "      <td>317</td>\n",
              "      <td>68</td>\n",
              "      <td>87</td>\n",
              "      <td>4635</td>\n",
              "      <td>-0.536082</td>\n",
              "      <td>-0.614458</td>\n",
              "      <td>-0.454545</td>\n",
              "      <td>-0.458678</td>\n",
              "      <td>-0.547647</td>\n",
              "      <td>-0.045339</td>\n",
              "      <td>(308.44, 360.0]</td>\n",
              "      <td>1</td>\n",
              "    </tr>\n",
              "    <tr>\n",
              "      <th>3</th>\n",
              "      <td>3</td>\n",
              "      <td>587550</td>\n",
              "      <td>1</td>\n",
              "      <td>5</td>\n",
              "      <td>1</td>\n",
              "      <td>34.410717</td>\n",
              "      <td>-1</td>\n",
              "      <td>283</td>\n",
              "      <td>101.50</td>\n",
              "      <td>2</td>\n",
              "      <td>160.0</td>\n",
              "      <td>170.0</td>\n",
              "      <td>180.0</td>\n",
              "      <td>180.00</td>\n",
              "      <td>120.0</td>\n",
              "      <td>125.0</td>\n",
              "      <td>NaN</td>\n",
              "      <td>125.00</td>\n",
              "      <td>220.0</td>\n",
              "      <td>230.0</td>\n",
              "      <td>-235.0</td>\n",
              "      <td>230.0</td>\n",
              "      <td>535.0</td>\n",
              "      <td>0</td>\n",
              "      <td>323.70</td>\n",
              "      <td>323.70</td>\n",
              "      <td>310.96</td>\n",
              "      <td>456.95</td>\n",
              "      <td>0</td>\n",
              "      <td>-1</td>\n",
              "      <td>78</td>\n",
              "      <td>256</td>\n",
              "      <td>46</td>\n",
              "      <td>-1</td>\n",
              "      <td>2148</td>\n",
              "      <td>-0.319588</td>\n",
              "      <td>-0.421687</td>\n",
              "      <td>0.064935</td>\n",
              "      <td>-0.140496</td>\n",
              "      <td>-0.120124</td>\n",
              "      <td>-0.289752</td>\n",
              "      <td>(487.5, 551.11]</td>\n",
              "      <td>1</td>\n",
              "    </tr>\n",
              "    <tr>\n",
              "      <th>4</th>\n",
              "      <td>4</td>\n",
              "      <td>227497</td>\n",
              "      <td>1</td>\n",
              "      <td>5</td>\n",
              "      <td>1</td>\n",
              "      <td>28.671584</td>\n",
              "      <td>-1</td>\n",
              "      <td>327</td>\n",
              "      <td>107.20</td>\n",
              "      <td>15</td>\n",
              "      <td>195.0</td>\n",
              "      <td>207.5</td>\n",
              "      <td>-217.5</td>\n",
              "      <td>207.50</td>\n",
              "      <td>130.0</td>\n",
              "      <td>-132.5</td>\n",
              "      <td>-132.5</td>\n",
              "      <td>130.00</td>\n",
              "      <td>250.0</td>\n",
              "      <td>277.5</td>\n",
              "      <td>290.0</td>\n",
              "      <td>290.0</td>\n",
              "      <td>627.5</td>\n",
              "      <td>12</td>\n",
              "      <td>372.32</td>\n",
              "      <td>372.32</td>\n",
              "      <td>357.01</td>\n",
              "      <td>532.45</td>\n",
              "      <td>0</td>\n",
              "      <td>-1</td>\n",
              "      <td>30</td>\n",
              "      <td>121</td>\n",
              "      <td>17</td>\n",
              "      <td>-1</td>\n",
              "      <td>1351</td>\n",
              "      <td>-0.206186</td>\n",
              "      <td>-0.397590</td>\n",
              "      <td>0.376623</td>\n",
              "      <td>0.012397</td>\n",
              "      <td>-0.057220</td>\n",
              "      <td>-0.154772</td>\n",
              "      <td>(551.11, 632.5]</td>\n",
              "      <td>1</td>\n",
              "    </tr>\n",
              "  </tbody>\n",
              "</table>\n",
              "</div>"
            ],
            "text/plain": [
              "   Unnamed: 0  Unnamed: 0.1  Sex  ...  IPFPoints_norm     TotalKg_disc  lof_outlier\n",
              "0           0        674206    1  ...       -0.167948  (487.5, 551.11]            1\n",
              "1           1        507347    1  ...       -0.488504  (487.5, 551.11]            1\n",
              "2           2       1054061    0  ...       -0.045339  (308.44, 360.0]            1\n",
              "3           3        587550    1  ...       -0.289752  (487.5, 551.11]            1\n",
              "4           4        227497    1  ...       -0.154772  (551.11, 632.5]            1\n",
              "\n",
              "[5 rows x 43 columns]"
            ]
          },
          "metadata": {
            "tags": []
          },
          "execution_count": 14
        }
      ]
    },
    {
      "cell_type": "code",
      "metadata": {
        "id": "DCyZBC3XzIja",
        "colab": {
          "base_uri": "https://localhost:8080/",
          "height": 331
        },
        "outputId": "0f16e2d4-dee9-45e2-aca2-0482444dabcf"
      },
      "source": [
        "import matplotlib as mpl\n",
        "\n",
        "def visualize_correlation_matrix(data, hurdle = 0.0):\n",
        "    R = np.corrcoef(data, rowvar=0)\n",
        "    R[np.where(np.abs(R)<hurdle)] = 0.0\n",
        "    heatmap = plt.pcolor(R, cmap=mpl.cm.coolwarm, alpha=0.8)\n",
        "    heatmap.axes.set_frame_on(False)\n",
        "    heatmap.axes.set_yticks(np.arange(R.shape[0]) + 0.5, minor=False)\n",
        "    heatmap.axes.set_xticks(np.arange(R.shape[1]) + 0.5, minor=False)\n",
        "    heatmap.axes.set_xticklabels(data.columns, minor=False)\n",
        "    plt.xticks(rotation=90)\n",
        "    heatmap.axes.set_yticklabels(data.columns, minor=False)\n",
        "    plt.tick_params(which='True', bottom='True', top='False', left = 'False', right = 'False')\n",
        "    plt.colorbar()\n",
        "    plt.show()\n",
        "\n",
        "visualize_correlation_matrix(df.loc[:,['Age','BodyweightKg','Division','TotalKg']], hurdle=0.5)"
      ],
      "execution_count": null,
      "outputs": [
        {
          "output_type": "display_data",
          "data": {
            "image/png": "[encoded data removed]",
            "text/plain": [
              "<Figure size 432x288 with 2 Axes>"
            ]
          },
          "metadata": {
            "tags": [],
            "needs_background": "light"
          }
        }
      ]
    },
    {
      "cell_type": "code",
      "metadata": {
        "colab": {
          "base_uri": "https://localhost:8080/",
          "height": 283
        },
        "id": "vgWBBFWO6KD8",
        "outputId": "55246ff6-6575-484d-ac33-37f71e31901b"
      },
      "source": [
        "#figs, axes = plt.subplots(2,3,figsize=(15,7))\n",
        "#dataset[['RM','target']].plot.scatter(x='RM',y='target',ax=axes[0,0])\n",
        "#dataset[['PTRATIO','target']].plot.scatter(x='PTRATIO',y='target',ax=axes[0,1])\n",
        "#dataset[['LSTAT','target']].plot.scatter(x='LSTAT',y='target',ax=axes[0,2])\n",
        "#dataset[['CRIM','target']].plot.scatter(x='CRIM',y='target',ax=axes[1,0])\n",
        "#dataset[['AGE','target']].plot.scatter(x='AGE',y='target',ax=axes[1,1])\n",
        "#dataset[['TAX','target']].plot.scatter(x='TAX',y='target',ax=axes[1,2])\n",
        "\n",
        "\n",
        "plt.scatter(x=df['Age'],y=df['Place'])\n"
      ],
      "execution_count": null,
      "outputs": [
        {
          "output_type": "execute_result",
          "data": {
            "text/plain": [
              "<matplotlib.collections.PathCollection at 0x7fab287cc150>"
            ]
          },
          "metadata": {
            "tags": []
          },
          "execution_count": 16
        },
        {
          "output_type": "display_data",
          "data": {
            "image/png": "[encoded data removed]",
            "text/plain": [
              "<Figure size 432x288 with 1 Axes>"
            ]
          },
          "metadata": {
            "tags": [],
            "needs_background": "light"
          }
        }
      ]
    },
    {
      "cell_type": "code",
      "metadata": {
        "id": "Kf8zgRtH2fEf",
        "colab": {
          "base_uri": "https://localhost:8080/",
          "height": 283
        },
        "outputId": "2b4b9f6e-753b-4b04-f501-e677e8169b75"
      },
      "source": [
        "plt.scatter(x=df['BodyweightKg'],y=df['Place'])"
      ],
      "execution_count": null,
      "outputs": [
        {
          "output_type": "execute_result",
          "data": {
            "text/plain": [
              "<matplotlib.collections.PathCollection at 0x7fab28818510>"
            ]
          },
          "metadata": {
            "tags": []
          },
          "execution_count": 17
        },
        {
          "output_type": "display_data",
          "data": {
            "image/png": "[encoded data removed]",
            "text/plain": [
              "<Figure size 432x288 with 1 Axes>"
            ]
          },
          "metadata": {
            "tags": [],
            "needs_background": "light"
          }
        }
      ]
    },
    {
      "cell_type": "code",
      "metadata": {
        "id": "Wez0A7up2gma",
        "colab": {
          "base_uri": "https://localhost:8080/",
          "height": 283
        },
        "outputId": "ecf96dc8-7b92-40c6-d706-d60377f21ec4"
      },
      "source": [
        "plt.scatter(x=df['Division'],y=df['Place'])"
      ],
      "execution_count": null,
      "outputs": [
        {
          "output_type": "execute_result",
          "data": {
            "text/plain": [
              "<matplotlib.collections.PathCollection at 0x7fab28725c90>"
            ]
          },
          "metadata": {
            "tags": []
          },
          "execution_count": 18
        },
        {
          "output_type": "display_data",
          "data": {
            "image/png": "[encoded data removed]",
            "text/plain": [
              "<Figure size 432x288 with 1 Axes>"
            ]
          },
          "metadata": {
            "tags": [],
            "needs_background": "light"
          }
        }
      ]
    },
    {
      "cell_type": "markdown",
      "metadata": {
        "id": "A7HRteu2awoJ"
      },
      "source": [
        "# Conjuntos de treinamento, validação e teste"
      ]
    },
    {
      "cell_type": "markdown",
      "metadata": {
        "id": "9_-NdeqTRcCM"
      },
      "source": [
        "Ao trabalhar com modelos de *machine learning*, é imprescindível que seja feita a divisão dos dados entre dados de treinamento, dados de validação e dados de teste (*training set*, *validation set* e *test set*). Essa divisão tem como objetivo avaliar como o modelo está *generalizando* os dados a serem previstos e se não há *overfitting*.\n",
        "\n",
        "Aqui, vamos dividir o dataset com base no ano de cada registro. Os registros computados até a metade de 2018 formarão o conjunto de treinamento, os registros da metade de 2018 ao final de 2018 serão usados no conjunto de validação, e os restantes compreenderão o conjunto de teste. "
      ]
    },
    {
      "cell_type": "code",
      "metadata": {
        "id": "_NlizkNQT5xr"
      },
      "source": [
        "# Dados\n",
        "#from sklearn.model_selection import train_test_split\n",
        "#import seaborn as sns\n",
        "#iris = sns.load_dataset('iris')\n",
        "#X_iris = iris.drop('species', axis=1)  # acho que x_iris sao os dados que serao utilizados na previsao\n",
        "#y_iris = iris['species']               # e y_iris eh o que vamos prever\n",
        "\n",
        "#Xtrain, Xtest, ytrain, ytest = train_test_split(X_iris, y_iris, random_state=1)"
      ],
      "execution_count": null,
      "outputs": []
    },
    {
      "cell_type": "code",
      "metadata": {
        "id": "c_Mt3HSbuLSD"
      },
      "source": [
        "df['AgeClass'] = df['AgeClass'].astype('category')\n",
        "df['Division'] = df['Division'].astype('category')\n",
        "df['WeightClassKg'] = df['WeightClassKg'].astype('category')"
      ],
      "execution_count": 37,
      "outputs": []
    },
    {
      "cell_type": "code",
      "metadata": {
        "id": "idC7gfiEuNAg"
      },
      "source": [
        "df['AgeClass'] = df['AgeClass'].cat.codes\n",
        "df['Division'] = df['Division'].cat.codes\n",
        "df['WeightClassKg'] = df['WeightClassKg'].cat.codes"
      ],
      "execution_count": 38,
      "outputs": []
    },
    {
      "cell_type": "code",
      "metadata": {
        "id": "OVppcry7Tygp"
      },
      "source": [
        "#x_df = df.drop('Place', axis=1)\n",
        "#y_df = df['Place']\n",
        "\n",
        "# Agora vamos dividir em training e test sets\n",
        "\n",
        "mask_train = (df['Date']<'2018-07-01')\n",
        "mask_test = (df['Date']>='2018-07-01')\n",
        "\n",
        "#mask3 = (y_df['Date']<'2018-07-01')\n",
        "#mask4 = (y_df['Date']>='2018-07-01')\n",
        "\n",
        "# Os conjuntos 'x' nao contem a coluna sobre a qual sera realizada a previsao\n",
        "#x_train = df.loc[mask_train].drop('Place', axis=1)\n",
        "#x_test = df.loc[mask_test].drop('Place', axis=1)\n",
        "\n",
        "# Sao escolhidas apenas as colunas a partir das quais sera feita a previsao\n",
        "x_train = df.loc[mask_train, ['Sex','Age','AgeClass','Division','WeightClassKg','BodyweightKg']]\n",
        "x_test = df.loc[mask_test, ['Sex','Age','AgeClass','Division','WeightClassKg','BodyweightKg']]\n",
        "\n",
        "# Os conjuntos 'y' contem apenas a coluna a ser prevista\n",
        "y_train = df.loc[mask_train, 'Place']\n",
        "y_test = df.loc[mask_test, 'Place']"
      ],
      "execution_count": 39,
      "outputs": []
    },
    {
      "cell_type": "code",
      "metadata": {
        "id": "YTDjPhOIZK4G",
        "colab": {
          "base_uri": "https://localhost:8080/",
          "height": 206
        },
        "outputId": "b2bc550e-e75c-4ede-f1d5-029fe6856fef"
      },
      "source": [
        "x_train.head() "
      ],
      "execution_count": 40,
      "outputs": [
        {
          "output_type": "execute_result",
          "data": {
            "text/html": [
              "<div>\n",
              "<style scoped>\n",
              "    .dataframe tbody tr th:only-of-type {\n",
              "        vertical-align: middle;\n",
              "    }\n",
              "\n",
              "    .dataframe tbody tr th {\n",
              "        vertical-align: top;\n",
              "    }\n",
              "\n",
              "    .dataframe thead th {\n",
              "        text-align: right;\n",
              "    }\n",
              "</style>\n",
              "<table border=\"1\" class=\"dataframe\">\n",
              "  <thead>\n",
              "    <tr style=\"text-align: right;\">\n",
              "      <th></th>\n",
              "      <th>Sex</th>\n",
              "      <th>Age</th>\n",
              "      <th>AgeClass</th>\n",
              "      <th>Division</th>\n",
              "      <th>WeightClassKg</th>\n",
              "      <th>BodyweightKg</th>\n",
              "    </tr>\n",
              "  </thead>\n",
              "  <tbody>\n",
              "    <tr>\n",
              "      <th>0</th>\n",
              "      <td>1</td>\n",
              "      <td>25.500000</td>\n",
              "      <td>5</td>\n",
              "      <td>490</td>\n",
              "      <td>84</td>\n",
              "      <td>81.20</td>\n",
              "    </tr>\n",
              "    <tr>\n",
              "      <th>2</th>\n",
              "      <td>0</td>\n",
              "      <td>46.500000</td>\n",
              "      <td>8</td>\n",
              "      <td>627</td>\n",
              "      <td>57</td>\n",
              "      <td>62.76</td>\n",
              "    </tr>\n",
              "    <tr>\n",
              "      <th>3</th>\n",
              "      <td>1</td>\n",
              "      <td>34.410717</td>\n",
              "      <td>0</td>\n",
              "      <td>283</td>\n",
              "      <td>3</td>\n",
              "      <td>101.50</td>\n",
              "    </tr>\n",
              "    <tr>\n",
              "      <th>4</th>\n",
              "      <td>1</td>\n",
              "      <td>28.671584</td>\n",
              "      <td>0</td>\n",
              "      <td>327</td>\n",
              "      <td>16</td>\n",
              "      <td>107.20</td>\n",
              "    </tr>\n",
              "    <tr>\n",
              "      <th>5</th>\n",
              "      <td>1</td>\n",
              "      <td>45.500000</td>\n",
              "      <td>8</td>\n",
              "      <td>418</td>\n",
              "      <td>21</td>\n",
              "      <td>133.54</td>\n",
              "    </tr>\n",
              "  </tbody>\n",
              "</table>\n",
              "</div>"
            ],
            "text/plain": [
              "   Sex        Age  AgeClass  Division  WeightClassKg  BodyweightKg\n",
              "0    1  25.500000         5       490             84         81.20\n",
              "2    0  46.500000         8       627             57         62.76\n",
              "3    1  34.410717         0       283              3        101.50\n",
              "4    1  28.671584         0       327             16        107.20\n",
              "5    1  45.500000         8       418             21        133.54"
            ]
          },
          "metadata": {
            "tags": []
          },
          "execution_count": 40
        }
      ]
    },
    {
      "cell_type": "code",
      "metadata": {
        "id": "1SZIKpDRZoBB",
        "colab": {
          "base_uri": "https://localhost:8080/"
        },
        "outputId": "f31e12c2-a3b0-49d7-9eea-604a80ffac57"
      },
      "source": [
        "y_train.head()"
      ],
      "execution_count": 41,
      "outputs": [
        {
          "output_type": "execute_result",
          "data": {
            "text/plain": [
              "0    3\n",
              "2    4\n",
              "3    1\n",
              "4    2\n",
              "5    1\n",
              "Name: Place, dtype: object"
            ]
          },
          "metadata": {
            "tags": []
          },
          "execution_count": 41
        }
      ]
    },
    {
      "cell_type": "code",
      "metadata": {
        "id": "tcep6pqSZQ-r",
        "colab": {
          "base_uri": "https://localhost:8080/"
        },
        "outputId": "d0601e6c-66ae-4c61-e524-192e6903d5d3"
      },
      "source": [
        "len(x_train), len(y_train), len(x_test), len(y_test)"
      ],
      "execution_count": 42,
      "outputs": [
        {
          "output_type": "execute_result",
          "data": {
            "text/plain": [
              "(13469, 13469, 3386, 3386)"
            ]
          },
          "metadata": {
            "tags": []
          },
          "execution_count": 42
        }
      ]
    },
    {
      "cell_type": "markdown",
      "metadata": {
        "id": "jtmytPwTa4Hp"
      },
      "source": [
        "# Algoritmos a serem utilizados (*Algoritmos*)"
      ]
    },
    {
      "cell_type": "markdown",
      "metadata": {
        "id": "zY6u0Z-JbD-7"
      },
      "source": [
        "Aqui, empeçaremos a previsão da coluna `Place`. Vamos aplicar simplesmente alguns algoritmos de classificação aos conjuntos de treinamento e teste e avaliar a performance de cada um dos modelos treinados."
      ]
    },
    {
      "cell_type": "markdown",
      "metadata": {
        "id": "Slw-YsdAqth2"
      },
      "source": [
        "## Naive Bayes"
      ]
    },
    {
      "cell_type": "code",
      "metadata": {
        "id": "Zy30Ikb7tfhL",
        "outputId": "29d6ae26-7e27-4f6a-ec08-4c579685f749",
        "colab": {
          "base_uri": "https://localhost:8080/"
        }
      },
      "source": [
        "x_train.dtypes"
      ],
      "execution_count": 43,
      "outputs": [
        {
          "output_type": "execute_result",
          "data": {
            "text/plain": [
              "Sex                int64\n",
              "Age              float64\n",
              "AgeClass            int8\n",
              "Division           int16\n",
              "WeightClassKg       int8\n",
              "BodyweightKg     float64\n",
              "dtype: object"
            ]
          },
          "metadata": {
            "tags": []
          },
          "execution_count": 43
        }
      ]
    },
    {
      "cell_type": "code",
      "metadata": {
        "id": "_N1JkZZ84o9U"
      },
      "source": [
        "#from sklearn.naive_bayes import GaussianNB # 1. escolha da técnica\n",
        "#model = GaussianNB()                       # 2. instanciação do modelo\n",
        "#model.fit(Xtrain, ytrain)                  # 3. criação do modelo\n",
        "#y_model = model.predict(Xtest)             # 4. predição em novos dados"
      ],
      "execution_count": null,
      "outputs": []
    },
    {
      "cell_type": "code",
      "metadata": {
        "id": "T1QXp4ll6rvH"
      },
      "source": [
        "#from sklearn.metrics import accuracy_score\n",
        "#accuracy_score(ytest, y_model)"
      ],
      "execution_count": null,
      "outputs": []
    },
    {
      "cell_type": "code",
      "metadata": {
        "id": "Xs5T1kKE4rK8",
        "outputId": "df7495a4-1813-4fd7-eb0b-b2b036896808",
        "colab": {
          "base_uri": "https://localhost:8080/"
        }
      },
      "source": [
        "from sklearn.naive_bayes import GaussianNB\n",
        "from sklearn.metrics import accuracy_score\n",
        "\n",
        "modelo1 = GaussianNB()\n",
        "modelo1.fit(x_train,y_train)\n",
        "y_modelo1 = modelo1.predict(x_test)\n",
        "\n",
        "accuracy_score(y_test,y_modelo1)"
      ],
      "execution_count": 45,
      "outputs": [
        {
          "output_type": "execute_result",
          "data": {
            "text/plain": [
              "0.4054932073242764"
            ]
          },
          "metadata": {
            "tags": []
          },
          "execution_count": 45
        }
      ]
    },
    {
      "cell_type": "code",
      "metadata": {
        "id": "UNuN0LyxwRXI",
        "outputId": "15df8aac-fab7-45d7-e470-23e5e3766d20",
        "colab": {
          "base_uri": "https://localhost:8080/",
          "height": 104
        }
      },
      "source": [
        "from sklearn.metrics import confusion_matrix\n",
        "\n",
        "mat = confusion_matrix(y_test, y_modelo1)\n",
        "\n",
        "sns.heatmap(mat, square=True, annot=True, cbar=False)\n",
        "plt.xlabel('predicted value')\n",
        "plt.ylabel('true value');"
      ],
      "execution_count": 50,
      "outputs": [
        {
          "output_type": "display_data",
          "data": {
            "image/png": "[encoded data removed]",
            "text/plain": [
              "<Figure size 432x288 with 1 Axes>"
            ]
          },
          "metadata": {
            "tags": [],
            "needs_background": "light"
          }
        }
      ]
    },
    {
      "cell_type": "markdown",
      "metadata": {
        "id": "rPSvO-uPqvC4"
      },
      "source": [
        "## Algoritmo 2"
      ]
    },
    {
      "cell_type": "code",
      "metadata": {
        "id": "OyV2ewO5xoo0"
      },
      "source": [
        "from sklearn.datasets import load_iris\n",
        "iris = load_iris()\n",
        "X = iris.data\n",
        "y = iris.target"
      ],
      "execution_count": null,
      "outputs": []
    },
    {
      "cell_type": "code",
      "metadata": {
        "id": "QDXXcrdO9TEN"
      },
      "source": [
        "from sklearn.neighbors import KNeighborsClassifier\n",
        "model = KNeighborsClassifier(n_neighbors=1)"
      ],
      "execution_count": null,
      "outputs": []
    },
    {
      "cell_type": "code",
      "metadata": {
        "id": "g-gwsUIgxqHL"
      },
      "source": [
        "model.fit(X, y)\n",
        "y_model = model.predict(X)"
      ],
      "execution_count": null,
      "outputs": []
    },
    {
      "cell_type": "code",
      "metadata": {
        "id": "A6hp6XyUxs4s"
      },
      "source": [
        "from sklearn.metrics import accuracy_score\n",
        "accuracy_score(y, y_model)"
      ],
      "execution_count": null,
      "outputs": []
    },
    {
      "cell_type": "code",
      "metadata": {
        "id": "BOg5Noi3xuLN"
      },
      "source": [
        "# criação do holdout: divide em treinamento e teste\n",
        "from sklearn.model_selection import train_test_split\n",
        "X1, X2, y1, y2 = train_test_split(X, y, random_state=0,\n",
        "                                  train_size=0.5)\n",
        "\n",
        "# criação do modelo sobre o conjunto de treinamento\n",
        "model.fit(X1, y1)\n",
        "\n",
        "# avaliação do modelo no conjunto de teste\n",
        "y2_model = model.predict(X2)\n",
        "accuracy_score(y2, y2_model)"
      ],
      "execution_count": null,
      "outputs": []
    },
    {
      "cell_type": "markdown",
      "metadata": {
        "id": "eSu3NrLSqxfN"
      },
      "source": [
        "## Algoritmo 3"
      ]
    },
    {
      "cell_type": "markdown",
      "metadata": {
        "id": "VE3wwbafqzmg"
      },
      "source": [
        "## Algoritmo 4"
      ]
    }
  ]
}