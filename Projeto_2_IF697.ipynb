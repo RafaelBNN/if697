{
  "nbformat": 4,
  "nbformat_minor": 0,
  "metadata": {
    "colab": {
      "name": "Projeto 2.2 - IF697.ipynb",
      "provenance": [],
      "collapsed_sections": [
        "IeZZAKvpJQKg",
        "6Smp1tzfK8Cn",
        "U8w-DDptTK-Y",
        "EDxsohxhpSb2",
        "iIfIXLh6hkos",
        "6GlRIbU3hmsN",
        "mf9ftbycvWE5"
      ],
      "authorship_tag": "ABX9TyNEXxJRY0Jr3HcgLDL+KK34",
      "include_colab_link": true
    },
    "kernelspec": {
      "name": "python3",
      "display_name": "Python 3"
    },
    "language_info": {
      "name": "python"
    }
  },
  "cells": [
    {
      "cell_type": "markdown",
      "metadata": {
        "id": "view-in-github",
        "colab_type": "text"
      },
      "source": [
        "<a href=\"https://colab.research.google.com/github/RafaelBNN/if697/blob/main/Projeto_2_IF697.ipynb\" target=\"_parent\"><img src=\"https://colab.research.google.com/assets/colab-badge.svg\" alt=\"Open In Colab\"/></a>"
      ]
    },
    {
      "cell_type": "markdown",
      "metadata": {
        "id": "ZSpx8whYv6Ki"
      },
      "source": [
        "### Importando as Bibliotecas"
      ]
    },
    {
      "cell_type": "code",
      "metadata": {
        "id": "sMcahxhiv6e2",
        "colab": {
          "base_uri": "https://localhost:8080/"
        },
        "outputId": "450c2ce4-c4df-4eb9-aaca-396726917ab8"
      },
      "source": [
        "import numpy as np\n",
        "import pandas as pd\n",
        "from matplotlib import pyplot as plt\n",
        "import seaborn as sns\n",
        "!pip install mlflow\n",
        "import mlflow"
      ],
      "execution_count": 2,
      "outputs": [
        {
          "output_type": "stream",
          "text": [
            "Collecting mlflow\n",
            "  Downloading mlflow-1.19.0-py3-none-any.whl (14.4 MB)\n",
            "\u001b[K     |████████████████████████████████| 14.4 MB 61 kB/s \n",
            "\u001b[?25hRequirement already satisfied: packaging in /usr/local/lib/python3.7/dist-packages (from mlflow) (21.0)\n",
            "Requirement already satisfied: pytz in /usr/local/lib/python3.7/dist-packages (from mlflow) (2018.9)\n",
            "Requirement already satisfied: protobuf>=3.7.0 in /usr/local/lib/python3.7/dist-packages (from mlflow) (3.17.3)\n",
            "Collecting docker>=4.0.0\n",
            "  Downloading docker-5.0.0-py2.py3-none-any.whl (146 kB)\n",
            "\u001b[K     |████████████████████████████████| 146 kB 48.0 MB/s \n",
            "\u001b[?25hRequirement already satisfied: requests>=2.17.3 in /usr/local/lib/python3.7/dist-packages (from mlflow) (2.23.0)\n",
            "Requirement already satisfied: sqlparse>=0.3.1 in /usr/local/lib/python3.7/dist-packages (from mlflow) (0.4.1)\n",
            "Collecting databricks-cli>=0.8.7\n",
            "  Downloading databricks-cli-0.15.0.tar.gz (56 kB)\n",
            "\u001b[K     |████████████████████████████████| 56 kB 4.5 MB/s \n",
            "\u001b[?25hCollecting gunicorn\n",
            "  Downloading gunicorn-20.1.0-py3-none-any.whl (79 kB)\n",
            "\u001b[K     |████████████████████████████████| 79 kB 7.1 MB/s \n",
            "\u001b[?25hRequirement already satisfied: numpy in /usr/local/lib/python3.7/dist-packages (from mlflow) (1.19.5)\n",
            "Collecting alembic<=1.4.1\n",
            "  Downloading alembic-1.4.1.tar.gz (1.1 MB)\n",
            "\u001b[K     |████████████████████████████████| 1.1 MB 50.9 MB/s \n",
            "\u001b[?25hRequirement already satisfied: Flask in /usr/local/lib/python3.7/dist-packages (from mlflow) (1.1.4)\n",
            "Requirement already satisfied: entrypoints in /usr/local/lib/python3.7/dist-packages (from mlflow) (0.3)\n",
            "Collecting prometheus-flask-exporter\n",
            "  Downloading prometheus_flask_exporter-0.18.2.tar.gz (22 kB)\n",
            "Requirement already satisfied: cloudpickle in /usr/local/lib/python3.7/dist-packages (from mlflow) (1.3.0)\n",
            "Requirement already satisfied: sqlalchemy in /usr/local/lib/python3.7/dist-packages (from mlflow) (1.4.22)\n",
            "Collecting querystring-parser\n",
            "  Downloading querystring_parser-1.2.4-py2.py3-none-any.whl (7.9 kB)\n",
            "Requirement already satisfied: click>=7.0 in /usr/local/lib/python3.7/dist-packages (from mlflow) (7.1.2)\n",
            "Collecting pyyaml>=5.1\n",
            "  Downloading PyYAML-5.4.1-cp37-cp37m-manylinux1_x86_64.whl (636 kB)\n",
            "\u001b[K     |████████████████████████████████| 636 kB 49.6 MB/s \n",
            "\u001b[?25hRequirement already satisfied: pandas in /usr/local/lib/python3.7/dist-packages (from mlflow) (1.1.5)\n",
            "Collecting gitpython>=2.1.0\n",
            "  Downloading GitPython-3.1.18-py3-none-any.whl (170 kB)\n",
            "\u001b[K     |████████████████████████████████| 170 kB 50.2 MB/s \n",
            "\u001b[?25hCollecting Mako\n",
            "  Downloading Mako-1.1.4-py2.py3-none-any.whl (75 kB)\n",
            "\u001b[K     |████████████████████████████████| 75 kB 4.5 MB/s \n",
            "\u001b[?25hCollecting python-editor>=0.3\n",
            "  Downloading python_editor-1.0.4-py3-none-any.whl (4.9 kB)\n",
            "Requirement already satisfied: python-dateutil in /usr/local/lib/python3.7/dist-packages (from alembic<=1.4.1->mlflow) (2.8.2)\n",
            "Requirement already satisfied: tabulate>=0.7.7 in /usr/local/lib/python3.7/dist-packages (from databricks-cli>=0.8.7->mlflow) (0.8.9)\n",
            "Requirement already satisfied: six>=1.10.0 in /usr/local/lib/python3.7/dist-packages (from databricks-cli>=0.8.7->mlflow) (1.15.0)\n",
            "Collecting websocket-client>=0.32.0\n",
            "  Downloading websocket_client-1.2.1-py2.py3-none-any.whl (52 kB)\n",
            "\u001b[K     |████████████████████████████████| 52 kB 1.5 MB/s \n",
            "\u001b[?25hRequirement already satisfied: typing-extensions>=3.7.4.0 in /usr/local/lib/python3.7/dist-packages (from gitpython>=2.1.0->mlflow) (3.7.4.3)\n",
            "Collecting gitdb<5,>=4.0.1\n",
            "  Downloading gitdb-4.0.7-py3-none-any.whl (63 kB)\n",
            "\u001b[K     |████████████████████████████████| 63 kB 1.7 MB/s \n",
            "\u001b[?25hCollecting smmap<5,>=3.0.1\n",
            "  Downloading smmap-4.0.0-py2.py3-none-any.whl (24 kB)\n",
            "Requirement already satisfied: chardet<4,>=3.0.2 in /usr/local/lib/python3.7/dist-packages (from requests>=2.17.3->mlflow) (3.0.4)\n",
            "Requirement already satisfied: idna<3,>=2.5 in /usr/local/lib/python3.7/dist-packages (from requests>=2.17.3->mlflow) (2.10)\n",
            "Requirement already satisfied: certifi>=2017.4.17 in /usr/local/lib/python3.7/dist-packages (from requests>=2.17.3->mlflow) (2021.5.30)\n",
            "Requirement already satisfied: urllib3!=1.25.0,!=1.25.1,<1.26,>=1.21.1 in /usr/local/lib/python3.7/dist-packages (from requests>=2.17.3->mlflow) (1.24.3)\n",
            "Requirement already satisfied: importlib-metadata in /usr/local/lib/python3.7/dist-packages (from sqlalchemy->mlflow) (4.6.3)\n",
            "Requirement already satisfied: greenlet!=0.4.17 in /usr/local/lib/python3.7/dist-packages (from sqlalchemy->mlflow) (1.1.1)\n",
            "Requirement already satisfied: Jinja2<3.0,>=2.10.1 in /usr/local/lib/python3.7/dist-packages (from Flask->mlflow) (2.11.3)\n",
            "Requirement already satisfied: Werkzeug<2.0,>=0.15 in /usr/local/lib/python3.7/dist-packages (from Flask->mlflow) (1.0.1)\n",
            "Requirement already satisfied: itsdangerous<2.0,>=0.24 in /usr/local/lib/python3.7/dist-packages (from Flask->mlflow) (1.1.0)\n",
            "Requirement already satisfied: MarkupSafe>=0.23 in /usr/local/lib/python3.7/dist-packages (from Jinja2<3.0,>=2.10.1->Flask->mlflow) (2.0.1)\n",
            "Requirement already satisfied: setuptools>=3.0 in /usr/local/lib/python3.7/dist-packages (from gunicorn->mlflow) (57.4.0)\n",
            "Requirement already satisfied: zipp>=0.5 in /usr/local/lib/python3.7/dist-packages (from importlib-metadata->sqlalchemy->mlflow) (3.5.0)\n",
            "Requirement already satisfied: pyparsing>=2.0.2 in /usr/local/lib/python3.7/dist-packages (from packaging->mlflow) (2.4.7)\n",
            "Requirement already satisfied: prometheus_client in /usr/local/lib/python3.7/dist-packages (from prometheus-flask-exporter->mlflow) (0.11.0)\n",
            "Building wheels for collected packages: alembic, databricks-cli, prometheus-flask-exporter\n",
            "  Building wheel for alembic (setup.py) ... \u001b[?25l\u001b[?25hdone\n",
            "  Created wheel for alembic: filename=alembic-1.4.1-py2.py3-none-any.whl size=158172 sha256=0cb7636a1642a8d39643de14f3805c2f3d343b3fad4465a5ff0ef0f325fa729d\n",
            "  Stored in directory: /root/.cache/pip/wheels/be/5d/0a/9e13f53f4f5dfb67cd8d245bb7cdffe12f135846f491a283e3\n",
            "  Building wheel for databricks-cli (setup.py) ... \u001b[?25l\u001b[?25hdone\n",
            "  Created wheel for databricks-cli: filename=databricks_cli-0.15.0-py3-none-any.whl size=105260 sha256=38a9e9a206dd06c07468461673d5f25d6bb3eec52b288aa1940ec17a34894088\n",
            "  Stored in directory: /root/.cache/pip/wheels/e7/ba/75/284f9a90ff7a010bb23b9798f2e9a19dd9fe619379c917bff4\n",
            "  Building wheel for prometheus-flask-exporter (setup.py) ... \u001b[?25l\u001b[?25hdone\n",
            "  Created wheel for prometheus-flask-exporter: filename=prometheus_flask_exporter-0.18.2-py3-none-any.whl size=17415 sha256=184b4f12d28fb4b4f441269890138614ba2918b08dc7b24f540f14e64567e411\n",
            "  Stored in directory: /root/.cache/pip/wheels/6a/1e/1c/c765920cb92b2f0343d2dd8b481a407cee2823f9b4bbd2e52a\n",
            "Successfully built alembic databricks-cli prometheus-flask-exporter\n",
            "Installing collected packages: smmap, websocket-client, python-editor, Mako, gitdb, querystring-parser, pyyaml, prometheus-flask-exporter, gunicorn, gitpython, docker, databricks-cli, alembic, mlflow\n",
            "  Attempting uninstall: pyyaml\n",
            "    Found existing installation: PyYAML 3.13\n",
            "    Uninstalling PyYAML-3.13:\n",
            "      Successfully uninstalled PyYAML-3.13\n",
            "Successfully installed Mako-1.1.4 alembic-1.4.1 databricks-cli-0.15.0 docker-5.0.0 gitdb-4.0.7 gitpython-3.1.18 gunicorn-20.1.0 mlflow-1.19.0 prometheus-flask-exporter-0.18.2 python-editor-1.0.4 pyyaml-5.4.1 querystring-parser-1.2.4 smmap-4.0.0 websocket-client-1.2.1\n"
          ],
          "name": "stdout"
        }
      ]
    },
    {
      "cell_type": "markdown",
      "metadata": {
        "id": "IeZZAKvpJQKg"
      },
      "source": [
        "# 1. Introdução"
      ]
    },
    {
      "cell_type": "markdown",
      "metadata": {
        "id": "u04EKsdnJWfN"
      },
      "source": [
        "Este Notebook busca dar continuidade à análise do dataset estudado no primeiro projeto. Lá, exploramos e tratamos um dataset relacionado a competições de powerlifting, sobre o qual foi realizado um pré-processeamento e uma análise descritiva de dados. \n",
        "\n",
        "Neste projeto, daremos prosseguimento a isso aplicando a ideia de *predição* dos dados. \n",
        "\n",
        "Os problemas de predição aparecem quando queremos descobrir um atributo desconhecido de um registro a partir de outros atributos desse registro. Esses problemas são, principalmente, divididos em duas categorias: problemas de *classificação* e problemas de *regressão*. Na *classificação*, o objetivo é predizer um atributo categórico de um registro, como o sexo de um indivíduo ou a espécie de um animal, por exemplo, enquanto que, na *regressão*, queremos prever um atributo contínuo, como a altura ou o peso de uma pessoa.\n",
        "\n",
        "A partir do dataset observado, portanto, vamos aplicar o conceito de regressão ao atributo `BodyweightKg` (o peso corporal do competidor). Vamos treinar alguns modelos a partir de variados algoritmos de *machine learning* para realizar a predição dessa coluna e avaliar a performance de cada um desses modelos.\n",
        "\n",
        "O dataframe que será utilizado na predição é uma amostra do dataset original. Para a previsão, serão utilizadas as colunas `Sex`, o sexo do competidor; `Age`, a idade do competidor; `Best3SquatKg`, a melhor tentativa dentre as 3 no agachamento; `Best3SBenchKg`, a melhor tentativa dentre as 3 no supino; e `Best3DeadliftKg`, a melhor tentativa dentre as 3 no levantamento terra."
      ]
    },
    {
      "cell_type": "markdown",
      "metadata": {
        "id": "vCc8s_OlK5Y2"
      },
      "source": [
        "#### Importação do Dataframe"
      ]
    },
    {
      "cell_type": "code",
      "metadata": {
        "colab": {
          "base_uri": "https://localhost:8080/",
          "height": 401
        },
        "id": "f0FkTASELFSB",
        "outputId": "2dcdb15a-203b-40a0-d10c-1e91f4563ef0"
      },
      "source": [
        "df=pd.read_csv('https://raw.githubusercontent.com/RafaelBNN/datasets/main/powerlifting_final.csv')\n",
        "\n",
        "df.head()"
      ],
      "execution_count": 3,
      "outputs": [
        {
          "output_type": "stream",
          "text": [
            "/usr/local/lib/python3.7/dist-packages/IPython/core/interactiveshell.py:2718: DtypeWarning: Columns (24) have mixed types.Specify dtype option on import or set low_memory=False.\n",
            "  interactivity=interactivity, compiler=compiler, result=result)\n"
          ],
          "name": "stderr"
        },
        {
          "output_type": "execute_result",
          "data": {
            "text/html": [
              "<div>\n",
              "<style scoped>\n",
              "    .dataframe tbody tr th:only-of-type {\n",
              "        vertical-align: middle;\n",
              "    }\n",
              "\n",
              "    .dataframe tbody tr th {\n",
              "        vertical-align: top;\n",
              "    }\n",
              "\n",
              "    .dataframe thead th {\n",
              "        text-align: right;\n",
              "    }\n",
              "</style>\n",
              "<table border=\"1\" class=\"dataframe\">\n",
              "  <thead>\n",
              "    <tr style=\"text-align: right;\">\n",
              "      <th></th>\n",
              "      <th>Unnamed: 0</th>\n",
              "      <th>Unnamed: 0.1</th>\n",
              "      <th>Name</th>\n",
              "      <th>Sex</th>\n",
              "      <th>Event</th>\n",
              "      <th>Equipment</th>\n",
              "      <th>Age</th>\n",
              "      <th>AgeClass</th>\n",
              "      <th>Division</th>\n",
              "      <th>BodyweightKg</th>\n",
              "      <th>WeightClassKg</th>\n",
              "      <th>Squat1Kg</th>\n",
              "      <th>Squat2Kg</th>\n",
              "      <th>Squat3Kg</th>\n",
              "      <th>Best3SquatKg</th>\n",
              "      <th>Bench1Kg</th>\n",
              "      <th>Bench2Kg</th>\n",
              "      <th>Bench3Kg</th>\n",
              "      <th>Best3BenchKg</th>\n",
              "      <th>Deadlift1Kg</th>\n",
              "      <th>Deadlift2Kg</th>\n",
              "      <th>Deadlift3Kg</th>\n",
              "      <th>Best3DeadliftKg</th>\n",
              "      <th>TotalKg</th>\n",
              "      <th>Place</th>\n",
              "      <th>Wilks</th>\n",
              "      <th>McCulloch</th>\n",
              "      <th>Glossbrenner</th>\n",
              "      <th>IPFPoints</th>\n",
              "      <th>Tested</th>\n",
              "      <th>Country</th>\n",
              "      <th>Federation</th>\n",
              "      <th>Date</th>\n",
              "      <th>MeetCountry</th>\n",
              "      <th>MeetState</th>\n",
              "      <th>MeetName</th>\n",
              "      <th>Best3SquatKg_norm</th>\n",
              "      <th>Best3BenchKg_norm</th>\n",
              "      <th>Best3DeadliftKg_norm</th>\n",
              "      <th>TotalKg_norm</th>\n",
              "      <th>BodyweightKg_norm</th>\n",
              "      <th>IPFPoints_norm</th>\n",
              "      <th>TotalKg_disc</th>\n",
              "      <th>lof_outlier</th>\n",
              "      <th>Age_disc</th>\n",
              "    </tr>\n",
              "  </thead>\n",
              "  <tbody>\n",
              "    <tr>\n",
              "      <th>0</th>\n",
              "      <td>0</td>\n",
              "      <td>692083</td>\n",
              "      <td>Hayden Fulwood</td>\n",
              "      <td>1</td>\n",
              "      <td>SBD</td>\n",
              "      <td>Raw</td>\n",
              "      <td>18.000000</td>\n",
              "      <td>18-19</td>\n",
              "      <td>MR-T3</td>\n",
              "      <td>88.0</td>\n",
              "      <td>90</td>\n",
              "      <td>NaN</td>\n",
              "      <td>NaN</td>\n",
              "      <td>NaN</td>\n",
              "      <td>167.50</td>\n",
              "      <td>NaN</td>\n",
              "      <td>NaN</td>\n",
              "      <td>NaN</td>\n",
              "      <td>122.50</td>\n",
              "      <td>NaN</td>\n",
              "      <td>NaN</td>\n",
              "      <td>NaN</td>\n",
              "      <td>227.50</td>\n",
              "      <td>517.50</td>\n",
              "      <td>1</td>\n",
              "      <td>334.25</td>\n",
              "      <td>354.31</td>\n",
              "      <td>322.27</td>\n",
              "      <td>482.79</td>\n",
              "      <td>Yes</td>\n",
              "      <td>USA</td>\n",
              "      <td>USAPL</td>\n",
              "      <td>2013-04-27</td>\n",
              "      <td>USA</td>\n",
              "      <td>AL</td>\n",
              "      <td>S.E HS State Wars</td>\n",
              "      <td>-0.385417</td>\n",
              "      <td>-0.528924</td>\n",
              "      <td>0.080000</td>\n",
              "      <td>-0.156780</td>\n",
              "      <td>-0.411065</td>\n",
              "      <td>-0.206464</td>\n",
              "      <td>(507.5, 576.06]</td>\n",
              "      <td>1</td>\n",
              "      <td>(15.9, 19.6]</td>\n",
              "    </tr>\n",
              "    <tr>\n",
              "      <th>1</th>\n",
              "      <td>1</td>\n",
              "      <td>621012</td>\n",
              "      <td>Jozef Slimák</td>\n",
              "      <td>1</td>\n",
              "      <td>B</td>\n",
              "      <td>Multi-ply</td>\n",
              "      <td>46.000000</td>\n",
              "      <td>45-49</td>\n",
              "      <td>M-M2</td>\n",
              "      <td>82.2</td>\n",
              "      <td>82.5</td>\n",
              "      <td>NaN</td>\n",
              "      <td>NaN</td>\n",
              "      <td>NaN</td>\n",
              "      <td>NaN</td>\n",
              "      <td>165.0</td>\n",
              "      <td>180.0</td>\n",
              "      <td>-190.0</td>\n",
              "      <td>180.00</td>\n",
              "      <td>NaN</td>\n",
              "      <td>NaN</td>\n",
              "      <td>NaN</td>\n",
              "      <td>NaN</td>\n",
              "      <td>180.00</td>\n",
              "      <td>1</td>\n",
              "      <td>120.85</td>\n",
              "      <td>129.06</td>\n",
              "      <td>116.68</td>\n",
              "      <td>571.78</td>\n",
              "      <td>NaN</td>\n",
              "      <td>Slovakia</td>\n",
              "      <td>WPC</td>\n",
              "      <td>2012-11-06</td>\n",
              "      <td>USA</td>\n",
              "      <td>NV</td>\n",
              "      <td>World Championships</td>\n",
              "      <td>NaN</td>\n",
              "      <td>-0.280420</td>\n",
              "      <td>NaN</td>\n",
              "      <td>-0.728814</td>\n",
              "      <td>-0.464106</td>\n",
              "      <td>-0.037484</td>\n",
              "      <td>(142.5, 202.5]</td>\n",
              "      <td>1</td>\n",
              "      <td>(45.5, 49.2]</td>\n",
              "    </tr>\n",
              "    <tr>\n",
              "      <th>2</th>\n",
              "      <td>2</td>\n",
              "      <td>164449</td>\n",
              "      <td>Chase Garrett</td>\n",
              "      <td>1</td>\n",
              "      <td>D</td>\n",
              "      <td>Raw</td>\n",
              "      <td>14.000000</td>\n",
              "      <td>13-15</td>\n",
              "      <td>Teenage 13-15</td>\n",
              "      <td>44.0</td>\n",
              "      <td>44</td>\n",
              "      <td>NaN</td>\n",
              "      <td>NaN</td>\n",
              "      <td>NaN</td>\n",
              "      <td>NaN</td>\n",
              "      <td>NaN</td>\n",
              "      <td>NaN</td>\n",
              "      <td>NaN</td>\n",
              "      <td>NaN</td>\n",
              "      <td>NaN</td>\n",
              "      <td>NaN</td>\n",
              "      <td>NaN</td>\n",
              "      <td>70.31</td>\n",
              "      <td>70.31</td>\n",
              "      <td>1</td>\n",
              "      <td>83.29</td>\n",
              "      <td>98.28</td>\n",
              "      <td>82.94</td>\n",
              "      <td>212.28</td>\n",
              "      <td>NaN</td>\n",
              "      <td>NaN</td>\n",
              "      <td>SPF</td>\n",
              "      <td>2008-12-06</td>\n",
              "      <td>USA</td>\n",
              "      <td>NaN</td>\n",
              "      <td>Body by George Classic</td>\n",
              "      <td>NaN</td>\n",
              "      <td>NaN</td>\n",
              "      <td>-0.758347</td>\n",
              "      <td>-0.914729</td>\n",
              "      <td>-0.813443</td>\n",
              "      <td>-0.720126</td>\n",
              "      <td>(19.999, 142.5]</td>\n",
              "      <td>1</td>\n",
              "      <td>(12.2, 15.9]</td>\n",
              "    </tr>\n",
              "    <tr>\n",
              "      <th>3</th>\n",
              "      <td>3</td>\n",
              "      <td>353419</td>\n",
              "      <td>Edgar Rodea</td>\n",
              "      <td>1</td>\n",
              "      <td>SBD</td>\n",
              "      <td>Single-ply</td>\n",
              "      <td>27.995064</td>\n",
              "      <td>NaN</td>\n",
              "      <td>Boys</td>\n",
              "      <td>92.9</td>\n",
              "      <td>99.7</td>\n",
              "      <td>NaN</td>\n",
              "      <td>NaN</td>\n",
              "      <td>NaN</td>\n",
              "      <td>204.12</td>\n",
              "      <td>NaN</td>\n",
              "      <td>NaN</td>\n",
              "      <td>NaN</td>\n",
              "      <td>129.27</td>\n",
              "      <td>NaN</td>\n",
              "      <td>NaN</td>\n",
              "      <td>NaN</td>\n",
              "      <td>185.97</td>\n",
              "      <td>519.36</td>\n",
              "      <td>1</td>\n",
              "      <td>326.42</td>\n",
              "      <td>326.42</td>\n",
              "      <td>314.34</td>\n",
              "      <td>420.04</td>\n",
              "      <td>Yes</td>\n",
              "      <td>NaN</td>\n",
              "      <td>THSPA</td>\n",
              "      <td>2017-01-28</td>\n",
              "      <td>USA</td>\n",
              "      <td>TX</td>\n",
              "      <td>Santo Meet</td>\n",
              "      <td>-0.232833</td>\n",
              "      <td>-0.499665</td>\n",
              "      <td>-0.141493</td>\n",
              "      <td>-0.153627</td>\n",
              "      <td>-0.366255</td>\n",
              "      <td>-0.325618</td>\n",
              "      <td>(507.5, 576.06]</td>\n",
              "      <td>1</td>\n",
              "      <td>(27.0, 30.7]</td>\n",
              "    </tr>\n",
              "    <tr>\n",
              "      <th>4</th>\n",
              "      <td>4</td>\n",
              "      <td>128144</td>\n",
              "      <td>K. Kaufman</td>\n",
              "      <td>1</td>\n",
              "      <td>B</td>\n",
              "      <td>Raw</td>\n",
              "      <td>46.228441</td>\n",
              "      <td>NaN</td>\n",
              "      <td>Open</td>\n",
              "      <td>90.0</td>\n",
              "      <td>90</td>\n",
              "      <td>NaN</td>\n",
              "      <td>NaN</td>\n",
              "      <td>NaN</td>\n",
              "      <td>NaN</td>\n",
              "      <td>NaN</td>\n",
              "      <td>NaN</td>\n",
              "      <td>NaN</td>\n",
              "      <td>145.15</td>\n",
              "      <td>NaN</td>\n",
              "      <td>NaN</td>\n",
              "      <td>NaN</td>\n",
              "      <td>NaN</td>\n",
              "      <td>145.15</td>\n",
              "      <td>6</td>\n",
              "      <td>92.66</td>\n",
              "      <td>92.66</td>\n",
              "      <td>89.30</td>\n",
              "      <td>558.46</td>\n",
              "      <td>NaN</td>\n",
              "      <td>NaN</td>\n",
              "      <td>USPF</td>\n",
              "      <td>1979-12-08</td>\n",
              "      <td>USA</td>\n",
              "      <td>ND</td>\n",
              "      <td>3rd Annual Midwestern Bench Press Championships</td>\n",
              "      <td>NaN</td>\n",
              "      <td>-0.431035</td>\n",
              "      <td>NaN</td>\n",
              "      <td>-0.787881</td>\n",
              "      <td>-0.392775</td>\n",
              "      <td>-0.062777</td>\n",
              "      <td>(142.5, 202.5]</td>\n",
              "      <td>1</td>\n",
              "      <td>(45.5, 49.2]</td>\n",
              "    </tr>\n",
              "  </tbody>\n",
              "</table>\n",
              "</div>"
            ],
            "text/plain": [
              "   Unnamed: 0  Unnamed: 0.1  ... lof_outlier      Age_disc\n",
              "0           0        692083  ...           1  (15.9, 19.6]\n",
              "1           1        621012  ...           1  (45.5, 49.2]\n",
              "2           2        164449  ...           1  (12.2, 15.9]\n",
              "3           3        353419  ...           1  (27.0, 30.7]\n",
              "4           4        128144  ...           1  (45.5, 49.2]\n",
              "\n",
              "[5 rows x 45 columns]"
            ]
          },
          "metadata": {
            "tags": []
          },
          "execution_count": 3
        }
      ]
    },
    {
      "cell_type": "code",
      "metadata": {
        "colab": {
          "base_uri": "https://localhost:8080/"
        },
        "id": "8HwR4r-3T9M9",
        "outputId": "d7486ee9-48eb-4ddc-82a7-315748488910"
      },
      "source": [
        "df.dtypes"
      ],
      "execution_count": 4,
      "outputs": [
        {
          "output_type": "execute_result",
          "data": {
            "text/plain": [
              "Unnamed: 0                int64\n",
              "Unnamed: 0.1              int64\n",
              "Name                     object\n",
              "Sex                       int64\n",
              "Event                    object\n",
              "Equipment                object\n",
              "Age                     float64\n",
              "AgeClass                 object\n",
              "Division                 object\n",
              "BodyweightKg            float64\n",
              "WeightClassKg            object\n",
              "Squat1Kg                float64\n",
              "Squat2Kg                float64\n",
              "Squat3Kg                float64\n",
              "Best3SquatKg            float64\n",
              "Bench1Kg                float64\n",
              "Bench2Kg                float64\n",
              "Bench3Kg                float64\n",
              "Best3BenchKg            float64\n",
              "Deadlift1Kg             float64\n",
              "Deadlift2Kg             float64\n",
              "Deadlift3Kg             float64\n",
              "Best3DeadliftKg         float64\n",
              "TotalKg                 float64\n",
              "Place                    object\n",
              "Wilks                   float64\n",
              "McCulloch               float64\n",
              "Glossbrenner            float64\n",
              "IPFPoints               float64\n",
              "Tested                   object\n",
              "Country                  object\n",
              "Federation               object\n",
              "Date                     object\n",
              "MeetCountry              object\n",
              "MeetState                object\n",
              "MeetName                 object\n",
              "Best3SquatKg_norm       float64\n",
              "Best3BenchKg_norm       float64\n",
              "Best3DeadliftKg_norm    float64\n",
              "TotalKg_norm            float64\n",
              "BodyweightKg_norm       float64\n",
              "IPFPoints_norm          float64\n",
              "TotalKg_disc             object\n",
              "lof_outlier               int64\n",
              "Age_disc                 object\n",
              "dtype: object"
            ]
          },
          "metadata": {
            "tags": []
          },
          "execution_count": 4
        }
      ]
    },
    {
      "cell_type": "code",
      "metadata": {
        "colab": {
          "base_uri": "https://localhost:8080/",
          "height": 206
        },
        "id": "dyaymTqWT0lT",
        "outputId": "e779aae4-79c8-4eca-85a9-fab9b034ef02"
      },
      "source": [
        "# As colunas que serao utilizadas\n",
        "df = df[['Sex','Age','Best3SquatKg','Best3BenchKg','Best3DeadliftKg','BodyweightKg']]\n",
        "\n",
        "df.head()"
      ],
      "execution_count": 5,
      "outputs": [
        {
          "output_type": "execute_result",
          "data": {
            "text/html": [
              "<div>\n",
              "<style scoped>\n",
              "    .dataframe tbody tr th:only-of-type {\n",
              "        vertical-align: middle;\n",
              "    }\n",
              "\n",
              "    .dataframe tbody tr th {\n",
              "        vertical-align: top;\n",
              "    }\n",
              "\n",
              "    .dataframe thead th {\n",
              "        text-align: right;\n",
              "    }\n",
              "</style>\n",
              "<table border=\"1\" class=\"dataframe\">\n",
              "  <thead>\n",
              "    <tr style=\"text-align: right;\">\n",
              "      <th></th>\n",
              "      <th>Sex</th>\n",
              "      <th>Age</th>\n",
              "      <th>Best3SquatKg</th>\n",
              "      <th>Best3BenchKg</th>\n",
              "      <th>Best3DeadliftKg</th>\n",
              "      <th>BodyweightKg</th>\n",
              "    </tr>\n",
              "  </thead>\n",
              "  <tbody>\n",
              "    <tr>\n",
              "      <th>0</th>\n",
              "      <td>1</td>\n",
              "      <td>18.000000</td>\n",
              "      <td>167.50</td>\n",
              "      <td>122.50</td>\n",
              "      <td>227.50</td>\n",
              "      <td>88.0</td>\n",
              "    </tr>\n",
              "    <tr>\n",
              "      <th>1</th>\n",
              "      <td>1</td>\n",
              "      <td>46.000000</td>\n",
              "      <td>NaN</td>\n",
              "      <td>180.00</td>\n",
              "      <td>NaN</td>\n",
              "      <td>82.2</td>\n",
              "    </tr>\n",
              "    <tr>\n",
              "      <th>2</th>\n",
              "      <td>1</td>\n",
              "      <td>14.000000</td>\n",
              "      <td>NaN</td>\n",
              "      <td>NaN</td>\n",
              "      <td>70.31</td>\n",
              "      <td>44.0</td>\n",
              "    </tr>\n",
              "    <tr>\n",
              "      <th>3</th>\n",
              "      <td>1</td>\n",
              "      <td>27.995064</td>\n",
              "      <td>204.12</td>\n",
              "      <td>129.27</td>\n",
              "      <td>185.97</td>\n",
              "      <td>92.9</td>\n",
              "    </tr>\n",
              "    <tr>\n",
              "      <th>4</th>\n",
              "      <td>1</td>\n",
              "      <td>46.228441</td>\n",
              "      <td>NaN</td>\n",
              "      <td>145.15</td>\n",
              "      <td>NaN</td>\n",
              "      <td>90.0</td>\n",
              "    </tr>\n",
              "  </tbody>\n",
              "</table>\n",
              "</div>"
            ],
            "text/plain": [
              "   Sex        Age  Best3SquatKg  Best3BenchKg  Best3DeadliftKg  BodyweightKg\n",
              "0    1  18.000000        167.50        122.50           227.50          88.0\n",
              "1    1  46.000000           NaN        180.00              NaN          82.2\n",
              "2    1  14.000000           NaN           NaN            70.31          44.0\n",
              "3    1  27.995064        204.12        129.27           185.97          92.9\n",
              "4    1  46.228441           NaN        145.15              NaN          90.0"
            ]
          },
          "metadata": {
            "tags": []
          },
          "execution_count": 5
        }
      ]
    },
    {
      "cell_type": "code",
      "metadata": {
        "colab": {
          "base_uri": "https://localhost:8080/"
        },
        "id": "62X1SWU3VBmy",
        "outputId": "ea3de4ec-a07f-4455-9bc4-0b1965e33b4e"
      },
      "source": [
        "len(df)"
      ],
      "execution_count": 6,
      "outputs": [
        {
          "output_type": "execute_result",
          "data": {
            "text/plain": [
              "16676"
            ]
          },
          "metadata": {
            "tags": []
          },
          "execution_count": 6
        }
      ]
    },
    {
      "cell_type": "code",
      "metadata": {
        "colab": {
          "base_uri": "https://localhost:8080/"
        },
        "id": "hiI6H2UxU_J-",
        "outputId": "cdeba498-1802-41a2-e376-d991ae2b1343"
      },
      "source": [
        "df.isnull().sum(axis = 0)/len(df)"
      ],
      "execution_count": 7,
      "outputs": [
        {
          "output_type": "execute_result",
          "data": {
            "text/plain": [
              "Sex                0.000000\n",
              "Age                0.000000\n",
              "Best3SquatKg       0.243404\n",
              "Best3BenchKg       0.042756\n",
              "Best3DeadliftKg    0.190094\n",
              "BodyweightKg       0.005937\n",
              "dtype: float64"
            ]
          },
          "metadata": {
            "tags": []
          },
          "execution_count": 7
        }
      ]
    },
    {
      "cell_type": "code",
      "metadata": {
        "id": "jcQ_lHLCUqv9",
        "colab": {
          "base_uri": "https://localhost:8080/"
        },
        "outputId": "c3a7c154-02a1-403c-e4bc-aabb51890443"
      },
      "source": [
        "# Para simplificar, vamos executar um dropna sobre o dataframe\n",
        "\n",
        "df = df.dropna(subset=['Sex','Age','Best3SquatKg','Best3BenchKg','Best3DeadliftKg','BodyweightKg'])\n",
        "\n",
        "len(df)"
      ],
      "execution_count": 8,
      "outputs": [
        {
          "output_type": "execute_result",
          "data": {
            "text/plain": [
              "12476"
            ]
          },
          "metadata": {
            "tags": []
          },
          "execution_count": 8
        }
      ]
    },
    {
      "cell_type": "code",
      "metadata": {
        "id": "9vA72jwD9nVQ"
      },
      "source": [
        "# Alem disso, vamos normalizar as colunas que serao usadas, para evitar confusao no futuro\n",
        "\n",
        "df['Age'] = ((df['Age'] - df['Age'].min()) / (df['Age'].max() - df['Age'].min())*2) -1\n",
        "df['Best3SquatKg'] = ((df['Best3SquatKg'] - df['Best3SquatKg'].min()) / (df['Best3SquatKg'].max() - df['Best3SquatKg'].min())*2) -1\n",
        "df['Best3BenchKg'] = ((df['Best3BenchKg'] - df['Best3BenchKg'].min()) / (df['Best3BenchKg'].max() - df['Best3BenchKg'].min())*2) -1\n",
        "df['Best3DeadliftKg'] = ((df['Best3DeadliftKg'] - df['Best3DeadliftKg'].min()) / (df['Best3DeadliftKg'].max() - df['Best3DeadliftKg'].min())*2) -1\n"
      ],
      "execution_count": 9,
      "outputs": []
    },
    {
      "cell_type": "markdown",
      "metadata": {
        "id": "6Smp1tzfK8Cn"
      },
      "source": [
        "# 2. Conjuntos de treinamento, validação e teste"
      ]
    },
    {
      "cell_type": "markdown",
      "metadata": {
        "id": "68WjpLH7LClo"
      },
      "source": [
        "Ao trabalhar com modelos de *machine learning*, é imprescindível que seja feita a divisão dos dados entre conjunto de treinamento, conjunto de validação e conjunto de teste (*training set*, *validation set* e *test set*). Essa divisão contribui para a avaliação de como o modelo está generalizando os dados a serem previstos e nos ajuda a identificar problemas como *overfitting*.\n",
        "\n",
        "Aqui, vamos dividir o dataset utilizando a função `train_test_split` da biblioteca `sklearn`."
      ]
    },
    {
      "cell_type": "code",
      "metadata": {
        "id": "M96VO52deW79"
      },
      "source": [
        "from sklearn.model_selection import train_test_split\n",
        "\n",
        "# Os dataframes 'x' contem as colunas que serao utilizadas para realizar a predicao,\n",
        "# e os dataframes 'y' contem a coluna sobre a qual sera realizada a predicao.\n",
        "\n",
        "x_df = df.drop('BodyweightKg', axis=1)\n",
        "y_df = df['BodyweightKg']\n",
        "\n",
        "# Por padrao, o test set sera formado por 25% dos dados fornecidos, e o training set, 75%.\n",
        "# Alem disso, o parametro random_state permite que a escolha dos conjuntos de treinamento e teste\n",
        "# seja a mesma sempre que executarmos esta linha. \n",
        "x_train, x_test, y_train, y_test = train_test_split(x_df,y_df,random_state=10) "
      ],
      "execution_count": 10,
      "outputs": []
    },
    {
      "cell_type": "code",
      "metadata": {
        "colab": {
          "base_uri": "https://localhost:8080/",
          "height": 206
        },
        "id": "Bp6lL-xcg_vJ",
        "outputId": "12b99e54-2673-4119-b008-ad0ba9d3d6c3"
      },
      "source": [
        "x_train.head()"
      ],
      "execution_count": 11,
      "outputs": [
        {
          "output_type": "execute_result",
          "data": {
            "text/html": [
              "<div>\n",
              "<style scoped>\n",
              "    .dataframe tbody tr th:only-of-type {\n",
              "        vertical-align: middle;\n",
              "    }\n",
              "\n",
              "    .dataframe tbody tr th {\n",
              "        vertical-align: top;\n",
              "    }\n",
              "\n",
              "    .dataframe thead th {\n",
              "        text-align: right;\n",
              "    }\n",
              "</style>\n",
              "<table border=\"1\" class=\"dataframe\">\n",
              "  <thead>\n",
              "    <tr style=\"text-align: right;\">\n",
              "      <th></th>\n",
              "      <th>Sex</th>\n",
              "      <th>Age</th>\n",
              "      <th>Best3SquatKg</th>\n",
              "      <th>Best3BenchKg</th>\n",
              "      <th>Best3DeadliftKg</th>\n",
              "    </tr>\n",
              "  </thead>\n",
              "  <tbody>\n",
              "    <tr>\n",
              "      <th>10825</th>\n",
              "      <td>0</td>\n",
              "      <td>-0.586207</td>\n",
              "      <td>-0.635417</td>\n",
              "      <td>-0.738462</td>\n",
              "      <td>-0.352941</td>\n",
              "    </tr>\n",
              "    <tr>\n",
              "      <th>5873</th>\n",
              "      <td>1</td>\n",
              "      <td>-0.710345</td>\n",
              "      <td>-0.041667</td>\n",
              "      <td>0.076923</td>\n",
              "      <td>0.279412</td>\n",
              "    </tr>\n",
              "    <tr>\n",
              "      <th>1923</th>\n",
              "      <td>1</td>\n",
              "      <td>-0.451811</td>\n",
              "      <td>-0.125000</td>\n",
              "      <td>-0.123077</td>\n",
              "      <td>-0.058824</td>\n",
              "    </tr>\n",
              "    <tr>\n",
              "      <th>12586</th>\n",
              "      <td>1</td>\n",
              "      <td>-0.650272</td>\n",
              "      <td>-0.166708</td>\n",
              "      <td>-0.534031</td>\n",
              "      <td>-0.057176</td>\n",
              "    </tr>\n",
              "    <tr>\n",
              "      <th>13777</th>\n",
              "      <td>1</td>\n",
              "      <td>0.006897</td>\n",
              "      <td>-0.034417</td>\n",
              "      <td>-0.296800</td>\n",
              "      <td>0.236294</td>\n",
              "    </tr>\n",
              "  </tbody>\n",
              "</table>\n",
              "</div>"
            ],
            "text/plain": [
              "       Sex       Age  Best3SquatKg  Best3BenchKg  Best3DeadliftKg\n",
              "10825    0 -0.586207     -0.635417     -0.738462        -0.352941\n",
              "5873     1 -0.710345     -0.041667      0.076923         0.279412\n",
              "1923     1 -0.451811     -0.125000     -0.123077        -0.058824\n",
              "12586    1 -0.650272     -0.166708     -0.534031        -0.057176\n",
              "13777    1  0.006897     -0.034417     -0.296800         0.236294"
            ]
          },
          "metadata": {
            "tags": []
          },
          "execution_count": 11
        }
      ]
    },
    {
      "cell_type": "code",
      "metadata": {
        "colab": {
          "base_uri": "https://localhost:8080/"
        },
        "id": "thqb5agPhCYB",
        "outputId": "b323a8a4-e9be-47d4-b34f-6784229a2cfa"
      },
      "source": [
        "y_train.head()"
      ],
      "execution_count": 12,
      "outputs": [
        {
          "output_type": "execute_result",
          "data": {
            "text/plain": [
              "10825     77.00\n",
              "5873      89.95\n",
              "1923      89.30\n",
              "12586     53.80\n",
              "13777    108.64\n",
              "Name: BodyweightKg, dtype: float64"
            ]
          },
          "metadata": {
            "tags": []
          },
          "execution_count": 12
        }
      ]
    },
    {
      "cell_type": "code",
      "metadata": {
        "colab": {
          "base_uri": "https://localhost:8080/"
        },
        "id": "sA8psjNOg3y5",
        "outputId": "1a21c8dd-8c6a-4e39-c0a7-ee6912a4674e"
      },
      "source": [
        "len(x_train), len(y_train), len(x_test), len(y_test)"
      ],
      "execution_count": 13,
      "outputs": [
        {
          "output_type": "execute_result",
          "data": {
            "text/plain": [
              "(9357, 9357, 3119, 3119)"
            ]
          },
          "metadata": {
            "tags": []
          },
          "execution_count": 13
        }
      ]
    },
    {
      "cell_type": "markdown",
      "metadata": {
        "id": "vDiB0xnsLFnr"
      },
      "source": [
        "# 3. Modelos Iniciais"
      ]
    },
    {
      "cell_type": "markdown",
      "metadata": {
        "id": "2FTNjM6BLLPC"
      },
      "source": [
        "Aqui, empeçaremos a previsão da coluna `BodyweightKg`. Vamos aplicar alguns algoritmos de regressão aos conjuntos de treinamento e teste e avaliar a performance de cada um dos modelos treinados."
      ]
    },
    {
      "cell_type": "markdown",
      "metadata": {
        "id": "U8w-DDptTK-Y"
      },
      "source": [
        "## MLFlow"
      ]
    },
    {
      "cell_type": "markdown",
      "metadata": {
        "id": "1GZrJNgKTNxH"
      },
      "source": [
        "Antes de aplicar os algoritmos, porém, vamos chamar a função `mlflow.sklearn.autolog()`. Ela permite que os modelos sejam registrados automaticamente logo após sua execução utilizando a ferramenta *MLFlow*. Isso permite o rastreamento de como nosso programa está se comportando e como as predições evoluem ao longo do tempo."
      ]
    },
    {
      "cell_type": "code",
      "metadata": {
        "id": "xnPZIlbETNAB"
      },
      "source": [
        "mlflow.sklearn.autolog()"
      ],
      "execution_count": 14,
      "outputs": []
    },
    {
      "cell_type": "markdown",
      "metadata": {
        "id": "EDxsohxhpSb2"
      },
      "source": [
        "## Regressão Linear"
      ]
    },
    {
      "cell_type": "markdown",
      "metadata": {
        "id": "mVQlVK1Mh_Jt"
      },
      "source": [
        "O primeiro algoritmo e o mais simples que vamos aplicar vai ser a simples regressão linear. Esse algoritmo de regressão busca encontrar a melhor reta que se ajusta aos dados, ou seja, a reta que minimiza a soma dos resíduos."
      ]
    },
    {
      "cell_type": "code",
      "metadata": {
        "id": "5rdIolmcpapU",
        "colab": {
          "base_uri": "https://localhost:8080/"
        },
        "outputId": "b3fec506-67ff-4a9c-c3d7-504f341dd717"
      },
      "source": [
        "%%time\n",
        "from sklearn.linear_model import LinearRegression\n",
        "\n",
        "modelo1 = LinearRegression()\n",
        "modelo1.fit(x_train,y_train)\n",
        "y_pred1 = modelo1.predict(x_test)"
      ],
      "execution_count": null,
      "outputs": [
        {
          "output_type": "stream",
          "text": [
            "CPU times: user 18.7 ms, sys: 3.23 ms, total: 21.9 ms\n",
            "Wall time: 135 ms\n"
          ],
          "name": "stdout"
        }
      ]
    },
    {
      "cell_type": "code",
      "metadata": {
        "colab": {
          "base_uri": "https://localhost:8080/"
        },
        "id": "nWW1sodUpsLU",
        "outputId": "b9a5bea0-2020-4c18-8ad6-3e71f97195c1"
      },
      "source": [
        "from sklearn.metrics import mean_squared_error\n",
        "\n",
        "print('Mean squared error: %.2f' % mean_squared_error(y_test, y_pred1))"
      ],
      "execution_count": null,
      "outputs": [
        {
          "output_type": "stream",
          "text": [
            "Mean squared error: 305.69\n"
          ],
          "name": "stdout"
        }
      ]
    },
    {
      "cell_type": "code",
      "metadata": {
        "colab": {
          "base_uri": "https://localhost:8080/"
        },
        "id": "IX4Kw_3SEhER",
        "outputId": "74efa154-cf8e-49d8-e515-3daad9e61d15"
      },
      "source": [
        "modelo1.score(x_test,y_test)"
      ],
      "execution_count": null,
      "outputs": [
        {
          "output_type": "execute_result",
          "data": {
            "text/plain": [
              "0.42925550418604164"
            ]
          },
          "metadata": {
            "tags": []
          },
          "execution_count": 16
        }
      ]
    },
    {
      "cell_type": "markdown",
      "metadata": {
        "id": "iIfIXLh6hkos"
      },
      "source": [
        "## Decision Tree"
      ]
    },
    {
      "cell_type": "markdown",
      "metadata": {
        "id": "1P4h8egSKeux"
      },
      "source": [
        "Os algoritmos de árvore de decisão estão entre os algoritmos com melhor taxa de acurácia x explicabilidade. Ao passo que eles entregam uma acurácia considerável, esses algoritmos também têm uma boa taxa de interpretabilidade, o que significa que suas previsões são de fácil entendimento, diferente dos modelos que usam redes neurais, por exemplo.\n",
        "\n",
        "Vamos, então, aplicar o algoritmo `DecisionTreeRegressor` e avaliar sua performance."
      ]
    },
    {
      "cell_type": "code",
      "metadata": {
        "colab": {
          "base_uri": "https://localhost:8080/"
        },
        "id": "xZbEfoK5MOTJ",
        "outputId": "7acebc1a-ecb6-4bbc-a1ac-107c87c26418"
      },
      "source": [
        "%%time\n",
        "from sklearn import tree\n",
        "\n",
        "modelo2 = tree.DecisionTreeRegressor() # se o atributo max_depth nao for especificado, por padrao a profundidade sera a maxima possivel, resultando no possivel overfitting\n",
        "modelo2.fit(x_train,y_train)\n",
        "y_pred2 = modelo2.predict(x_test)"
      ],
      "execution_count": null,
      "outputs": [
        {
          "output_type": "stream",
          "text": [
            "CPU times: user 88.5 ms, sys: 82.3 ms, total: 171 ms\n",
            "Wall time: 124 ms\n"
          ],
          "name": "stdout"
        }
      ]
    },
    {
      "cell_type": "code",
      "metadata": {
        "colab": {
          "base_uri": "https://localhost:8080/"
        },
        "id": "jzipcNHUMkrN",
        "outputId": "b206166a-8fb9-49f3-962b-bd6be5aebea7"
      },
      "source": [
        "modelo2.score(x_test,y_test) # overfitting"
      ],
      "execution_count": null,
      "outputs": [
        {
          "output_type": "execute_result",
          "data": {
            "text/plain": [
              "-0.13361341267618543"
            ]
          },
          "metadata": {
            "tags": []
          },
          "execution_count": 18
        }
      ]
    },
    {
      "cell_type": "code",
      "metadata": {
        "colab": {
          "base_uri": "https://localhost:8080/"
        },
        "id": "bZlqVx7jPNhD",
        "outputId": "8154c2f7-ee0b-4437-8493-a498ff5b2804"
      },
      "source": [
        "%%time\n",
        "\n",
        "# Aqui podemos alterar o atributo max_depth e o atributo min_split_samples (default=2), resultando num score diferente\n",
        "modelo22 = tree.DecisionTreeRegressor(max_depth=5, random_state=10) \n",
        "\n",
        "modelo22.fit(x_train,y_train)\n",
        "y_pred22 = modelo22.predict(x_test)"
      ],
      "execution_count": null,
      "outputs": [
        {
          "output_type": "stream",
          "text": [
            "CPU times: user 13.4 ms, sys: 364 µs, total: 13.8 ms\n",
            "Wall time: 13.9 ms\n"
          ],
          "name": "stdout"
        }
      ]
    },
    {
      "cell_type": "code",
      "metadata": {
        "colab": {
          "base_uri": "https://localhost:8080/"
        },
        "id": "_MYebshM-hIy",
        "outputId": "64fe4a4d-929d-4345-a655-8a54a58dd4c6"
      },
      "source": [
        "modelo22.score(x_test,y_test)"
      ],
      "execution_count": null,
      "outputs": [
        {
          "output_type": "execute_result",
          "data": {
            "text/plain": [
              "0.4250097031452772"
            ]
          },
          "metadata": {
            "tags": []
          },
          "execution_count": 20
        }
      ]
    },
    {
      "cell_type": "code",
      "metadata": {
        "colab": {
          "base_uri": "https://localhost:8080/"
        },
        "id": "e06U1X2Pgc0V",
        "outputId": "f22a2e19-2a18-47fe-ef92-425342d904bd"
      },
      "source": [
        "from sklearn.model_selection import cross_val_score\n",
        "\n",
        "cross_val_score(modelo2, x_train, y_train, cv=10) # modelo com overfit"
      ],
      "execution_count": null,
      "outputs": [
        {
          "output_type": "execute_result",
          "data": {
            "text/plain": [
              "array([-0.20688602, -0.23683985, -0.16078281, -0.30371535, -0.1631512 ,\n",
              "       -0.14052197, -0.19057281, -0.31572114, -0.12932309, -0.11248548])"
            ]
          },
          "metadata": {
            "tags": []
          },
          "execution_count": 21
        }
      ]
    },
    {
      "cell_type": "code",
      "metadata": {
        "colab": {
          "base_uri": "https://localhost:8080/"
        },
        "id": "ww7lyKt7gqgn",
        "outputId": "eb50981f-af22-4997-c402-743d7781b2d9"
      },
      "source": [
        "cross_val_score(modelo22, x_train, y_train, cv=10) # modelo com max_depth=5"
      ],
      "execution_count": null,
      "outputs": [
        {
          "output_type": "execute_result",
          "data": {
            "text/plain": [
              "array([0.41979619, 0.4097474 , 0.40820003, 0.36196559, 0.41220871,\n",
              "       0.39218524, 0.40878043, 0.37763231, 0.41366703, 0.42547843])"
            ]
          },
          "metadata": {
            "tags": []
          },
          "execution_count": 22
        }
      ]
    },
    {
      "cell_type": "markdown",
      "metadata": {
        "id": "6GlRIbU3hmsN"
      },
      "source": [
        "## Random Forest"
      ]
    },
    {
      "cell_type": "markdown",
      "metadata": {
        "id": "JDM_1BaZg3EB"
      },
      "source": [
        "O método *Random Forest* é um tipo de algoritmo um tanto parecido com as árvores de decisão. Nele, são geradas múltiplas ávores de decisão que são treinadas e usadas para convergir a uma previsão final. Para treinar cada uma dessas árvores, o algoritmo pode usar partes diferentes dos dados do conjunto de treinamento ou até mesmo diferentes conjuntos de features dentre as que serão utilizadas na previsão."
      ]
    },
    {
      "cell_type": "code",
      "metadata": {
        "colab": {
          "base_uri": "https://localhost:8080/"
        },
        "id": "s_uI8EkfOnen",
        "outputId": "4cc29710-1f41-45ee-e35c-7b1488415de9"
      },
      "source": [
        "%%time\n",
        "from sklearn.ensemble import RandomForestRegressor\n",
        "\n",
        "# O algoritmo de random forest tambem oferece os algortimos de max_depth e min_split_sample, que podem ser alterados para obter-se resultados diferentes\n",
        "modelo3 = RandomForestRegressor(max_depth=5, random_state=10)\n",
        "modelo3.fit(x_train,y_train)\n",
        "y_pred3 = modelo3.predict(x_test)"
      ],
      "execution_count": null,
      "outputs": [
        {
          "output_type": "stream",
          "text": [
            "CPU times: user 882 ms, sys: 5.09 ms, total: 887 ms\n",
            "Wall time: 899 ms\n"
          ],
          "name": "stdout"
        }
      ]
    },
    {
      "cell_type": "code",
      "metadata": {
        "colab": {
          "base_uri": "https://localhost:8080/"
        },
        "id": "65WoNzvVSQZK",
        "outputId": "95839590-8b88-415a-ed4c-f53903659d88"
      },
      "source": [
        "modelo3.score(x_test,y_test)"
      ],
      "execution_count": null,
      "outputs": [
        {
          "output_type": "execute_result",
          "data": {
            "text/plain": [
              "0.44307796297090707"
            ]
          },
          "metadata": {
            "tags": []
          },
          "execution_count": 24
        }
      ]
    },
    {
      "cell_type": "markdown",
      "metadata": {
        "id": "mf9ftbycvWE5"
      },
      "source": [
        "## Redes Neurais"
      ]
    },
    {
      "cell_type": "markdown",
      "metadata": {
        "id": "HBG6dQKKjpDz"
      },
      "source": [
        "As redes neurais estão entre os mais citados e também mais precisos algoritmos de predição já criados. Seu poder vem do fato de esse tipo de algoritmo ser capaz de encontrar relações das mais altas ordens entre os atributos (diferente, por exemplo, da regressão linear, que é capaz apenas de considerar relações *lineares*). Outra característica que possibilita que as redes neurais sejam tão precisas é a quantidade de hiper-parâmetros, que podem ser alterados dependendo da tarefa de previsão a ser realizada.\n",
        "\n",
        "Aqui, vamos aplicar o algoritmo `MLPRegressor` aos nossos conjuntos de treinamento e teste e avaliar sua performance com hiper-parâmetros *default*."
      ]
    },
    {
      "cell_type": "code",
      "metadata": {
        "colab": {
          "base_uri": "https://localhost:8080/"
        },
        "id": "4It7Deo2-5nG",
        "outputId": "2ebe4aa4-b3c2-4534-db7d-4d84fe4ac305"
      },
      "source": [
        "%%time\n",
        "\n",
        "from sklearn.neural_network import MLPRegressor\n",
        "\n",
        "modelo4 = MLPRegressor(random_state=10).fit(x_train, y_train)\n",
        "y_pred4 = modelo4.predict(x_test)"
      ],
      "execution_count": null,
      "outputs": [
        {
          "output_type": "stream",
          "text": [
            "CPU times: user 7.93 s, sys: 6.47 s, total: 14.4 s\n",
            "Wall time: 7.39 s\n"
          ],
          "name": "stdout"
        },
        {
          "output_type": "stream",
          "text": [
            "/usr/local/lib/python3.7/dist-packages/sklearn/neural_network/_multilayer_perceptron.py:571: ConvergenceWarning: Stochastic Optimizer: Maximum iterations (200) reached and the optimization hasn't converged yet.\n",
            "  % self.max_iter, ConvergenceWarning)\n"
          ],
          "name": "stderr"
        }
      ]
    },
    {
      "cell_type": "code",
      "metadata": {
        "colab": {
          "base_uri": "https://localhost:8080/"
        },
        "id": "MYXAbZU2_QDY",
        "outputId": "186d545a-fddd-4382-a6d2-dffb2d64ab65"
      },
      "source": [
        "modelo4.score(x_test,y_test)"
      ],
      "execution_count": null,
      "outputs": [
        {
          "output_type": "execute_result",
          "data": {
            "text/plain": [
              "0.4352326053108301"
            ]
          },
          "metadata": {
            "tags": []
          },
          "execution_count": 70
        }
      ]
    },
    {
      "cell_type": "markdown",
      "metadata": {
        "id": "CAd6pdFGwHOE"
      },
      "source": [
        "# 4. MLFlow"
      ]
    },
    {
      "cell_type": "markdown",
      "metadata": {
        "id": "HSzgDZMTwXVl"
      },
      "source": [
        "# 5. Avaliação dos Modelos"
      ]
    },
    {
      "cell_type": "markdown",
      "metadata": {
        "id": "qHnXMAlxwJGh"
      },
      "source": [
        "# 6. Diagnóstico e Aprimoramento"
      ]
    }
  ]
}