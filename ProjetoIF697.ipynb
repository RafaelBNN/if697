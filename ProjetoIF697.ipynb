{
  "nbformat": 4,
  "nbformat_minor": 0,
  "metadata": {
    "colab": {
      "name": "ProjetoIF697.ipynb",
      "provenance": [],
      "collapsed_sections": [],
      "include_colab_link": true
    },
    "kernelspec": {
      "name": "python3",
      "display_name": "Python 3"
    },
    "language_info": {
      "name": "python"
    }
  },
  "cells": [
    {
      "cell_type": "markdown",
      "metadata": {
        "id": "view-in-github",
        "colab_type": "text"
      },
      "source": [
        "<a href=\"https://colab.research.google.com/github/RafaelBNN/if697/blob/main/ProjetoIF697.ipynb\" target=\"_parent\"><img src=\"https://colab.research.google.com/assets/colab-badge.svg\" alt=\"Open In Colab\"/></a>"
      ]
    },
    {
      "cell_type": "markdown",
      "metadata": {
        "id": "pasJSy2d10pw"
      },
      "source": [
        "#### Importação das Bibliotecas"
      ]
    },
    {
      "cell_type": "code",
      "metadata": {
        "id": "3wYK_7wIRAvg",
        "colab": {
          "base_uri": "https://localhost:8080/"
        },
        "outputId": "40656e37-c79a-4881-c7e1-316c2082b792"
      },
      "source": [
        "# Importando as bibliotecas necessarias\n",
        "\n",
        "import numpy as np\n",
        "import pandas as pd\n",
        "from matplotlib import pyplot as plt\n",
        "\n",
        "!pip install fancyimpute # Talvez seja necessario descomentar esta linha\n",
        "from fancyimpute import KNN"
      ],
      "execution_count": 1,
      "outputs": [
        {
          "output_type": "stream",
          "text": [
            "Collecting fancyimpute\n",
            "  Downloading https://files.pythonhosted.org/packages/9c/59/69a4d9f99dede33ae75f5892f198371e8afd8a6f13235a6406180f19e909/fancyimpute-0.6.0-py2.py3-none-any.whl\n",
            "Requirement already satisfied: tensorflow==2.5 in /usr/local/lib/python3.7/dist-packages (from fancyimpute) (2.5.0)\n",
            "Requirement already satisfied: numpy==1.19.5 in /usr/local/lib/python3.7/dist-packages (from fancyimpute) (1.19.5)\n",
            "Collecting cvxpy==1.1.13\n",
            "\u001b[?25l  Downloading https://files.pythonhosted.org/packages/f0/95/e7eb169a7802fe0c5c50dd7f29c2e9d357b5f29c70adc3f5ca2ab684a04b/cvxpy-1.1.13.tar.gz (1.3MB)\n",
            "\u001b[K     |████████████████████████████████| 1.3MB 11.7MB/s \n",
            "\u001b[?25h  Installing build dependencies ... \u001b[?25l\u001b[?25hdone\n",
            "  Getting requirements to build wheel ... \u001b[?25l\u001b[?25hdone\n",
            "    Preparing wheel metadata ... \u001b[?25l\u001b[?25hdone\n",
            "Requirement already satisfied: keras==2.4.3 in /usr/local/lib/python3.7/dist-packages (from fancyimpute) (2.4.3)\n",
            "Collecting knnimpute==0.1.0\n",
            "  Downloading https://files.pythonhosted.org/packages/e8/35/e9ab006430d36aed71f623db8d194a723a14d40b52b3405cdd5b94d9de04/knnimpute-0.1.0.tar.gz\n",
            "Collecting scipy==1.6.3\n",
            "\u001b[?25l  Downloading https://files.pythonhosted.org/packages/7d/e8/43ffca541d2f208d516296950b25fe1084b35c2881f4d444c1346ca75815/scipy-1.6.3-cp37-cp37m-manylinux1_x86_64.whl (27.4MB)\n",
            "\u001b[K     |████████████████████████████████| 27.4MB 118kB/s \n",
            "\u001b[?25hCollecting scikit-learn==0.24.2\n",
            "\u001b[?25l  Downloading https://files.pythonhosted.org/packages/a8/eb/a48f25c967526b66d5f1fa7a984594f0bf0a5afafa94a8c4dbc317744620/scikit_learn-0.24.2-cp37-cp37m-manylinux2010_x86_64.whl (22.3MB)\n",
            "\u001b[K     |████████████████████████████████| 22.3MB 90kB/s \n",
            "\u001b[?25hRequirement already satisfied: typing-extensions~=3.7.4 in /usr/local/lib/python3.7/dist-packages (from tensorflow==2.5->fancyimpute) (3.7.4.3)\n",
            "Requirement already satisfied: wheel~=0.35 in /usr/local/lib/python3.7/dist-packages (from tensorflow==2.5->fancyimpute) (0.36.2)\n",
            "Requirement already satisfied: keras-preprocessing~=1.1.2 in /usr/local/lib/python3.7/dist-packages (from tensorflow==2.5->fancyimpute) (1.1.2)\n",
            "Requirement already satisfied: astunparse~=1.6.3 in /usr/local/lib/python3.7/dist-packages (from tensorflow==2.5->fancyimpute) (1.6.3)\n",
            "Requirement already satisfied: tensorboard~=2.5 in /usr/local/lib/python3.7/dist-packages (from tensorflow==2.5->fancyimpute) (2.5.0)\n",
            "Requirement already satisfied: google-pasta~=0.2 in /usr/local/lib/python3.7/dist-packages (from tensorflow==2.5->fancyimpute) (0.2.0)\n",
            "Requirement already satisfied: gast==0.4.0 in /usr/local/lib/python3.7/dist-packages (from tensorflow==2.5->fancyimpute) (0.4.0)\n",
            "Requirement already satisfied: h5py~=3.1.0 in /usr/local/lib/python3.7/dist-packages (from tensorflow==2.5->fancyimpute) (3.1.0)\n",
            "Requirement already satisfied: keras-nightly~=2.5.0.dev in /usr/local/lib/python3.7/dist-packages (from tensorflow==2.5->fancyimpute) (2.5.0.dev2021032900)\n",
            "Requirement already satisfied: wrapt~=1.12.1 in /usr/local/lib/python3.7/dist-packages (from tensorflow==2.5->fancyimpute) (1.12.1)\n",
            "Requirement already satisfied: flatbuffers~=1.12.0 in /usr/local/lib/python3.7/dist-packages (from tensorflow==2.5->fancyimpute) (1.12)\n",
            "Requirement already satisfied: grpcio~=1.34.0 in /usr/local/lib/python3.7/dist-packages (from tensorflow==2.5->fancyimpute) (1.34.1)\n",
            "Requirement already satisfied: tensorflow-estimator<2.6.0,>=2.5.0rc0 in /usr/local/lib/python3.7/dist-packages (from tensorflow==2.5->fancyimpute) (2.5.0)\n",
            "Requirement already satisfied: termcolor~=1.1.0 in /usr/local/lib/python3.7/dist-packages (from tensorflow==2.5->fancyimpute) (1.1.0)\n",
            "Requirement already satisfied: protobuf>=3.9.2 in /usr/local/lib/python3.7/dist-packages (from tensorflow==2.5->fancyimpute) (3.17.3)\n",
            "Requirement already satisfied: absl-py~=0.10 in /usr/local/lib/python3.7/dist-packages (from tensorflow==2.5->fancyimpute) (0.12.0)\n",
            "Requirement already satisfied: six~=1.15.0 in /usr/local/lib/python3.7/dist-packages (from tensorflow==2.5->fancyimpute) (1.15.0)\n",
            "Requirement already satisfied: opt-einsum~=3.3.0 in /usr/local/lib/python3.7/dist-packages (from tensorflow==2.5->fancyimpute) (3.3.0)\n",
            "Requirement already satisfied: scs>=1.1.6 in /usr/local/lib/python3.7/dist-packages (from cvxpy==1.1.13->fancyimpute) (2.1.4)\n",
            "Requirement already satisfied: osqp>=0.4.1 in /usr/local/lib/python3.7/dist-packages (from cvxpy==1.1.13->fancyimpute) (0.6.2.post0)\n",
            "Requirement already satisfied: ecos>=2 in /usr/local/lib/python3.7/dist-packages (from cvxpy==1.1.13->fancyimpute) (2.0.7.post1)\n",
            "Requirement already satisfied: pyyaml in /usr/local/lib/python3.7/dist-packages (from keras==2.4.3->fancyimpute) (3.13)\n",
            "Requirement already satisfied: joblib>=0.11 in /usr/local/lib/python3.7/dist-packages (from scikit-learn==0.24.2->fancyimpute) (1.0.1)\n",
            "Collecting threadpoolctl>=2.0.0\n",
            "  Downloading https://files.pythonhosted.org/packages/c6/e8/c216b9b60cbba4642d3ca1bae7a53daa0c24426f662e0e3ce3dc7f6caeaa/threadpoolctl-2.2.0-py3-none-any.whl\n",
            "Requirement already satisfied: werkzeug>=0.11.15 in /usr/local/lib/python3.7/dist-packages (from tensorboard~=2.5->tensorflow==2.5->fancyimpute) (1.0.1)\n",
            "Requirement already satisfied: markdown>=2.6.8 in /usr/local/lib/python3.7/dist-packages (from tensorboard~=2.5->tensorflow==2.5->fancyimpute) (3.3.4)\n",
            "Requirement already satisfied: setuptools>=41.0.0 in /usr/local/lib/python3.7/dist-packages (from tensorboard~=2.5->tensorflow==2.5->fancyimpute) (57.0.0)\n",
            "Requirement already satisfied: tensorboard-data-server<0.7.0,>=0.6.0 in /usr/local/lib/python3.7/dist-packages (from tensorboard~=2.5->tensorflow==2.5->fancyimpute) (0.6.1)\n",
            "Requirement already satisfied: google-auth<2,>=1.6.3 in /usr/local/lib/python3.7/dist-packages (from tensorboard~=2.5->tensorflow==2.5->fancyimpute) (1.32.1)\n",
            "Requirement already satisfied: tensorboard-plugin-wit>=1.6.0 in /usr/local/lib/python3.7/dist-packages (from tensorboard~=2.5->tensorflow==2.5->fancyimpute) (1.8.0)\n",
            "Requirement already satisfied: requests<3,>=2.21.0 in /usr/local/lib/python3.7/dist-packages (from tensorboard~=2.5->tensorflow==2.5->fancyimpute) (2.23.0)\n",
            "Requirement already satisfied: google-auth-oauthlib<0.5,>=0.4.1 in /usr/local/lib/python3.7/dist-packages (from tensorboard~=2.5->tensorflow==2.5->fancyimpute) (0.4.4)\n",
            "Requirement already satisfied: cached-property; python_version < \"3.8\" in /usr/local/lib/python3.7/dist-packages (from h5py~=3.1.0->tensorflow==2.5->fancyimpute) (1.5.2)\n",
            "Requirement already satisfied: qdldl in /usr/local/lib/python3.7/dist-packages (from osqp>=0.4.1->cvxpy==1.1.13->fancyimpute) (0.1.5.post0)\n",
            "Requirement already satisfied: importlib-metadata; python_version < \"3.8\" in /usr/local/lib/python3.7/dist-packages (from markdown>=2.6.8->tensorboard~=2.5->tensorflow==2.5->fancyimpute) (4.6.1)\n",
            "Requirement already satisfied: cachetools<5.0,>=2.0.0 in /usr/local/lib/python3.7/dist-packages (from google-auth<2,>=1.6.3->tensorboard~=2.5->tensorflow==2.5->fancyimpute) (4.2.2)\n",
            "Requirement already satisfied: rsa<5,>=3.1.4; python_version >= \"3.6\" in /usr/local/lib/python3.7/dist-packages (from google-auth<2,>=1.6.3->tensorboard~=2.5->tensorflow==2.5->fancyimpute) (4.7.2)\n",
            "Requirement already satisfied: pyasn1-modules>=0.2.1 in /usr/local/lib/python3.7/dist-packages (from google-auth<2,>=1.6.3->tensorboard~=2.5->tensorflow==2.5->fancyimpute) (0.2.8)\n",
            "Requirement already satisfied: idna<3,>=2.5 in /usr/local/lib/python3.7/dist-packages (from requests<3,>=2.21.0->tensorboard~=2.5->tensorflow==2.5->fancyimpute) (2.10)\n",
            "Requirement already satisfied: certifi>=2017.4.17 in /usr/local/lib/python3.7/dist-packages (from requests<3,>=2.21.0->tensorboard~=2.5->tensorflow==2.5->fancyimpute) (2021.5.30)\n",
            "Requirement already satisfied: chardet<4,>=3.0.2 in /usr/local/lib/python3.7/dist-packages (from requests<3,>=2.21.0->tensorboard~=2.5->tensorflow==2.5->fancyimpute) (3.0.4)\n",
            "Requirement already satisfied: urllib3!=1.25.0,!=1.25.1,<1.26,>=1.21.1 in /usr/local/lib/python3.7/dist-packages (from requests<3,>=2.21.0->tensorboard~=2.5->tensorflow==2.5->fancyimpute) (1.24.3)\n",
            "Requirement already satisfied: requests-oauthlib>=0.7.0 in /usr/local/lib/python3.7/dist-packages (from google-auth-oauthlib<0.5,>=0.4.1->tensorboard~=2.5->tensorflow==2.5->fancyimpute) (1.3.0)\n",
            "Requirement already satisfied: zipp>=0.5 in /usr/local/lib/python3.7/dist-packages (from importlib-metadata; python_version < \"3.8\"->markdown>=2.6.8->tensorboard~=2.5->tensorflow==2.5->fancyimpute) (3.5.0)\n",
            "Requirement already satisfied: pyasn1>=0.1.3 in /usr/local/lib/python3.7/dist-packages (from rsa<5,>=3.1.4; python_version >= \"3.6\"->google-auth<2,>=1.6.3->tensorboard~=2.5->tensorflow==2.5->fancyimpute) (0.4.8)\n",
            "Requirement already satisfied: oauthlib>=3.0.0 in /usr/local/lib/python3.7/dist-packages (from requests-oauthlib>=0.7.0->google-auth-oauthlib<0.5,>=0.4.1->tensorboard~=2.5->tensorflow==2.5->fancyimpute) (3.1.1)\n",
            "Building wheels for collected packages: cvxpy\n",
            "  Building wheel for cvxpy (PEP 517) ... \u001b[?25l\u001b[?25hdone\n",
            "  Created wheel for cvxpy: filename=cvxpy-1.1.13-cp37-cp37m-linux_x86_64.whl size=2736236 sha256=5e4ae2b8eda588cc24918e518d94a3e79464f7c7d856b4b30f06f4731945fa6a\n",
            "  Stored in directory: /root/.cache/pip/wheels/f9/78/00/f29636789ee83434953b5442f16ec3f9834a68e7fd0393c220\n",
            "Successfully built cvxpy\n",
            "Building wheels for collected packages: knnimpute\n",
            "  Building wheel for knnimpute (setup.py) ... \u001b[?25l\u001b[?25hdone\n",
            "  Created wheel for knnimpute: filename=knnimpute-0.1.0-cp37-none-any.whl size=11354 sha256=7878ef0c58f17d177b67a3cde02086b7e93729087d4e82b3c9dd9d8f0959cb51\n",
            "  Stored in directory: /root/.cache/pip/wheels/a3/92/31/c3f8864714e9938396c3a68d8c542531f7e2d7862bb750b2e3\n",
            "Successfully built knnimpute\n",
            "\u001b[31mERROR: albumentations 0.1.12 has requirement imgaug<0.2.7,>=0.2.5, but you'll have imgaug 0.2.9 which is incompatible.\u001b[0m\n",
            "Installing collected packages: scipy, cvxpy, knnimpute, threadpoolctl, scikit-learn, fancyimpute\n",
            "  Found existing installation: scipy 1.4.1\n",
            "    Uninstalling scipy-1.4.1:\n",
            "      Successfully uninstalled scipy-1.4.1\n",
            "  Found existing installation: cvxpy 1.0.31\n",
            "    Uninstalling cvxpy-1.0.31:\n",
            "      Successfully uninstalled cvxpy-1.0.31\n",
            "  Found existing installation: scikit-learn 0.22.2.post1\n",
            "    Uninstalling scikit-learn-0.22.2.post1:\n",
            "      Successfully uninstalled scikit-learn-0.22.2.post1\n",
            "Successfully installed cvxpy-1.1.13 fancyimpute-0.6.0 knnimpute-0.1.0 scikit-learn-0.24.2 scipy-1.6.3 threadpoolctl-2.2.0\n"
          ],
          "name": "stdout"
        }
      ]
    },
    {
      "cell_type": "code",
      "metadata": {
        "id": "GUstA_UZPY0Y"
      },
      "source": [
        "df=pd.read_csv(\"https://raw.githubusercontent.com/RafaelBNN/datasets/main/powerlifting3.csv\") # Carregamos o dataframe"
      ],
      "execution_count": 2,
      "outputs": []
    },
    {
      "cell_type": "markdown",
      "metadata": {
        "id": "OC1dDxfc5BVk"
      },
      "source": [
        "# 1. Introdução e Coleta de Dados"
      ]
    },
    {
      "cell_type": "code",
      "metadata": {
        "id": "99tarbEvKwgs"
      },
      "source": [
        "import requests\n",
        "from io import BytesIO\n",
        "from PIL import Image\n",
        "url = 'https://raw.githubusercontent.com/RafaelBNN/if697/main/sbd2.jpg?token=AKYEI55RUJLWBUN6O3TY4DLA2DFH4'\n",
        "page = requests.get(url)"
      ],
      "execution_count": null,
      "outputs": []
    },
    {
      "cell_type": "code",
      "metadata": {
        "colab": {
          "base_uri": "https://localhost:8080/",
          "height": 322
        },
        "id": "4S7abgjYlbAw",
        "outputId": "90469b78-a087-44cf-fcd2-336a18b04b5b"
      },
      "source": [
        "#Image.open(BytesIO(page.content))"
      ],
      "execution_count": null,
      "outputs": [
        {
          "output_type": "execute_result",
          "data": {
            "image/png": "[encoded data removed]",
            "text/plain": [
              "<PIL.JpegImagePlugin.JpegImageFile image mode=RGB size=480x305 at 0x7F926BEC80D0>"
            ]
          },
          "metadata": {
            "tags": []
          },
          "execution_count": 10
        }
      ]
    },
    {
      "cell_type": "markdown",
      "metadata": {
        "id": "xn2AQ2zYuvrA"
      },
      "source": [
        "O *powerlifting* é um esporte de força individual que consiste em 3 levantamentos básicos: *squat* (agachamento), *bench press* (supino) e *deadlift* (levantamento terra). Como no *weightlifting* olímpico, cada competidor tem direito a 3 tentativas em cada evento, e o objetivo é executar corretamente o exercício uma única vez com a maior carga possível. A maior carga erguida com sucesso é computada para o resultado final. Aquele que tiver o maior somatório dos 3 eventos, vence naquela categoria.\n",
        "\n",
        "O dataset que será analisado foi retirado do site da [Open Powerlifting](https://www.openpowerlifting.org/) e contém dados coletados de várias competições oficias. Nosso objetivo será investigar os dados, apresentar estatísticas descritivas e realizar testes de hipótese, a fim de obter *insights* relevantes sobre o esporte."
      ]
    },
    {
      "cell_type": "code",
      "metadata": {
        "id": "xgOG-vgJS3mH"
      },
      "source": [
        "df=pd.read_csv(\"https://raw.githubusercontent.com/RafaelBNN/datasets/main/powerlifting3.csv\") # Carregamos o dataframe"
      ],
      "execution_count": null,
      "outputs": []
    },
    {
      "cell_type": "code",
      "metadata": {
        "colab": {
          "base_uri": "https://localhost:8080/",
          "height": 365
        },
        "id": "D1THPGQ1Tdq4",
        "outputId": "ddea813e-7485-4101-acb4-0634e1634f0a"
      },
      "source": [
        "df.head()"
      ],
      "execution_count": null,
      "outputs": [
        {
          "output_type": "execute_result",
          "data": {
            "text/html": [
              "<div>\n",
              "<style scoped>\n",
              "    .dataframe tbody tr th:only-of-type {\n",
              "        vertical-align: middle;\n",
              "    }\n",
              "\n",
              "    .dataframe tbody tr th {\n",
              "        vertical-align: top;\n",
              "    }\n",
              "\n",
              "    .dataframe thead th {\n",
              "        text-align: right;\n",
              "    }\n",
              "</style>\n",
              "<table border=\"1\" class=\"dataframe\">\n",
              "  <thead>\n",
              "    <tr style=\"text-align: right;\">\n",
              "      <th></th>\n",
              "      <th>Unnamed: 0</th>\n",
              "      <th>Name</th>\n",
              "      <th>Sex</th>\n",
              "      <th>Event</th>\n",
              "      <th>Equipment</th>\n",
              "      <th>Age</th>\n",
              "      <th>AgeClass</th>\n",
              "      <th>Division</th>\n",
              "      <th>BodyweightKg</th>\n",
              "      <th>WeightClassKg</th>\n",
              "      <th>Squat1Kg</th>\n",
              "      <th>Squat2Kg</th>\n",
              "      <th>Squat3Kg</th>\n",
              "      <th>Squat4Kg</th>\n",
              "      <th>Best3SquatKg</th>\n",
              "      <th>Bench1Kg</th>\n",
              "      <th>Bench2Kg</th>\n",
              "      <th>Bench3Kg</th>\n",
              "      <th>Bench4Kg</th>\n",
              "      <th>Best3BenchKg</th>\n",
              "      <th>Deadlift1Kg</th>\n",
              "      <th>Deadlift2Kg</th>\n",
              "      <th>Deadlift3Kg</th>\n",
              "      <th>Deadlift4Kg</th>\n",
              "      <th>Best3DeadliftKg</th>\n",
              "      <th>TotalKg</th>\n",
              "      <th>Place</th>\n",
              "      <th>Wilks</th>\n",
              "      <th>McCulloch</th>\n",
              "      <th>Glossbrenner</th>\n",
              "      <th>IPFPoints</th>\n",
              "      <th>Tested</th>\n",
              "      <th>Country</th>\n",
              "      <th>Federation</th>\n",
              "      <th>Date</th>\n",
              "      <th>MeetCountry</th>\n",
              "      <th>MeetState</th>\n",
              "      <th>MeetName</th>\n",
              "    </tr>\n",
              "  </thead>\n",
              "  <tbody>\n",
              "    <tr>\n",
              "      <th>0</th>\n",
              "      <td>692083</td>\n",
              "      <td>Hayden Fulwood</td>\n",
              "      <td>M</td>\n",
              "      <td>SBD</td>\n",
              "      <td>Raw</td>\n",
              "      <td>18.0</td>\n",
              "      <td>18-19</td>\n",
              "      <td>MR-T3</td>\n",
              "      <td>88.0</td>\n",
              "      <td>90</td>\n",
              "      <td>NaN</td>\n",
              "      <td>NaN</td>\n",
              "      <td>NaN</td>\n",
              "      <td>NaN</td>\n",
              "      <td>167.50</td>\n",
              "      <td>NaN</td>\n",
              "      <td>NaN</td>\n",
              "      <td>NaN</td>\n",
              "      <td>NaN</td>\n",
              "      <td>122.50</td>\n",
              "      <td>NaN</td>\n",
              "      <td>NaN</td>\n",
              "      <td>NaN</td>\n",
              "      <td>NaN</td>\n",
              "      <td>227.50</td>\n",
              "      <td>517.50</td>\n",
              "      <td>1</td>\n",
              "      <td>334.25</td>\n",
              "      <td>354.31</td>\n",
              "      <td>322.27</td>\n",
              "      <td>482.79</td>\n",
              "      <td>Yes</td>\n",
              "      <td>USA</td>\n",
              "      <td>USAPL</td>\n",
              "      <td>2013-04-27</td>\n",
              "      <td>USA</td>\n",
              "      <td>AL</td>\n",
              "      <td>S.E HS State Wars</td>\n",
              "    </tr>\n",
              "    <tr>\n",
              "      <th>1</th>\n",
              "      <td>621012</td>\n",
              "      <td>Jozef Slimák</td>\n",
              "      <td>M</td>\n",
              "      <td>B</td>\n",
              "      <td>Multi-ply</td>\n",
              "      <td>46.0</td>\n",
              "      <td>45-49</td>\n",
              "      <td>M-M2</td>\n",
              "      <td>82.2</td>\n",
              "      <td>82.5</td>\n",
              "      <td>NaN</td>\n",
              "      <td>NaN</td>\n",
              "      <td>NaN</td>\n",
              "      <td>NaN</td>\n",
              "      <td>NaN</td>\n",
              "      <td>165.0</td>\n",
              "      <td>180.0</td>\n",
              "      <td>-190.0</td>\n",
              "      <td>NaN</td>\n",
              "      <td>180.00</td>\n",
              "      <td>NaN</td>\n",
              "      <td>NaN</td>\n",
              "      <td>NaN</td>\n",
              "      <td>NaN</td>\n",
              "      <td>NaN</td>\n",
              "      <td>180.00</td>\n",
              "      <td>1</td>\n",
              "      <td>120.85</td>\n",
              "      <td>129.06</td>\n",
              "      <td>116.68</td>\n",
              "      <td>571.78</td>\n",
              "      <td>NaN</td>\n",
              "      <td>Slovakia</td>\n",
              "      <td>WPC</td>\n",
              "      <td>2012-11-06</td>\n",
              "      <td>USA</td>\n",
              "      <td>NV</td>\n",
              "      <td>World Championships</td>\n",
              "    </tr>\n",
              "    <tr>\n",
              "      <th>2</th>\n",
              "      <td>164449</td>\n",
              "      <td>Chase Garrett</td>\n",
              "      <td>M</td>\n",
              "      <td>D</td>\n",
              "      <td>Raw</td>\n",
              "      <td>NaN</td>\n",
              "      <td>13-15</td>\n",
              "      <td>Teenage 13-15</td>\n",
              "      <td>44.0</td>\n",
              "      <td>44</td>\n",
              "      <td>NaN</td>\n",
              "      <td>NaN</td>\n",
              "      <td>NaN</td>\n",
              "      <td>NaN</td>\n",
              "      <td>NaN</td>\n",
              "      <td>NaN</td>\n",
              "      <td>NaN</td>\n",
              "      <td>NaN</td>\n",
              "      <td>NaN</td>\n",
              "      <td>NaN</td>\n",
              "      <td>NaN</td>\n",
              "      <td>NaN</td>\n",
              "      <td>NaN</td>\n",
              "      <td>NaN</td>\n",
              "      <td>70.31</td>\n",
              "      <td>70.31</td>\n",
              "      <td>1</td>\n",
              "      <td>83.29</td>\n",
              "      <td>98.28</td>\n",
              "      <td>82.94</td>\n",
              "      <td>212.28</td>\n",
              "      <td>NaN</td>\n",
              "      <td>NaN</td>\n",
              "      <td>SPF</td>\n",
              "      <td>2008-12-06</td>\n",
              "      <td>USA</td>\n",
              "      <td>NaN</td>\n",
              "      <td>Body by George Classic</td>\n",
              "    </tr>\n",
              "    <tr>\n",
              "      <th>3</th>\n",
              "      <td>353419</td>\n",
              "      <td>Edgar Rodea</td>\n",
              "      <td>M</td>\n",
              "      <td>SBD</td>\n",
              "      <td>Single-ply</td>\n",
              "      <td>NaN</td>\n",
              "      <td>NaN</td>\n",
              "      <td>Boys</td>\n",
              "      <td>92.9</td>\n",
              "      <td>99.7</td>\n",
              "      <td>NaN</td>\n",
              "      <td>NaN</td>\n",
              "      <td>NaN</td>\n",
              "      <td>NaN</td>\n",
              "      <td>204.12</td>\n",
              "      <td>NaN</td>\n",
              "      <td>NaN</td>\n",
              "      <td>NaN</td>\n",
              "      <td>NaN</td>\n",
              "      <td>129.27</td>\n",
              "      <td>NaN</td>\n",
              "      <td>NaN</td>\n",
              "      <td>NaN</td>\n",
              "      <td>NaN</td>\n",
              "      <td>185.97</td>\n",
              "      <td>519.36</td>\n",
              "      <td>1</td>\n",
              "      <td>326.42</td>\n",
              "      <td>326.42</td>\n",
              "      <td>314.34</td>\n",
              "      <td>420.04</td>\n",
              "      <td>Yes</td>\n",
              "      <td>NaN</td>\n",
              "      <td>THSPA</td>\n",
              "      <td>2017-01-28</td>\n",
              "      <td>USA</td>\n",
              "      <td>TX</td>\n",
              "      <td>Santo Meet</td>\n",
              "    </tr>\n",
              "    <tr>\n",
              "      <th>4</th>\n",
              "      <td>128144</td>\n",
              "      <td>K. Kaufman</td>\n",
              "      <td>M</td>\n",
              "      <td>B</td>\n",
              "      <td>Raw</td>\n",
              "      <td>NaN</td>\n",
              "      <td>NaN</td>\n",
              "      <td>Open</td>\n",
              "      <td>90.0</td>\n",
              "      <td>90</td>\n",
              "      <td>NaN</td>\n",
              "      <td>NaN</td>\n",
              "      <td>NaN</td>\n",
              "      <td>NaN</td>\n",
              "      <td>NaN</td>\n",
              "      <td>NaN</td>\n",
              "      <td>NaN</td>\n",
              "      <td>NaN</td>\n",
              "      <td>NaN</td>\n",
              "      <td>145.15</td>\n",
              "      <td>NaN</td>\n",
              "      <td>NaN</td>\n",
              "      <td>NaN</td>\n",
              "      <td>NaN</td>\n",
              "      <td>NaN</td>\n",
              "      <td>145.15</td>\n",
              "      <td>6</td>\n",
              "      <td>92.66</td>\n",
              "      <td>92.66</td>\n",
              "      <td>89.30</td>\n",
              "      <td>558.46</td>\n",
              "      <td>NaN</td>\n",
              "      <td>NaN</td>\n",
              "      <td>USPF</td>\n",
              "      <td>1979-12-08</td>\n",
              "      <td>USA</td>\n",
              "      <td>ND</td>\n",
              "      <td>3rd Annual Midwestern Bench Press Championships</td>\n",
              "    </tr>\n",
              "  </tbody>\n",
              "</table>\n",
              "</div>"
            ],
            "text/plain": [
              "   Unnamed: 0  ...                                         MeetName\n",
              "0      692083  ...                                S.E HS State Wars\n",
              "1      621012  ...                              World Championships\n",
              "2      164449  ...                           Body by George Classic\n",
              "3      353419  ...                                       Santo Meet\n",
              "4      128144  ...  3rd Annual Midwestern Bench Press Championships\n",
              "\n",
              "[5 rows x 38 columns]"
            ]
          },
          "metadata": {
            "tags": []
          },
          "execution_count": 3
        }
      ]
    },
    {
      "cell_type": "markdown",
      "metadata": {
        "id": "oeUgms0QZDZp"
      },
      "source": [
        "Descrição dos dados:\n",
        "\n",
        "* `Name`: nome\n",
        "* `Sex`: sexo\n",
        "* `Event`: o(s) evento(s) em que competiu (S = squat, B = bench press, D = deadlift)\n",
        "* `Equipment`: o equipamento utilizado\n",
        "* `Age`: idade\n",
        "* `AgeClass`: a classe de idade em que competiu\n",
        "* `Division`: a divisão em que competiu\n",
        "* `BodyweightKg`: o peso do corpo em kg\n",
        "* `WeightClassKg`: a classe de peso em que competiu, similar a `Division`\n",
        "* `SquatNKg`: a carga levantada no agachamento na *N*-ésima tentativa, em kg. Valores negativos significam tentativas falhas\n",
        "* `BenchNKg`: a carga levantada no supino na *N*-ésima tentativa, em kg. Valores negativos significam tentativas falhas\n",
        "* `DeadliftNKg`: a carga levantada no levantamento terra na *N*-ésima tentativa, em kg. Valores negativos significam tentativas falhas\n",
        "* `Best3SquatKg`: o maior peso que levantou naquela competição no agachamento\n",
        "* `Best3BenchKg`: o maior peso que levantou naquela competição no supino\n",
        "* `Best3DeadliftKg`: o maior peso que levantou naquela competição no levantamento terra\n",
        "* `TotalKg`: a soma de `Best3SquatKg`, `Best3BenchKg` e `Best3DeadliftKg`. Se algum desses valores for negativo, `TotalKg` é anulado\n",
        "* `Place`: a colocação naquela competição. Também indica se o competidor foi desqualificado, não participou ou não foi elegível a premiação\n",
        "* `Wilks`, `McCulloch` e `Glossbrenner`: coeficientes que medem a força do atleta de acordo com sexo, peso corporal, idade e peso total levantado. Buscam determinar o melhor atleta dentre todas as categorias\n",
        "* `IPFPoints`: pontuação na *International Powerlifting Federation*\n",
        "* `Tested`: se a competição foi testada para anti-doping ou não\n",
        "* `Country`: país que representa\n",
        "* `Federation`: federação que organizou a competição\n",
        "* `Date`: data da competição\n",
        "* `MeetCountry`: país da competição\n",
        "* `MeetState`: estado da competição\n",
        "* `MeetName`: nome da competição\n"
      ]
    },
    {
      "cell_type": "markdown",
      "metadata": {
        "id": "AlTbznOV40nu"
      },
      "source": [
        "# 2. Pré-processamento"
      ]
    },
    {
      "cell_type": "markdown",
      "metadata": {
        "id": "_QdBT-flEbXC"
      },
      "source": [
        "O pré-processamento é um dos passos mais importantes na análise descritiva e exploratória de dados. Nessa etapa, os dados são tratados de modo que informações discrepantes, insconsistentes ou incorretas sejam estudadas e/ou removidas. Isso facilita a interpretação e evita incoerências na análise.\n",
        "\n",
        "Essa etapa pode ser dividida em 5 subetapas:\n",
        "* Definição de Tipos\n",
        "* Tratamento de Dados Ausentes\n",
        "* Normalização\n",
        "* Discretização\n",
        "* Limpeza de Dados\n",
        "\n",
        "Vamos, então, pôr em prática cada uma delas passo a passo."
      ]
    },
    {
      "cell_type": "markdown",
      "metadata": {
        "id": "_6s7AVCEuQnV"
      },
      "source": [
        "## Definição de Tipos"
      ]
    },
    {
      "cell_type": "markdown",
      "metadata": {
        "id": "zrtlhDBCEYJ2"
      },
      "source": [
        "O Ajuste de Tipos serve para estabelecer os tipos dos dados de acordo com a necessidade daquela análise. A célula a seguir expõe os tipos colocados automaticamente pela biblioteca."
      ]
    },
    {
      "cell_type": "code",
      "metadata": {
        "colab": {
          "base_uri": "https://localhost:8080/"
        },
        "id": "QktKB46tubw9",
        "outputId": "fbe70517-ec8e-40d7-be03-56bc1e025fb2"
      },
      "source": [
        "df.dtypes"
      ],
      "execution_count": 3,
      "outputs": [
        {
          "output_type": "execute_result",
          "data": {
            "text/plain": [
              "Unnamed: 0           int64\n",
              "Name                object\n",
              "Sex                 object\n",
              "Event               object\n",
              "Equipment           object\n",
              "Age                float64\n",
              "AgeClass            object\n",
              "Division            object\n",
              "BodyweightKg       float64\n",
              "WeightClassKg       object\n",
              "Squat1Kg           float64\n",
              "Squat2Kg           float64\n",
              "Squat3Kg           float64\n",
              "Squat4Kg           float64\n",
              "Best3SquatKg       float64\n",
              "Bench1Kg           float64\n",
              "Bench2Kg           float64\n",
              "Bench3Kg           float64\n",
              "Bench4Kg           float64\n",
              "Best3BenchKg       float64\n",
              "Deadlift1Kg        float64\n",
              "Deadlift2Kg        float64\n",
              "Deadlift3Kg        float64\n",
              "Deadlift4Kg        float64\n",
              "Best3DeadliftKg    float64\n",
              "TotalKg            float64\n",
              "Place               object\n",
              "Wilks              float64\n",
              "McCulloch          float64\n",
              "Glossbrenner       float64\n",
              "IPFPoints          float64\n",
              "Tested              object\n",
              "Country             object\n",
              "Federation          object\n",
              "Date                object\n",
              "MeetCountry         object\n",
              "MeetState           object\n",
              "MeetName            object\n",
              "dtype: object"
            ]
          },
          "metadata": {
            "tags": []
          },
          "execution_count": 3
        }
      ]
    },
    {
      "cell_type": "markdown",
      "metadata": {
        "id": "nJ6MgOm3z-9j"
      },
      "source": [
        "A partir daí, notamos que vários atributos  estão listados como `object`. No entanto, muitos deles se encaixariam melhor no tipo `string` ou `category`, facilitando a interpretação deles. As células a seguir tratam desses casos."
      ]
    },
    {
      "cell_type": "code",
      "metadata": {
        "id": "j5rQlju3qF-v",
        "colab": {
          "base_uri": "https://localhost:8080/"
        },
        "outputId": "2895b587-8da7-42af-c849-807ee76548ef"
      },
      "source": [
        "df['Name'] = df['Name'].astype('string')\n",
        "df['Sex'] = df['Sex'].astype('category')                        # astype('char')\n",
        "df['Event'] = df['Event'].astype('category')                    # astype('string')\n",
        "df['Equipment'] = df['Equipment'].astype('category')\n",
        "df['AgeClass'] = df['AgeClass'].astype('category')\n",
        "df['Division'] = df['Division'].astype('category')\n",
        "df['WeightClassKg'] = df['WeightClassKg'].astype('category')\n",
        "df['Place'] = df['Place'].astype('category')                    # astype('int64')\n",
        "df['Tested'] = df['Tested'].astype('category')\n",
        "df['Country'] = df['Country'].astype('category')\n",
        "df['Federation'] = df['Federation'].astype('category')\n",
        "df['Date'] = df['Date'].astype('category')\n",
        "df['MeetCountry'] = df['MeetCountry'].astype('category')\n",
        "df['MeetState'] = df['MeetState'].astype('category')\n",
        "df['MeetName'] = df['MeetName'].astype('category')\n",
        "\n",
        "df['Event'].dtype, df['Equipment'].dtype # Visualizacao de um caso importante"
      ],
      "execution_count": 4,
      "outputs": [
        {
          "output_type": "execute_result",
          "data": {
            "text/plain": [
              "(CategoricalDtype(categories=['B', 'BD', 'D', 'S', 'SB', 'SBD', 'SD'], ordered=False),\n",
              " CategoricalDtype(categories=['Multi-ply', 'Raw', 'Single-ply', 'Wraps'], ordered=False))"
            ]
          },
          "metadata": {
            "tags": []
          },
          "execution_count": 4
        }
      ]
    },
    {
      "cell_type": "code",
      "metadata": {
        "colab": {
          "base_uri": "https://localhost:8080/"
        },
        "id": "ys_U_-T-VKzs",
        "outputId": "bf7d46b7-3a18-478b-dd4e-03efa9f571ff"
      },
      "source": [
        "df['Place'].dtype"
      ],
      "execution_count": 5,
      "outputs": [
        {
          "output_type": "execute_result",
          "data": {
            "text/plain": [
              "CategoricalDtype(categories=['1', '10', '11', '12', '13', '14', '15', '16', '17', '18',\n",
              "                  '19', '2', '20', '21', '22', '23', '24', '25', '26', '27',\n",
              "                  '28', '29', '3', '30', '32', '33', '35', '36', '38', '4',\n",
              "                  '43', '44', '47', '5', '50', '51', '54', '55', '56', '57',\n",
              "                  '58', '6', '65', '7', '8', '82', '84', '9', 'DD', 'DQ', 'G',\n",
              "                  'NS'],\n",
              "                 ordered=False)"
            ]
          },
          "metadata": {
            "tags": []
          },
          "execution_count": 5
        }
      ]
    },
    {
      "cell_type": "code",
      "metadata": {
        "colab": {
          "base_uri": "https://localhost:8080/"
        },
        "id": "cg4cvXkMM1UZ",
        "outputId": "babb31f1-f07d-41eb-ae25-2e11da327b93"
      },
      "source": [
        "df.dtypes"
      ],
      "execution_count": 6,
      "outputs": [
        {
          "output_type": "execute_result",
          "data": {
            "text/plain": [
              "Unnamed: 0            int64\n",
              "Name                 string\n",
              "Sex                category\n",
              "Event              category\n",
              "Equipment          category\n",
              "Age                 float64\n",
              "AgeClass           category\n",
              "Division           category\n",
              "BodyweightKg        float64\n",
              "WeightClassKg      category\n",
              "Squat1Kg            float64\n",
              "Squat2Kg            float64\n",
              "Squat3Kg            float64\n",
              "Squat4Kg            float64\n",
              "Best3SquatKg        float64\n",
              "Bench1Kg            float64\n",
              "Bench2Kg            float64\n",
              "Bench3Kg            float64\n",
              "Bench4Kg            float64\n",
              "Best3BenchKg        float64\n",
              "Deadlift1Kg         float64\n",
              "Deadlift2Kg         float64\n",
              "Deadlift3Kg         float64\n",
              "Deadlift4Kg         float64\n",
              "Best3DeadliftKg     float64\n",
              "TotalKg             float64\n",
              "Place              category\n",
              "Wilks               float64\n",
              "McCulloch           float64\n",
              "Glossbrenner        float64\n",
              "IPFPoints           float64\n",
              "Tested             category\n",
              "Country            category\n",
              "Federation         category\n",
              "Date               category\n",
              "MeetCountry        category\n",
              "MeetState          category\n",
              "MeetName           category\n",
              "dtype: object"
            ]
          },
          "metadata": {
            "tags": []
          },
          "execution_count": 6
        }
      ]
    },
    {
      "cell_type": "markdown",
      "metadata": {
        "id": "geIlmHqfTEye"
      },
      "source": [
        "Assim, atualizamos os tipos dos dados. Isso vai favorecer a investigação dos dados mais à frente."
      ]
    },
    {
      "cell_type": "markdown",
      "metadata": {
        "id": "bkNQT0JM_hzr"
      },
      "source": [
        "## Tratamento de Dados Ausentes"
      ]
    },
    {
      "cell_type": "markdown",
      "metadata": {
        "id": "ats2bf7asjCE"
      },
      "source": [
        "O Tratamento de Dados Ausentes mostra-se bastante importante nos casos em que registros que queremos estudar possuem atributos faltantes. Isso pode limitar bastante a análise dependendo da importância daquele atributo.\n",
        "\n",
        "Nesta etapa, faremos exatamente isso. Vamos estudar dados ausentes e tratá-los de acordo com a necessidade de cada caso."
      ]
    },
    {
      "cell_type": "code",
      "metadata": {
        "id": "q9RWjGfbgTa4",
        "colab": {
          "base_uri": "https://localhost:8080/"
        },
        "outputId": "250ed876-4b6d-440a-b611-64be8176ca22"
      },
      "source": [
        "df.isnull().sum(axis = 0)/len(df)"
      ],
      "execution_count": null,
      "outputs": [
        {
          "output_type": "execute_result",
          "data": {
            "text/plain": [
              "Unnamed: 0         0.00000\n",
              "Name               0.00000\n",
              "Sex                0.00000\n",
              "Event              0.00000\n",
              "Equipment          0.00000\n",
              "Age                0.46925\n",
              "AgeClass           0.44795\n",
              "Division           0.00505\n",
              "BodyweightKg       0.01240\n",
              "WeightClassKg      0.00930\n",
              "Squat1Kg           0.76470\n",
              "Squat2Kg           0.76740\n",
              "Squat3Kg           0.77390\n",
              "Squat4Kg           0.99705\n",
              "Best3SquatKg       0.27550\n",
              "Bench1Kg           0.64945\n",
              "Bench2Kg           0.65375\n",
              "Bench3Kg           0.66385\n",
              "Bench4Kg           0.99360\n",
              "Best3BenchKg       0.10485\n",
              "Deadlift1Kg        0.74850\n",
              "Deadlift2Kg        0.75340\n",
              "Deadlift3Kg        0.76355\n",
              "Deadlift4Kg        0.99480\n",
              "Best3DeadliftKg    0.24295\n",
              "TotalKg            0.07830\n",
              "Place              0.00000\n",
              "Wilks              0.08425\n",
              "McCulloch          0.08435\n",
              "Glossbrenner       0.08425\n",
              "IPFPoints          0.10560\n",
              "Tested             0.22805\n",
              "Country            0.72445\n",
              "Federation         0.00000\n",
              "Date               0.00000\n",
              "MeetCountry        0.00000\n",
              "MeetState          0.34105\n",
              "MeetName           0.00000\n",
              "dtype: float64"
            ]
          },
          "metadata": {
            "tags": []
          },
          "execution_count": 8
        }
      ]
    },
    {
      "cell_type": "markdown",
      "metadata": {
        "id": "KWTNrRCfNwKS"
      },
      "source": [
        "### `Place`"
      ]
    },
    {
      "cell_type": "markdown",
      "metadata": {
        "id": "EYnPx6FWG6_h"
      },
      "source": [
        "Primeiramente, vamos examinar a coluna `Place`. Além de mostrar a colocação dos competidores, como se é esperado, essa coluna especifica casos em que o competidor não compareceu, não foi elegível a premiação ou foi desqualificado da competição por algum motivo. Isso é mostrado da seguinte forma:"
      ]
    },
    {
      "cell_type": "code",
      "metadata": {
        "id": "iTKu-kUfIuvL",
        "colab": {
          "base_uri": "https://localhost:8080/"
        },
        "outputId": "0e0b5655-f057-411f-fcb1-4f48b7607640"
      },
      "source": [
        "df['Place'].cat.categories # Esse comando mostra as categorias de um dado atributo categorico"
      ],
      "execution_count": 7,
      "outputs": [
        {
          "output_type": "execute_result",
          "data": {
            "text/plain": [
              "Index(['1', '10', '11', '12', '13', '14', '15', '16', '17', '18', '19', '2',\n",
              "       '20', '21', '22', '23', '24', '25', '26', '27', '28', '29', '3', '30',\n",
              "       '32', '33', '35', '36', '38', '4', '43', '44', '47', '5', '50', '51',\n",
              "       '54', '55', '56', '57', '58', '6', '65', '7', '8', '82', '84', '9',\n",
              "       'DD', 'DQ', 'G', 'NS'],\n",
              "      dtype='object')"
            ]
          },
          "metadata": {
            "tags": []
          },
          "execution_count": 7
        }
      ]
    },
    {
      "cell_type": "markdown",
      "metadata": {
        "id": "vtyTvzcuIy-L"
      },
      "source": [
        "* `G`: não elegível a premiação\n",
        "* `DD`: desqualificado por doping\n",
        "* `DQ`: desqualificado por outra razão\n",
        "* `NS`: não compareceu"
      ]
    },
    {
      "cell_type": "markdown",
      "metadata": {
        "id": "nmFNT1BsJDbZ"
      },
      "source": [
        "Investigaremos, agora, esses registros."
      ]
    },
    {
      "cell_type": "code",
      "metadata": {
        "id": "MNQy3B5vJwY2",
        "colab": {
          "base_uri": "https://localhost:8080/",
          "height": 417
        },
        "outputId": "d0316604-40c2-4075-e23c-a6eedeeda265"
      },
      "source": [
        "ddq = df[(df['Place']=='DQ') | (df['Place']=='DD') | (df['Place']=='NS')] # participantes desqualificados ou que nao compareceram\n",
        "ddq.head()"
      ],
      "execution_count": 8,
      "outputs": [
        {
          "output_type": "execute_result",
          "data": {
            "text/html": [
              "<div>\n",
              "<style scoped>\n",
              "    .dataframe tbody tr th:only-of-type {\n",
              "        vertical-align: middle;\n",
              "    }\n",
              "\n",
              "    .dataframe tbody tr th {\n",
              "        vertical-align: top;\n",
              "    }\n",
              "\n",
              "    .dataframe thead th {\n",
              "        text-align: right;\n",
              "    }\n",
              "</style>\n",
              "<table border=\"1\" class=\"dataframe\">\n",
              "  <thead>\n",
              "    <tr style=\"text-align: right;\">\n",
              "      <th></th>\n",
              "      <th>Unnamed: 0</th>\n",
              "      <th>Name</th>\n",
              "      <th>Sex</th>\n",
              "      <th>Event</th>\n",
              "      <th>Equipment</th>\n",
              "      <th>Age</th>\n",
              "      <th>AgeClass</th>\n",
              "      <th>Division</th>\n",
              "      <th>BodyweightKg</th>\n",
              "      <th>WeightClassKg</th>\n",
              "      <th>Squat1Kg</th>\n",
              "      <th>Squat2Kg</th>\n",
              "      <th>Squat3Kg</th>\n",
              "      <th>Squat4Kg</th>\n",
              "      <th>Best3SquatKg</th>\n",
              "      <th>Bench1Kg</th>\n",
              "      <th>Bench2Kg</th>\n",
              "      <th>Bench3Kg</th>\n",
              "      <th>Bench4Kg</th>\n",
              "      <th>Best3BenchKg</th>\n",
              "      <th>Deadlift1Kg</th>\n",
              "      <th>Deadlift2Kg</th>\n",
              "      <th>Deadlift3Kg</th>\n",
              "      <th>Deadlift4Kg</th>\n",
              "      <th>Best3DeadliftKg</th>\n",
              "      <th>TotalKg</th>\n",
              "      <th>Place</th>\n",
              "      <th>Wilks</th>\n",
              "      <th>McCulloch</th>\n",
              "      <th>Glossbrenner</th>\n",
              "      <th>IPFPoints</th>\n",
              "      <th>Tested</th>\n",
              "      <th>Country</th>\n",
              "      <th>Federation</th>\n",
              "      <th>Date</th>\n",
              "      <th>MeetCountry</th>\n",
              "      <th>MeetState</th>\n",
              "      <th>MeetName</th>\n",
              "    </tr>\n",
              "  </thead>\n",
              "  <tbody>\n",
              "    <tr>\n",
              "      <th>26</th>\n",
              "      <td>1357114</td>\n",
              "      <td>Amanda Quatrochi</td>\n",
              "      <td>F</td>\n",
              "      <td>B</td>\n",
              "      <td>Multi-ply</td>\n",
              "      <td>14.0</td>\n",
              "      <td>13-15</td>\n",
              "      <td>FTX</td>\n",
              "      <td>54.40</td>\n",
              "      <td>56</td>\n",
              "      <td>NaN</td>\n",
              "      <td>NaN</td>\n",
              "      <td>NaN</td>\n",
              "      <td>NaN</td>\n",
              "      <td>NaN</td>\n",
              "      <td>-62.5</td>\n",
              "      <td>-62.5</td>\n",
              "      <td>NaN</td>\n",
              "      <td>NaN</td>\n",
              "      <td>NaN</td>\n",
              "      <td>NaN</td>\n",
              "      <td>NaN</td>\n",
              "      <td>NaN</td>\n",
              "      <td>NaN</td>\n",
              "      <td>NaN</td>\n",
              "      <td>NaN</td>\n",
              "      <td>DQ</td>\n",
              "      <td>NaN</td>\n",
              "      <td>NaN</td>\n",
              "      <td>NaN</td>\n",
              "      <td>NaN</td>\n",
              "      <td>NaN</td>\n",
              "      <td>NaN</td>\n",
              "      <td>UPA</td>\n",
              "      <td>2007-09-01</td>\n",
              "      <td>USA</td>\n",
              "      <td>IA</td>\n",
              "      <td>Bench Bash For Cash on the MS</td>\n",
              "    </tr>\n",
              "    <tr>\n",
              "      <th>28</th>\n",
              "      <td>866962</td>\n",
              "      <td>Tim Sparkes</td>\n",
              "      <td>M</td>\n",
              "      <td>D</td>\n",
              "      <td>Single-ply</td>\n",
              "      <td>47.0</td>\n",
              "      <td>45-49</td>\n",
              "      <td>Open</td>\n",
              "      <td>105.91</td>\n",
              "      <td>110</td>\n",
              "      <td>NaN</td>\n",
              "      <td>NaN</td>\n",
              "      <td>NaN</td>\n",
              "      <td>NaN</td>\n",
              "      <td>NaN</td>\n",
              "      <td>NaN</td>\n",
              "      <td>NaN</td>\n",
              "      <td>NaN</td>\n",
              "      <td>NaN</td>\n",
              "      <td>NaN</td>\n",
              "      <td>NaN</td>\n",
              "      <td>NaN</td>\n",
              "      <td>NaN</td>\n",
              "      <td>NaN</td>\n",
              "      <td>-320.0</td>\n",
              "      <td>NaN</td>\n",
              "      <td>DQ</td>\n",
              "      <td>NaN</td>\n",
              "      <td>NaN</td>\n",
              "      <td>NaN</td>\n",
              "      <td>NaN</td>\n",
              "      <td>NaN</td>\n",
              "      <td>USA</td>\n",
              "      <td>USPA</td>\n",
              "      <td>2014-09-19</td>\n",
              "      <td>USA</td>\n",
              "      <td>NV</td>\n",
              "      <td>Mr Olympia Powerlifting Benchpress and Deadlif...</td>\n",
              "    </tr>\n",
              "    <tr>\n",
              "      <th>30</th>\n",
              "      <td>273953</td>\n",
              "      <td>Victor Aguilar</td>\n",
              "      <td>M</td>\n",
              "      <td>SBD</td>\n",
              "      <td>Single-ply</td>\n",
              "      <td>NaN</td>\n",
              "      <td>NaN</td>\n",
              "      <td>Boys</td>\n",
              "      <td>87.72</td>\n",
              "      <td>89.8</td>\n",
              "      <td>NaN</td>\n",
              "      <td>NaN</td>\n",
              "      <td>NaN</td>\n",
              "      <td>NaN</td>\n",
              "      <td>219.99</td>\n",
              "      <td>NaN</td>\n",
              "      <td>NaN</td>\n",
              "      <td>NaN</td>\n",
              "      <td>NaN</td>\n",
              "      <td>129.27</td>\n",
              "      <td>NaN</td>\n",
              "      <td>NaN</td>\n",
              "      <td>NaN</td>\n",
              "      <td>NaN</td>\n",
              "      <td>NaN</td>\n",
              "      <td>NaN</td>\n",
              "      <td>DQ</td>\n",
              "      <td>NaN</td>\n",
              "      <td>NaN</td>\n",
              "      <td>NaN</td>\n",
              "      <td>NaN</td>\n",
              "      <td>Yes</td>\n",
              "      <td>NaN</td>\n",
              "      <td>THSPA</td>\n",
              "      <td>2012-01-28</td>\n",
              "      <td>USA</td>\n",
              "      <td>TX</td>\n",
              "      <td>Greyhound Invitational</td>\n",
              "    </tr>\n",
              "    <tr>\n",
              "      <th>39</th>\n",
              "      <td>753723</td>\n",
              "      <td>Justin Collins</td>\n",
              "      <td>M</td>\n",
              "      <td>SBD</td>\n",
              "      <td>Raw</td>\n",
              "      <td>31.5</td>\n",
              "      <td>24-34</td>\n",
              "      <td>MR-O</td>\n",
              "      <td>161.00</td>\n",
              "      <td>120+</td>\n",
              "      <td>-227.5</td>\n",
              "      <td>-227.5</td>\n",
              "      <td>-227.5</td>\n",
              "      <td>NaN</td>\n",
              "      <td>NaN</td>\n",
              "      <td>185.0</td>\n",
              "      <td>195.0</td>\n",
              "      <td>-202.5</td>\n",
              "      <td>NaN</td>\n",
              "      <td>195.00</td>\n",
              "      <td>237.5</td>\n",
              "      <td>250.0</td>\n",
              "      <td>-262.5</td>\n",
              "      <td>NaN</td>\n",
              "      <td>250.0</td>\n",
              "      <td>NaN</td>\n",
              "      <td>DQ</td>\n",
              "      <td>NaN</td>\n",
              "      <td>NaN</td>\n",
              "      <td>NaN</td>\n",
              "      <td>NaN</td>\n",
              "      <td>Yes</td>\n",
              "      <td>NaN</td>\n",
              "      <td>USAPL</td>\n",
              "      <td>2016-07-30</td>\n",
              "      <td>USA</td>\n",
              "      <td>OH</td>\n",
              "      <td>Ohio State Championship</td>\n",
              "    </tr>\n",
              "    <tr>\n",
              "      <th>41</th>\n",
              "      <td>852146</td>\n",
              "      <td>Alvin Waldon</td>\n",
              "      <td>M</td>\n",
              "      <td>B</td>\n",
              "      <td>Single-ply</td>\n",
              "      <td>49.0</td>\n",
              "      <td>45-49</td>\n",
              "      <td>Open</td>\n",
              "      <td>110.00</td>\n",
              "      <td>110</td>\n",
              "      <td>NaN</td>\n",
              "      <td>NaN</td>\n",
              "      <td>NaN</td>\n",
              "      <td>NaN</td>\n",
              "      <td>NaN</td>\n",
              "      <td>NaN</td>\n",
              "      <td>NaN</td>\n",
              "      <td>NaN</td>\n",
              "      <td>NaN</td>\n",
              "      <td>NaN</td>\n",
              "      <td>NaN</td>\n",
              "      <td>NaN</td>\n",
              "      <td>NaN</td>\n",
              "      <td>NaN</td>\n",
              "      <td>NaN</td>\n",
              "      <td>NaN</td>\n",
              "      <td>DQ</td>\n",
              "      <td>NaN</td>\n",
              "      <td>NaN</td>\n",
              "      <td>NaN</td>\n",
              "      <td>NaN</td>\n",
              "      <td>NaN</td>\n",
              "      <td>USA</td>\n",
              "      <td>USPF</td>\n",
              "      <td>2000-11-11</td>\n",
              "      <td>USA</td>\n",
              "      <td>CA</td>\n",
              "      <td>USA National Powerlifting and Bench Press Cham...</td>\n",
              "    </tr>\n",
              "  </tbody>\n",
              "</table>\n",
              "</div>"
            ],
            "text/plain": [
              "    Unnamed: 0  ...                                           MeetName\n",
              "26     1357114  ...                      Bench Bash For Cash on the MS\n",
              "28      866962  ...  Mr Olympia Powerlifting Benchpress and Deadlif...\n",
              "30      273953  ...                             Greyhound Invitational\n",
              "39      753723  ...                            Ohio State Championship\n",
              "41      852146  ...  USA National Powerlifting and Bench Press Cham...\n",
              "\n",
              "[5 rows x 38 columns]"
            ]
          },
          "metadata": {
            "tags": []
          },
          "execution_count": 8
        }
      ]
    },
    {
      "cell_type": "code",
      "metadata": {
        "id": "ARiDvGxBKWLM",
        "colab": {
          "base_uri": "https://localhost:8080/"
        },
        "outputId": "2c3adbf4-0442-4c65-d254-eb8c91826450"
      },
      "source": [
        "print('Porcentagem de competidores desqualificados ou que não compareceram:', len(ddq)/len(df))"
      ],
      "execution_count": 9,
      "outputs": [
        {
          "output_type": "stream",
          "text": [
            "Porcentagem de competidores desqualificados ou que não compareceram: 0.0783\n"
          ],
          "name": "stdout"
        }
      ]
    },
    {
      "cell_type": "code",
      "metadata": {
        "id": "qkO3hrWBKZoN",
        "colab": {
          "base_uri": "https://localhost:8080/",
          "height": 382
        },
        "outputId": "b6392bac-88d0-4f80-f34c-85c348e4ab48"
      },
      "source": [
        "dg = df[df['Place']=='G'] # participantes nao elegiveis a premiacao\n",
        "dg.head()"
      ],
      "execution_count": 10,
      "outputs": [
        {
          "output_type": "execute_result",
          "data": {
            "text/html": [
              "<div>\n",
              "<style scoped>\n",
              "    .dataframe tbody tr th:only-of-type {\n",
              "        vertical-align: middle;\n",
              "    }\n",
              "\n",
              "    .dataframe tbody tr th {\n",
              "        vertical-align: top;\n",
              "    }\n",
              "\n",
              "    .dataframe thead th {\n",
              "        text-align: right;\n",
              "    }\n",
              "</style>\n",
              "<table border=\"1\" class=\"dataframe\">\n",
              "  <thead>\n",
              "    <tr style=\"text-align: right;\">\n",
              "      <th></th>\n",
              "      <th>Unnamed: 0</th>\n",
              "      <th>Name</th>\n",
              "      <th>Sex</th>\n",
              "      <th>Event</th>\n",
              "      <th>Equipment</th>\n",
              "      <th>Age</th>\n",
              "      <th>AgeClass</th>\n",
              "      <th>Division</th>\n",
              "      <th>BodyweightKg</th>\n",
              "      <th>WeightClassKg</th>\n",
              "      <th>Squat1Kg</th>\n",
              "      <th>Squat2Kg</th>\n",
              "      <th>Squat3Kg</th>\n",
              "      <th>Squat4Kg</th>\n",
              "      <th>Best3SquatKg</th>\n",
              "      <th>Bench1Kg</th>\n",
              "      <th>Bench2Kg</th>\n",
              "      <th>Bench3Kg</th>\n",
              "      <th>Bench4Kg</th>\n",
              "      <th>Best3BenchKg</th>\n",
              "      <th>Deadlift1Kg</th>\n",
              "      <th>Deadlift2Kg</th>\n",
              "      <th>Deadlift3Kg</th>\n",
              "      <th>Deadlift4Kg</th>\n",
              "      <th>Best3DeadliftKg</th>\n",
              "      <th>TotalKg</th>\n",
              "      <th>Place</th>\n",
              "      <th>Wilks</th>\n",
              "      <th>McCulloch</th>\n",
              "      <th>Glossbrenner</th>\n",
              "      <th>IPFPoints</th>\n",
              "      <th>Tested</th>\n",
              "      <th>Country</th>\n",
              "      <th>Federation</th>\n",
              "      <th>Date</th>\n",
              "      <th>MeetCountry</th>\n",
              "      <th>MeetState</th>\n",
              "      <th>MeetName</th>\n",
              "    </tr>\n",
              "  </thead>\n",
              "  <tbody>\n",
              "    <tr>\n",
              "      <th>289</th>\n",
              "      <td>669746</td>\n",
              "      <td>Isabella Martin</td>\n",
              "      <td>F</td>\n",
              "      <td>SBD</td>\n",
              "      <td>Raw</td>\n",
              "      <td>8.5</td>\n",
              "      <td>5-12</td>\n",
              "      <td>FR-G</td>\n",
              "      <td>35.80</td>\n",
              "      <td>47</td>\n",
              "      <td>42.5</td>\n",
              "      <td>47.5</td>\n",
              "      <td>-50.0</td>\n",
              "      <td>NaN</td>\n",
              "      <td>47.5</td>\n",
              "      <td>22.5</td>\n",
              "      <td>25.0</td>\n",
              "      <td>27.5</td>\n",
              "      <td>NaN</td>\n",
              "      <td>27.5</td>\n",
              "      <td>63.5</td>\n",
              "      <td>67.5</td>\n",
              "      <td>72.5</td>\n",
              "      <td>NaN</td>\n",
              "      <td>72.5</td>\n",
              "      <td>147.5</td>\n",
              "      <td>G</td>\n",
              "      <td>232.71</td>\n",
              "      <td>346.74</td>\n",
              "      <td>216.71</td>\n",
              "      <td>NaN</td>\n",
              "      <td>Yes</td>\n",
              "      <td>USA</td>\n",
              "      <td>USAPL</td>\n",
              "      <td>2018-05-05</td>\n",
              "      <td>USA</td>\n",
              "      <td>MO</td>\n",
              "      <td>Missouri State Championships</td>\n",
              "    </tr>\n",
              "    <tr>\n",
              "      <th>867</th>\n",
              "      <td>239655</td>\n",
              "      <td>João Arsénio</td>\n",
              "      <td>M</td>\n",
              "      <td>SBD</td>\n",
              "      <td>Single-ply</td>\n",
              "      <td>NaN</td>\n",
              "      <td>NaN</td>\n",
              "      <td>M-E-G</td>\n",
              "      <td>79.00</td>\n",
              "      <td>82.5</td>\n",
              "      <td>NaN</td>\n",
              "      <td>NaN</td>\n",
              "      <td>NaN</td>\n",
              "      <td>NaN</td>\n",
              "      <td>250.0</td>\n",
              "      <td>NaN</td>\n",
              "      <td>NaN</td>\n",
              "      <td>NaN</td>\n",
              "      <td>NaN</td>\n",
              "      <td>125.0</td>\n",
              "      <td>NaN</td>\n",
              "      <td>NaN</td>\n",
              "      <td>NaN</td>\n",
              "      <td>NaN</td>\n",
              "      <td>245.0</td>\n",
              "      <td>620.0</td>\n",
              "      <td>G</td>\n",
              "      <td>426.68</td>\n",
              "      <td>426.68</td>\n",
              "      <td>412.28</td>\n",
              "      <td>537.85</td>\n",
              "      <td>Yes</td>\n",
              "      <td>NaN</td>\n",
              "      <td>EPA</td>\n",
              "      <td>2003-12-07</td>\n",
              "      <td>England</td>\n",
              "      <td>NaN</td>\n",
              "      <td>East Midlands Divisional Championships</td>\n",
              "    </tr>\n",
              "    <tr>\n",
              "      <th>1024</th>\n",
              "      <td>731205</td>\n",
              "      <td>Gideon Kluge</td>\n",
              "      <td>M</td>\n",
              "      <td>SBD</td>\n",
              "      <td>Raw</td>\n",
              "      <td>23.5</td>\n",
              "      <td>24-34</td>\n",
              "      <td>MR-G</td>\n",
              "      <td>99.30</td>\n",
              "      <td>105</td>\n",
              "      <td>230.0</td>\n",
              "      <td>240.0</td>\n",
              "      <td>245.0</td>\n",
              "      <td>NaN</td>\n",
              "      <td>245.0</td>\n",
              "      <td>142.5</td>\n",
              "      <td>150.0</td>\n",
              "      <td>155.0</td>\n",
              "      <td>NaN</td>\n",
              "      <td>155.0</td>\n",
              "      <td>285.0</td>\n",
              "      <td>-305.0</td>\n",
              "      <td>-305.0</td>\n",
              "      <td>NaN</td>\n",
              "      <td>285.0</td>\n",
              "      <td>685.0</td>\n",
              "      <td>G</td>\n",
              "      <td>418.07</td>\n",
              "      <td>418.07</td>\n",
              "      <td>401.88</td>\n",
              "      <td>617.08</td>\n",
              "      <td>Yes</td>\n",
              "      <td>NaN</td>\n",
              "      <td>USAPL</td>\n",
              "      <td>2017-04-29</td>\n",
              "      <td>USA</td>\n",
              "      <td>NE</td>\n",
              "      <td>Nebraska State Championships</td>\n",
              "    </tr>\n",
              "    <tr>\n",
              "      <th>1330</th>\n",
              "      <td>1362414</td>\n",
              "      <td>Tim Wilke</td>\n",
              "      <td>M</td>\n",
              "      <td>SBD</td>\n",
              "      <td>Multi-ply</td>\n",
              "      <td>36.0</td>\n",
              "      <td>35-39</td>\n",
              "      <td>MS</td>\n",
              "      <td>109.45</td>\n",
              "      <td>110</td>\n",
              "      <td>285.0</td>\n",
              "      <td>317.5</td>\n",
              "      <td>NaN</td>\n",
              "      <td>NaN</td>\n",
              "      <td>317.5</td>\n",
              "      <td>170.0</td>\n",
              "      <td>177.5</td>\n",
              "      <td>182.5</td>\n",
              "      <td>NaN</td>\n",
              "      <td>182.5</td>\n",
              "      <td>280.0</td>\n",
              "      <td>295.0</td>\n",
              "      <td>-300.0</td>\n",
              "      <td>NaN</td>\n",
              "      <td>295.0</td>\n",
              "      <td>795.0</td>\n",
              "      <td>G</td>\n",
              "      <td>468.58</td>\n",
              "      <td>468.58</td>\n",
              "      <td>448.95</td>\n",
              "      <td>562.70</td>\n",
              "      <td>NaN</td>\n",
              "      <td>NaN</td>\n",
              "      <td>UPA</td>\n",
              "      <td>2010-07-10</td>\n",
              "      <td>USA</td>\n",
              "      <td>IL</td>\n",
              "      <td>Illionois Powerlifting Championships</td>\n",
              "    </tr>\n",
              "    <tr>\n",
              "      <th>1375</th>\n",
              "      <td>888170</td>\n",
              "      <td>Gregory Costa</td>\n",
              "      <td>M</td>\n",
              "      <td>SBD</td>\n",
              "      <td>Raw</td>\n",
              "      <td>24.0</td>\n",
              "      <td>24-34</td>\n",
              "      <td>Open</td>\n",
              "      <td>96.00</td>\n",
              "      <td>100</td>\n",
              "      <td>NaN</td>\n",
              "      <td>NaN</td>\n",
              "      <td>NaN</td>\n",
              "      <td>NaN</td>\n",
              "      <td>245.0</td>\n",
              "      <td>NaN</td>\n",
              "      <td>NaN</td>\n",
              "      <td>NaN</td>\n",
              "      <td>NaN</td>\n",
              "      <td>160.0</td>\n",
              "      <td>NaN</td>\n",
              "      <td>NaN</td>\n",
              "      <td>NaN</td>\n",
              "      <td>NaN</td>\n",
              "      <td>290.0</td>\n",
              "      <td>695.0</td>\n",
              "      <td>G</td>\n",
              "      <td>430.29</td>\n",
              "      <td>430.29</td>\n",
              "      <td>414.02</td>\n",
              "      <td>640.67</td>\n",
              "      <td>Yes</td>\n",
              "      <td>USA</td>\n",
              "      <td>IPL</td>\n",
              "      <td>2018-11-08</td>\n",
              "      <td>USA</td>\n",
              "      <td>NV</td>\n",
              "      <td>Drug Tested World Championships</td>\n",
              "    </tr>\n",
              "  </tbody>\n",
              "</table>\n",
              "</div>"
            ],
            "text/plain": [
              "      Unnamed: 0  ...                                MeetName\n",
              "289       669746  ...            Missouri State Championships\n",
              "867       239655  ...  East Midlands Divisional Championships\n",
              "1024      731205  ...            Nebraska State Championships\n",
              "1330     1362414  ...    Illionois Powerlifting Championships\n",
              "1375      888170  ...         Drug Tested World Championships\n",
              "\n",
              "[5 rows x 38 columns]"
            ]
          },
          "metadata": {
            "tags": []
          },
          "execution_count": 10
        }
      ]
    },
    {
      "cell_type": "code",
      "metadata": {
        "id": "5YZsOf6JLi8Y",
        "colab": {
          "base_uri": "https://localhost:8080/"
        },
        "outputId": "cd2f974f-3853-40fb-ddd3-519e6a26144f"
      },
      "source": [
        "print('Porcentagem de competidores nao elegiveis a premiacao:', len(dg)/len(df))"
      ],
      "execution_count": 11,
      "outputs": [
        {
          "output_type": "stream",
          "text": [
            "Porcentagem de competidores nao elegiveis a premiacao: 0.0017\n"
          ],
          "name": "stdout"
        }
      ]
    },
    {
      "cell_type": "markdown",
      "metadata": {
        "id": "gUSQs2m-cODT"
      },
      "source": [
        "Percebemos, então, que há uma quantidade significativa de competidores que foram desqualificados. Esses casos têm a coluna `TotalKg` anulada por causa disso. Eles serão removidos para manter a integridade dos dados.\n",
        "\n",
        "Por outro lado, constata-se que os competidores inaptos a receber premiação não têm a coluna `TotalKg` anulada. Esses competidores normalmente participam apenas para exibições e não parecem ter efeitos negativos sobre o dataframe. Portanto, esses casos não serão removidos."
      ]
    },
    {
      "cell_type": "code",
      "metadata": {
        "id": "ZohcjFc8L5ro"
      },
      "source": [
        "df = df[(df['Place']!='DQ') & (df['Place']!='DD') & (df['Place']!='NS')] # Atualizando o dataframe"
      ],
      "execution_count": 12,
      "outputs": []
    },
    {
      "cell_type": "code",
      "metadata": {
        "id": "_3JAPvhrNBMb",
        "colab": {
          "base_uri": "https://localhost:8080/",
          "height": 365
        },
        "outputId": "05e3692c-a7e4-4795-daf5-b181d3969256"
      },
      "source": [
        "df.head()"
      ],
      "execution_count": 13,
      "outputs": [
        {
          "output_type": "execute_result",
          "data": {
            "text/html": [
              "<div>\n",
              "<style scoped>\n",
              "    .dataframe tbody tr th:only-of-type {\n",
              "        vertical-align: middle;\n",
              "    }\n",
              "\n",
              "    .dataframe tbody tr th {\n",
              "        vertical-align: top;\n",
              "    }\n",
              "\n",
              "    .dataframe thead th {\n",
              "        text-align: right;\n",
              "    }\n",
              "</style>\n",
              "<table border=\"1\" class=\"dataframe\">\n",
              "  <thead>\n",
              "    <tr style=\"text-align: right;\">\n",
              "      <th></th>\n",
              "      <th>Unnamed: 0</th>\n",
              "      <th>Name</th>\n",
              "      <th>Sex</th>\n",
              "      <th>Event</th>\n",
              "      <th>Equipment</th>\n",
              "      <th>Age</th>\n",
              "      <th>AgeClass</th>\n",
              "      <th>Division</th>\n",
              "      <th>BodyweightKg</th>\n",
              "      <th>WeightClassKg</th>\n",
              "      <th>Squat1Kg</th>\n",
              "      <th>Squat2Kg</th>\n",
              "      <th>Squat3Kg</th>\n",
              "      <th>Squat4Kg</th>\n",
              "      <th>Best3SquatKg</th>\n",
              "      <th>Bench1Kg</th>\n",
              "      <th>Bench2Kg</th>\n",
              "      <th>Bench3Kg</th>\n",
              "      <th>Bench4Kg</th>\n",
              "      <th>Best3BenchKg</th>\n",
              "      <th>Deadlift1Kg</th>\n",
              "      <th>Deadlift2Kg</th>\n",
              "      <th>Deadlift3Kg</th>\n",
              "      <th>Deadlift4Kg</th>\n",
              "      <th>Best3DeadliftKg</th>\n",
              "      <th>TotalKg</th>\n",
              "      <th>Place</th>\n",
              "      <th>Wilks</th>\n",
              "      <th>McCulloch</th>\n",
              "      <th>Glossbrenner</th>\n",
              "      <th>IPFPoints</th>\n",
              "      <th>Tested</th>\n",
              "      <th>Country</th>\n",
              "      <th>Federation</th>\n",
              "      <th>Date</th>\n",
              "      <th>MeetCountry</th>\n",
              "      <th>MeetState</th>\n",
              "      <th>MeetName</th>\n",
              "    </tr>\n",
              "  </thead>\n",
              "  <tbody>\n",
              "    <tr>\n",
              "      <th>0</th>\n",
              "      <td>692083</td>\n",
              "      <td>Hayden Fulwood</td>\n",
              "      <td>M</td>\n",
              "      <td>SBD</td>\n",
              "      <td>Raw</td>\n",
              "      <td>18.0</td>\n",
              "      <td>18-19</td>\n",
              "      <td>MR-T3</td>\n",
              "      <td>88.0</td>\n",
              "      <td>90</td>\n",
              "      <td>NaN</td>\n",
              "      <td>NaN</td>\n",
              "      <td>NaN</td>\n",
              "      <td>NaN</td>\n",
              "      <td>167.50</td>\n",
              "      <td>NaN</td>\n",
              "      <td>NaN</td>\n",
              "      <td>NaN</td>\n",
              "      <td>NaN</td>\n",
              "      <td>122.50</td>\n",
              "      <td>NaN</td>\n",
              "      <td>NaN</td>\n",
              "      <td>NaN</td>\n",
              "      <td>NaN</td>\n",
              "      <td>227.50</td>\n",
              "      <td>517.50</td>\n",
              "      <td>1</td>\n",
              "      <td>334.25</td>\n",
              "      <td>354.31</td>\n",
              "      <td>322.27</td>\n",
              "      <td>482.79</td>\n",
              "      <td>Yes</td>\n",
              "      <td>USA</td>\n",
              "      <td>USAPL</td>\n",
              "      <td>2013-04-27</td>\n",
              "      <td>USA</td>\n",
              "      <td>AL</td>\n",
              "      <td>S.E HS State Wars</td>\n",
              "    </tr>\n",
              "    <tr>\n",
              "      <th>1</th>\n",
              "      <td>621012</td>\n",
              "      <td>Jozef Slimák</td>\n",
              "      <td>M</td>\n",
              "      <td>B</td>\n",
              "      <td>Multi-ply</td>\n",
              "      <td>46.0</td>\n",
              "      <td>45-49</td>\n",
              "      <td>M-M2</td>\n",
              "      <td>82.2</td>\n",
              "      <td>82.5</td>\n",
              "      <td>NaN</td>\n",
              "      <td>NaN</td>\n",
              "      <td>NaN</td>\n",
              "      <td>NaN</td>\n",
              "      <td>NaN</td>\n",
              "      <td>165.0</td>\n",
              "      <td>180.0</td>\n",
              "      <td>-190.0</td>\n",
              "      <td>NaN</td>\n",
              "      <td>180.00</td>\n",
              "      <td>NaN</td>\n",
              "      <td>NaN</td>\n",
              "      <td>NaN</td>\n",
              "      <td>NaN</td>\n",
              "      <td>NaN</td>\n",
              "      <td>180.00</td>\n",
              "      <td>1</td>\n",
              "      <td>120.85</td>\n",
              "      <td>129.06</td>\n",
              "      <td>116.68</td>\n",
              "      <td>571.78</td>\n",
              "      <td>NaN</td>\n",
              "      <td>Slovakia</td>\n",
              "      <td>WPC</td>\n",
              "      <td>2012-11-06</td>\n",
              "      <td>USA</td>\n",
              "      <td>NV</td>\n",
              "      <td>World Championships</td>\n",
              "    </tr>\n",
              "    <tr>\n",
              "      <th>2</th>\n",
              "      <td>164449</td>\n",
              "      <td>Chase Garrett</td>\n",
              "      <td>M</td>\n",
              "      <td>D</td>\n",
              "      <td>Raw</td>\n",
              "      <td>NaN</td>\n",
              "      <td>13-15</td>\n",
              "      <td>Teenage 13-15</td>\n",
              "      <td>44.0</td>\n",
              "      <td>44</td>\n",
              "      <td>NaN</td>\n",
              "      <td>NaN</td>\n",
              "      <td>NaN</td>\n",
              "      <td>NaN</td>\n",
              "      <td>NaN</td>\n",
              "      <td>NaN</td>\n",
              "      <td>NaN</td>\n",
              "      <td>NaN</td>\n",
              "      <td>NaN</td>\n",
              "      <td>NaN</td>\n",
              "      <td>NaN</td>\n",
              "      <td>NaN</td>\n",
              "      <td>NaN</td>\n",
              "      <td>NaN</td>\n",
              "      <td>70.31</td>\n",
              "      <td>70.31</td>\n",
              "      <td>1</td>\n",
              "      <td>83.29</td>\n",
              "      <td>98.28</td>\n",
              "      <td>82.94</td>\n",
              "      <td>212.28</td>\n",
              "      <td>NaN</td>\n",
              "      <td>NaN</td>\n",
              "      <td>SPF</td>\n",
              "      <td>2008-12-06</td>\n",
              "      <td>USA</td>\n",
              "      <td>NaN</td>\n",
              "      <td>Body by George Classic</td>\n",
              "    </tr>\n",
              "    <tr>\n",
              "      <th>3</th>\n",
              "      <td>353419</td>\n",
              "      <td>Edgar Rodea</td>\n",
              "      <td>M</td>\n",
              "      <td>SBD</td>\n",
              "      <td>Single-ply</td>\n",
              "      <td>NaN</td>\n",
              "      <td>NaN</td>\n",
              "      <td>Boys</td>\n",
              "      <td>92.9</td>\n",
              "      <td>99.7</td>\n",
              "      <td>NaN</td>\n",
              "      <td>NaN</td>\n",
              "      <td>NaN</td>\n",
              "      <td>NaN</td>\n",
              "      <td>204.12</td>\n",
              "      <td>NaN</td>\n",
              "      <td>NaN</td>\n",
              "      <td>NaN</td>\n",
              "      <td>NaN</td>\n",
              "      <td>129.27</td>\n",
              "      <td>NaN</td>\n",
              "      <td>NaN</td>\n",
              "      <td>NaN</td>\n",
              "      <td>NaN</td>\n",
              "      <td>185.97</td>\n",
              "      <td>519.36</td>\n",
              "      <td>1</td>\n",
              "      <td>326.42</td>\n",
              "      <td>326.42</td>\n",
              "      <td>314.34</td>\n",
              "      <td>420.04</td>\n",
              "      <td>Yes</td>\n",
              "      <td>NaN</td>\n",
              "      <td>THSPA</td>\n",
              "      <td>2017-01-28</td>\n",
              "      <td>USA</td>\n",
              "      <td>TX</td>\n",
              "      <td>Santo Meet</td>\n",
              "    </tr>\n",
              "    <tr>\n",
              "      <th>4</th>\n",
              "      <td>128144</td>\n",
              "      <td>K. Kaufman</td>\n",
              "      <td>M</td>\n",
              "      <td>B</td>\n",
              "      <td>Raw</td>\n",
              "      <td>NaN</td>\n",
              "      <td>NaN</td>\n",
              "      <td>Open</td>\n",
              "      <td>90.0</td>\n",
              "      <td>90</td>\n",
              "      <td>NaN</td>\n",
              "      <td>NaN</td>\n",
              "      <td>NaN</td>\n",
              "      <td>NaN</td>\n",
              "      <td>NaN</td>\n",
              "      <td>NaN</td>\n",
              "      <td>NaN</td>\n",
              "      <td>NaN</td>\n",
              "      <td>NaN</td>\n",
              "      <td>145.15</td>\n",
              "      <td>NaN</td>\n",
              "      <td>NaN</td>\n",
              "      <td>NaN</td>\n",
              "      <td>NaN</td>\n",
              "      <td>NaN</td>\n",
              "      <td>145.15</td>\n",
              "      <td>6</td>\n",
              "      <td>92.66</td>\n",
              "      <td>92.66</td>\n",
              "      <td>89.30</td>\n",
              "      <td>558.46</td>\n",
              "      <td>NaN</td>\n",
              "      <td>NaN</td>\n",
              "      <td>USPF</td>\n",
              "      <td>1979-12-08</td>\n",
              "      <td>USA</td>\n",
              "      <td>ND</td>\n",
              "      <td>3rd Annual Midwestern Bench Press Championships</td>\n",
              "    </tr>\n",
              "  </tbody>\n",
              "</table>\n",
              "</div>"
            ],
            "text/plain": [
              "   Unnamed: 0  ...                                         MeetName\n",
              "0      692083  ...                                S.E HS State Wars\n",
              "1      621012  ...                              World Championships\n",
              "2      164449  ...                           Body by George Classic\n",
              "3      353419  ...                                       Santo Meet\n",
              "4      128144  ...  3rd Annual Midwestern Bench Press Championships\n",
              "\n",
              "[5 rows x 38 columns]"
            ]
          },
          "metadata": {
            "tags": []
          },
          "execution_count": 13
        }
      ]
    },
    {
      "cell_type": "code",
      "metadata": {
        "id": "gf6lkqTrNJU-",
        "colab": {
          "base_uri": "https://localhost:8080/",
          "height": 87
        },
        "outputId": "d9cf74e1-8d98-458b-e363-75a39e5288b2"
      },
      "source": [
        "df[(df['Place']=='DQ') | (df['Place']=='DD') | (df['Place']=='NS')].head() # registros desqualificado no dataframe atualizado"
      ],
      "execution_count": 14,
      "outputs": [
        {
          "output_type": "execute_result",
          "data": {
            "text/html": [
              "<div>\n",
              "<style scoped>\n",
              "    .dataframe tbody tr th:only-of-type {\n",
              "        vertical-align: middle;\n",
              "    }\n",
              "\n",
              "    .dataframe tbody tr th {\n",
              "        vertical-align: top;\n",
              "    }\n",
              "\n",
              "    .dataframe thead th {\n",
              "        text-align: right;\n",
              "    }\n",
              "</style>\n",
              "<table border=\"1\" class=\"dataframe\">\n",
              "  <thead>\n",
              "    <tr style=\"text-align: right;\">\n",
              "      <th></th>\n",
              "      <th>Unnamed: 0</th>\n",
              "      <th>Name</th>\n",
              "      <th>Sex</th>\n",
              "      <th>Event</th>\n",
              "      <th>Equipment</th>\n",
              "      <th>Age</th>\n",
              "      <th>AgeClass</th>\n",
              "      <th>Division</th>\n",
              "      <th>BodyweightKg</th>\n",
              "      <th>WeightClassKg</th>\n",
              "      <th>Squat1Kg</th>\n",
              "      <th>Squat2Kg</th>\n",
              "      <th>Squat3Kg</th>\n",
              "      <th>Squat4Kg</th>\n",
              "      <th>Best3SquatKg</th>\n",
              "      <th>Bench1Kg</th>\n",
              "      <th>Bench2Kg</th>\n",
              "      <th>Bench3Kg</th>\n",
              "      <th>Bench4Kg</th>\n",
              "      <th>Best3BenchKg</th>\n",
              "      <th>Deadlift1Kg</th>\n",
              "      <th>Deadlift2Kg</th>\n",
              "      <th>Deadlift3Kg</th>\n",
              "      <th>Deadlift4Kg</th>\n",
              "      <th>Best3DeadliftKg</th>\n",
              "      <th>TotalKg</th>\n",
              "      <th>Place</th>\n",
              "      <th>Wilks</th>\n",
              "      <th>McCulloch</th>\n",
              "      <th>Glossbrenner</th>\n",
              "      <th>IPFPoints</th>\n",
              "      <th>Tested</th>\n",
              "      <th>Country</th>\n",
              "      <th>Federation</th>\n",
              "      <th>Date</th>\n",
              "      <th>MeetCountry</th>\n",
              "      <th>MeetState</th>\n",
              "      <th>MeetName</th>\n",
              "    </tr>\n",
              "  </thead>\n",
              "  <tbody>\n",
              "  </tbody>\n",
              "</table>\n",
              "</div>"
            ],
            "text/plain": [
              "Empty DataFrame\n",
              "Columns: [Unnamed: 0, Name, Sex, Event, Equipment, Age, AgeClass, Division, BodyweightKg, WeightClassKg, Squat1Kg, Squat2Kg, Squat3Kg, Squat4Kg, Best3SquatKg, Bench1Kg, Bench2Kg, Bench3Kg, Bench4Kg, Best3BenchKg, Deadlift1Kg, Deadlift2Kg, Deadlift3Kg, Deadlift4Kg, Best3DeadliftKg, TotalKg, Place, Wilks, McCulloch, Glossbrenner, IPFPoints, Tested, Country, Federation, Date, MeetCountry, MeetState, MeetName]\n",
              "Index: []"
            ]
          },
          "metadata": {
            "tags": []
          },
          "execution_count": 14
        }
      ]
    },
    {
      "cell_type": "code",
      "metadata": {
        "id": "UdWFsxWE2Hni",
        "colab": {
          "base_uri": "https://localhost:8080/"
        },
        "outputId": "78294c43-6fa1-4382-a7af-b3fd2dc67a04"
      },
      "source": [
        "len(df), 20000-len(df), (20000-len(df))/20000"
      ],
      "execution_count": 15,
      "outputs": [
        {
          "output_type": "execute_result",
          "data": {
            "text/plain": [
              "(18434, 1566, 0.0783)"
            ]
          },
          "metadata": {
            "tags": []
          },
          "execution_count": 15
        }
      ]
    },
    {
      "cell_type": "markdown",
      "metadata": {
        "id": "PpMSLS_2NN0p"
      },
      "source": [
        "Foram removidos, assim, 1566 registros inválidos, o que corresponde a ~8% do total de registros."
      ]
    },
    {
      "cell_type": "markdown",
      "metadata": {
        "id": "R-A58QvYi_-8"
      },
      "source": [
        "### Analisando Dados Nulos"
      ]
    },
    {
      "cell_type": "markdown",
      "metadata": {
        "id": "OUCIJxVdsnRq"
      },
      "source": [
        "Vamos verificar a quantidade de dados nulos após a remoção dos registros desqualificados."
      ]
    },
    {
      "cell_type": "code",
      "metadata": {
        "colab": {
          "base_uri": "https://localhost:8080/"
        },
        "id": "9Ko-QwrxUVFv",
        "outputId": "1dfed69f-09bd-474b-d59f-de17902f510a"
      },
      "source": [
        "df.isnull().sum(axis = 0)/len(df)"
      ],
      "execution_count": null,
      "outputs": [
        {
          "output_type": "execute_result",
          "data": {
            "text/plain": [
              "Unnamed: 0         0.000000\n",
              "Name               0.000000\n",
              "Sex                0.000000\n",
              "Event              0.000000\n",
              "Equipment          0.000000\n",
              "Age                0.458772\n",
              "AgeClass           0.436693\n",
              "Division           0.004882\n",
              "BodyweightKg       0.006455\n",
              "WeightClassKg      0.003526\n",
              "Squat1Kg           0.757893\n",
              "Squat2Kg           0.760334\n",
              "Squat3Kg           0.766735\n",
              "Squat4Kg           0.996799\n",
              "Best3SquatKg       0.243789\n",
              "Bench1Kg           0.639308\n",
              "Bench2Kg           0.642671\n",
              "Bench3Kg           0.652490\n",
              "Bench4Kg           0.993111\n",
              "Best3BenchKg       0.045948\n",
              "Deadlift1Kg        0.735218\n",
              "Deadlift2Kg        0.738961\n",
              "Deadlift3Kg        0.749539\n",
              "Deadlift4Kg        0.994521\n",
              "Best3DeadliftKg    0.188890\n",
              "TotalKg            0.000000\n",
              "Place              0.000000\n",
              "Wilks              0.006455\n",
              "McCulloch          0.006564\n",
              "Glossbrenner       0.006455\n",
              "IPFPoints          0.029619\n",
              "Tested             0.231746\n",
              "Country            0.720896\n",
              "Federation         0.000000\n",
              "Date               0.000000\n",
              "MeetCountry        0.000000\n",
              "MeetState          0.345828\n",
              "MeetName           0.000000\n",
              "dtype: float64"
            ]
          },
          "metadata": {
            "tags": []
          },
          "execution_count": 18
        }
      ]
    },
    {
      "cell_type": "markdown",
      "metadata": {
        "id": "CsNmxj2NG82E"
      },
      "source": [
        "Alguns comentários:\n",
        "* Note que `Age` tem mais dados nulos que `AgeClass`. Podemos, portanto, fazer imputação nos casos em que `Age` é nulo mas `AgeClass` não é (uma ideia inicial é imputar `Age` a partir da média de `AgeClass`). Também seria interessante indicar quando o dado for imputado.\n",
        "* Naturalmente, as colunas exclusivas de cada evento terão um grande número de dados ausentes, já que os competidores não participam necessariamente de todos os 3 eventos.\n",
        "* Quanto maior o número da tentativa, mais dados nulos na coluna. Ex.: a coluna `Squat3Kg` tem mais dados nulos do que `Squat2Kg`. Isso acontece porque alguns atletas escolhem não realizar a terceira ou até mesmo a segunda tentativa. Isso é permitido e o resultado obtido é computado da mesma forma.\n",
        "* `Squat4Kg` tem consideravelmente mais dados nulos do que `SquatNKg`. O motivo é que a maioria das competições não permite a 4ª tentativa (o mesmo acontece para `Bench4Kg` e `Deadlift4Kg`).\n",
        "* As colunas `SquatNKg` têm consideravelmente mais dados nulos do que a coluna `Best3SquatKg`. Isso acontece porque algumas competições só computam as melhores tentativas.\n",
        "* Os casos em que o atributo `Tested` é nulo podem indicar que o evento não foi testado, já que eventos testados tendem a salientar esse aspecto.\n"
      ]
    },
    {
      "cell_type": "markdown",
      "metadata": {
        "id": "iuuF0RqxOanN"
      },
      "source": [
        "### `Squat4Kg`,`Bench4Kg` e `Deadlift4Kg`"
      ]
    },
    {
      "cell_type": "markdown",
      "metadata": {
        "id": "Aris8rS1s417"
      },
      "source": [
        "Como mostrado anteriormente, é possível notar uma porcentagem excepcionalmente alta de dados nulos nas colunas `Squat4Kg`,`Bench4Kg` e `Deadlift4Kg`. Isso acontece porque poucas competições permitem a 4ª tentativa, e esta está reservada apenas a tentativas de recordes mundiais e não é computada para o resultado final. Vamos analisar essas colunas mais detalhadamente."
      ]
    },
    {
      "cell_type": "code",
      "metadata": {
        "id": "iNdPYJmSwv1m",
        "colab": {
          "base_uri": "https://localhost:8080/"
        },
        "outputId": "8ad21d5a-7e65-4ed5-d50a-3be1f3619225"
      },
      "source": [
        "# numero de registros de participacao em cada evento (coluna de melhor tentativa nao nula)\n",
        "ns = df['Best3SquatKg'].notnull().sum()     \n",
        "nb = df['Best3BenchKg'].notnull().sum()     \n",
        "nd = df['Best3DeadliftKg'].notnull().sum()  \n",
        "\n",
        "# numero de registros de participacao em cada evento que nao realizaram 4a tentativa\n",
        "ss = len(df[(df['Best3SquatKg'].notnull()) & (df['Squat4Kg'].isnull())])\n",
        "bb = len(df[(df['Best3BenchKg'].notnull()) & (df['Bench4Kg'].isnull())])\n",
        "dd = len(df[(df['Best3DeadliftKg'].notnull()) & (df['Deadlift4Kg'].isnull())])\n",
        "\n",
        "print('Registros:')\n",
        "print('Agachamento: ', ns)\n",
        "print('Supino: ', nb)\n",
        "print('Levantamento terra: ', nd)\n",
        "print('')\n",
        "print('Participou do evento mas nao realizou 4a tentativa:')\n",
        "print('Agachamento: ', ss)\n",
        "print('Supino: ', bb)\n",
        "print('Levantamento terra: ', dd)\n",
        "print('')\n",
        "print('Porcentagem que participou do evento mas nao realizou 4a tentativa:')\n",
        "print('Agachamento: ', round(ss/ns,3))\n",
        "print('Supino: ', round(bb/nb,3))\n",
        "print('Levantamento terra: ', round(dd/nd,3))"
      ],
      "execution_count": 16,
      "outputs": [
        {
          "output_type": "stream",
          "text": [
            "Registros:\n",
            "Agachamento:  13940\n",
            "Supino:  17587\n",
            "Levantamento terra:  14952\n",
            "\n",
            "Participou do evento mas nao realizou 4a tentativa:\n",
            "Agachamento:  13881\n",
            "Supino:  17460\n",
            "Levantamento terra:  14851\n",
            "\n",
            "Porcentagem que participou do evento mas nao realizou 4a tentativa:\n",
            "Agachamento:  0.996\n",
            "Supino:  0.993\n",
            "Levantamento terra:  0.993\n"
          ],
          "name": "stdout"
        }
      ]
    },
    {
      "cell_type": "markdown",
      "metadata": {
        "id": "A4pVvs5J3bIe"
      },
      "source": [
        "Dessa forma, vimos que mais de 99% dos registros de cada evento *não* inclui uma 4ª tentativa. Por isso, revela-se coerente a exclusão das colunas `Squat4Kg`, `Bench4Kg` e `Deadlift4Kg`."
      ]
    },
    {
      "cell_type": "code",
      "metadata": {
        "id": "zU8GsZWn36k5"
      },
      "source": [
        "df.drop(labels=['Squat4Kg','Bench4Kg','Deadlift4Kg'], axis=1, inplace=True)"
      ],
      "execution_count": 17,
      "outputs": []
    },
    {
      "cell_type": "code",
      "metadata": {
        "id": "iKrVWdu36LnQ",
        "colab": {
          "base_uri": "https://localhost:8080/",
          "height": 365
        },
        "outputId": "ae8126b9-d79a-476a-ca03-ddf1c2229fa5"
      },
      "source": [
        "df.head()"
      ],
      "execution_count": 18,
      "outputs": [
        {
          "output_type": "execute_result",
          "data": {
            "text/html": [
              "<div>\n",
              "<style scoped>\n",
              "    .dataframe tbody tr th:only-of-type {\n",
              "        vertical-align: middle;\n",
              "    }\n",
              "\n",
              "    .dataframe tbody tr th {\n",
              "        vertical-align: top;\n",
              "    }\n",
              "\n",
              "    .dataframe thead th {\n",
              "        text-align: right;\n",
              "    }\n",
              "</style>\n",
              "<table border=\"1\" class=\"dataframe\">\n",
              "  <thead>\n",
              "    <tr style=\"text-align: right;\">\n",
              "      <th></th>\n",
              "      <th>Unnamed: 0</th>\n",
              "      <th>Name</th>\n",
              "      <th>Sex</th>\n",
              "      <th>Event</th>\n",
              "      <th>Equipment</th>\n",
              "      <th>Age</th>\n",
              "      <th>AgeClass</th>\n",
              "      <th>Division</th>\n",
              "      <th>BodyweightKg</th>\n",
              "      <th>WeightClassKg</th>\n",
              "      <th>Squat1Kg</th>\n",
              "      <th>Squat2Kg</th>\n",
              "      <th>Squat3Kg</th>\n",
              "      <th>Best3SquatKg</th>\n",
              "      <th>Bench1Kg</th>\n",
              "      <th>Bench2Kg</th>\n",
              "      <th>Bench3Kg</th>\n",
              "      <th>Best3BenchKg</th>\n",
              "      <th>Deadlift1Kg</th>\n",
              "      <th>Deadlift2Kg</th>\n",
              "      <th>Deadlift3Kg</th>\n",
              "      <th>Best3DeadliftKg</th>\n",
              "      <th>TotalKg</th>\n",
              "      <th>Place</th>\n",
              "      <th>Wilks</th>\n",
              "      <th>McCulloch</th>\n",
              "      <th>Glossbrenner</th>\n",
              "      <th>IPFPoints</th>\n",
              "      <th>Tested</th>\n",
              "      <th>Country</th>\n",
              "      <th>Federation</th>\n",
              "      <th>Date</th>\n",
              "      <th>MeetCountry</th>\n",
              "      <th>MeetState</th>\n",
              "      <th>MeetName</th>\n",
              "    </tr>\n",
              "  </thead>\n",
              "  <tbody>\n",
              "    <tr>\n",
              "      <th>0</th>\n",
              "      <td>692083</td>\n",
              "      <td>Hayden Fulwood</td>\n",
              "      <td>M</td>\n",
              "      <td>SBD</td>\n",
              "      <td>Raw</td>\n",
              "      <td>18.0</td>\n",
              "      <td>18-19</td>\n",
              "      <td>MR-T3</td>\n",
              "      <td>88.0</td>\n",
              "      <td>90</td>\n",
              "      <td>NaN</td>\n",
              "      <td>NaN</td>\n",
              "      <td>NaN</td>\n",
              "      <td>167.50</td>\n",
              "      <td>NaN</td>\n",
              "      <td>NaN</td>\n",
              "      <td>NaN</td>\n",
              "      <td>122.50</td>\n",
              "      <td>NaN</td>\n",
              "      <td>NaN</td>\n",
              "      <td>NaN</td>\n",
              "      <td>227.50</td>\n",
              "      <td>517.50</td>\n",
              "      <td>1</td>\n",
              "      <td>334.25</td>\n",
              "      <td>354.31</td>\n",
              "      <td>322.27</td>\n",
              "      <td>482.79</td>\n",
              "      <td>Yes</td>\n",
              "      <td>USA</td>\n",
              "      <td>USAPL</td>\n",
              "      <td>2013-04-27</td>\n",
              "      <td>USA</td>\n",
              "      <td>AL</td>\n",
              "      <td>S.E HS State Wars</td>\n",
              "    </tr>\n",
              "    <tr>\n",
              "      <th>1</th>\n",
              "      <td>621012</td>\n",
              "      <td>Jozef Slimák</td>\n",
              "      <td>M</td>\n",
              "      <td>B</td>\n",
              "      <td>Multi-ply</td>\n",
              "      <td>46.0</td>\n",
              "      <td>45-49</td>\n",
              "      <td>M-M2</td>\n",
              "      <td>82.2</td>\n",
              "      <td>82.5</td>\n",
              "      <td>NaN</td>\n",
              "      <td>NaN</td>\n",
              "      <td>NaN</td>\n",
              "      <td>NaN</td>\n",
              "      <td>165.0</td>\n",
              "      <td>180.0</td>\n",
              "      <td>-190.0</td>\n",
              "      <td>180.00</td>\n",
              "      <td>NaN</td>\n",
              "      <td>NaN</td>\n",
              "      <td>NaN</td>\n",
              "      <td>NaN</td>\n",
              "      <td>180.00</td>\n",
              "      <td>1</td>\n",
              "      <td>120.85</td>\n",
              "      <td>129.06</td>\n",
              "      <td>116.68</td>\n",
              "      <td>571.78</td>\n",
              "      <td>NaN</td>\n",
              "      <td>Slovakia</td>\n",
              "      <td>WPC</td>\n",
              "      <td>2012-11-06</td>\n",
              "      <td>USA</td>\n",
              "      <td>NV</td>\n",
              "      <td>World Championships</td>\n",
              "    </tr>\n",
              "    <tr>\n",
              "      <th>2</th>\n",
              "      <td>164449</td>\n",
              "      <td>Chase Garrett</td>\n",
              "      <td>M</td>\n",
              "      <td>D</td>\n",
              "      <td>Raw</td>\n",
              "      <td>NaN</td>\n",
              "      <td>13-15</td>\n",
              "      <td>Teenage 13-15</td>\n",
              "      <td>44.0</td>\n",
              "      <td>44</td>\n",
              "      <td>NaN</td>\n",
              "      <td>NaN</td>\n",
              "      <td>NaN</td>\n",
              "      <td>NaN</td>\n",
              "      <td>NaN</td>\n",
              "      <td>NaN</td>\n",
              "      <td>NaN</td>\n",
              "      <td>NaN</td>\n",
              "      <td>NaN</td>\n",
              "      <td>NaN</td>\n",
              "      <td>NaN</td>\n",
              "      <td>70.31</td>\n",
              "      <td>70.31</td>\n",
              "      <td>1</td>\n",
              "      <td>83.29</td>\n",
              "      <td>98.28</td>\n",
              "      <td>82.94</td>\n",
              "      <td>212.28</td>\n",
              "      <td>NaN</td>\n",
              "      <td>NaN</td>\n",
              "      <td>SPF</td>\n",
              "      <td>2008-12-06</td>\n",
              "      <td>USA</td>\n",
              "      <td>NaN</td>\n",
              "      <td>Body by George Classic</td>\n",
              "    </tr>\n",
              "    <tr>\n",
              "      <th>3</th>\n",
              "      <td>353419</td>\n",
              "      <td>Edgar Rodea</td>\n",
              "      <td>M</td>\n",
              "      <td>SBD</td>\n",
              "      <td>Single-ply</td>\n",
              "      <td>NaN</td>\n",
              "      <td>NaN</td>\n",
              "      <td>Boys</td>\n",
              "      <td>92.9</td>\n",
              "      <td>99.7</td>\n",
              "      <td>NaN</td>\n",
              "      <td>NaN</td>\n",
              "      <td>NaN</td>\n",
              "      <td>204.12</td>\n",
              "      <td>NaN</td>\n",
              "      <td>NaN</td>\n",
              "      <td>NaN</td>\n",
              "      <td>129.27</td>\n",
              "      <td>NaN</td>\n",
              "      <td>NaN</td>\n",
              "      <td>NaN</td>\n",
              "      <td>185.97</td>\n",
              "      <td>519.36</td>\n",
              "      <td>1</td>\n",
              "      <td>326.42</td>\n",
              "      <td>326.42</td>\n",
              "      <td>314.34</td>\n",
              "      <td>420.04</td>\n",
              "      <td>Yes</td>\n",
              "      <td>NaN</td>\n",
              "      <td>THSPA</td>\n",
              "      <td>2017-01-28</td>\n",
              "      <td>USA</td>\n",
              "      <td>TX</td>\n",
              "      <td>Santo Meet</td>\n",
              "    </tr>\n",
              "    <tr>\n",
              "      <th>4</th>\n",
              "      <td>128144</td>\n",
              "      <td>K. Kaufman</td>\n",
              "      <td>M</td>\n",
              "      <td>B</td>\n",
              "      <td>Raw</td>\n",
              "      <td>NaN</td>\n",
              "      <td>NaN</td>\n",
              "      <td>Open</td>\n",
              "      <td>90.0</td>\n",
              "      <td>90</td>\n",
              "      <td>NaN</td>\n",
              "      <td>NaN</td>\n",
              "      <td>NaN</td>\n",
              "      <td>NaN</td>\n",
              "      <td>NaN</td>\n",
              "      <td>NaN</td>\n",
              "      <td>NaN</td>\n",
              "      <td>145.15</td>\n",
              "      <td>NaN</td>\n",
              "      <td>NaN</td>\n",
              "      <td>NaN</td>\n",
              "      <td>NaN</td>\n",
              "      <td>145.15</td>\n",
              "      <td>6</td>\n",
              "      <td>92.66</td>\n",
              "      <td>92.66</td>\n",
              "      <td>89.30</td>\n",
              "      <td>558.46</td>\n",
              "      <td>NaN</td>\n",
              "      <td>NaN</td>\n",
              "      <td>USPF</td>\n",
              "      <td>1979-12-08</td>\n",
              "      <td>USA</td>\n",
              "      <td>ND</td>\n",
              "      <td>3rd Annual Midwestern Bench Press Championships</td>\n",
              "    </tr>\n",
              "  </tbody>\n",
              "</table>\n",
              "</div>"
            ],
            "text/plain": [
              "   Unnamed: 0  ...                                         MeetName\n",
              "0      692083  ...                                S.E HS State Wars\n",
              "1      621012  ...                              World Championships\n",
              "2      164449  ...                           Body by George Classic\n",
              "3      353419  ...                                       Santo Meet\n",
              "4      128144  ...  3rd Annual Midwestern Bench Press Championships\n",
              "\n",
              "[5 rows x 35 columns]"
            ]
          },
          "metadata": {
            "tags": []
          },
          "execution_count": 18
        }
      ]
    },
    {
      "cell_type": "markdown",
      "metadata": {
        "id": "o3_2ePcqm0Ot"
      },
      "source": [
        "Note que essas colunas não mais aparecem no dataframe."
      ]
    },
    {
      "cell_type": "markdown",
      "metadata": {
        "id": "YIzQh_-7OmjJ"
      },
      "source": [
        "### `Age` e `AgeClass`"
      ]
    },
    {
      "cell_type": "code",
      "metadata": {
        "id": "3KITyj1hFdDU",
        "colab": {
          "base_uri": "https://localhost:8080/"
        },
        "outputId": "75a78b89-0087-41d3-8fd3-514826aaf4b2"
      },
      "source": [
        "df_before = df.copy() # Faremos isso para comparar os valores ao final da imputacao\n",
        "df_before['Age'].describe()"
      ],
      "execution_count": 19,
      "outputs": [
        {
          "output_type": "execute_result",
          "data": {
            "text/plain": [
              "count    9977.000000\n",
              "mean       31.404781\n",
              "std        13.479156\n",
              "min         0.500000\n",
              "25%        21.000000\n",
              "50%        27.500000\n",
              "75%        39.500000\n",
              "max        90.000000\n",
              "Name: Age, dtype: float64"
            ]
          },
          "metadata": {
            "tags": []
          },
          "execution_count": 19
        }
      ]
    },
    {
      "cell_type": "markdown",
      "metadata": {
        "id": "m45D39ut9z5F"
      },
      "source": [
        "Outra observação que fizemos foi sobre a diferença significativa entre a quantidade de dados nulos na coluna `Age` e na coluna `AgeClass`. Isso significa que alguns registros têm a coluna `Age` nula e a coluna `AgeClass` não-nula. Sendo assim, temos a oportunidade de imputare esses dados para ajudar na interpretação mais tarde. \n",
        "\n",
        "Uma ideia é imputar `Age` como a média dos limites de `AgeClass`. Também podemos fazer isso de acordo com os vizinhos mais próximos comparando a carga levantada, utilizando o algoritmo KNN. Vamos fazer a imputação das duas formas e compará-las para decidir a melhor.\n",
        "\n",
        "Dito isso, investigaremos, inicialmente, os registros nulos e não-nulos de `Age` e `AgeClass`."
      ]
    },
    {
      "cell_type": "code",
      "metadata": {
        "id": "4savAqWNB88H",
        "colab": {
          "base_uri": "https://localhost:8080/"
        },
        "outputId": "ebf8449b-8833-4400-cbe3-41df9560a890"
      },
      "source": [
        "nullage = df['Age'].isnull().sum()\n",
        "nullageclass = df['AgeClass'].isnull().sum()\n",
        "notnullageclass = df['AgeClass'].notnull().sum()\n",
        "nullagenotnullclass = len(df[(df['Age'].isnull())&(df['AgeClass'].notnull())])\n",
        "\n",
        "print('Numero de valores nulos em \"Age\":', nullage)\n",
        "print('Porcentagem do numero total de registros:', nullage/len(df))\n",
        "print('')\n",
        "print('Numero de valores nulos em \"AgeClass\":', nullageclass)\n",
        "print('Porcentagem do numero total de registros:', nullageclass/len(df))\n",
        "print('')\n",
        "print('Numero de registros com \"Age\" nulo e \"AgeClass\" nao-nulo:', nullagenotnullclass)\n",
        "print('Porcentagem do numero total de registros:', nullagenotnullclass/len(df))"
      ],
      "execution_count": 20,
      "outputs": [
        {
          "output_type": "stream",
          "text": [
            "Numero de valores nulos em \"Age\": 8457\n",
            "Porcentagem do numero total de registros: 0.4587718346533579\n",
            "\n",
            "Numero de valores nulos em \"AgeClass\": 8050\n",
            "Porcentagem do numero total de registros: 0.43669306715851147\n",
            "\n",
            "Numero de registros com \"Age\" nulo e \"AgeClass\" nao-nulo: 409\n",
            "Porcentagem do numero total de registros: 0.022187262666811328\n"
          ],
          "name": "stdout"
        }
      ]
    },
    {
      "cell_type": "markdown",
      "metadata": {
        "id": "HBBWNihlE5fZ"
      },
      "source": [
        "Concluímos, desta forma, que há 409 casos que podem ter a coluna `Age` imputada a partir de `AgeClass`, o que corresponde a 2,21% dos dados. A forma com que faremos isso será com a média dos limites da `AgeClass` daquele competidor. Ao final da imputação, vamos computar gráficos que vão dar uma ideia sobre a utilidade e impacto da imputação.\n",
        "\n",
        "Vamos analisar esses casos."
      ]
    },
    {
      "cell_type": "code",
      "metadata": {
        "id": "SEefScyX1IMx",
        "colab": {
          "base_uri": "https://localhost:8080/",
          "height": 365
        },
        "outputId": "9394262e-0d0b-438d-e115-421fc22fca47"
      },
      "source": [
        "df[(df['Age'].isnull())&(df['AgeClass'].notnull())].head() # registros com Age nulo e AgeClass nao nulo"
      ],
      "execution_count": 21,
      "outputs": [
        {
          "output_type": "execute_result",
          "data": {
            "text/html": [
              "<div>\n",
              "<style scoped>\n",
              "    .dataframe tbody tr th:only-of-type {\n",
              "        vertical-align: middle;\n",
              "    }\n",
              "\n",
              "    .dataframe tbody tr th {\n",
              "        vertical-align: top;\n",
              "    }\n",
              "\n",
              "    .dataframe thead th {\n",
              "        text-align: right;\n",
              "    }\n",
              "</style>\n",
              "<table border=\"1\" class=\"dataframe\">\n",
              "  <thead>\n",
              "    <tr style=\"text-align: right;\">\n",
              "      <th></th>\n",
              "      <th>Unnamed: 0</th>\n",
              "      <th>Name</th>\n",
              "      <th>Sex</th>\n",
              "      <th>Event</th>\n",
              "      <th>Equipment</th>\n",
              "      <th>Age</th>\n",
              "      <th>AgeClass</th>\n",
              "      <th>Division</th>\n",
              "      <th>BodyweightKg</th>\n",
              "      <th>WeightClassKg</th>\n",
              "      <th>Squat1Kg</th>\n",
              "      <th>Squat2Kg</th>\n",
              "      <th>Squat3Kg</th>\n",
              "      <th>Best3SquatKg</th>\n",
              "      <th>Bench1Kg</th>\n",
              "      <th>Bench2Kg</th>\n",
              "      <th>Bench3Kg</th>\n",
              "      <th>Best3BenchKg</th>\n",
              "      <th>Deadlift1Kg</th>\n",
              "      <th>Deadlift2Kg</th>\n",
              "      <th>Deadlift3Kg</th>\n",
              "      <th>Best3DeadliftKg</th>\n",
              "      <th>TotalKg</th>\n",
              "      <th>Place</th>\n",
              "      <th>Wilks</th>\n",
              "      <th>McCulloch</th>\n",
              "      <th>Glossbrenner</th>\n",
              "      <th>IPFPoints</th>\n",
              "      <th>Tested</th>\n",
              "      <th>Country</th>\n",
              "      <th>Federation</th>\n",
              "      <th>Date</th>\n",
              "      <th>MeetCountry</th>\n",
              "      <th>MeetState</th>\n",
              "      <th>MeetName</th>\n",
              "    </tr>\n",
              "  </thead>\n",
              "  <tbody>\n",
              "    <tr>\n",
              "      <th>2</th>\n",
              "      <td>164449</td>\n",
              "      <td>Chase Garrett</td>\n",
              "      <td>M</td>\n",
              "      <td>D</td>\n",
              "      <td>Raw</td>\n",
              "      <td>NaN</td>\n",
              "      <td>13-15</td>\n",
              "      <td>Teenage 13-15</td>\n",
              "      <td>44.00</td>\n",
              "      <td>44</td>\n",
              "      <td>NaN</td>\n",
              "      <td>NaN</td>\n",
              "      <td>NaN</td>\n",
              "      <td>NaN</td>\n",
              "      <td>NaN</td>\n",
              "      <td>NaN</td>\n",
              "      <td>NaN</td>\n",
              "      <td>NaN</td>\n",
              "      <td>NaN</td>\n",
              "      <td>NaN</td>\n",
              "      <td>NaN</td>\n",
              "      <td>70.31</td>\n",
              "      <td>70.31</td>\n",
              "      <td>1</td>\n",
              "      <td>83.29</td>\n",
              "      <td>98.28</td>\n",
              "      <td>82.94</td>\n",
              "      <td>212.28</td>\n",
              "      <td>NaN</td>\n",
              "      <td>NaN</td>\n",
              "      <td>SPF</td>\n",
              "      <td>2008-12-06</td>\n",
              "      <td>USA</td>\n",
              "      <td>NaN</td>\n",
              "      <td>Body by George Classic</td>\n",
              "    </tr>\n",
              "    <tr>\n",
              "      <th>16</th>\n",
              "      <td>1398692</td>\n",
              "      <td>Nick Russo</td>\n",
              "      <td>M</td>\n",
              "      <td>SBD</td>\n",
              "      <td>Wraps</td>\n",
              "      <td>NaN</td>\n",
              "      <td>20-23</td>\n",
              "      <td>Amateur Juniors 20-23</td>\n",
              "      <td>73.12</td>\n",
              "      <td>75</td>\n",
              "      <td>NaN</td>\n",
              "      <td>NaN</td>\n",
              "      <td>NaN</td>\n",
              "      <td>185.97</td>\n",
              "      <td>NaN</td>\n",
              "      <td>NaN</td>\n",
              "      <td>NaN</td>\n",
              "      <td>113.4</td>\n",
              "      <td>NaN</td>\n",
              "      <td>NaN</td>\n",
              "      <td>NaN</td>\n",
              "      <td>226.80</td>\n",
              "      <td>526.17</td>\n",
              "      <td>1</td>\n",
              "      <td>381.73</td>\n",
              "      <td>381.73</td>\n",
              "      <td>369.47</td>\n",
              "      <td>562.13</td>\n",
              "      <td>Yes</td>\n",
              "      <td>NaN</td>\n",
              "      <td>RPS</td>\n",
              "      <td>2015-03-21</td>\n",
              "      <td>USA</td>\n",
              "      <td>NY</td>\n",
              "      <td>Dominion</td>\n",
              "    </tr>\n",
              "    <tr>\n",
              "      <th>172</th>\n",
              "      <td>579972</td>\n",
              "      <td>Bjørn Henrik Kvamme</td>\n",
              "      <td>M</td>\n",
              "      <td>B</td>\n",
              "      <td>Single-ply</td>\n",
              "      <td>NaN</td>\n",
              "      <td>24-34</td>\n",
              "      <td>Open</td>\n",
              "      <td>85.50</td>\n",
              "      <td>90</td>\n",
              "      <td>NaN</td>\n",
              "      <td>NaN</td>\n",
              "      <td>NaN</td>\n",
              "      <td>NaN</td>\n",
              "      <td>NaN</td>\n",
              "      <td>NaN</td>\n",
              "      <td>NaN</td>\n",
              "      <td>175.0</td>\n",
              "      <td>NaN</td>\n",
              "      <td>NaN</td>\n",
              "      <td>NaN</td>\n",
              "      <td>NaN</td>\n",
              "      <td>175.00</td>\n",
              "      <td>1</td>\n",
              "      <td>114.83</td>\n",
              "      <td>114.83</td>\n",
              "      <td>110.78</td>\n",
              "      <td>546.42</td>\n",
              "      <td>Yes</td>\n",
              "      <td>NaN</td>\n",
              "      <td>NSF</td>\n",
              "      <td>2001-05-12</td>\n",
              "      <td>Norway</td>\n",
              "      <td>NaN</td>\n",
              "      <td>KM</td>\n",
              "    </tr>\n",
              "    <tr>\n",
              "      <th>185</th>\n",
              "      <td>1290906</td>\n",
              "      <td>Bruce Hellwinkel</td>\n",
              "      <td>M</td>\n",
              "      <td>B</td>\n",
              "      <td>Raw</td>\n",
              "      <td>NaN</td>\n",
              "      <td>45-49</td>\n",
              "      <td>Masters 1</td>\n",
              "      <td>110.50</td>\n",
              "      <td>120</td>\n",
              "      <td>NaN</td>\n",
              "      <td>NaN</td>\n",
              "      <td>NaN</td>\n",
              "      <td>NaN</td>\n",
              "      <td>NaN</td>\n",
              "      <td>NaN</td>\n",
              "      <td>NaN</td>\n",
              "      <td>197.5</td>\n",
              "      <td>NaN</td>\n",
              "      <td>NaN</td>\n",
              "      <td>NaN</td>\n",
              "      <td>NaN</td>\n",
              "      <td>197.50</td>\n",
              "      <td>1</td>\n",
              "      <td>116.07</td>\n",
              "      <td>122.45</td>\n",
              "      <td>111.16</td>\n",
              "      <td>668.30</td>\n",
              "      <td>Yes</td>\n",
              "      <td>NaN</td>\n",
              "      <td>CPU</td>\n",
              "      <td>2013-12-07</td>\n",
              "      <td>Canada</td>\n",
              "      <td>QC</td>\n",
              "      <td>Montreal Open</td>\n",
              "    </tr>\n",
              "    <tr>\n",
              "      <th>196</th>\n",
              "      <td>1375177</td>\n",
              "      <td>Artis Kronbergs</td>\n",
              "      <td>M</td>\n",
              "      <td>B</td>\n",
              "      <td>Raw</td>\n",
              "      <td>NaN</td>\n",
              "      <td>20-23</td>\n",
              "      <td>J</td>\n",
              "      <td>102.20</td>\n",
              "      <td>110</td>\n",
              "      <td>NaN</td>\n",
              "      <td>NaN</td>\n",
              "      <td>NaN</td>\n",
              "      <td>NaN</td>\n",
              "      <td>-160.0</td>\n",
              "      <td>160.0</td>\n",
              "      <td>-170.0</td>\n",
              "      <td>160.0</td>\n",
              "      <td>NaN</td>\n",
              "      <td>NaN</td>\n",
              "      <td>NaN</td>\n",
              "      <td>NaN</td>\n",
              "      <td>160.00</td>\n",
              "      <td>2</td>\n",
              "      <td>96.55</td>\n",
              "      <td>96.55</td>\n",
              "      <td>92.73</td>\n",
              "      <td>567.50</td>\n",
              "      <td>NaN</td>\n",
              "      <td>NaN</td>\n",
              "      <td>WPC-Latvia</td>\n",
              "      <td>2011-12-17</td>\n",
              "      <td>Latvia</td>\n",
              "      <td>NaN</td>\n",
              "      <td>Latvian Championships</td>\n",
              "    </tr>\n",
              "  </tbody>\n",
              "</table>\n",
              "</div>"
            ],
            "text/plain": [
              "     Unnamed: 0                 Name  ... MeetState                MeetName\n",
              "2        164449        Chase Garrett  ...       NaN  Body by George Classic\n",
              "16      1398692           Nick Russo  ...        NY                Dominion\n",
              "172      579972  Bjørn Henrik Kvamme  ...       NaN                      KM\n",
              "185     1290906     Bruce Hellwinkel  ...        QC           Montreal Open\n",
              "196     1375177      Artis Kronbergs  ...       NaN   Latvian Championships\n",
              "\n",
              "[5 rows x 35 columns]"
            ]
          },
          "metadata": {
            "tags": []
          },
          "execution_count": 21
        }
      ]
    },
    {
      "cell_type": "markdown",
      "metadata": {
        "id": "Mt9EO2Z6l3oz"
      },
      "source": [
        "Olhando apenas essas 2 colunas, temos:"
      ]
    },
    {
      "cell_type": "code",
      "metadata": {
        "id": "1wUh9FLT1oWc",
        "colab": {
          "base_uri": "https://localhost:8080/",
          "height": 424
        },
        "outputId": "6a3db5fd-d04e-4187-e42a-22f0f54cc5e9"
      },
      "source": [
        "df[(df['Age'].isnull())&(df['AgeClass'].notnull())][['Age','AgeClass']]"
      ],
      "execution_count": 22,
      "outputs": [
        {
          "output_type": "execute_result",
          "data": {
            "text/html": [
              "<div>\n",
              "<style scoped>\n",
              "    .dataframe tbody tr th:only-of-type {\n",
              "        vertical-align: middle;\n",
              "    }\n",
              "\n",
              "    .dataframe tbody tr th {\n",
              "        vertical-align: top;\n",
              "    }\n",
              "\n",
              "    .dataframe thead th {\n",
              "        text-align: right;\n",
              "    }\n",
              "</style>\n",
              "<table border=\"1\" class=\"dataframe\">\n",
              "  <thead>\n",
              "    <tr style=\"text-align: right;\">\n",
              "      <th></th>\n",
              "      <th>Age</th>\n",
              "      <th>AgeClass</th>\n",
              "    </tr>\n",
              "  </thead>\n",
              "  <tbody>\n",
              "    <tr>\n",
              "      <th>2</th>\n",
              "      <td>NaN</td>\n",
              "      <td>13-15</td>\n",
              "    </tr>\n",
              "    <tr>\n",
              "      <th>16</th>\n",
              "      <td>NaN</td>\n",
              "      <td>20-23</td>\n",
              "    </tr>\n",
              "    <tr>\n",
              "      <th>172</th>\n",
              "      <td>NaN</td>\n",
              "      <td>24-34</td>\n",
              "    </tr>\n",
              "    <tr>\n",
              "      <th>185</th>\n",
              "      <td>NaN</td>\n",
              "      <td>45-49</td>\n",
              "    </tr>\n",
              "    <tr>\n",
              "      <th>196</th>\n",
              "      <td>NaN</td>\n",
              "      <td>20-23</td>\n",
              "    </tr>\n",
              "    <tr>\n",
              "      <th>...</th>\n",
              "      <td>...</td>\n",
              "      <td>...</td>\n",
              "    </tr>\n",
              "    <tr>\n",
              "      <th>19657</th>\n",
              "      <td>NaN</td>\n",
              "      <td>20-23</td>\n",
              "    </tr>\n",
              "    <tr>\n",
              "      <th>19678</th>\n",
              "      <td>NaN</td>\n",
              "      <td>40-44</td>\n",
              "    </tr>\n",
              "    <tr>\n",
              "      <th>19722</th>\n",
              "      <td>NaN</td>\n",
              "      <td>20-23</td>\n",
              "    </tr>\n",
              "    <tr>\n",
              "      <th>19839</th>\n",
              "      <td>NaN</td>\n",
              "      <td>18-19</td>\n",
              "    </tr>\n",
              "    <tr>\n",
              "      <th>19955</th>\n",
              "      <td>NaN</td>\n",
              "      <td>20-23</td>\n",
              "    </tr>\n",
              "  </tbody>\n",
              "</table>\n",
              "<p>409 rows × 2 columns</p>\n",
              "</div>"
            ],
            "text/plain": [
              "       Age AgeClass\n",
              "2      NaN    13-15\n",
              "16     NaN    20-23\n",
              "172    NaN    24-34\n",
              "185    NaN    45-49\n",
              "196    NaN    20-23\n",
              "...    ...      ...\n",
              "19657  NaN    20-23\n",
              "19678  NaN    40-44\n",
              "19722  NaN    20-23\n",
              "19839  NaN    18-19\n",
              "19955  NaN    20-23\n",
              "\n",
              "[409 rows x 2 columns]"
            ]
          },
          "metadata": {
            "tags": []
          },
          "execution_count": 22
        }
      ]
    },
    {
      "cell_type": "code",
      "metadata": {
        "id": "r3lX8iUEntMT",
        "colab": {
          "base_uri": "https://localhost:8080/"
        },
        "outputId": "7565626d-813b-4a94-f021-e84f96b4e959"
      },
      "source": [
        "df['AgeClass'].cat.categories"
      ],
      "execution_count": 23,
      "outputs": [
        {
          "output_type": "execute_result",
          "data": {
            "text/plain": [
              "Index(['13-15', '16-17', '18-19', '20-23', '24-34', '35-39', '40-44', '45-49',\n",
              "       '5-12', '50-54', '55-59', '60-64', '65-69', '70-74', '75-79', '80-999'],\n",
              "      dtype='object')"
            ]
          },
          "metadata": {
            "tags": []
          },
          "execution_count": 23
        }
      ]
    },
    {
      "cell_type": "markdown",
      "metadata": {
        "id": "Rt7DXl-22mR8"
      },
      "source": [
        "Perceba que o atributo `AgeClass` é dado no formato `x-y`, onde `x` e `y` são números inteiros. Usaremos a função `.split()` para obter os valores de `x` e `y` e calcular a média. Por motivos óbvios, não serão imputados os casos em que `AgeClass=='80-999'`"
      ]
    },
    {
      "cell_type": "code",
      "metadata": {
        "id": "-lD8A65iokPl"
      },
      "source": [
        "#f2 = df.copy() # Podemos usar uma copia do dataframe para examinar os efeitos da imputacao"
      ],
      "execution_count": null,
      "outputs": []
    },
    {
      "cell_type": "code",
      "metadata": {
        "id": "Jccz9NwAH0e4"
      },
      "source": [
        "def meanAgeClass(agecl): # A ideia aqui eh passar o atributo AgeClass de cada registro como parametro da funcao\n",
        "    x, y = agecl.split('-')\n",
        "    return np.mean([int(x),int(y)])\n",
        "\n",
        "\n",
        "mask = (df['Age'].isnull())&(df['AgeClass']!='80-999')&(df['AgeClass'].notnull()) # Queremos os registros em que 'Age' é nulo, 'AgeClass' não-nulo e 'AgeClass'!=80-999\n",
        "df.loc[mask, 'Age'] = df[mask].apply(lambda row: meanAgeClass(row['AgeClass']), axis=1)"
      ],
      "execution_count": 24,
      "outputs": []
    },
    {
      "cell_type": "markdown",
      "metadata": {
        "id": "Pduh45qmF_We"
      },
      "source": [
        "Assim, fizemos a imputação de acordo com a média de `AgeClass`. A célula a seguir confirma que a imputação correu como esperado."
      ]
    },
    {
      "cell_type": "code",
      "metadata": {
        "id": "ArZ3DiTBf-TE",
        "colab": {
          "base_uri": "https://localhost:8080/"
        },
        "outputId": "814cc937-81f3-49a5-fb02-40870642716e"
      },
      "source": [
        "nullage = df['Age'].isnull().sum()\n",
        "nullageclass = df['AgeClass'].isnull().sum()\n",
        "notnullageclass = df['AgeClass'].notnull().sum()\n",
        "nullagenotnullclass = len(df[(df['Age'].isnull())&(df['AgeClass'].notnull())])\n",
        "\n",
        "print('Numero de valores nulos em \"Age\":', nullage)\n",
        "print('Porecentagem do numero total de registros:', nullage/len(df))\n",
        "print('')\n",
        "print('Numero de valores nulos em \"AgeClass\":', nullageclass)\n",
        "print('Porecentagem do numero total de registros:', nullageclass/len(df))\n",
        "print('')\n",
        "print('Numero de registros com \"Age\" nulo e \"AgeClass\" nao nulo:', nullagenotnullclass)\n",
        "print('Porcentagem do numero total de registros:', nullagenotnullclass/len(df))\n",
        "print('')\n",
        "print('Diferenca entre numero de registros nulos em \"Age\" e nao nulos em \"AgeClass\":', nullage-nullageclass)"
      ],
      "execution_count": 25,
      "outputs": [
        {
          "output_type": "stream",
          "text": [
            "Numero de valores nulos em \"Age\": 8051\n",
            "Porecentagem do numero total de registros: 0.43674731474449385\n",
            "\n",
            "Numero de valores nulos em \"AgeClass\": 8050\n",
            "Porecentagem do numero total de registros: 0.43669306715851147\n",
            "\n",
            "Numero de registros com \"Age\" nulo e \"AgeClass\" nao nulo: 3\n",
            "Porcentagem do numero total de registros: 0.00016274275794727133\n",
            "\n",
            "Diferenca entre numero de registros nulos em \"Age\" e nao nulos em \"AgeClass\": 1\n"
          ],
          "name": "stdout"
        }
      ]
    },
    {
      "cell_type": "code",
      "metadata": {
        "colab": {
          "base_uri": "https://localhost:8080/"
        },
        "id": "iEumXmtrDGz6",
        "outputId": "929c4ce4-277f-4980-a625-f396ba8685de"
      },
      "source": [
        "df_before['Age'].describe()"
      ],
      "execution_count": 27,
      "outputs": [
        {
          "output_type": "execute_result",
          "data": {
            "text/plain": [
              "count    9977.000000\n",
              "mean       31.404781\n",
              "std        13.479156\n",
              "min         0.500000\n",
              "25%        21.000000\n",
              "50%        27.500000\n",
              "75%        39.500000\n",
              "max        90.000000\n",
              "Name: Age, dtype: float64"
            ]
          },
          "metadata": {
            "tags": []
          },
          "execution_count": 27
        }
      ]
    },
    {
      "cell_type": "code",
      "metadata": {
        "id": "stotQU5jFjO9",
        "colab": {
          "base_uri": "https://localhost:8080/"
        },
        "outputId": "ed595017-78c5-407f-866c-3cfa064f243d"
      },
      "source": [
        "df['Age'].describe()"
      ],
      "execution_count": 28,
      "outputs": [
        {
          "output_type": "execute_result",
          "data": {
            "text/plain": [
              "count    10383.000000\n",
              "mean        31.478234\n",
              "std         13.611166\n",
              "min          0.500000\n",
              "25%         21.000000\n",
              "50%         27.500000\n",
              "75%         40.000000\n",
              "max         90.000000\n",
              "Name: Age, dtype: float64"
            ]
          },
          "metadata": {
            "tags": []
          },
          "execution_count": 28
        }
      ]
    },
    {
      "cell_type": "markdown",
      "metadata": {
        "id": "v7EZnvclzX_R"
      },
      "source": [
        "Note, também, que não houve uma mudança significativa nos valores de tendência de `Age`. Isso indica que a imputação foi bem-sucedida.\n",
        "\n",
        "Perceba, porém, que ainda temos um número muito grande de dados nulos em `Age` (~43%). Nesses casos, ambas as colunas `Age` e `AgeClass` são nulas, portanto não foi possível realizar a imputação inicial. Por isso, vamos recorrer a outro método. Mas antes vamos analisar esses casos mais de perto."
      ]
    },
    {
      "cell_type": "code",
      "metadata": {
        "id": "vqSGD4uJj7i1",
        "colab": {
          "base_uri": "https://localhost:8080/"
        },
        "outputId": "9c9e4a54-b5c7-4281-c769-0b6bf433dbe1"
      },
      "source": [
        "dfAge = df[df['Age'].isnull()]\n",
        "len(dfAge)"
      ],
      "execution_count": null,
      "outputs": [
        {
          "output_type": "execute_result",
          "data": {
            "text/plain": [
              "8048"
            ]
          },
          "metadata": {
            "tags": []
          },
          "execution_count": 28
        }
      ]
    },
    {
      "cell_type": "code",
      "metadata": {
        "id": "lXV3QNH1kKsd",
        "colab": {
          "base_uri": "https://localhost:8080/"
        },
        "outputId": "a8143bf6-fa1c-464d-c5ac-0dfc55065c37"
      },
      "source": [
        "bom = (df[(df['Age'].isnull())&(df['Best3BenchKg'].notnull())&(df['Best3DeadliftKg'].notnull())&(df['Best3SquatKg'].notnull())&(df['BodyweightKg'].notnull())&(df['Sex'].notnull())])\n",
        "len(bom)\n",
        "# isso eh o numero de registros com 'Age' nulo mas \"best lifts\", 'BodyweightKg' e 'Sex' nao nulos"
      ],
      "execution_count": null,
      "outputs": [
        {
          "output_type": "execute_result",
          "data": {
            "text/plain": [
              "6921"
            ]
          },
          "metadata": {
            "tags": []
          },
          "execution_count": 29
        }
      ]
    },
    {
      "cell_type": "code",
      "metadata": {
        "id": "zXaNsn8fk5TC",
        "colab": {
          "base_uri": "https://localhost:8080/"
        },
        "outputId": "98cf5bce-d0f6-4201-d33e-5630ae6ee6c2"
      },
      "source": [
        "(len(dfAge)-len(bom))/len(df)"
      ],
      "execution_count": null,
      "outputs": [
        {
          "output_type": "execute_result",
          "data": {
            "text/plain": [
              "0.0611370294021916"
            ]
          },
          "metadata": {
            "tags": []
          },
          "execution_count": 30
        }
      ]
    },
    {
      "cell_type": "markdown",
      "metadata": {
        "id": "dwmVN9T673R4"
      },
      "source": [
        "Observe que há uma boa quantidade de dados em que muitos atributos importantes são não nulos, o que contribui efetivamente para a imputação nesses casos.\n",
        "\n",
        "Dada a natureza do nosso dataset, com vários atributos que podem contribuir para a imputação da idade (`Sex`, `BodyweightKg` e `Best3BenchKg`, por exemplo), o algoritmo KNN se destaca pela sua aptidão a modelos de regressão e pelo uso que ele faz de outros atributos na previsão (além, é claro, de sua simplicidade). No entanto, para que possamos realizar a imputação com o mesmo peso para todas essas variáveis, devemos, primeiro, fazer a *normalização* dos dados que serão utilizados."
      ]
    },
    {
      "cell_type": "markdown",
      "metadata": {
        "id": "-mwx_8xRlb0l"
      },
      "source": [
        "## Normalização"
      ]
    },
    {
      "cell_type": "markdown",
      "metadata": {
        "id": "t4U1yQQpDhet"
      },
      "source": [
        "A normalização é uma transformação de dados que tem como objetivo comprimir dados contínuos com o intuito de facilitar seu entendimento por um humano ou por uma máquina. Esse tipo de transformação é muito utilizado quando deseja-se reduzir possíveis valores de uma variável para um intervalo escolhido, favorecendo sua compreensão.\n",
        "\n",
        "Existem variadas técnicas de normalização, mas a que vamos utilizar é a normalização por *Min-Max*. Essa estratégia é notoriamente útil quando queremos comparar instâncias dos dados de acordo com a distância euclidiana entre eles, que é a ideia básica do algoritmo KNN para imputação.\n",
        "\n",
        "As células a seguir mostram a normalização para o intervalo $[-1,1]$ dos atributos `Best3SquatKg`, `Best3BenchKg`, `Best3DeadliftKg`, `TotalKg`, `IPFPoints` e `BodyweightKg`. Além dessas transformações, interpretaremos, por um momento, a coluna `Sex` como valores inteiros. Isso vai possibilitar a inclusão dessa coluna no cálculo da distância entre as instâncias."
      ]
    },
    {
      "cell_type": "code",
      "metadata": {
        "id": "hbHoTscEIhTv"
      },
      "source": [
        "# Normalizando as colunas citadas para o intervalo [-1,1]\n",
        "\n",
        "df['Best3SquatKg_norm'] = ((df['Best3SquatKg'] - df['Best3SquatKg'].min()) / (df['Best3SquatKg'].max() - df['Best3SquatKg'].min())*2) -1\n",
        "df['Best3BenchKg_norm'] = ((df['Best3BenchKg'] - df['Best3BenchKg'].min()) / (df['Best3BenchKg'].max() - df['Best3BenchKg'].min())*2) -1\n",
        "df['Best3DeadliftKg_norm'] = ((df['Best3DeadliftKg'] - df['Best3DeadliftKg'].min()) / (df['Best3DeadliftKg'].max() - df['Best3DeadliftKg'].min())*2) -1\n",
        "df['TotalKg_norm'] = ((df['TotalKg'] - df['TotalKg'].min()) / (df['TotalKg'].max() - df['TotalKg'].min())*2) -1\n",
        "df['BodyweightKg_norm'] = ((df['BodyweightKg'] - df['BodyweightKg'].min()) / (df['BodyweightKg'].max() - df['BodyweightKg'].min())*2) -1\n",
        "df['IPFPoints_norm'] = ((df['IPFPoints'] - df['IPFPoints'].min()) / (df['IPFPoints'].max() - df['IPFPoints'].min())*2) -1"
      ],
      "execution_count": 29,
      "outputs": []
    },
    {
      "cell_type": "code",
      "metadata": {
        "id": "Otp6kqhQJbqF"
      },
      "source": [
        "# Representando 'Sex' com numeros inteiros \n",
        "\n",
        "df['Sex'] = df['Sex'].cat.codes"
      ],
      "execution_count": 30,
      "outputs": []
    },
    {
      "cell_type": "code",
      "metadata": {
        "id": "s1GtezvAJWvV",
        "colab": {
          "base_uri": "https://localhost:8080/",
          "height": 365
        },
        "outputId": "f39d36b0-9f09-4867-b222-678d033fcc3f"
      },
      "source": [
        "df.head()"
      ],
      "execution_count": 31,
      "outputs": [
        {
          "output_type": "execute_result",
          "data": {
            "text/html": [
              "<div>\n",
              "<style scoped>\n",
              "    .dataframe tbody tr th:only-of-type {\n",
              "        vertical-align: middle;\n",
              "    }\n",
              "\n",
              "    .dataframe tbody tr th {\n",
              "        vertical-align: top;\n",
              "    }\n",
              "\n",
              "    .dataframe thead th {\n",
              "        text-align: right;\n",
              "    }\n",
              "</style>\n",
              "<table border=\"1\" class=\"dataframe\">\n",
              "  <thead>\n",
              "    <tr style=\"text-align: right;\">\n",
              "      <th></th>\n",
              "      <th>Unnamed: 0</th>\n",
              "      <th>Name</th>\n",
              "      <th>Sex</th>\n",
              "      <th>Event</th>\n",
              "      <th>Equipment</th>\n",
              "      <th>Age</th>\n",
              "      <th>AgeClass</th>\n",
              "      <th>Division</th>\n",
              "      <th>BodyweightKg</th>\n",
              "      <th>WeightClassKg</th>\n",
              "      <th>Squat1Kg</th>\n",
              "      <th>Squat2Kg</th>\n",
              "      <th>Squat3Kg</th>\n",
              "      <th>Best3SquatKg</th>\n",
              "      <th>Bench1Kg</th>\n",
              "      <th>Bench2Kg</th>\n",
              "      <th>Bench3Kg</th>\n",
              "      <th>Best3BenchKg</th>\n",
              "      <th>Deadlift1Kg</th>\n",
              "      <th>Deadlift2Kg</th>\n",
              "      <th>Deadlift3Kg</th>\n",
              "      <th>Best3DeadliftKg</th>\n",
              "      <th>TotalKg</th>\n",
              "      <th>Place</th>\n",
              "      <th>Wilks</th>\n",
              "      <th>McCulloch</th>\n",
              "      <th>Glossbrenner</th>\n",
              "      <th>IPFPoints</th>\n",
              "      <th>Tested</th>\n",
              "      <th>Country</th>\n",
              "      <th>Federation</th>\n",
              "      <th>Date</th>\n",
              "      <th>MeetCountry</th>\n",
              "      <th>MeetState</th>\n",
              "      <th>MeetName</th>\n",
              "      <th>Best3SquatKg_norm</th>\n",
              "      <th>Best3BenchKg_norm</th>\n",
              "      <th>Best3DeadliftKg_norm</th>\n",
              "      <th>TotalKg_norm</th>\n",
              "      <th>BodyweightKg_norm</th>\n",
              "      <th>IPFPoints_norm</th>\n",
              "    </tr>\n",
              "  </thead>\n",
              "  <tbody>\n",
              "    <tr>\n",
              "      <th>0</th>\n",
              "      <td>692083</td>\n",
              "      <td>Hayden Fulwood</td>\n",
              "      <td>1</td>\n",
              "      <td>SBD</td>\n",
              "      <td>Raw</td>\n",
              "      <td>18.0</td>\n",
              "      <td>18-19</td>\n",
              "      <td>MR-T3</td>\n",
              "      <td>88.0</td>\n",
              "      <td>90</td>\n",
              "      <td>NaN</td>\n",
              "      <td>NaN</td>\n",
              "      <td>NaN</td>\n",
              "      <td>167.50</td>\n",
              "      <td>NaN</td>\n",
              "      <td>NaN</td>\n",
              "      <td>NaN</td>\n",
              "      <td>122.50</td>\n",
              "      <td>NaN</td>\n",
              "      <td>NaN</td>\n",
              "      <td>NaN</td>\n",
              "      <td>227.50</td>\n",
              "      <td>517.50</td>\n",
              "      <td>1</td>\n",
              "      <td>334.25</td>\n",
              "      <td>354.31</td>\n",
              "      <td>322.27</td>\n",
              "      <td>482.79</td>\n",
              "      <td>Yes</td>\n",
              "      <td>USA</td>\n",
              "      <td>USAPL</td>\n",
              "      <td>2013-04-27</td>\n",
              "      <td>USA</td>\n",
              "      <td>AL</td>\n",
              "      <td>S.E HS State Wars</td>\n",
              "      <td>-0.385417</td>\n",
              "      <td>-0.528924</td>\n",
              "      <td>0.080000</td>\n",
              "      <td>-0.156780</td>\n",
              "      <td>-0.411065</td>\n",
              "      <td>-0.206464</td>\n",
              "    </tr>\n",
              "    <tr>\n",
              "      <th>1</th>\n",
              "      <td>621012</td>\n",
              "      <td>Jozef Slimák</td>\n",
              "      <td>1</td>\n",
              "      <td>B</td>\n",
              "      <td>Multi-ply</td>\n",
              "      <td>46.0</td>\n",
              "      <td>45-49</td>\n",
              "      <td>M-M2</td>\n",
              "      <td>82.2</td>\n",
              "      <td>82.5</td>\n",
              "      <td>NaN</td>\n",
              "      <td>NaN</td>\n",
              "      <td>NaN</td>\n",
              "      <td>NaN</td>\n",
              "      <td>165.0</td>\n",
              "      <td>180.0</td>\n",
              "      <td>-190.0</td>\n",
              "      <td>180.00</td>\n",
              "      <td>NaN</td>\n",
              "      <td>NaN</td>\n",
              "      <td>NaN</td>\n",
              "      <td>NaN</td>\n",
              "      <td>180.00</td>\n",
              "      <td>1</td>\n",
              "      <td>120.85</td>\n",
              "      <td>129.06</td>\n",
              "      <td>116.68</td>\n",
              "      <td>571.78</td>\n",
              "      <td>NaN</td>\n",
              "      <td>Slovakia</td>\n",
              "      <td>WPC</td>\n",
              "      <td>2012-11-06</td>\n",
              "      <td>USA</td>\n",
              "      <td>NV</td>\n",
              "      <td>World Championships</td>\n",
              "      <td>NaN</td>\n",
              "      <td>-0.280420</td>\n",
              "      <td>NaN</td>\n",
              "      <td>-0.728814</td>\n",
              "      <td>-0.464106</td>\n",
              "      <td>-0.037484</td>\n",
              "    </tr>\n",
              "    <tr>\n",
              "      <th>2</th>\n",
              "      <td>164449</td>\n",
              "      <td>Chase Garrett</td>\n",
              "      <td>1</td>\n",
              "      <td>D</td>\n",
              "      <td>Raw</td>\n",
              "      <td>14.0</td>\n",
              "      <td>13-15</td>\n",
              "      <td>Teenage 13-15</td>\n",
              "      <td>44.0</td>\n",
              "      <td>44</td>\n",
              "      <td>NaN</td>\n",
              "      <td>NaN</td>\n",
              "      <td>NaN</td>\n",
              "      <td>NaN</td>\n",
              "      <td>NaN</td>\n",
              "      <td>NaN</td>\n",
              "      <td>NaN</td>\n",
              "      <td>NaN</td>\n",
              "      <td>NaN</td>\n",
              "      <td>NaN</td>\n",
              "      <td>NaN</td>\n",
              "      <td>70.31</td>\n",
              "      <td>70.31</td>\n",
              "      <td>1</td>\n",
              "      <td>83.29</td>\n",
              "      <td>98.28</td>\n",
              "      <td>82.94</td>\n",
              "      <td>212.28</td>\n",
              "      <td>NaN</td>\n",
              "      <td>NaN</td>\n",
              "      <td>SPF</td>\n",
              "      <td>2008-12-06</td>\n",
              "      <td>USA</td>\n",
              "      <td>NaN</td>\n",
              "      <td>Body by George Classic</td>\n",
              "      <td>NaN</td>\n",
              "      <td>NaN</td>\n",
              "      <td>-0.758347</td>\n",
              "      <td>-0.914729</td>\n",
              "      <td>-0.813443</td>\n",
              "      <td>-0.720126</td>\n",
              "    </tr>\n",
              "    <tr>\n",
              "      <th>3</th>\n",
              "      <td>353419</td>\n",
              "      <td>Edgar Rodea</td>\n",
              "      <td>1</td>\n",
              "      <td>SBD</td>\n",
              "      <td>Single-ply</td>\n",
              "      <td>NaN</td>\n",
              "      <td>NaN</td>\n",
              "      <td>Boys</td>\n",
              "      <td>92.9</td>\n",
              "      <td>99.7</td>\n",
              "      <td>NaN</td>\n",
              "      <td>NaN</td>\n",
              "      <td>NaN</td>\n",
              "      <td>204.12</td>\n",
              "      <td>NaN</td>\n",
              "      <td>NaN</td>\n",
              "      <td>NaN</td>\n",
              "      <td>129.27</td>\n",
              "      <td>NaN</td>\n",
              "      <td>NaN</td>\n",
              "      <td>NaN</td>\n",
              "      <td>185.97</td>\n",
              "      <td>519.36</td>\n",
              "      <td>1</td>\n",
              "      <td>326.42</td>\n",
              "      <td>326.42</td>\n",
              "      <td>314.34</td>\n",
              "      <td>420.04</td>\n",
              "      <td>Yes</td>\n",
              "      <td>NaN</td>\n",
              "      <td>THSPA</td>\n",
              "      <td>2017-01-28</td>\n",
              "      <td>USA</td>\n",
              "      <td>TX</td>\n",
              "      <td>Santo Meet</td>\n",
              "      <td>-0.232833</td>\n",
              "      <td>-0.499665</td>\n",
              "      <td>-0.141493</td>\n",
              "      <td>-0.153627</td>\n",
              "      <td>-0.366255</td>\n",
              "      <td>-0.325618</td>\n",
              "    </tr>\n",
              "    <tr>\n",
              "      <th>4</th>\n",
              "      <td>128144</td>\n",
              "      <td>K. Kaufman</td>\n",
              "      <td>1</td>\n",
              "      <td>B</td>\n",
              "      <td>Raw</td>\n",
              "      <td>NaN</td>\n",
              "      <td>NaN</td>\n",
              "      <td>Open</td>\n",
              "      <td>90.0</td>\n",
              "      <td>90</td>\n",
              "      <td>NaN</td>\n",
              "      <td>NaN</td>\n",
              "      <td>NaN</td>\n",
              "      <td>NaN</td>\n",
              "      <td>NaN</td>\n",
              "      <td>NaN</td>\n",
              "      <td>NaN</td>\n",
              "      <td>145.15</td>\n",
              "      <td>NaN</td>\n",
              "      <td>NaN</td>\n",
              "      <td>NaN</td>\n",
              "      <td>NaN</td>\n",
              "      <td>145.15</td>\n",
              "      <td>6</td>\n",
              "      <td>92.66</td>\n",
              "      <td>92.66</td>\n",
              "      <td>89.30</td>\n",
              "      <td>558.46</td>\n",
              "      <td>NaN</td>\n",
              "      <td>NaN</td>\n",
              "      <td>USPF</td>\n",
              "      <td>1979-12-08</td>\n",
              "      <td>USA</td>\n",
              "      <td>ND</td>\n",
              "      <td>3rd Annual Midwestern Bench Press Championships</td>\n",
              "      <td>NaN</td>\n",
              "      <td>-0.431035</td>\n",
              "      <td>NaN</td>\n",
              "      <td>-0.787881</td>\n",
              "      <td>-0.392775</td>\n",
              "      <td>-0.062777</td>\n",
              "    </tr>\n",
              "  </tbody>\n",
              "</table>\n",
              "</div>"
            ],
            "text/plain": [
              "   Unnamed: 0            Name  ...  BodyweightKg_norm IPFPoints_norm\n",
              "0      692083  Hayden Fulwood  ...          -0.411065      -0.206464\n",
              "1      621012    Jozef Slimák  ...          -0.464106      -0.037484\n",
              "2      164449   Chase Garrett  ...          -0.813443      -0.720126\n",
              "3      353419     Edgar Rodea  ...          -0.366255      -0.325618\n",
              "4      128144      K. Kaufman  ...          -0.392775      -0.062777\n",
              "\n",
              "[5 rows x 41 columns]"
            ]
          },
          "metadata": {
            "tags": []
          },
          "execution_count": 31
        }
      ]
    },
    {
      "cell_type": "markdown",
      "metadata": {
        "id": "fg-NgUbzLkoe"
      },
      "source": [
        "Note a adição das colunas normalizadas no dataframe. Agora, podemos aplicar o algoritmo KNN para imputar os dados nulos de `Age` utilizando os dados dessas colunas. As células a seguir descrevem o processo."
      ]
    },
    {
      "cell_type": "code",
      "metadata": {
        "colab": {
          "base_uri": "https://localhost:8080/",
          "height": 206
        },
        "id": "4SCql3P3wr8z",
        "outputId": "6c2336da-9412-4237-c344-3bf6c36cb730"
      },
      "source": [
        "# Se tentarmos aplicar o KNN ao dataframe original, recebemos um erro por causa dos atributos não numéricos presentes nele.\n",
        "# Por isso, é necessário que façamos uma cópia do dataframe apenas com os registros que terão seus dados imputados e \n",
        "# as colunas necessárias para a imputação. Depois da imputação, vamos dar um 'merge' entre o dataframe original e o imputado.\n",
        "\n",
        "# A variavel 'mask' serve para determinar o subset de linhas que sera utilizado. \n",
        "# No caso, a imputacao sera feita para os casos em que 'Sex', 'BodyweightKg' e 'TotalKg' sao nao nulas e pelo menos uma das seguintes eh nao nula:\n",
        "# 'Best3SquatKg', 'Best3BenchKg' ou 'Best3DeadliftKg'. Isso evita que seja realizada a imputacao com dados insuficientes.\n",
        "mask = ((df['Best3BenchKg'].notnull())|(df['Best3DeadliftKg'].notnull())|(df['Best3SquatKg'].notnull()))|(df['BodyweightKg'].notnull())&(df['Sex'].notnull())&(df['TotalKg'].notnull())\n",
        "\n",
        "df_impute = df.loc[mask, ['Sex','Age','BodyweightKg','TotalKg','Best3SquatKg','Best3BenchKg','Best3DeadliftKg']]\n",
        "df_impute.head()"
      ],
      "execution_count": 32,
      "outputs": [
        {
          "output_type": "execute_result",
          "data": {
            "text/html": [
              "<div>\n",
              "<style scoped>\n",
              "    .dataframe tbody tr th:only-of-type {\n",
              "        vertical-align: middle;\n",
              "    }\n",
              "\n",
              "    .dataframe tbody tr th {\n",
              "        vertical-align: top;\n",
              "    }\n",
              "\n",
              "    .dataframe thead th {\n",
              "        text-align: right;\n",
              "    }\n",
              "</style>\n",
              "<table border=\"1\" class=\"dataframe\">\n",
              "  <thead>\n",
              "    <tr style=\"text-align: right;\">\n",
              "      <th></th>\n",
              "      <th>Sex</th>\n",
              "      <th>Age</th>\n",
              "      <th>BodyweightKg</th>\n",
              "      <th>TotalKg</th>\n",
              "      <th>Best3SquatKg</th>\n",
              "      <th>Best3BenchKg</th>\n",
              "      <th>Best3DeadliftKg</th>\n",
              "    </tr>\n",
              "  </thead>\n",
              "  <tbody>\n",
              "    <tr>\n",
              "      <th>0</th>\n",
              "      <td>1</td>\n",
              "      <td>18.0</td>\n",
              "      <td>88.0</td>\n",
              "      <td>517.50</td>\n",
              "      <td>167.50</td>\n",
              "      <td>122.50</td>\n",
              "      <td>227.50</td>\n",
              "    </tr>\n",
              "    <tr>\n",
              "      <th>1</th>\n",
              "      <td>1</td>\n",
              "      <td>46.0</td>\n",
              "      <td>82.2</td>\n",
              "      <td>180.00</td>\n",
              "      <td>NaN</td>\n",
              "      <td>180.00</td>\n",
              "      <td>NaN</td>\n",
              "    </tr>\n",
              "    <tr>\n",
              "      <th>2</th>\n",
              "      <td>1</td>\n",
              "      <td>14.0</td>\n",
              "      <td>44.0</td>\n",
              "      <td>70.31</td>\n",
              "      <td>NaN</td>\n",
              "      <td>NaN</td>\n",
              "      <td>70.31</td>\n",
              "    </tr>\n",
              "    <tr>\n",
              "      <th>3</th>\n",
              "      <td>1</td>\n",
              "      <td>NaN</td>\n",
              "      <td>92.9</td>\n",
              "      <td>519.36</td>\n",
              "      <td>204.12</td>\n",
              "      <td>129.27</td>\n",
              "      <td>185.97</td>\n",
              "    </tr>\n",
              "    <tr>\n",
              "      <th>4</th>\n",
              "      <td>1</td>\n",
              "      <td>NaN</td>\n",
              "      <td>90.0</td>\n",
              "      <td>145.15</td>\n",
              "      <td>NaN</td>\n",
              "      <td>145.15</td>\n",
              "      <td>NaN</td>\n",
              "    </tr>\n",
              "  </tbody>\n",
              "</table>\n",
              "</div>"
            ],
            "text/plain": [
              "   Sex   Age  BodyweightKg  ...  Best3SquatKg  Best3BenchKg  Best3DeadliftKg\n",
              "0    1  18.0          88.0  ...        167.50        122.50           227.50\n",
              "1    1  46.0          82.2  ...           NaN        180.00              NaN\n",
              "2    1  14.0          44.0  ...           NaN           NaN            70.31\n",
              "3    1   NaN          92.9  ...        204.12        129.27           185.97\n",
              "4    1   NaN          90.0  ...           NaN        145.15              NaN\n",
              "\n",
              "[5 rows x 7 columns]"
            ]
          },
          "metadata": {
            "tags": []
          },
          "execution_count": 32
        }
      ]
    },
    {
      "cell_type": "code",
      "metadata": {
        "id": "bBe6pYbXaOlt",
        "colab": {
          "base_uri": "https://localhost:8080/"
        },
        "outputId": "fa4ac0c7-f211-4f3a-e30b-e13879e647ad"
      },
      "source": [
        "# Esta celula demora 60-80 segundos para executar\n",
        "# Aqui eh criado o ndarray com os dados imputados. \n",
        "\n",
        "# Foi utilizado k=5 para a imputacao. Podemos alterar esse valor para um resultado mais proximo dos vizinhos mas isso exige maior poder computacional \n",
        "df_knn = KNN(k=5).fit_transform(df_impute)"
      ],
      "execution_count": 33,
      "outputs": [
        {
          "output_type": "stream",
          "text": [
            "Imputing row 1/18433 with 0 missing, elapsed time: 58.994\n",
            "Imputing row 101/18433 with 1 missing, elapsed time: 59.005\n",
            "Imputing row 201/18433 with 0 missing, elapsed time: 59.018\n",
            "Imputing row 301/18433 with 2 missing, elapsed time: 59.030\n",
            "Imputing row 401/18433 with 2 missing, elapsed time: 59.041\n",
            "Imputing row 501/18433 with 0 missing, elapsed time: 59.052\n",
            "Imputing row 601/18433 with 1 missing, elapsed time: 59.065\n",
            "Imputing row 701/18433 with 2 missing, elapsed time: 59.077\n",
            "Imputing row 801/18433 with 0 missing, elapsed time: 59.091\n",
            "Imputing row 901/18433 with 0 missing, elapsed time: 59.107\n",
            "Imputing row 1001/18433 with 2 missing, elapsed time: 59.119\n",
            "Imputing row 1101/18433 with 1 missing, elapsed time: 59.132\n",
            "Imputing row 1201/18433 with 0 missing, elapsed time: 59.144\n",
            "Imputing row 1301/18433 with 1 missing, elapsed time: 59.154\n",
            "Imputing row 1401/18433 with 0 missing, elapsed time: 59.167\n",
            "Imputing row 1501/18433 with 0 missing, elapsed time: 59.180\n",
            "Imputing row 1601/18433 with 2 missing, elapsed time: 59.190\n",
            "Imputing row 1701/18433 with 1 missing, elapsed time: 59.206\n",
            "Imputing row 1801/18433 with 2 missing, elapsed time: 59.218\n",
            "Imputing row 1901/18433 with 1 missing, elapsed time: 59.231\n",
            "Imputing row 2001/18433 with 2 missing, elapsed time: 59.241\n",
            "Imputing row 2101/18433 with 3 missing, elapsed time: 59.252\n",
            "Imputing row 2201/18433 with 2 missing, elapsed time: 59.263\n",
            "Imputing row 2301/18433 with 0 missing, elapsed time: 59.274\n",
            "Imputing row 2401/18433 with 1 missing, elapsed time: 59.284\n",
            "Imputing row 2501/18433 with 0 missing, elapsed time: 59.295\n",
            "Imputing row 2601/18433 with 1 missing, elapsed time: 59.305\n",
            "Imputing row 2701/18433 with 2 missing, elapsed time: 59.319\n",
            "Imputing row 2801/18433 with 0 missing, elapsed time: 59.332\n",
            "Imputing row 2901/18433 with 2 missing, elapsed time: 59.342\n",
            "Imputing row 3001/18433 with 1 missing, elapsed time: 59.353\n",
            "Imputing row 3101/18433 with 0 missing, elapsed time: 59.366\n",
            "Imputing row 3201/18433 with 0 missing, elapsed time: 59.377\n",
            "Imputing row 3301/18433 with 0 missing, elapsed time: 59.389\n",
            "Imputing row 3401/18433 with 1 missing, elapsed time: 59.400\n",
            "Imputing row 3501/18433 with 0 missing, elapsed time: 59.415\n",
            "Imputing row 3601/18433 with 0 missing, elapsed time: 59.427\n",
            "Imputing row 3701/18433 with 2 missing, elapsed time: 59.440\n",
            "Imputing row 3801/18433 with 0 missing, elapsed time: 59.452\n",
            "Imputing row 3901/18433 with 1 missing, elapsed time: 59.464\n",
            "Imputing row 4001/18433 with 0 missing, elapsed time: 59.475\n",
            "Imputing row 4101/18433 with 0 missing, elapsed time: 59.485\n",
            "Imputing row 4201/18433 with 2 missing, elapsed time: 59.498\n",
            "Imputing row 4301/18433 with 0 missing, elapsed time: 59.509\n",
            "Imputing row 4401/18433 with 0 missing, elapsed time: 59.520\n",
            "Imputing row 4501/18433 with 0 missing, elapsed time: 59.531\n",
            "Imputing row 4601/18433 with 0 missing, elapsed time: 59.542\n",
            "Imputing row 4701/18433 with 0 missing, elapsed time: 59.555\n",
            "Imputing row 4801/18433 with 1 missing, elapsed time: 59.567\n",
            "Imputing row 4901/18433 with 0 missing, elapsed time: 59.578\n",
            "Imputing row 5001/18433 with 1 missing, elapsed time: 59.589\n",
            "Imputing row 5101/18433 with 2 missing, elapsed time: 59.600\n",
            "Imputing row 5201/18433 with 2 missing, elapsed time: 59.612\n",
            "Imputing row 5301/18433 with 0 missing, elapsed time: 59.626\n",
            "Imputing row 5401/18433 with 2 missing, elapsed time: 59.638\n",
            "Imputing row 5501/18433 with 2 missing, elapsed time: 59.650\n",
            "Imputing row 5601/18433 with 1 missing, elapsed time: 59.662\n",
            "Imputing row 5701/18433 with 0 missing, elapsed time: 59.673\n",
            "Imputing row 5801/18433 with 1 missing, elapsed time: 59.685\n",
            "Imputing row 5901/18433 with 0 missing, elapsed time: 59.696\n",
            "Imputing row 6001/18433 with 0 missing, elapsed time: 59.708\n",
            "Imputing row 6101/18433 with 0 missing, elapsed time: 59.723\n",
            "Imputing row 6201/18433 with 0 missing, elapsed time: 59.734\n",
            "Imputing row 6301/18433 with 0 missing, elapsed time: 59.747\n",
            "Imputing row 6401/18433 with 1 missing, elapsed time: 59.758\n",
            "Imputing row 6501/18433 with 0 missing, elapsed time: 59.770\n",
            "Imputing row 6601/18433 with 1 missing, elapsed time: 59.782\n",
            "Imputing row 6701/18433 with 1 missing, elapsed time: 59.794\n",
            "Imputing row 6801/18433 with 1 missing, elapsed time: 59.806\n",
            "Imputing row 6901/18433 with 1 missing, elapsed time: 59.817\n",
            "Imputing row 7001/18433 with 0 missing, elapsed time: 59.829\n",
            "Imputing row 7101/18433 with 2 missing, elapsed time: 59.842\n",
            "Imputing row 7201/18433 with 1 missing, elapsed time: 59.853\n",
            "Imputing row 7301/18433 with 1 missing, elapsed time: 59.865\n",
            "Imputing row 7401/18433 with 1 missing, elapsed time: 59.876\n",
            "Imputing row 7501/18433 with 0 missing, elapsed time: 59.887\n",
            "Imputing row 7601/18433 with 1 missing, elapsed time: 59.899\n",
            "Imputing row 7701/18433 with 0 missing, elapsed time: 59.913\n",
            "Imputing row 7801/18433 with 1 missing, elapsed time: 59.925\n",
            "Imputing row 7901/18433 with 2 missing, elapsed time: 59.937\n",
            "Imputing row 8001/18433 with 0 missing, elapsed time: 59.948\n",
            "Imputing row 8101/18433 with 1 missing, elapsed time: 59.959\n",
            "Imputing row 8201/18433 with 1 missing, elapsed time: 59.972\n",
            "Imputing row 8301/18433 with 0 missing, elapsed time: 59.986\n",
            "Imputing row 8401/18433 with 1 missing, elapsed time: 59.998\n",
            "Imputing row 8501/18433 with 0 missing, elapsed time: 60.012\n",
            "Imputing row 8601/18433 with 1 missing, elapsed time: 60.025\n",
            "Imputing row 8701/18433 with 1 missing, elapsed time: 60.038\n",
            "Imputing row 8801/18433 with 1 missing, elapsed time: 60.050\n",
            "Imputing row 8901/18433 with 3 missing, elapsed time: 60.061\n",
            "Imputing row 9001/18433 with 0 missing, elapsed time: 60.072\n",
            "Imputing row 9101/18433 with 1 missing, elapsed time: 60.083\n",
            "Imputing row 9201/18433 with 1 missing, elapsed time: 60.094\n",
            "Imputing row 9301/18433 with 0 missing, elapsed time: 60.106\n",
            "Imputing row 9401/18433 with 1 missing, elapsed time: 60.122\n",
            "Imputing row 9501/18433 with 0 missing, elapsed time: 60.133\n",
            "Imputing row 9601/18433 with 0 missing, elapsed time: 60.145\n",
            "Imputing row 9701/18433 with 0 missing, elapsed time: 60.158\n",
            "Imputing row 9801/18433 with 0 missing, elapsed time: 60.172\n",
            "Imputing row 9901/18433 with 1 missing, elapsed time: 60.186\n",
            "Imputing row 10001/18433 with 0 missing, elapsed time: 60.197\n",
            "Imputing row 10101/18433 with 2 missing, elapsed time: 60.209\n",
            "Imputing row 10201/18433 with 3 missing, elapsed time: 60.219\n",
            "Imputing row 10301/18433 with 0 missing, elapsed time: 60.231\n",
            "Imputing row 10401/18433 with 0 missing, elapsed time: 60.244\n",
            "Imputing row 10501/18433 with 2 missing, elapsed time: 60.265\n",
            "Imputing row 10601/18433 with 1 missing, elapsed time: 60.283\n",
            "Imputing row 10701/18433 with 1 missing, elapsed time: 60.294\n",
            "Imputing row 10801/18433 with 1 missing, elapsed time: 60.306\n",
            "Imputing row 10901/18433 with 2 missing, elapsed time: 60.320\n",
            "Imputing row 11001/18433 with 3 missing, elapsed time: 60.331\n",
            "Imputing row 11101/18433 with 1 missing, elapsed time: 60.342\n",
            "Imputing row 11201/18433 with 0 missing, elapsed time: 60.353\n",
            "Imputing row 11301/18433 with 2 missing, elapsed time: 60.364\n",
            "Imputing row 11401/18433 with 1 missing, elapsed time: 60.376\n",
            "Imputing row 11501/18433 with 0 missing, elapsed time: 60.390\n",
            "Imputing row 11601/18433 with 0 missing, elapsed time: 60.403\n",
            "Imputing row 11701/18433 with 3 missing, elapsed time: 60.413\n",
            "Imputing row 11801/18433 with 0 missing, elapsed time: 60.426\n",
            "Imputing row 11901/18433 with 1 missing, elapsed time: 60.436\n",
            "Imputing row 12001/18433 with 1 missing, elapsed time: 60.447\n",
            "Imputing row 12101/18433 with 0 missing, elapsed time: 60.460\n",
            "Imputing row 12201/18433 with 1 missing, elapsed time: 60.473\n",
            "Imputing row 12301/18433 with 1 missing, elapsed time: 60.487\n",
            "Imputing row 12401/18433 with 3 missing, elapsed time: 60.500\n",
            "Imputing row 12501/18433 with 0 missing, elapsed time: 60.512\n",
            "Imputing row 12601/18433 with 1 missing, elapsed time: 60.523\n",
            "Imputing row 12701/18433 with 0 missing, elapsed time: 60.536\n",
            "Imputing row 12801/18433 with 1 missing, elapsed time: 60.548\n",
            "Imputing row 12901/18433 with 2 missing, elapsed time: 60.559\n",
            "Imputing row 13001/18433 with 0 missing, elapsed time: 60.570\n",
            "Imputing row 13101/18433 with 0 missing, elapsed time: 60.583\n",
            "Imputing row 13201/18433 with 2 missing, elapsed time: 60.595\n",
            "Imputing row 13301/18433 with 0 missing, elapsed time: 60.606\n",
            "Imputing row 13401/18433 with 0 missing, elapsed time: 60.619\n",
            "Imputing row 13501/18433 with 1 missing, elapsed time: 60.630\n",
            "Imputing row 13601/18433 with 0 missing, elapsed time: 60.641\n",
            "Imputing row 13701/18433 with 0 missing, elapsed time: 60.652\n",
            "Imputing row 13801/18433 with 2 missing, elapsed time: 60.665\n",
            "Imputing row 13901/18433 with 0 missing, elapsed time: 60.675\n",
            "Imputing row 14001/18433 with 0 missing, elapsed time: 60.691\n",
            "Imputing row 14101/18433 with 0 missing, elapsed time: 60.704\n",
            "Imputing row 14201/18433 with 2 missing, elapsed time: 60.714\n",
            "Imputing row 14301/18433 with 2 missing, elapsed time: 60.726\n",
            "Imputing row 14401/18433 with 2 missing, elapsed time: 60.736\n",
            "Imputing row 14501/18433 with 2 missing, elapsed time: 60.749\n",
            "Imputing row 14601/18433 with 1 missing, elapsed time: 60.761\n",
            "Imputing row 14701/18433 with 1 missing, elapsed time: 60.773\n",
            "Imputing row 14801/18433 with 3 missing, elapsed time: 60.785\n",
            "Imputing row 14901/18433 with 2 missing, elapsed time: 60.796\n",
            "Imputing row 15001/18433 with 1 missing, elapsed time: 60.810\n",
            "Imputing row 15101/18433 with 1 missing, elapsed time: 60.822\n",
            "Imputing row 15201/18433 with 1 missing, elapsed time: 60.833\n",
            "Imputing row 15301/18433 with 2 missing, elapsed time: 60.845\n",
            "Imputing row 15401/18433 with 1 missing, elapsed time: 60.858\n",
            "Imputing row 15501/18433 with 0 missing, elapsed time: 60.869\n",
            "Imputing row 15601/18433 with 0 missing, elapsed time: 60.882\n",
            "Imputing row 15701/18433 with 1 missing, elapsed time: 60.896\n",
            "Imputing row 15801/18433 with 1 missing, elapsed time: 60.910\n",
            "Imputing row 15901/18433 with 0 missing, elapsed time: 60.924\n",
            "Imputing row 16001/18433 with 0 missing, elapsed time: 60.935\n",
            "Imputing row 16101/18433 with 0 missing, elapsed time: 60.947\n",
            "Imputing row 16201/18433 with 2 missing, elapsed time: 60.958\n",
            "Imputing row 16301/18433 with 2 missing, elapsed time: 60.969\n",
            "Imputing row 16401/18433 with 1 missing, elapsed time: 60.980\n",
            "Imputing row 16501/18433 with 0 missing, elapsed time: 60.992\n",
            "Imputing row 16601/18433 with 2 missing, elapsed time: 61.002\n",
            "Imputing row 16701/18433 with 0 missing, elapsed time: 61.013\n",
            "Imputing row 16801/18433 with 0 missing, elapsed time: 61.024\n",
            "Imputing row 16901/18433 with 1 missing, elapsed time: 61.036\n",
            "Imputing row 17001/18433 with 1 missing, elapsed time: 61.048\n",
            "Imputing row 17101/18433 with 0 missing, elapsed time: 61.060\n",
            "Imputing row 17201/18433 with 1 missing, elapsed time: 61.073\n",
            "Imputing row 17301/18433 with 0 missing, elapsed time: 61.086\n",
            "Imputing row 17401/18433 with 1 missing, elapsed time: 61.096\n",
            "Imputing row 17501/18433 with 1 missing, elapsed time: 61.111\n",
            "Imputing row 17601/18433 with 3 missing, elapsed time: 61.125\n",
            "Imputing row 17701/18433 with 1 missing, elapsed time: 61.139\n",
            "Imputing row 17801/18433 with 0 missing, elapsed time: 61.151\n",
            "Imputing row 17901/18433 with 0 missing, elapsed time: 61.162\n",
            "Imputing row 18001/18433 with 0 missing, elapsed time: 61.177\n",
            "Imputing row 18101/18433 with 2 missing, elapsed time: 61.187\n",
            "Imputing row 18201/18433 with 2 missing, elapsed time: 61.201\n",
            "Imputing row 18301/18433 with 1 missing, elapsed time: 61.215\n",
            "Imputing row 18401/18433 with 3 missing, elapsed time: 61.228\n"
          ],
          "name": "stdout"
        }
      ]
    },
    {
      "cell_type": "code",
      "metadata": {
        "colab": {
          "base_uri": "https://localhost:8080/",
          "height": 206
        },
        "id": "_sr5HfwG9RvW",
        "outputId": "0d7a9076-d0ff-4bd2-c083-e874d0d26a99"
      },
      "source": [
        "# Transformando o numpy ndarray em um pandas dataframe\n",
        "\n",
        "df2 = pd.DataFrame(data=df_knn[0:,0:],columns=['Sex','Age','BodyweightKg','TotalKg','Best3SquatKg','Best3BenchKg','Best3DeadliftKg'])\n",
        "df2.head()"
      ],
      "execution_count": 34,
      "outputs": [
        {
          "output_type": "execute_result",
          "data": {
            "text/html": [
              "<div>\n",
              "<style scoped>\n",
              "    .dataframe tbody tr th:only-of-type {\n",
              "        vertical-align: middle;\n",
              "    }\n",
              "\n",
              "    .dataframe tbody tr th {\n",
              "        vertical-align: top;\n",
              "    }\n",
              "\n",
              "    .dataframe thead th {\n",
              "        text-align: right;\n",
              "    }\n",
              "</style>\n",
              "<table border=\"1\" class=\"dataframe\">\n",
              "  <thead>\n",
              "    <tr style=\"text-align: right;\">\n",
              "      <th></th>\n",
              "      <th>Sex</th>\n",
              "      <th>Age</th>\n",
              "      <th>BodyweightKg</th>\n",
              "      <th>TotalKg</th>\n",
              "      <th>Best3SquatKg</th>\n",
              "      <th>Best3BenchKg</th>\n",
              "      <th>Best3DeadliftKg</th>\n",
              "    </tr>\n",
              "  </thead>\n",
              "  <tbody>\n",
              "    <tr>\n",
              "      <th>0</th>\n",
              "      <td>1.0</td>\n",
              "      <td>18.000000</td>\n",
              "      <td>88.0</td>\n",
              "      <td>517.50</td>\n",
              "      <td>167.500000</td>\n",
              "      <td>122.500000</td>\n",
              "      <td>227.500000</td>\n",
              "    </tr>\n",
              "    <tr>\n",
              "      <th>1</th>\n",
              "      <td>1.0</td>\n",
              "      <td>46.000000</td>\n",
              "      <td>82.2</td>\n",
              "      <td>180.00</td>\n",
              "      <td>163.528916</td>\n",
              "      <td>180.000000</td>\n",
              "      <td>181.355901</td>\n",
              "    </tr>\n",
              "    <tr>\n",
              "      <th>2</th>\n",
              "      <td>1.0</td>\n",
              "      <td>14.000000</td>\n",
              "      <td>44.0</td>\n",
              "      <td>70.31</td>\n",
              "      <td>61.432536</td>\n",
              "      <td>70.281755</td>\n",
              "      <td>70.310000</td>\n",
              "    </tr>\n",
              "    <tr>\n",
              "      <th>3</th>\n",
              "      <td>1.0</td>\n",
              "      <td>27.995064</td>\n",
              "      <td>92.9</td>\n",
              "      <td>519.36</td>\n",
              "      <td>204.120000</td>\n",
              "      <td>129.270000</td>\n",
              "      <td>185.970000</td>\n",
              "    </tr>\n",
              "    <tr>\n",
              "      <th>4</th>\n",
              "      <td>1.0</td>\n",
              "      <td>46.228441</td>\n",
              "      <td>90.0</td>\n",
              "      <td>145.15</td>\n",
              "      <td>152.871571</td>\n",
              "      <td>145.150000</td>\n",
              "      <td>145.092768</td>\n",
              "    </tr>\n",
              "  </tbody>\n",
              "</table>\n",
              "</div>"
            ],
            "text/plain": [
              "   Sex        Age  BodyweightKg  ...  Best3SquatKg  Best3BenchKg  Best3DeadliftKg\n",
              "0  1.0  18.000000          88.0  ...    167.500000    122.500000       227.500000\n",
              "1  1.0  46.000000          82.2  ...    163.528916    180.000000       181.355901\n",
              "2  1.0  14.000000          44.0  ...     61.432536     70.281755        70.310000\n",
              "3  1.0  27.995064          92.9  ...    204.120000    129.270000       185.970000\n",
              "4  1.0  46.228441          90.0  ...    152.871571    145.150000       145.092768\n",
              "\n",
              "[5 rows x 7 columns]"
            ]
          },
          "metadata": {
            "tags": []
          },
          "execution_count": 34
        }
      ]
    },
    {
      "cell_type": "code",
      "metadata": {
        "colab": {
          "base_uri": "https://localhost:8080/",
          "height": 206
        },
        "id": "gWUhVm_PAdGf",
        "outputId": "bb1cc216-9027-42be-a3a9-5fe629c19c8d"
      },
      "source": [
        "df.loc[mask, ['Sex','Age','BodyweightKg','TotalKg','Best3SquatKg','Best3BenchKg','Best3DeadliftKg']].head()"
      ],
      "execution_count": 35,
      "outputs": [
        {
          "output_type": "execute_result",
          "data": {
            "text/html": [
              "<div>\n",
              "<style scoped>\n",
              "    .dataframe tbody tr th:only-of-type {\n",
              "        vertical-align: middle;\n",
              "    }\n",
              "\n",
              "    .dataframe tbody tr th {\n",
              "        vertical-align: top;\n",
              "    }\n",
              "\n",
              "    .dataframe thead th {\n",
              "        text-align: right;\n",
              "    }\n",
              "</style>\n",
              "<table border=\"1\" class=\"dataframe\">\n",
              "  <thead>\n",
              "    <tr style=\"text-align: right;\">\n",
              "      <th></th>\n",
              "      <th>Sex</th>\n",
              "      <th>Age</th>\n",
              "      <th>BodyweightKg</th>\n",
              "      <th>TotalKg</th>\n",
              "      <th>Best3SquatKg</th>\n",
              "      <th>Best3BenchKg</th>\n",
              "      <th>Best3DeadliftKg</th>\n",
              "    </tr>\n",
              "  </thead>\n",
              "  <tbody>\n",
              "    <tr>\n",
              "      <th>0</th>\n",
              "      <td>1</td>\n",
              "      <td>18.0</td>\n",
              "      <td>88.0</td>\n",
              "      <td>517.50</td>\n",
              "      <td>167.50</td>\n",
              "      <td>122.50</td>\n",
              "      <td>227.50</td>\n",
              "    </tr>\n",
              "    <tr>\n",
              "      <th>1</th>\n",
              "      <td>1</td>\n",
              "      <td>46.0</td>\n",
              "      <td>82.2</td>\n",
              "      <td>180.00</td>\n",
              "      <td>NaN</td>\n",
              "      <td>180.00</td>\n",
              "      <td>NaN</td>\n",
              "    </tr>\n",
              "    <tr>\n",
              "      <th>2</th>\n",
              "      <td>1</td>\n",
              "      <td>14.0</td>\n",
              "      <td>44.0</td>\n",
              "      <td>70.31</td>\n",
              "      <td>NaN</td>\n",
              "      <td>NaN</td>\n",
              "      <td>70.31</td>\n",
              "    </tr>\n",
              "    <tr>\n",
              "      <th>3</th>\n",
              "      <td>1</td>\n",
              "      <td>NaN</td>\n",
              "      <td>92.9</td>\n",
              "      <td>519.36</td>\n",
              "      <td>204.12</td>\n",
              "      <td>129.27</td>\n",
              "      <td>185.97</td>\n",
              "    </tr>\n",
              "    <tr>\n",
              "      <th>4</th>\n",
              "      <td>1</td>\n",
              "      <td>NaN</td>\n",
              "      <td>90.0</td>\n",
              "      <td>145.15</td>\n",
              "      <td>NaN</td>\n",
              "      <td>145.15</td>\n",
              "      <td>NaN</td>\n",
              "    </tr>\n",
              "  </tbody>\n",
              "</table>\n",
              "</div>"
            ],
            "text/plain": [
              "   Sex   Age  BodyweightKg  ...  Best3SquatKg  Best3BenchKg  Best3DeadliftKg\n",
              "0    1  18.0          88.0  ...        167.50        122.50           227.50\n",
              "1    1  46.0          82.2  ...           NaN        180.00              NaN\n",
              "2    1  14.0          44.0  ...           NaN           NaN            70.31\n",
              "3    1   NaN          92.9  ...        204.12        129.27           185.97\n",
              "4    1   NaN          90.0  ...           NaN        145.15              NaN\n",
              "\n",
              "[5 rows x 7 columns]"
            ]
          },
          "metadata": {
            "tags": []
          },
          "execution_count": 35
        }
      ]
    },
    {
      "cell_type": "code",
      "metadata": {
        "id": "tWycVLouA6Os"
      },
      "source": [
        "# Note que todos os dados nulos foram imputados, inclusive os de colunas diferentes de 'Age'. \n",
        "# No entanto, como so queremos imputar 'Age', aplicaremos o seguinte comando\n",
        "\n",
        "df.loc[mask, 'Age'] = df2['Age'] "
      ],
      "execution_count": 36,
      "outputs": []
    },
    {
      "cell_type": "code",
      "metadata": {
        "colab": {
          "base_uri": "https://localhost:8080/",
          "height": 365
        },
        "id": "nI89LOT5BGQo",
        "outputId": "684cee5a-4907-4e0e-9d02-ad62993d8a4c"
      },
      "source": [
        "df.loc[mask].head()"
      ],
      "execution_count": 37,
      "outputs": [
        {
          "output_type": "execute_result",
          "data": {
            "text/html": [
              "<div>\n",
              "<style scoped>\n",
              "    .dataframe tbody tr th:only-of-type {\n",
              "        vertical-align: middle;\n",
              "    }\n",
              "\n",
              "    .dataframe tbody tr th {\n",
              "        vertical-align: top;\n",
              "    }\n",
              "\n",
              "    .dataframe thead th {\n",
              "        text-align: right;\n",
              "    }\n",
              "</style>\n",
              "<table border=\"1\" class=\"dataframe\">\n",
              "  <thead>\n",
              "    <tr style=\"text-align: right;\">\n",
              "      <th></th>\n",
              "      <th>Unnamed: 0</th>\n",
              "      <th>Name</th>\n",
              "      <th>Sex</th>\n",
              "      <th>Event</th>\n",
              "      <th>Equipment</th>\n",
              "      <th>Age</th>\n",
              "      <th>AgeClass</th>\n",
              "      <th>Division</th>\n",
              "      <th>BodyweightKg</th>\n",
              "      <th>WeightClassKg</th>\n",
              "      <th>Squat1Kg</th>\n",
              "      <th>Squat2Kg</th>\n",
              "      <th>Squat3Kg</th>\n",
              "      <th>Best3SquatKg</th>\n",
              "      <th>Bench1Kg</th>\n",
              "      <th>Bench2Kg</th>\n",
              "      <th>Bench3Kg</th>\n",
              "      <th>Best3BenchKg</th>\n",
              "      <th>Deadlift1Kg</th>\n",
              "      <th>Deadlift2Kg</th>\n",
              "      <th>Deadlift3Kg</th>\n",
              "      <th>Best3DeadliftKg</th>\n",
              "      <th>TotalKg</th>\n",
              "      <th>Place</th>\n",
              "      <th>Wilks</th>\n",
              "      <th>McCulloch</th>\n",
              "      <th>Glossbrenner</th>\n",
              "      <th>IPFPoints</th>\n",
              "      <th>Tested</th>\n",
              "      <th>Country</th>\n",
              "      <th>Federation</th>\n",
              "      <th>Date</th>\n",
              "      <th>MeetCountry</th>\n",
              "      <th>MeetState</th>\n",
              "      <th>MeetName</th>\n",
              "      <th>Best3SquatKg_norm</th>\n",
              "      <th>Best3BenchKg_norm</th>\n",
              "      <th>Best3DeadliftKg_norm</th>\n",
              "      <th>TotalKg_norm</th>\n",
              "      <th>BodyweightKg_norm</th>\n",
              "      <th>IPFPoints_norm</th>\n",
              "    </tr>\n",
              "  </thead>\n",
              "  <tbody>\n",
              "    <tr>\n",
              "      <th>0</th>\n",
              "      <td>692083</td>\n",
              "      <td>Hayden Fulwood</td>\n",
              "      <td>1</td>\n",
              "      <td>SBD</td>\n",
              "      <td>Raw</td>\n",
              "      <td>18.000000</td>\n",
              "      <td>18-19</td>\n",
              "      <td>MR-T3</td>\n",
              "      <td>88.0</td>\n",
              "      <td>90</td>\n",
              "      <td>NaN</td>\n",
              "      <td>NaN</td>\n",
              "      <td>NaN</td>\n",
              "      <td>167.50</td>\n",
              "      <td>NaN</td>\n",
              "      <td>NaN</td>\n",
              "      <td>NaN</td>\n",
              "      <td>122.50</td>\n",
              "      <td>NaN</td>\n",
              "      <td>NaN</td>\n",
              "      <td>NaN</td>\n",
              "      <td>227.50</td>\n",
              "      <td>517.50</td>\n",
              "      <td>1</td>\n",
              "      <td>334.25</td>\n",
              "      <td>354.31</td>\n",
              "      <td>322.27</td>\n",
              "      <td>482.79</td>\n",
              "      <td>Yes</td>\n",
              "      <td>USA</td>\n",
              "      <td>USAPL</td>\n",
              "      <td>2013-04-27</td>\n",
              "      <td>USA</td>\n",
              "      <td>AL</td>\n",
              "      <td>S.E HS State Wars</td>\n",
              "      <td>-0.385417</td>\n",
              "      <td>-0.528924</td>\n",
              "      <td>0.080000</td>\n",
              "      <td>-0.156780</td>\n",
              "      <td>-0.411065</td>\n",
              "      <td>-0.206464</td>\n",
              "    </tr>\n",
              "    <tr>\n",
              "      <th>1</th>\n",
              "      <td>621012</td>\n",
              "      <td>Jozef Slimák</td>\n",
              "      <td>1</td>\n",
              "      <td>B</td>\n",
              "      <td>Multi-ply</td>\n",
              "      <td>46.000000</td>\n",
              "      <td>45-49</td>\n",
              "      <td>M-M2</td>\n",
              "      <td>82.2</td>\n",
              "      <td>82.5</td>\n",
              "      <td>NaN</td>\n",
              "      <td>NaN</td>\n",
              "      <td>NaN</td>\n",
              "      <td>NaN</td>\n",
              "      <td>165.0</td>\n",
              "      <td>180.0</td>\n",
              "      <td>-190.0</td>\n",
              "      <td>180.00</td>\n",
              "      <td>NaN</td>\n",
              "      <td>NaN</td>\n",
              "      <td>NaN</td>\n",
              "      <td>NaN</td>\n",
              "      <td>180.00</td>\n",
              "      <td>1</td>\n",
              "      <td>120.85</td>\n",
              "      <td>129.06</td>\n",
              "      <td>116.68</td>\n",
              "      <td>571.78</td>\n",
              "      <td>NaN</td>\n",
              "      <td>Slovakia</td>\n",
              "      <td>WPC</td>\n",
              "      <td>2012-11-06</td>\n",
              "      <td>USA</td>\n",
              "      <td>NV</td>\n",
              "      <td>World Championships</td>\n",
              "      <td>NaN</td>\n",
              "      <td>-0.280420</td>\n",
              "      <td>NaN</td>\n",
              "      <td>-0.728814</td>\n",
              "      <td>-0.464106</td>\n",
              "      <td>-0.037484</td>\n",
              "    </tr>\n",
              "    <tr>\n",
              "      <th>2</th>\n",
              "      <td>164449</td>\n",
              "      <td>Chase Garrett</td>\n",
              "      <td>1</td>\n",
              "      <td>D</td>\n",
              "      <td>Raw</td>\n",
              "      <td>14.000000</td>\n",
              "      <td>13-15</td>\n",
              "      <td>Teenage 13-15</td>\n",
              "      <td>44.0</td>\n",
              "      <td>44</td>\n",
              "      <td>NaN</td>\n",
              "      <td>NaN</td>\n",
              "      <td>NaN</td>\n",
              "      <td>NaN</td>\n",
              "      <td>NaN</td>\n",
              "      <td>NaN</td>\n",
              "      <td>NaN</td>\n",
              "      <td>NaN</td>\n",
              "      <td>NaN</td>\n",
              "      <td>NaN</td>\n",
              "      <td>NaN</td>\n",
              "      <td>70.31</td>\n",
              "      <td>70.31</td>\n",
              "      <td>1</td>\n",
              "      <td>83.29</td>\n",
              "      <td>98.28</td>\n",
              "      <td>82.94</td>\n",
              "      <td>212.28</td>\n",
              "      <td>NaN</td>\n",
              "      <td>NaN</td>\n",
              "      <td>SPF</td>\n",
              "      <td>2008-12-06</td>\n",
              "      <td>USA</td>\n",
              "      <td>NaN</td>\n",
              "      <td>Body by George Classic</td>\n",
              "      <td>NaN</td>\n",
              "      <td>NaN</td>\n",
              "      <td>-0.758347</td>\n",
              "      <td>-0.914729</td>\n",
              "      <td>-0.813443</td>\n",
              "      <td>-0.720126</td>\n",
              "    </tr>\n",
              "    <tr>\n",
              "      <th>3</th>\n",
              "      <td>353419</td>\n",
              "      <td>Edgar Rodea</td>\n",
              "      <td>1</td>\n",
              "      <td>SBD</td>\n",
              "      <td>Single-ply</td>\n",
              "      <td>27.995064</td>\n",
              "      <td>NaN</td>\n",
              "      <td>Boys</td>\n",
              "      <td>92.9</td>\n",
              "      <td>99.7</td>\n",
              "      <td>NaN</td>\n",
              "      <td>NaN</td>\n",
              "      <td>NaN</td>\n",
              "      <td>204.12</td>\n",
              "      <td>NaN</td>\n",
              "      <td>NaN</td>\n",
              "      <td>NaN</td>\n",
              "      <td>129.27</td>\n",
              "      <td>NaN</td>\n",
              "      <td>NaN</td>\n",
              "      <td>NaN</td>\n",
              "      <td>185.97</td>\n",
              "      <td>519.36</td>\n",
              "      <td>1</td>\n",
              "      <td>326.42</td>\n",
              "      <td>326.42</td>\n",
              "      <td>314.34</td>\n",
              "      <td>420.04</td>\n",
              "      <td>Yes</td>\n",
              "      <td>NaN</td>\n",
              "      <td>THSPA</td>\n",
              "      <td>2017-01-28</td>\n",
              "      <td>USA</td>\n",
              "      <td>TX</td>\n",
              "      <td>Santo Meet</td>\n",
              "      <td>-0.232833</td>\n",
              "      <td>-0.499665</td>\n",
              "      <td>-0.141493</td>\n",
              "      <td>-0.153627</td>\n",
              "      <td>-0.366255</td>\n",
              "      <td>-0.325618</td>\n",
              "    </tr>\n",
              "    <tr>\n",
              "      <th>4</th>\n",
              "      <td>128144</td>\n",
              "      <td>K. Kaufman</td>\n",
              "      <td>1</td>\n",
              "      <td>B</td>\n",
              "      <td>Raw</td>\n",
              "      <td>46.228441</td>\n",
              "      <td>NaN</td>\n",
              "      <td>Open</td>\n",
              "      <td>90.0</td>\n",
              "      <td>90</td>\n",
              "      <td>NaN</td>\n",
              "      <td>NaN</td>\n",
              "      <td>NaN</td>\n",
              "      <td>NaN</td>\n",
              "      <td>NaN</td>\n",
              "      <td>NaN</td>\n",
              "      <td>NaN</td>\n",
              "      <td>145.15</td>\n",
              "      <td>NaN</td>\n",
              "      <td>NaN</td>\n",
              "      <td>NaN</td>\n",
              "      <td>NaN</td>\n",
              "      <td>145.15</td>\n",
              "      <td>6</td>\n",
              "      <td>92.66</td>\n",
              "      <td>92.66</td>\n",
              "      <td>89.30</td>\n",
              "      <td>558.46</td>\n",
              "      <td>NaN</td>\n",
              "      <td>NaN</td>\n",
              "      <td>USPF</td>\n",
              "      <td>1979-12-08</td>\n",
              "      <td>USA</td>\n",
              "      <td>ND</td>\n",
              "      <td>3rd Annual Midwestern Bench Press Championships</td>\n",
              "      <td>NaN</td>\n",
              "      <td>-0.431035</td>\n",
              "      <td>NaN</td>\n",
              "      <td>-0.787881</td>\n",
              "      <td>-0.392775</td>\n",
              "      <td>-0.062777</td>\n",
              "    </tr>\n",
              "  </tbody>\n",
              "</table>\n",
              "</div>"
            ],
            "text/plain": [
              "   Unnamed: 0            Name  ...  BodyweightKg_norm IPFPoints_norm\n",
              "0      692083  Hayden Fulwood  ...          -0.411065      -0.206464\n",
              "1      621012    Jozef Slimák  ...          -0.464106      -0.037484\n",
              "2      164449   Chase Garrett  ...          -0.813443      -0.720126\n",
              "3      353419     Edgar Rodea  ...          -0.366255      -0.325618\n",
              "4      128144      K. Kaufman  ...          -0.392775      -0.062777\n",
              "\n",
              "[5 rows x 41 columns]"
            ]
          },
          "metadata": {
            "tags": []
          },
          "execution_count": 37
        }
      ]
    },
    {
      "cell_type": "code",
      "metadata": {
        "colab": {
          "base_uri": "https://localhost:8080/"
        },
        "id": "_b_e5w0QC8uB",
        "outputId": "04fa7624-fbc9-4f0f-ce84-cc330e63b150"
      },
      "source": [
        "df.isnull().sum(axis = 0)/len(df)"
      ],
      "execution_count": 38,
      "outputs": [
        {
          "output_type": "execute_result",
          "data": {
            "text/plain": [
              "Unnamed: 0              0.000000\n",
              "Name                    0.000000\n",
              "Sex                     0.000000\n",
              "Event                   0.000000\n",
              "Equipment               0.000000\n",
              "Age                     0.078062\n",
              "AgeClass                0.436693\n",
              "Division                0.004882\n",
              "BodyweightKg            0.006455\n",
              "WeightClassKg           0.003526\n",
              "Squat1Kg                0.757893\n",
              "Squat2Kg                0.760334\n",
              "Squat3Kg                0.766735\n",
              "Best3SquatKg            0.243789\n",
              "Bench1Kg                0.639308\n",
              "Bench2Kg                0.642671\n",
              "Bench3Kg                0.652490\n",
              "Best3BenchKg            0.045948\n",
              "Deadlift1Kg             0.735218\n",
              "Deadlift2Kg             0.738961\n",
              "Deadlift3Kg             0.749539\n",
              "Best3DeadliftKg         0.188890\n",
              "TotalKg                 0.000000\n",
              "Place                   0.000000\n",
              "Wilks                   0.006455\n",
              "McCulloch               0.006564\n",
              "Glossbrenner            0.006455\n",
              "IPFPoints               0.029619\n",
              "Tested                  0.231746\n",
              "Country                 0.720896\n",
              "Federation              0.000000\n",
              "Date                    0.000000\n",
              "MeetCountry             0.000000\n",
              "MeetState               0.345828\n",
              "MeetName                0.000000\n",
              "Best3SquatKg_norm       0.243789\n",
              "Best3BenchKg_norm       0.045948\n",
              "Best3DeadliftKg_norm    0.188890\n",
              "TotalKg_norm            0.000000\n",
              "BodyweightKg_norm       0.006455\n",
              "IPFPoints_norm          0.029619\n",
              "dtype: float64"
            ]
          },
          "metadata": {
            "tags": []
          },
          "execution_count": 38
        }
      ]
    },
    {
      "cell_type": "markdown",
      "metadata": {
        "id": "zvgMgoxg3Xd_"
      },
      "source": [
        "Assim, podemos ver que  os dados nulos da coluna `Age` foram imputados com sucesso. Os casos mostrados acima em que `Age` ainda é nula são os registros que não cumpriram com a exigência para a imputação, citada anteriormente. Agora vamos avaliar a qualidade da nossa imputação a partir de valores de tendência."
      ]
    },
    {
      "cell_type": "code",
      "metadata": {
        "colab": {
          "base_uri": "https://localhost:8080/"
        },
        "id": "9IQfdrzoECdo",
        "outputId": "1d405ab3-ddfa-48cf-cacd-28eb0c9465f3"
      },
      "source": [
        "df_before['Age'].describe()"
      ],
      "execution_count": 39,
      "outputs": [
        {
          "output_type": "execute_result",
          "data": {
            "text/plain": [
              "count    9977.000000\n",
              "mean       31.404781\n",
              "std        13.479156\n",
              "min         0.500000\n",
              "25%        21.000000\n",
              "50%        27.500000\n",
              "75%        39.500000\n",
              "max        90.000000\n",
              "Name: Age, dtype: float64"
            ]
          },
          "metadata": {
            "tags": []
          },
          "execution_count": 39
        }
      ]
    },
    {
      "cell_type": "code",
      "metadata": {
        "id": "fMgmrU16JdML",
        "colab": {
          "base_uri": "https://localhost:8080/"
        },
        "outputId": "348b5e66-25d4-4c3d-f2f3-a5c079217b88"
      },
      "source": [
        "df['Age'].describe() # Podemos alterar k para tentar obter um resultado mais proximo dos valores de tendencia anteriores"
      ],
      "execution_count": 40,
      "outputs": [
        {
          "output_type": "execute_result",
          "data": {
            "text/plain": [
              "count    16995.000000\n",
              "mean        30.368473\n",
              "std         11.647253\n",
              "min          0.500000\n",
              "25%         21.711754\n",
              "50%         27.500000\n",
              "75%         36.417159\n",
              "max         90.000000\n",
              "Name: Age, dtype: float64"
            ]
          },
          "metadata": {
            "tags": []
          },
          "execution_count": 40
        }
      ]
    },
    {
      "cell_type": "markdown",
      "metadata": {
        "id": "kT8fPTSIENBN"
      },
      "source": [
        "Percebe-se que as pequenas mudanças que ocorreram nos valores de tendência foram, em sua maioria, \"para baixo\". Isso nos induz a pensar que a maioria dos dados imputados foi para registros com idade prevista abaixo da média. Podemos ter uma melhor ideia da distribuição dos dados a partir da *discretização*. "
      ]
    },
    {
      "cell_type": "markdown",
      "metadata": {
        "id": "vQSGA8_B_nug"
      },
      "source": [
        "## Discretização"
      ]
    },
    {
      "cell_type": "markdown",
      "metadata": {
        "id": "WRMvi582jamr"
      },
      "source": [
        "Discretização, como o nome indica, é o processo de interpretar variáveis contínuas de forma discreta. Isso é feito dividindo os valores em intervalos (ou *bins*). Essa estratégia é útil quando queremos correlacionar diferentes atributos utilizando algoritmos específicos (alguns só trabalham com dados discretizados) ou simplesmente queremos visualizar os dados de uma maneira mais acessível.\n",
        "\n",
        "Na discretização não-supervisionada, os intervalos podem ser determinados por frequência ou pelo tamanho dos intervalos. A seguir são exibidos alguns exemplos."
      ]
    },
    {
      "cell_type": "markdown",
      "metadata": {
        "id": "Ch1e4sdCcCwI"
      },
      "source": [
        "### Discretização Não-Supervisionada com mesmo Intervalo de `Age`"
      ]
    },
    {
      "cell_type": "code",
      "metadata": {
        "colab": {
          "base_uri": "https://localhost:8080/",
          "height": 338
        },
        "id": "GKe41EWaPTyq",
        "outputId": "32ea45d3-ffa7-4d88-f14a-9b4f16b336de"
      },
      "source": [
        "plt.hist(df['Age'], bins=7, histtype='bar')"
      ],
      "execution_count": 59,
      "outputs": [
        {
          "output_type": "execute_result",
          "data": {
            "text/plain": [
              "(array([  87., 7440., 5970., 2442.,  835.,  198.,   23.]),\n",
              " array([ 0.5       , 13.28571429, 26.07142857, 38.85714286, 51.64285714,\n",
              "        64.42857143, 77.21428571, 90.        ]),\n",
              " <a list of 7 Patch objects>)"
            ]
          },
          "metadata": {
            "tags": []
          },
          "execution_count": 59
        },
        {
          "output_type": "display_data",
          "data": {
            "image/png": "[encoded data removed]",
            "text/plain": [
              "<Figure size 432x288 with 1 Axes>"
            ]
          },
          "metadata": {
            "tags": [],
            "needs_background": "light"
          }
        }
      ]
    },
    {
      "cell_type": "markdown",
      "metadata": {
        "id": "Eankw6XCcPY-"
      },
      "source": [
        "### Discretização Não-Supervisionada com mesmo Intervalo de `IPFPoints`"
      ]
    },
    {
      "cell_type": "code",
      "metadata": {
        "id": "aLvkW4o1sHlJ",
        "colab": {
          "base_uri": "https://localhost:8080/",
          "height": 356
        },
        "outputId": "b46fa6ac-9d4f-4e58-8c49-366f21fb3c1d"
      },
      "source": [
        "plt.hist(df['IPFPoints'])"
      ],
      "execution_count": 61,
      "outputs": [
        {
          "output_type": "execute_result",
          "data": {
            "text/plain": [
              "(array([  26.,  271., 3045., 6104., 5339., 2430.,  574.,   73.,   17.,\n",
              "           9.]),\n",
              " array([  64.89 ,  170.216,  275.542,  380.868,  486.194,  591.52 ,\n",
              "         696.846,  802.172,  907.498, 1012.824, 1118.15 ]),\n",
              " <a list of 10 Patch objects>)"
            ]
          },
          "metadata": {
            "tags": []
          },
          "execution_count": 61
        },
        {
          "output_type": "display_data",
          "data": {
            "image/png": "[encoded data removed]",
            "text/plain": [
              "<Figure size 432x288 with 1 Axes>"
            ]
          },
          "metadata": {
            "tags": [],
            "needs_background": "light"
          }
        }
      ]
    },
    {
      "cell_type": "markdown",
      "metadata": {
        "id": "dotdI2f3cTE4"
      },
      "source": [
        "### Discretização Não-Supervisionada com mesma Frequência de `TotalKg`"
      ]
    },
    {
      "cell_type": "code",
      "metadata": {
        "colab": {
          "base_uri": "https://localhost:8080/",
          "height": 357
        },
        "id": "FpcHP4URUnoR",
        "outputId": "15f21c61-0ad0-4b74-8a1a-4126875f0864"
      },
      "source": [
        "df['TotalKg_disc'] = pd.qcut(df['TotalKg'],10)\n",
        "df['TotalKg_disc'] = df['TotalKg_disc'].astype('string')\n",
        "plt.hist(df['TotalKg_disc'])\n",
        "plt.xticks(rotation=90)\n",
        "plt.show"
      ],
      "execution_count": 145,
      "outputs": [
        {
          "output_type": "execute_result",
          "data": {
            "text/plain": [
              "<function matplotlib.pyplot.show>"
            ]
          },
          "metadata": {
            "tags": []
          },
          "execution_count": 145
        },
        {
          "output_type": "display_data",
          "data": {
            "image/png": "[encoded data removed]",
            "text/plain": [
              "<Figure size 432x288 with 1 Axes>"
            ]
          },
          "metadata": {
            "tags": [],
            "needs_background": "light"
          }
        }
      ]
    },
    {
      "cell_type": "markdown",
      "metadata": {
        "id": "UIjAgoGG_rNe"
      },
      "source": [
        "## Limpeza de Dados"
      ]
    },
    {
      "cell_type": "markdown",
      "metadata": {
        "id": "J8nThhD1K-sN"
      },
      "source": [
        "A Limpeza dos Dados é a subetapa do Pré-Processamento que analisa, de fato, a consistência dos dados. Esta subeta é responsável por estudar casos em que os dados estejam muito dicrepantes do esperado ou tenham um eventual erro de entrada ou de coleta. \n",
        "\n",
        "Vamos averiguar os dados tanto individualmente (métodos de detecção univariados) quanto em conjunto (métodos de detecção multivariados)."
      ]
    },
    {
      "cell_type": "markdown",
      "metadata": {
        "id": "tSZH-OXrM17z"
      },
      "source": [
        "### Univariado"
      ]
    },
    {
      "cell_type": "code",
      "metadata": {
        "id": "au048BQiNUcQ",
        "colab": {
          "base_uri": "https://localhost:8080/"
        },
        "outputId": "5c3b6e68-f726-47e4-9537-a4bb04b84943"
      },
      "source": [
        "df.dtypes"
      ],
      "execution_count": null,
      "outputs": [
        {
          "output_type": "execute_result",
          "data": {
            "text/plain": [
              "Unnamed: 0                 int64\n",
              "Name                      string\n",
              "Sex                         int8\n",
              "Event                   category\n",
              "Equipment               category\n",
              "Age                      float64\n",
              "AgeClass                category\n",
              "Division                category\n",
              "BodyweightKg             float64\n",
              "WeightClassKg           category\n",
              "Squat1Kg                 float64\n",
              "Squat2Kg                 float64\n",
              "Squat3Kg                 float64\n",
              "Best3SquatKg             float64\n",
              "Bench1Kg                 float64\n",
              "Bench2Kg                 float64\n",
              "Bench3Kg                 float64\n",
              "Best3BenchKg             float64\n",
              "Deadlift1Kg              float64\n",
              "Deadlift2Kg              float64\n",
              "Deadlift3Kg              float64\n",
              "Best3DeadliftKg          float64\n",
              "TotalKg                  float64\n",
              "Place                   category\n",
              "Wilks                    float64\n",
              "McCulloch                float64\n",
              "Glossbrenner             float64\n",
              "IPFPoints                float64\n",
              "Tested                  category\n",
              "Country                 category\n",
              "Federation              category\n",
              "Date                    category\n",
              "MeetCountry             category\n",
              "MeetState               category\n",
              "MeetName                category\n",
              "Best3SquatKg_norm        float64\n",
              "Best3BenchKg_norm        float64\n",
              "Best3DeadliftKg_norm     float64\n",
              "TotalKg_norm             float64\n",
              "BodyweightKg_norm        float64\n",
              "IPFPoints_norm           float64\n",
              "dtype: object"
            ]
          },
          "metadata": {
            "tags": []
          },
          "execution_count": 49
        }
      ]
    },
    {
      "cell_type": "markdown",
      "metadata": {
        "id": "tyzMo7vokt5D"
      },
      "source": [
        "Observando as colunas do nosso dataframe, percebemos alguns dados que são passíveis de erro de entrada, que é um dos tipos de erros que buscamos tratar. Dessa forma, vamos fazer a análise univariada das colunas `Age`, `BodyweightKg`, `Best3SquatKg`, `Best3BenchKg`, `Best3DeadlifttKg` e `TotalKg` usando o método de Tukey. "
      ]
    },
    {
      "cell_type": "markdown",
      "metadata": {
        "id": "30XXhUB6OYZW"
      },
      "source": [
        "#### `Age`"
      ]
    },
    {
      "cell_type": "markdown",
      "metadata": {
        "id": "C7QLBxc1K4Q1"
      },
      "source": [
        "Inicialmente, vamos explorar os valores de tendência desta coluna. Isso nos dará uma ideia da existência ou não de dados inesperados."
      ]
    },
    {
      "cell_type": "code",
      "metadata": {
        "id": "NqPORGZdK0BW",
        "colab": {
          "base_uri": "https://localhost:8080/"
        },
        "outputId": "c0614b91-890e-4d1a-f3b2-54633fa484c9"
      },
      "source": [
        "df['Age'].describe()"
      ],
      "execution_count": null,
      "outputs": [
        {
          "output_type": "execute_result",
          "data": {
            "text/plain": [
              "count    16995.000000\n",
              "mean        30.368473\n",
              "std         11.647253\n",
              "min          0.500000\n",
              "25%         21.711754\n",
              "50%         27.500000\n",
              "75%         36.417159\n",
              "max         90.000000\n",
              "Name: Age, dtype: float64"
            ]
          },
          "metadata": {
            "tags": []
          },
          "execution_count": 58
        }
      ]
    },
    {
      "cell_type": "code",
      "metadata": {
        "id": "TDaTUDdaLXww",
        "colab": {
          "base_uri": "https://localhost:8080/"
        },
        "outputId": "8f973f3e-7c66-45ec-c7b4-2094c2ae2131"
      },
      "source": [
        "df['AgeClass'].cat.categories"
      ],
      "execution_count": null,
      "outputs": [
        {
          "output_type": "execute_result",
          "data": {
            "text/plain": [
              "Index(['13-15', '16-17', '18-19', '20-23', '24-34', '35-39', '40-44', '45-49',\n",
              "       '5-12', '50-54', '55-59', '60-64', '65-69', '70-74', '75-79', '80-999'],\n",
              "      dtype='object')"
            ]
          },
          "metadata": {
            "tags": []
          },
          "execution_count": 60
        }
      ]
    },
    {
      "cell_type": "markdown",
      "metadata": {
        "id": "J0fGxW5_LGn9"
      },
      "source": [
        "Observe que a idade mínima registrada no dataset é de 6 meses de idade. Note, também, que a categoria de idade mais jovem presente é de 5-12 anos. Isso, juntamente com o nosso conhecimento do domínio, confirma que o registro de 0,5 anos trata-se de um erro.\n",
        "<br>\n",
        "Vamos, então, verificar a presença de registros em que `Age` é menor que 5, bem como plotar graficamente a distribuição da idade."
      ]
    },
    {
      "cell_type": "code",
      "metadata": {
        "id": "LFIAiPBXMVYW",
        "colab": {
          "base_uri": "https://localhost:8080/",
          "height": 250
        },
        "outputId": "4adbe611-0953-452a-ec31-c22f45c150ac"
      },
      "source": [
        "df[df['Age']<5]"
      ],
      "execution_count": null,
      "outputs": [
        {
          "output_type": "execute_result",
          "data": {
            "text/html": [
              "<div>\n",
              "<style scoped>\n",
              "    .dataframe tbody tr th:only-of-type {\n",
              "        vertical-align: middle;\n",
              "    }\n",
              "\n",
              "    .dataframe tbody tr th {\n",
              "        vertical-align: top;\n",
              "    }\n",
              "\n",
              "    .dataframe thead th {\n",
              "        text-align: right;\n",
              "    }\n",
              "</style>\n",
              "<table border=\"1\" class=\"dataframe\">\n",
              "  <thead>\n",
              "    <tr style=\"text-align: right;\">\n",
              "      <th></th>\n",
              "      <th>Unnamed: 0</th>\n",
              "      <th>Name</th>\n",
              "      <th>Sex</th>\n",
              "      <th>Event</th>\n",
              "      <th>Equipment</th>\n",
              "      <th>Age</th>\n",
              "      <th>AgeClass</th>\n",
              "      <th>Division</th>\n",
              "      <th>BodyweightKg</th>\n",
              "      <th>WeightClassKg</th>\n",
              "      <th>Squat1Kg</th>\n",
              "      <th>Squat2Kg</th>\n",
              "      <th>Squat3Kg</th>\n",
              "      <th>Best3SquatKg</th>\n",
              "      <th>Bench1Kg</th>\n",
              "      <th>Bench2Kg</th>\n",
              "      <th>Bench3Kg</th>\n",
              "      <th>Best3BenchKg</th>\n",
              "      <th>Deadlift1Kg</th>\n",
              "      <th>Deadlift2Kg</th>\n",
              "      <th>Deadlift3Kg</th>\n",
              "      <th>Best3DeadliftKg</th>\n",
              "      <th>TotalKg</th>\n",
              "      <th>Place</th>\n",
              "      <th>Wilks</th>\n",
              "      <th>McCulloch</th>\n",
              "      <th>Glossbrenner</th>\n",
              "      <th>IPFPoints</th>\n",
              "      <th>Tested</th>\n",
              "      <th>Country</th>\n",
              "      <th>Federation</th>\n",
              "      <th>Date</th>\n",
              "      <th>MeetCountry</th>\n",
              "      <th>MeetState</th>\n",
              "      <th>MeetName</th>\n",
              "      <th>Best3SquatKg_norm</th>\n",
              "      <th>Best3BenchKg_norm</th>\n",
              "      <th>Best3DeadliftKg_norm</th>\n",
              "      <th>TotalKg_norm</th>\n",
              "      <th>BodyweightKg_norm</th>\n",
              "      <th>IPFPoints_norm</th>\n",
              "    </tr>\n",
              "  </thead>\n",
              "  <tbody>\n",
              "    <tr>\n",
              "      <th>1853</th>\n",
              "      <td>1066171</td>\n",
              "      <td>Faith Dickson</td>\n",
              "      <td>0</td>\n",
              "      <td>SBD</td>\n",
              "      <td>Single-ply</td>\n",
              "      <td>0.500000</td>\n",
              "      <td>NaN</td>\n",
              "      <td>Girls</td>\n",
              "      <td>47.08</td>\n",
              "      <td>47.8</td>\n",
              "      <td>NaN</td>\n",
              "      <td>NaN</td>\n",
              "      <td>NaN</td>\n",
              "      <td>74.84</td>\n",
              "      <td>NaN</td>\n",
              "      <td>NaN</td>\n",
              "      <td>NaN</td>\n",
              "      <td>31.75</td>\n",
              "      <td>NaN</td>\n",
              "      <td>NaN</td>\n",
              "      <td>NaN</td>\n",
              "      <td>86.18</td>\n",
              "      <td>192.78</td>\n",
              "      <td>4</td>\n",
              "      <td>258.95</td>\n",
              "      <td>258.95</td>\n",
              "      <td>230.81</td>\n",
              "      <td>351.14</td>\n",
              "      <td>Yes</td>\n",
              "      <td>NaN</td>\n",
              "      <td>THSWPA</td>\n",
              "      <td>2015-01-17</td>\n",
              "      <td>USA</td>\n",
              "      <td>TX</td>\n",
              "      <td>SUNNYVALE INVITATIONAL</td>\n",
              "      <td>-0.77150</td>\n",
              "      <td>-0.921127</td>\n",
              "      <td>-0.673707</td>\n",
              "      <td>-0.707153</td>\n",
              "      <td>-0.785277</td>\n",
              "      <td>-0.456449</td>\n",
              "    </tr>\n",
              "    <tr>\n",
              "      <th>8445</th>\n",
              "      <td>1356135</td>\n",
              "      <td>Bill Henderson</td>\n",
              "      <td>1</td>\n",
              "      <td>SBD</td>\n",
              "      <td>Wraps</td>\n",
              "      <td>0.500000</td>\n",
              "      <td>24-34</td>\n",
              "      <td>MOR</td>\n",
              "      <td>92.50</td>\n",
              "      <td>100</td>\n",
              "      <td>180.0</td>\n",
              "      <td>-195.0</td>\n",
              "      <td>207.5</td>\n",
              "      <td>207.50</td>\n",
              "      <td>167.5</td>\n",
              "      <td>-182.5</td>\n",
              "      <td>-182.5</td>\n",
              "      <td>167.50</td>\n",
              "      <td>205.0</td>\n",
              "      <td>222.5</td>\n",
              "      <td>240.0</td>\n",
              "      <td>240.00</td>\n",
              "      <td>615.00</td>\n",
              "      <td>3</td>\n",
              "      <td>387.33</td>\n",
              "      <td>387.33</td>\n",
              "      <td>373.03</td>\n",
              "      <td>570.67</td>\n",
              "      <td>NaN</td>\n",
              "      <td>New Zealand</td>\n",
              "      <td>UPA</td>\n",
              "      <td>2017-12-09</td>\n",
              "      <td>USA</td>\n",
              "      <td>OH</td>\n",
              "      <td>Old School Iron Gym Winter Attack</td>\n",
              "      <td>-0.21875</td>\n",
              "      <td>-0.334443</td>\n",
              "      <td>0.146667</td>\n",
              "      <td>0.008475</td>\n",
              "      <td>-0.369913</td>\n",
              "      <td>-0.039591</td>\n",
              "    </tr>\n",
              "    <tr>\n",
              "      <th>12327</th>\n",
              "      <td>1187643</td>\n",
              "      <td>Tomas Ring</td>\n",
              "      <td>1</td>\n",
              "      <td>SBD</td>\n",
              "      <td>Single-ply</td>\n",
              "      <td>0.502779</td>\n",
              "      <td>55-59</td>\n",
              "      <td>Masters 2</td>\n",
              "      <td>82.40</td>\n",
              "      <td>83</td>\n",
              "      <td>NaN</td>\n",
              "      <td>NaN</td>\n",
              "      <td>NaN</td>\n",
              "      <td>207.50</td>\n",
              "      <td>NaN</td>\n",
              "      <td>NaN</td>\n",
              "      <td>NaN</td>\n",
              "      <td>197.50</td>\n",
              "      <td>NaN</td>\n",
              "      <td>NaN</td>\n",
              "      <td>NaN</td>\n",
              "      <td>180.00</td>\n",
              "      <td>585.00</td>\n",
              "      <td>2</td>\n",
              "      <td>392.18</td>\n",
              "      <td>488.66</td>\n",
              "      <td>378.62</td>\n",
              "      <td>498.37</td>\n",
              "      <td>Yes</td>\n",
              "      <td>Sweden</td>\n",
              "      <td>SSF</td>\n",
              "      <td>2017-12-08</td>\n",
              "      <td>Sweden</td>\n",
              "      <td>NaN</td>\n",
              "      <td>u/j/v-SM Styrkelyft</td>\n",
              "      <td>-0.21875</td>\n",
              "      <td>-0.204789</td>\n",
              "      <td>-0.173333</td>\n",
              "      <td>-0.042373</td>\n",
              "      <td>-0.462277</td>\n",
              "      <td>-0.176879</td>\n",
              "    </tr>\n",
              "  </tbody>\n",
              "</table>\n",
              "</div>"
            ],
            "text/plain": [
              "       Unnamed: 0            Name  ...  BodyweightKg_norm IPFPoints_norm\n",
              "1853      1066171   Faith Dickson  ...          -0.785277      -0.456449\n",
              "8445      1356135  Bill Henderson  ...          -0.369913      -0.039591\n",
              "12327     1187643      Tomas Ring  ...          -0.462277      -0.176879\n",
              "\n",
              "[3 rows x 41 columns]"
            ]
          },
          "metadata": {
            "tags": []
          },
          "execution_count": 66
        }
      ]
    },
    {
      "cell_type": "code",
      "metadata": {
        "id": "WimNd5YLOtyf",
        "colab": {
          "base_uri": "https://localhost:8080/",
          "height": 283
        },
        "outputId": "aba8c1c3-c782-472a-8e91-6a2ffbddebbf"
      },
      "source": [
        "df['Age'].plot.box()"
      ],
      "execution_count": null,
      "outputs": [
        {
          "output_type": "execute_result",
          "data": {
            "text/plain": [
              "<matplotlib.axes._subplots.AxesSubplot at 0x7f1a4cc81190>"
            ]
          },
          "metadata": {
            "tags": []
          },
          "execution_count": 67
        },
        {
          "output_type": "display_data",
          "data": {
            "image/png": "[encoded data removed]",
            "text/plain": [
              "<Figure size 432x288 with 1 Axes>"
            ]
          },
          "metadata": {
            "tags": [],
            "needs_background": "light"
          }
        }
      ]
    },
    {
      "cell_type": "markdown",
      "metadata": {
        "id": "fdV37tzENzvE"
      },
      "source": [
        "De fato, acontecem casos em que pessoas de mais de 90 anos ainda participam de eventos de powerlifting. Por isso, não excluiremos esses registros. Por outro lado, nota-se claramente que os registros com menos de 5 anos de idade foram errôneos. Essas instâncias serão removidas."
      ]
    },
    {
      "cell_type": "code",
      "metadata": {
        "id": "HiGqMqIyOUqk"
      },
      "source": [
        "df = df[df['Age']>=5]"
      ],
      "execution_count": 148,
      "outputs": []
    },
    {
      "cell_type": "code",
      "metadata": {
        "colab": {
          "base_uri": "https://localhost:8080/",
          "height": 87
        },
        "id": "ZZkyyeFaiOwj",
        "outputId": "3ff28406-3acf-4bd8-f22a-0c169fca3d2b"
      },
      "source": [
        "df[df['Age']<5]"
      ],
      "execution_count": 150,
      "outputs": [
        {
          "output_type": "execute_result",
          "data": {
            "text/html": [
              "<div>\n",
              "<style scoped>\n",
              "    .dataframe tbody tr th:only-of-type {\n",
              "        vertical-align: middle;\n",
              "    }\n",
              "\n",
              "    .dataframe tbody tr th {\n",
              "        vertical-align: top;\n",
              "    }\n",
              "\n",
              "    .dataframe thead th {\n",
              "        text-align: right;\n",
              "    }\n",
              "</style>\n",
              "<table border=\"1\" class=\"dataframe\">\n",
              "  <thead>\n",
              "    <tr style=\"text-align: right;\">\n",
              "      <th></th>\n",
              "      <th>Unnamed: 0</th>\n",
              "      <th>Name</th>\n",
              "      <th>Sex</th>\n",
              "      <th>Event</th>\n",
              "      <th>Equipment</th>\n",
              "      <th>Age</th>\n",
              "      <th>AgeClass</th>\n",
              "      <th>Division</th>\n",
              "      <th>BodyweightKg</th>\n",
              "      <th>WeightClassKg</th>\n",
              "      <th>Squat1Kg</th>\n",
              "      <th>Squat2Kg</th>\n",
              "      <th>Squat3Kg</th>\n",
              "      <th>Best3SquatKg</th>\n",
              "      <th>Bench1Kg</th>\n",
              "      <th>Bench2Kg</th>\n",
              "      <th>Bench3Kg</th>\n",
              "      <th>Best3BenchKg</th>\n",
              "      <th>Deadlift1Kg</th>\n",
              "      <th>Deadlift2Kg</th>\n",
              "      <th>Deadlift3Kg</th>\n",
              "      <th>Best3DeadliftKg</th>\n",
              "      <th>TotalKg</th>\n",
              "      <th>Place</th>\n",
              "      <th>Wilks</th>\n",
              "      <th>McCulloch</th>\n",
              "      <th>Glossbrenner</th>\n",
              "      <th>IPFPoints</th>\n",
              "      <th>Tested</th>\n",
              "      <th>Country</th>\n",
              "      <th>Federation</th>\n",
              "      <th>Date</th>\n",
              "      <th>MeetCountry</th>\n",
              "      <th>MeetState</th>\n",
              "      <th>MeetName</th>\n",
              "      <th>Best3SquatKg_norm</th>\n",
              "      <th>Best3BenchKg_norm</th>\n",
              "      <th>Best3DeadliftKg_norm</th>\n",
              "      <th>TotalKg_norm</th>\n",
              "      <th>BodyweightKg_norm</th>\n",
              "      <th>IPFPoints_norm</th>\n",
              "      <th>TotalKg_disc</th>\n",
              "    </tr>\n",
              "  </thead>\n",
              "  <tbody>\n",
              "  </tbody>\n",
              "</table>\n",
              "</div>"
            ],
            "text/plain": [
              "Empty DataFrame\n",
              "Columns: [Unnamed: 0, Name, Sex, Event, Equipment, Age, AgeClass, Division, BodyweightKg, WeightClassKg, Squat1Kg, Squat2Kg, Squat3Kg, Best3SquatKg, Bench1Kg, Bench2Kg, Bench3Kg, Best3BenchKg, Deadlift1Kg, Deadlift2Kg, Deadlift3Kg, Best3DeadliftKg, TotalKg, Place, Wilks, McCulloch, Glossbrenner, IPFPoints, Tested, Country, Federation, Date, MeetCountry, MeetState, MeetName, Best3SquatKg_norm, Best3BenchKg_norm, Best3DeadliftKg_norm, TotalKg_norm, BodyweightKg_norm, IPFPoints_norm, TotalKg_disc]\n",
              "Index: []"
            ]
          },
          "metadata": {
            "tags": []
          },
          "execution_count": 150
        }
      ]
    },
    {
      "cell_type": "markdown",
      "metadata": {
        "id": "BIXJyZr_PhrP"
      },
      "source": [
        "#### `BodyweightKg`"
      ]
    },
    {
      "cell_type": "markdown",
      "metadata": {
        "id": "N87ArdydiZ8k"
      },
      "source": [
        "Da mesma forma que o atributo anterior, vamos verificar valores de tendência para ter uma ideia sobre a coerência dos dados."
      ]
    },
    {
      "cell_type": "code",
      "metadata": {
        "colab": {
          "base_uri": "https://localhost:8080/"
        },
        "id": "KqHwlnxPim-1",
        "outputId": "75904b97-3d64-4f0e-c69f-08832a347ef0"
      },
      "source": [
        "df['BodyweightKg'].describe()"
      ],
      "execution_count": 151,
      "outputs": [
        {
          "output_type": "execute_result",
          "data": {
            "text/plain": [
              "count    16886.000000\n",
              "mean        84.216799\n",
              "std         23.193949\n",
              "min         23.600000\n",
              "25%         66.600000\n",
              "50%         81.800000\n",
              "75%         99.200000\n",
              "max        242.300000\n",
              "Name: BodyweightKg, dtype: float64"
            ]
          },
          "metadata": {
            "tags": []
          },
          "execution_count": 151
        }
      ]
    },
    {
      "cell_type": "code",
      "metadata": {
        "id": "kt7kw-c1P1Xy",
        "colab": {
          "base_uri": "https://localhost:8080/",
          "height": 284
        },
        "outputId": "d917dc0d-2399-4a5f-bc41-c7a78fbaca42"
      },
      "source": [
        "df['BodyweightKg'].plot.box()"
      ],
      "execution_count": null,
      "outputs": [
        {
          "output_type": "execute_result",
          "data": {
            "text/plain": [
              "<matplotlib.axes._subplots.AxesSubplot at 0x7fbb9b1cdf90>"
            ]
          },
          "metadata": {
            "tags": []
          },
          "execution_count": 57
        },
        {
          "output_type": "display_data",
          "data": {
            "image/png": "[encoded data removed]",
            "text/plain": [
              "<Figure size 432x288 with 1 Axes>"
            ]
          },
          "metadata": {
            "tags": [],
            "needs_background": "light"
          }
        }
      ]
    },
    {
      "cell_type": "code",
      "metadata": {
        "colab": {
          "base_uri": "https://localhost:8080/"
        },
        "id": "lsSy12TwiyC2",
        "outputId": "942afc3b-7fdb-4e5c-caf0-40b67272bc17"
      },
      "source": [
        "print('Registros com BodyweightKg maior que 150:',len(df[df['BodyweightKg']>150]))\n",
        "print('Registros com BodyweightKg maior que 165:',len(df[df['BodyweightKg']>165]))\n",
        "print('Registros com BodyweightKg maior que 180:',len(df[df['BodyweightKg']>180]))\n",
        "print('Registros com BodyweightKg maior que 200:',len(df[df['BodyweightKg']>200]))"
      ],
      "execution_count": 158,
      "outputs": [
        {
          "output_type": "stream",
          "text": [
            "Registros com BodyweightKg maior que 150: 139\n",
            "Registros com BodyweightKg maior que 165: 40\n",
            "Registros com BodyweightKg maior que 180: 12\n",
            "Registros com BodyweightKg maior que 200: 3\n"
          ],
          "name": "stdout"
        }
      ]
    },
    {
      "cell_type": "code",
      "metadata": {
        "colab": {
          "base_uri": "https://localhost:8080/",
          "height": 267
        },
        "id": "SigakC8rjbQm",
        "outputId": "5bab49bf-baab-42bc-bf2f-50eca6acbe41"
      },
      "source": [
        "df[df['BodyweightKg']>200]"
      ],
      "execution_count": 159,
      "outputs": [
        {
          "output_type": "execute_result",
          "data": {
            "text/html": [
              "<div>\n",
              "<style scoped>\n",
              "    .dataframe tbody tr th:only-of-type {\n",
              "        vertical-align: middle;\n",
              "    }\n",
              "\n",
              "    .dataframe tbody tr th {\n",
              "        vertical-align: top;\n",
              "    }\n",
              "\n",
              "    .dataframe thead th {\n",
              "        text-align: right;\n",
              "    }\n",
              "</style>\n",
              "<table border=\"1\" class=\"dataframe\">\n",
              "  <thead>\n",
              "    <tr style=\"text-align: right;\">\n",
              "      <th></th>\n",
              "      <th>Unnamed: 0</th>\n",
              "      <th>Name</th>\n",
              "      <th>Sex</th>\n",
              "      <th>Event</th>\n",
              "      <th>Equipment</th>\n",
              "      <th>Age</th>\n",
              "      <th>AgeClass</th>\n",
              "      <th>Division</th>\n",
              "      <th>BodyweightKg</th>\n",
              "      <th>WeightClassKg</th>\n",
              "      <th>Squat1Kg</th>\n",
              "      <th>Squat2Kg</th>\n",
              "      <th>Squat3Kg</th>\n",
              "      <th>Best3SquatKg</th>\n",
              "      <th>Bench1Kg</th>\n",
              "      <th>Bench2Kg</th>\n",
              "      <th>Bench3Kg</th>\n",
              "      <th>Best3BenchKg</th>\n",
              "      <th>Deadlift1Kg</th>\n",
              "      <th>Deadlift2Kg</th>\n",
              "      <th>Deadlift3Kg</th>\n",
              "      <th>Best3DeadliftKg</th>\n",
              "      <th>TotalKg</th>\n",
              "      <th>Place</th>\n",
              "      <th>Wilks</th>\n",
              "      <th>McCulloch</th>\n",
              "      <th>Glossbrenner</th>\n",
              "      <th>IPFPoints</th>\n",
              "      <th>Tested</th>\n",
              "      <th>Country</th>\n",
              "      <th>Federation</th>\n",
              "      <th>Date</th>\n",
              "      <th>MeetCountry</th>\n",
              "      <th>MeetState</th>\n",
              "      <th>MeetName</th>\n",
              "      <th>Best3SquatKg_norm</th>\n",
              "      <th>Best3BenchKg_norm</th>\n",
              "      <th>Best3DeadliftKg_norm</th>\n",
              "      <th>TotalKg_norm</th>\n",
              "      <th>BodyweightKg_norm</th>\n",
              "      <th>IPFPoints_norm</th>\n",
              "      <th>TotalKg_disc</th>\n",
              "    </tr>\n",
              "  </thead>\n",
              "  <tbody>\n",
              "    <tr>\n",
              "      <th>3808</th>\n",
              "      <td>627366</td>\n",
              "      <td>James Simmons</td>\n",
              "      <td>1</td>\n",
              "      <td>D</td>\n",
              "      <td>Raw</td>\n",
              "      <td>22.000000</td>\n",
              "      <td>24-34</td>\n",
              "      <td>M_OCR_APF</td>\n",
              "      <td>242.3</td>\n",
              "      <td>140+</td>\n",
              "      <td>NaN</td>\n",
              "      <td>NaN</td>\n",
              "      <td>NaN</td>\n",
              "      <td>NaN</td>\n",
              "      <td>NaN</td>\n",
              "      <td>NaN</td>\n",
              "      <td>NaN</td>\n",
              "      <td>NaN</td>\n",
              "      <td>205.0</td>\n",
              "      <td>-227.5</td>\n",
              "      <td>-227.5</td>\n",
              "      <td>205.0</td>\n",
              "      <td>205.0</td>\n",
              "      <td>1</td>\n",
              "      <td>108.96</td>\n",
              "      <td>108.96</td>\n",
              "      <td>96.29</td>\n",
              "      <td>275.64</td>\n",
              "      <td>NaN</td>\n",
              "      <td>NaN</td>\n",
              "      <td>APF</td>\n",
              "      <td>2019-03-30</td>\n",
              "      <td>USA</td>\n",
              "      <td>IL</td>\n",
              "      <td>IL State Meet</td>\n",
              "      <td>NaN</td>\n",
              "      <td>NaN</td>\n",
              "      <td>-0.04</td>\n",
              "      <td>-0.686441</td>\n",
              "      <td>1.000000</td>\n",
              "      <td>-0.599814</td>\n",
              "      <td>(202.5, 260.82]</td>\n",
              "    </tr>\n",
              "    <tr>\n",
              "      <th>5510</th>\n",
              "      <td>815700</td>\n",
              "      <td>Nathan Baptist</td>\n",
              "      <td>1</td>\n",
              "      <td>SBD</td>\n",
              "      <td>Multi-ply</td>\n",
              "      <td>33.500000</td>\n",
              "      <td>24-34</td>\n",
              "      <td>Open</td>\n",
              "      <td>227.5</td>\n",
              "      <td>140+</td>\n",
              "      <td>NaN</td>\n",
              "      <td>NaN</td>\n",
              "      <td>NaN</td>\n",
              "      <td>455.0</td>\n",
              "      <td>NaN</td>\n",
              "      <td>NaN</td>\n",
              "      <td>NaN</td>\n",
              "      <td>310.0</td>\n",
              "      <td>NaN</td>\n",
              "      <td>NaN</td>\n",
              "      <td>NaN</td>\n",
              "      <td>272.5</td>\n",
              "      <td>1037.5</td>\n",
              "      <td>1</td>\n",
              "      <td>551.43</td>\n",
              "      <td>551.43</td>\n",
              "      <td>494.90</td>\n",
              "      <td>526.51</td>\n",
              "      <td>NaN</td>\n",
              "      <td>USA</td>\n",
              "      <td>USPA</td>\n",
              "      <td>2017-07-15</td>\n",
              "      <td>USA</td>\n",
              "      <td>UT</td>\n",
              "      <td>Multi-Ply National Championships</td>\n",
              "      <td>0.8125</td>\n",
              "      <td>0.281414</td>\n",
              "      <td>0.32</td>\n",
              "      <td>0.724576</td>\n",
              "      <td>0.864655</td>\n",
              "      <td>-0.123445</td>\n",
              "      <td>(665.0, 1200.0]</td>\n",
              "    </tr>\n",
              "    <tr>\n",
              "      <th>17303</th>\n",
              "      <td>1357112</td>\n",
              "      <td>Charles Kadrlik</td>\n",
              "      <td>1</td>\n",
              "      <td>B</td>\n",
              "      <td>Multi-ply</td>\n",
              "      <td>23.808249</td>\n",
              "      <td>24-34</td>\n",
              "      <td>MO</td>\n",
              "      <td>203.7</td>\n",
              "      <td>140+</td>\n",
              "      <td>NaN</td>\n",
              "      <td>NaN</td>\n",
              "      <td>NaN</td>\n",
              "      <td>NaN</td>\n",
              "      <td>277.5</td>\n",
              "      <td>-285.0</td>\n",
              "      <td>-285.0</td>\n",
              "      <td>277.5</td>\n",
              "      <td>NaN</td>\n",
              "      <td>NaN</td>\n",
              "      <td>NaN</td>\n",
              "      <td>NaN</td>\n",
              "      <td>277.5</td>\n",
              "      <td>1</td>\n",
              "      <td>147.49</td>\n",
              "      <td>147.49</td>\n",
              "      <td>135.80</td>\n",
              "      <td>509.12</td>\n",
              "      <td>NaN</td>\n",
              "      <td>NaN</td>\n",
              "      <td>UPA</td>\n",
              "      <td>2007-09-01</td>\n",
              "      <td>USA</td>\n",
              "      <td>IA</td>\n",
              "      <td>Bench Bash For Cash on the MS</td>\n",
              "      <td>NaN</td>\n",
              "      <td>0.140956</td>\n",
              "      <td>NaN</td>\n",
              "      <td>-0.563559</td>\n",
              "      <td>0.647005</td>\n",
              "      <td>-0.156467</td>\n",
              "      <td>(260.82, 317.51]</td>\n",
              "    </tr>\n",
              "  </tbody>\n",
              "</table>\n",
              "</div>"
            ],
            "text/plain": [
              "       Unnamed: 0             Name  ...  IPFPoints_norm      TotalKg_disc\n",
              "3808       627366    James Simmons  ...       -0.599814   (202.5, 260.82]\n",
              "5510       815700   Nathan Baptist  ...       -0.123445   (665.0, 1200.0]\n",
              "17303     1357112  Charles Kadrlik  ...       -0.156467  (260.82, 317.51]\n",
              "\n",
              "[3 rows x 42 columns]"
            ]
          },
          "metadata": {
            "tags": []
          },
          "execution_count": 159
        }
      ]
    },
    {
      "cell_type": "markdown",
      "metadata": {
        "id": "9r5Bq5TpkMwf"
      },
      "source": [
        "Apesar de parecer inimaginável à primeira vista, de fato existem competidores com mais de 200 kg de peso corporal. Um atleta famoso que se encaixa nessa categoria é Brian Shaw, que, apesar de não competir no powerlifting, é um dos maiores campeões em um esporte similar: o strongman.\n",
        "\n",
        "Olhando agora para o lado mais leve dos dados, lembramos que a categoria mais jovem é de 5 a 12 anos. Sabendo disso, e que a média de peso entre crianças de 5 anos é 17 kg, conclui-se que não há outliers nessa coluna pelo menos univariadamente"
      ]
    },
    {
      "cell_type": "markdown",
      "metadata": {
        "id": "b-hJAt-jPltg"
      },
      "source": [
        "#### `Best3SquatKg`, `Best3BenchKg` e `Best3DeadliftKg`"
      ]
    },
    {
      "cell_type": "code",
      "metadata": {
        "colab": {
          "base_uri": "https://localhost:8080/"
        },
        "id": "OhMdEGmZmLGD",
        "outputId": "2cd07422-46a4-4de5-8324-848f1380b14d"
      },
      "source": [
        "df['Best3SquatKg'].describe()"
      ],
      "execution_count": 160,
      "outputs": [
        {
          "output_type": "execute_result",
          "data": {
            "text/plain": [
              "count    12843.000000\n",
              "mean       174.735897\n",
              "std         67.697284\n",
              "min         20.000000\n",
              "25%        122.500000\n",
              "50%        167.830000\n",
              "75%        217.500000\n",
              "max        500.000000\n",
              "Name: Best3SquatKg, dtype: float64"
            ]
          },
          "metadata": {
            "tags": []
          },
          "execution_count": 160
        }
      ]
    },
    {
      "cell_type": "code",
      "metadata": {
        "id": "qhpLxTGjP6Gk",
        "colab": {
          "base_uri": "https://localhost:8080/",
          "height": 283
        },
        "outputId": "4de1f0a6-3199-4b91-8237-7a7d9ba411bc"
      },
      "source": [
        "df['Best3SquatKg'].plot.box()"
      ],
      "execution_count": 163,
      "outputs": [
        {
          "output_type": "execute_result",
          "data": {
            "text/plain": [
              "<matplotlib.axes._subplots.AxesSubplot at 0x7f58b0c86fd0>"
            ]
          },
          "metadata": {
            "tags": []
          },
          "execution_count": 163
        },
        {
          "output_type": "display_data",
          "data": {
            "image/png": "[encoded data removed]",
            "text/plain": [
              "<Figure size 432x288 with 1 Axes>"
            ]
          },
          "metadata": {
            "tags": [],
            "needs_background": "light"
          }
        }
      ]
    },
    {
      "cell_type": "code",
      "metadata": {
        "colab": {
          "base_uri": "https://localhost:8080/"
        },
        "id": "jFqNy9TFmPqq",
        "outputId": "def1ce73-a59d-4391-acc8-1b59d76d1c40"
      },
      "source": [
        "df['Best3BenchKg'].describe()"
      ],
      "execution_count": 161,
      "outputs": [
        {
          "output_type": "execute_result",
          "data": {
            "text/plain": [
              "count    16219.000000\n",
              "mean       116.933495\n",
              "std         53.774329\n",
              "min         13.500000\n",
              "25%         72.585000\n",
              "50%        111.130000\n",
              "75%        150.000000\n",
              "max        476.270000\n",
              "Name: Best3BenchKg, dtype: float64"
            ]
          },
          "metadata": {
            "tags": []
          },
          "execution_count": 161
        }
      ]
    },
    {
      "cell_type": "code",
      "metadata": {
        "id": "561quDqlP_fo",
        "colab": {
          "base_uri": "https://localhost:8080/",
          "height": 283
        },
        "outputId": "57d6efcb-ca9b-4980-dec1-7fc76990c94f"
      },
      "source": [
        "df['Best3BenchKg'].plot.box()"
      ],
      "execution_count": 164,
      "outputs": [
        {
          "output_type": "execute_result",
          "data": {
            "text/plain": [
              "<matplotlib.axes._subplots.AxesSubplot at 0x7f58b0507710>"
            ]
          },
          "metadata": {
            "tags": []
          },
          "execution_count": 164
        },
        {
          "output_type": "display_data",
          "data": {
            "image/png": "[encoded data removed]",
            "text/plain": [
              "<Figure size 432x288 with 1 Axes>"
            ]
          },
          "metadata": {
            "tags": [],
            "needs_background": "light"
          }
        }
      ]
    },
    {
      "cell_type": "code",
      "metadata": {
        "colab": {
          "base_uri": "https://localhost:8080/"
        },
        "id": "gFL4afWxmRz3",
        "outputId": "4c6e7f97-d79c-4e1f-c48b-6d83ed192ce4"
      },
      "source": [
        "df['Best3DeadliftKg'].describe()"
      ],
      "execution_count": 162,
      "outputs": [
        {
          "output_type": "execute_result",
          "data": {
            "text/plain": [
              "count    13767.000000\n",
              "mean       187.553386\n",
              "std         61.244508\n",
              "min         25.000000\n",
              "25%        140.000000\n",
              "50%        185.000000\n",
              "75%        230.000000\n",
              "max        400.000000\n",
              "Name: Best3DeadliftKg, dtype: float64"
            ]
          },
          "metadata": {
            "tags": []
          },
          "execution_count": 162
        }
      ]
    },
    {
      "cell_type": "code",
      "metadata": {
        "id": "fx7Kd_ZhP_8W",
        "colab": {
          "base_uri": "https://localhost:8080/",
          "height": 283
        },
        "outputId": "4ccafc45-5397-4f8b-e4e7-ecbd346591d5"
      },
      "source": [
        "df['Best3DeadliftKg'].plot.box()"
      ],
      "execution_count": 165,
      "outputs": [
        {
          "output_type": "execute_result",
          "data": {
            "text/plain": [
              "<matplotlib.axes._subplots.AxesSubplot at 0x7f58b03a2a10>"
            ]
          },
          "metadata": {
            "tags": []
          },
          "execution_count": 165
        },
        {
          "output_type": "display_data",
          "data": {
            "image/png": "[encoded data removed]",
            "text/plain": [
              "<Figure size 432x288 with 1 Axes>"
            ]
          },
          "metadata": {
            "tags": [],
            "needs_background": "light"
          }
        }
      ]
    },
    {
      "cell_type": "markdown",
      "metadata": {
        "id": "u7T7GunEPvcN"
      },
      "source": [
        "#### `TotalKg`"
      ]
    },
    {
      "cell_type": "markdown",
      "metadata": {
        "id": "eFjBNG0emmKc"
      },
      "source": [
        ""
      ]
    },
    {
      "cell_type": "code",
      "metadata": {
        "id": "SCErQ8OZTB0G",
        "colab": {
          "base_uri": "https://localhost:8080/",
          "height": 283
        },
        "outputId": "36c95d86-3968-4b1b-c26c-7f8b98b31da4"
      },
      "source": [
        "df['TotalKg'].plot.box()"
      ],
      "execution_count": null,
      "outputs": [
        {
          "output_type": "execute_result",
          "data": {
            "text/plain": [
              "<matplotlib.axes._subplots.AxesSubplot at 0x7fbb9ab5a090>"
            ]
          },
          "metadata": {
            "tags": []
          },
          "execution_count": 61
        },
        {
          "output_type": "display_data",
          "data": {
            "image/png": "[encoded data removed]",
            "text/plain": [
              "<Figure size 432x288 with 1 Axes>"
            ]
          },
          "metadata": {
            "tags": [],
            "needs_background": "light"
          }
        }
      ]
    },
    {
      "cell_type": "markdown",
      "metadata": {
        "id": "h0CQyTBfM8ST"
      },
      "source": [
        "### Multivariado"
      ]
    },
    {
      "cell_type": "markdown",
      "metadata": {
        "id": "y2UgDiqzhWs1"
      },
      "source": [
        "*Mahalanobis pode ser interessante já que vai existir uma covariância positiva entre peso corporal e carga levantada*"
      ]
    },
    {
      "cell_type": "markdown",
      "metadata": {
        "id": "HrSbGJCh6JqS"
      },
      "source": [
        "# 3. Estatísticas Descritivas"
      ]
    },
    {
      "cell_type": "markdown",
      "metadata": {
        "id": "3sQXBKR2qpjW"
      },
      "source": [
        "Neste tópico, iremos explorar o dataset a fim de encontrar e resumir suas principais características. Isso vai nos ajudar a compreender melhor a relação existente entre as variáveis analisadas.\n",
        "\n",
        "Uma característica importante de Estatísticas Descritivas é o uso de recursos gráficos, de maneira a auxiliar a análise dos dados. Neste tópico, faremos exatamente isso: estudaremos possíveis relações e correlações entre os diferentes atributos."
      ]
    },
    {
      "cell_type": "markdown",
      "metadata": {
        "id": "59BEFpuiL_mo"
      },
      "source": [
        "*Em relação aos Testes de Hipóteses, as Estatísticas Descritivas são uma versão \"mais simples\". Pode-se pensar neste tópico como sendo um estudo para descrever* **todos** *os registros. Por outro lado, nos Testes de Hipóteses separamos os registros em diferentes grupos e comparamos valores de tendências de atributos entre esses grupos.*"
      ]
    },
    {
      "cell_type": "markdown",
      "metadata": {
        "id": "FcxNsYSX5SBx"
      },
      "source": [
        "## Peso Corporal x Carga Máxima Supino"
      ]
    },
    {
      "cell_type": "code",
      "metadata": {
        "id": "hjRQBCETSbb8"
      },
      "source": [
        "dfbench = df.dropna(subset=['Best3BenchKg']) # dfbench contem todos os atletas que participaram do evento de supino"
      ],
      "execution_count": null,
      "outputs": []
    },
    {
      "cell_type": "code",
      "metadata": {
        "colab": {
          "base_uri": "https://localhost:8080/"
        },
        "id": "CxA9KNjIVNEH",
        "outputId": "536edb81-f147-4b2f-f5de-27590dd66604"
      },
      "source": [
        "dfbench['Best3BenchKg'].dtype"
      ],
      "execution_count": null,
      "outputs": [
        {
          "output_type": "execute_result",
          "data": {
            "text/plain": [
              "dtype('float64')"
            ]
          },
          "metadata": {
            "tags": []
          },
          "execution_count": 18
        }
      ]
    },
    {
      "cell_type": "code",
      "metadata": {
        "colab": {
          "base_uri": "https://localhost:8080/",
          "height": 287
        },
        "id": "Vquet1LrT9Xn",
        "outputId": "810d18c3-f82e-49c9-8cba-1cc7dc57d7d9"
      },
      "source": [
        "# A ideia eh plotar a media de peso levantado no supino de acordo com o peso corporal\n",
        "plt.bar(dfbench[dfbench.Best3BenchKg>0].BodyweightKg, dfbench[dfbench.Best3BenchKg>0].Best3BenchKg)"
      ],
      "execution_count": null,
      "outputs": [
        {
          "output_type": "execute_result",
          "data": {
            "text/plain": [
              "<BarContainer object of 17875 artists>"
            ]
          },
          "metadata": {
            "tags": []
          },
          "execution_count": 19
        },
        {
          "output_type": "display_data",
          "data": {
            "image/png": "[encoded data removed]",
            "text/plain": [
              "<Figure size 432x288 with 1 Axes>"
            ]
          },
          "metadata": {
            "tags": [],
            "needs_background": "light"
          }
        }
      ]
    },
    {
      "cell_type": "markdown",
      "metadata": {
        "id": "91aRbKJ853C5"
      },
      "source": [
        "* Lembrando que a coluna em zero indica os competidores que não tiveram seus pesos computados\n",
        "* Também é interessante observar que existem alguns outliers com relação ao peso corporal\n",
        "* Ainda acho que é melhor fazer uma média"
      ]
    },
    {
      "cell_type": "code",
      "metadata": {
        "colab": {
          "base_uri": "https://localhost:8080/"
        },
        "id": "eaSUDKsq8h1V",
        "outputId": "8883a93e-3a5b-4bd7-8021-81b65825df5a"
      },
      "source": [
        "len(dfbench[dfbench.Best3BenchKg>0].BodyweightKg)"
      ],
      "execution_count": null,
      "outputs": [
        {
          "output_type": "execute_result",
          "data": {
            "text/plain": [
              "17875"
            ]
          },
          "metadata": {
            "tags": []
          },
          "execution_count": 20
        }
      ]
    },
    {
      "cell_type": "code",
      "metadata": {
        "colab": {
          "base_uri": "https://localhost:8080/",
          "height": 340
        },
        "id": "9_WyhhQf_jBy",
        "outputId": "3ddbc57a-73e0-48ee-ed63-00df95aad3b1"
      },
      "source": [
        "#houses[houses['operation']=='sell'].groupby(['suburb'])['price_square_meter'].mean()\n",
        "#plt.plot(dfbench[dfbench['BodyweightKg]>24].groupby(['BodyweightKg'])['Best3BenchKg'].mean()) isso deu errado porque Bodyyweight eh uma categoria, nao um inteiro\n",
        "plt.plot(dfbench.groupby(['BodyweightKg'])['Best3BenchKg'].mean())"
      ],
      "execution_count": null,
      "outputs": [
        {
          "output_type": "stream",
          "text": [
            "/usr/local/lib/python3.7/dist-packages/matplotlib/axes/_base.py:348: FutureWarning: Support for multi-dimensional indexing (e.g. `obj[:, None]`) is deprecated and will be removed in a future version.  Convert to a numpy array before indexing instead.\n",
            "  x = x[:, np.newaxis]\n"
          ],
          "name": "stderr"
        },
        {
          "output_type": "execute_result",
          "data": {
            "text/plain": [
              "[<matplotlib.lines.Line2D at 0x7f0922ed44d0>]"
            ]
          },
          "metadata": {
            "tags": []
          },
          "execution_count": 28
        },
        {
          "output_type": "display_data",
          "data": {
            "image/png": "[encoded data removed]",
            "text/plain": [
              "<Figure size 432x288 with 1 Axes>"
            ]
          },
          "metadata": {
            "tags": [],
            "needs_background": "light"
          }
        }
      ]
    },
    {
      "cell_type": "code",
      "metadata": {
        "colab": {
          "base_uri": "https://localhost:8080/",
          "height": 298
        },
        "id": "kUtWdS96_P3J",
        "outputId": "c59ab0fd-abab-44e3-89db-6a5b9b3dc81d"
      },
      "source": [
        "plt.plot(dfbench['BodyweightKg'], dfbench['BodyweightKg'].Best3BenchKg.mean())"
      ],
      "execution_count": null,
      "outputs": [
        {
          "output_type": "error",
          "ename": "AttributeError",
          "evalue": "ignored",
          "traceback": [
            "\u001b[0;31m---------------------------------------------------------------------------\u001b[0m",
            "\u001b[0;31mAttributeError\u001b[0m                            Traceback (most recent call last)",
            "\u001b[0;32m<ipython-input-22-1d6011322ad8>\u001b[0m in \u001b[0;36m<module>\u001b[0;34m()\u001b[0m\n\u001b[0;32m----> 1\u001b[0;31m \u001b[0mplt\u001b[0m\u001b[0;34m.\u001b[0m\u001b[0mplot\u001b[0m\u001b[0;34m(\u001b[0m\u001b[0mdfbench\u001b[0m\u001b[0;34m[\u001b[0m\u001b[0;34m'BodyweightKg'\u001b[0m\u001b[0;34m]\u001b[0m\u001b[0;34m,\u001b[0m \u001b[0mdfbench\u001b[0m\u001b[0;34m[\u001b[0m\u001b[0;34m'BodyweightKg'\u001b[0m\u001b[0;34m]\u001b[0m\u001b[0;34m.\u001b[0m\u001b[0mBest3BenchKg\u001b[0m\u001b[0;34m.\u001b[0m\u001b[0mmean\u001b[0m\u001b[0;34m(\u001b[0m\u001b[0;34m)\u001b[0m\u001b[0;34m)\u001b[0m\u001b[0;34m\u001b[0m\u001b[0;34m\u001b[0m\u001b[0m\n\u001b[0m",
            "\u001b[0;32m/usr/local/lib/python3.7/dist-packages/pandas/core/generic.py\u001b[0m in \u001b[0;36m__getattr__\u001b[0;34m(self, name)\u001b[0m\n\u001b[1;32m   5139\u001b[0m             \u001b[0;32mif\u001b[0m \u001b[0mself\u001b[0m\u001b[0;34m.\u001b[0m\u001b[0m_info_axis\u001b[0m\u001b[0;34m.\u001b[0m\u001b[0m_can_hold_identifiers_and_holds_name\u001b[0m\u001b[0;34m(\u001b[0m\u001b[0mname\u001b[0m\u001b[0;34m)\u001b[0m\u001b[0;34m:\u001b[0m\u001b[0;34m\u001b[0m\u001b[0;34m\u001b[0m\u001b[0m\n\u001b[1;32m   5140\u001b[0m                 \u001b[0;32mreturn\u001b[0m \u001b[0mself\u001b[0m\u001b[0;34m[\u001b[0m\u001b[0mname\u001b[0m\u001b[0;34m]\u001b[0m\u001b[0;34m\u001b[0m\u001b[0;34m\u001b[0m\u001b[0m\n\u001b[0;32m-> 5141\u001b[0;31m             \u001b[0;32mreturn\u001b[0m \u001b[0mobject\u001b[0m\u001b[0;34m.\u001b[0m\u001b[0m__getattribute__\u001b[0m\u001b[0;34m(\u001b[0m\u001b[0mself\u001b[0m\u001b[0;34m,\u001b[0m \u001b[0mname\u001b[0m\u001b[0;34m)\u001b[0m\u001b[0;34m\u001b[0m\u001b[0;34m\u001b[0m\u001b[0m\n\u001b[0m\u001b[1;32m   5142\u001b[0m \u001b[0;34m\u001b[0m\u001b[0m\n\u001b[1;32m   5143\u001b[0m     \u001b[0;32mdef\u001b[0m \u001b[0m__setattr__\u001b[0m\u001b[0;34m(\u001b[0m\u001b[0mself\u001b[0m\u001b[0;34m,\u001b[0m \u001b[0mname\u001b[0m\u001b[0;34m:\u001b[0m \u001b[0mstr\u001b[0m\u001b[0;34m,\u001b[0m \u001b[0mvalue\u001b[0m\u001b[0;34m)\u001b[0m \u001b[0;34m->\u001b[0m \u001b[0;32mNone\u001b[0m\u001b[0;34m:\u001b[0m\u001b[0;34m\u001b[0m\u001b[0;34m\u001b[0m\u001b[0m\n",
            "\u001b[0;31mAttributeError\u001b[0m: 'Series' object has no attribute 'Best3BenchKg'"
          ]
        }
      ]
    },
    {
      "cell_type": "markdown",
      "metadata": {
        "id": "oS6BFjhDA-am"
      },
      "source": [
        "## Idade x Carga Total Levantada"
      ]
    },
    {
      "cell_type": "markdown",
      "metadata": {
        "id": "4Kg43H3KhUBo"
      },
      "source": [
        "Aqui, buscaremos relacionar a idade do competidor com a carga erguida em cada um dos exercícios. Isso vai nos dar uma ideia de como a idade afeta o desempenho físico dos atletas e se existe um \"pico\" de performance em certa idade.\n",
        "<br><br>\n",
        "Para relacionar esses atributos, usaremos a ideia de correlação"
      ]
    },
    {
      "cell_type": "markdown",
      "metadata": {
        "id": "5Ko1SydK_Xdp"
      },
      "source": [
        "# 4. Testes de Hipótese"
      ]
    },
    {
      "cell_type": "markdown",
      "metadata": {
        "id": "g8ZX4W1PtbhE"
      },
      "source": [
        "Os testes de hipóteses têm como objetivo fazer perguntas sobre os dados com o intuito de obter insights importantes a partir da comparação de valores de tendência entre grupos distintos."
      ]
    },
    {
      "cell_type": "markdown",
      "metadata": {
        "id": "5rLP7UQZ8575"
      },
      "source": [
        "*A diferença de Estatísticas Descritivas pra Testes de Hipóteses tem alguma coisa a ver com bagui discreto ou continuo. Lembro que o professor falou de diferença de sexo.* ***Atualização*** *: Os testes de hipóteses têm como objetivo fazer perguntas sobre os dados com o intuito de obter insights importantes, a partir de comparação. Ex: peso levantado por homem vs peso levantado por mulher, peso levantado por pessoas de 20-25 anos vs peso levantado por pessoas de 30-35, peso levantado no raw deadlift vs usando straps, etc.*"
      ]
    },
    {
      "cell_type": "markdown",
      "metadata": {
        "id": "QfIHoUVuGSAz"
      },
      "source": [
        "## Diferença entre meninos e meninas de 5-12 anos"
      ]
    },
    {
      "cell_type": "markdown",
      "metadata": {
        "id": "znYyMSLmBRcl"
      },
      "source": [
        "## Straps x Deadlift"
      ]
    },
    {
      "cell_type": "markdown",
      "metadata": {
        "id": "kIxAtn6aBXh0"
      },
      "source": [
        "## Squat x Bench x Deadlift "
      ]
    },
    {
      "cell_type": "markdown",
      "metadata": {
        "id": "Fbk3wrONhpQ4"
      },
      "source": [
        "Agora, vamos tentar relacionar a força dos competidores nos diferentes eventos.\n",
        "<br><br>\n",
        "Aqui, vale um pouco de fisiologia do exercício: o supino é um exercício focado na parte superior do corpo, exigindo principalmente os músculos do peitoral e do ombro. Por outro lado, o agachamento e o levantamento terra, ambos trabalham o quadríceps (músculo anterior da coxa), embora este não seja o principal grupamento muscular trabalhado pelo levantamento terra. Dito isso, espera-se que haja uma maior correlação entre o agachamento e o deadlift do que deles entre o supino. Vamos verificar isso agora."
      ]
    }
  ]
}